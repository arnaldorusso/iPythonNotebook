




<!DOCTYPE html>
<html class="   ">
  <head prefix="og: http://ogp.me/ns# fb: http://ogp.me/ns/fb# object: http://ogp.me/ns/object# article: http://ogp.me/ns/article# profile: http://ogp.me/ns/profile#">
    <meta charset='utf-8'>
    <meta http-equiv="X-UA-Compatible" content="IE=edge">
    
    
    <title>nipy-notebooks/exploring_r_formula.ipynb at master · fperez/nipy-notebooks</title>
    <link rel="search" type="application/opensearchdescription+xml" href="/opensearch.xml" title="GitHub" />
    <link rel="fluid-icon" href="https://github.com/fluidicon.png" title="GitHub" />
    <link rel="apple-touch-icon" sizes="57x57" href="/apple-touch-icon-114.png" />
    <link rel="apple-touch-icon" sizes="114x114" href="/apple-touch-icon-114.png" />
    <link rel="apple-touch-icon" sizes="72x72" href="/apple-touch-icon-144.png" />
    <link rel="apple-touch-icon" sizes="144x144" href="/apple-touch-icon-144.png" />
    <meta property="fb:app_id" content="1401488693436528"/>

      <meta content="@github" name="twitter:site" /><meta content="summary" name="twitter:card" /><meta content="fperez/nipy-notebooks" name="twitter:title" /><meta content="nipy-notebooks - Example notebooks for basic tasks in neuroimaging and statistcs with nipy" name="twitter:description" /><meta content="https://avatars0.githubusercontent.com/u/57394?s=400" name="twitter:image:src" />
<meta content="GitHub" property="og:site_name" /><meta content="object" property="og:type" /><meta content="https://avatars0.githubusercontent.com/u/57394?s=400" property="og:image" /><meta content="fperez/nipy-notebooks" property="og:title" /><meta content="https://github.com/fperez/nipy-notebooks" property="og:url" /><meta content="nipy-notebooks - Example notebooks for basic tasks in neuroimaging and statistcs with nipy" property="og:description" />

    <link rel="assets" href="https://github.global.ssl.fastly.net/">
    <link rel="conduit-xhr" href="https://ghconduit.com:25035/">
    <link rel="xhr-socket" href="/_sockets" />

    <meta name="msapplication-TileImage" content="/windows-tile.png" />
    <meta name="msapplication-TileColor" content="#ffffff" />
    <meta name="selected-link" value="repo_source" data-pjax-transient />
    <meta content="collector.githubapp.com" name="octolytics-host" /><meta content="collector-cdn.github.com" name="octolytics-script-host" /><meta content="github" name="octolytics-app-id" /><meta content="BD731115:43A0:1BD65F4:535681BD" name="octolytics-dimension-request_id" /><meta content="1857142" name="octolytics-actor-id" /><meta content="arnaldorusso" name="octolytics-actor-login" /><meta content="88327fec03b4548d98b05a74b2f5a6ca89a6acc494d222ae828624f53c5aa628" name="octolytics-actor-hash" />
    

    
    
    <link rel="icon" type="image/x-icon" href="https://github.global.ssl.fastly.net/favicon.ico" />

    <meta content="authenticity_token" name="csrf-param" />
<meta content="kSPdkgQg9SmDPpKxd1Eqwj2PkA4nGi3TfxH4hlQV937pg1pQOqjxK+VUvW+miyrTAqTTt1s0jO34JVjIlW1b8A==" name="csrf-token" />

    <link href="https://github.global.ssl.fastly.net/assets/github-5da842ffec8a31b5975487ab1278c7ac16876671.css" media="all" rel="stylesheet" type="text/css" />
    <link href="https://github.global.ssl.fastly.net/assets/github2-72a53351029a95e09f402083abd6cf09af80ee42.css" media="all" rel="stylesheet" type="text/css" />
    


        <script crossorigin="anonymous" src="https://github.global.ssl.fastly.net/assets/frameworks-f8f8d8ee1afb4365ba5e002fdbc3c8e61738713b.js" type="text/javascript"></script>
        <script async="async" crossorigin="anonymous" src="https://github.global.ssl.fastly.net/assets/github-109625b70789decd2ae5d31fef53ee929a199b77.js" type="text/javascript"></script>
        
        
      <meta http-equiv="x-pjax-version" content="fe6188c6f7b23906c9d35abf156e9811">

        <link data-pjax-transient rel='permalink' href='/fperez/nipy-notebooks/blob/8554323998e15281893d78783129b01810c697b2/exploring_r_formula.ipynb'>

  <meta name="description" content="nipy-notebooks - Example notebooks for basic tasks in neuroimaging and statistcs with nipy" />

  <meta content="57394" name="octolytics-dimension-user_id" /><meta content="fperez" name="octolytics-dimension-user_login" /><meta content="2706284" name="octolytics-dimension-repository_id" /><meta content="fperez/nipy-notebooks" name="octolytics-dimension-repository_nwo" /><meta content="true" name="octolytics-dimension-repository_public" /><meta content="false" name="octolytics-dimension-repository_is_fork" /><meta content="2706284" name="octolytics-dimension-repository_network_root_id" /><meta content="fperez/nipy-notebooks" name="octolytics-dimension-repository_network_root_nwo" />
  <link href="https://github.com/fperez/nipy-notebooks/commits/master.atom" rel="alternate" title="Recent Commits to nipy-notebooks:master" type="application/atom+xml" />

  </head>


  <body class="logged_in  env-production linux vis-public page-blob">
    <a href="#start-of-content" tabindex="1" class="accessibility-aid js-skip-to-content">Skip to content</a>
    <div class="wrapper">
      
      
      
      


      <div class="header header-logged-in true">
  <div class="container clearfix">

    <a class="header-logo-invertocat" href="https://github.com/">
  <span class="mega-octicon octicon-mark-github"></span>
</a>

    
    <a href="/notifications" aria-label="You have unread notifications" class="notification-indicator tooltipped tooltipped-s" data-gotokey="n">
        <span class="mail-status unread"></span>
</a>

      <div class="command-bar js-command-bar  in-repository">
          <form accept-charset="UTF-8" action="/search" class="command-bar-form" id="top_search_form" method="get">

<div class="commandbar">
  <span class="message"></span>
  <input type="text" data-hotkey="/ s" name="q" id="js-command-bar-field" placeholder="Search or type a command" tabindex="1" autocapitalize="off"
    
    data-username="arnaldorusso"
      data-repo="fperez/nipy-notebooks"
      data-branch="master"
      data-sha="449b052973425f34b033ece4b5465c13b4cec2c4"
  >
  <div class="display hidden"></div>
</div>

    <input type="hidden" name="nwo" value="fperez/nipy-notebooks" />

    <div class="select-menu js-menu-container js-select-menu search-context-select-menu">
      <span class="minibutton select-menu-button js-menu-target" role="button" aria-haspopup="true">
        <span class="js-select-button">This repository</span>
      </span>

      <div class="select-menu-modal-holder js-menu-content js-navigation-container" aria-hidden="true">
        <div class="select-menu-modal">

          <div class="select-menu-item js-navigation-item js-this-repository-navigation-item selected">
            <span class="select-menu-item-icon octicon octicon-check"></span>
            <input type="radio" class="js-search-this-repository" name="search_target" value="repository" checked="checked" />
            <div class="select-menu-item-text js-select-button-text">This repository</div>
          </div> <!-- /.select-menu-item -->

          <div class="select-menu-item js-navigation-item js-all-repositories-navigation-item">
            <span class="select-menu-item-icon octicon octicon-check"></span>
            <input type="radio" name="search_target" value="global" />
            <div class="select-menu-item-text js-select-button-text">All repositories</div>
          </div> <!-- /.select-menu-item -->

        </div>
      </div>
    </div>

  <span class="help tooltipped tooltipped-s" aria-label="Show command bar help">
    <span class="octicon octicon-question"></span>
  </span>


  <input type="hidden" name="ref" value="cmdform">

</form>
        <ul class="top-nav">
          <li class="explore"><a href="/explore">Explore</a></li>
            <li><a href="https://gist.github.com">Gist</a></li>
            <li><a href="/blog">Blog</a></li>
          <li><a href="https://help.github.com">Help</a></li>
        </ul>
      </div>

    


  <ul id="user-links">
    <li>
      <a href="/arnaldorusso" class="name">
        <img alt="Arnaldo Russo" class=" js-avatar" data-user="1857142" height="20" src="https://avatars2.githubusercontent.com/u/1857142?s=140" width="20" /> arnaldorusso
      </a>
    </li>

    <li class="new-menu dropdown-toggle js-menu-container">
      <a href="#" class="js-menu-target tooltipped tooltipped-s" aria-label="Create new...">
        <span class="octicon octicon-plus"></span>
        <span class="dropdown-arrow"></span>
      </a>

      <div class="new-menu-content js-menu-content">
      </div>
    </li>

    <li>
      <a href="/settings/profile" id="account_settings"
        class="tooltipped tooltipped-s"
        aria-label="Account settings ">
        <span class="octicon octicon-tools"></span>
      </a>
    </li>
    <li>
      <form class="logout-form" action="/logout" method="post">
        <button class="sign-out-button tooltipped tooltipped-s" aria-label="Sign out">
          <span class="octicon octicon-log-out"></span>
        </button>
      </form>
    </li>

  </ul>

<div class="js-new-dropdown-contents hidden">
  

<ul class="dropdown-menu">
  <li>
    <a href="/new"><span class="octicon octicon-repo-create"></span> New repository</a>
  </li>
  <li>
    <a href="/organizations/new"><span class="octicon octicon-organization"></span> New organization</a>
  </li>


    <li class="section-title">
      <span title="fperez/nipy-notebooks">This repository</span>
    </li>
      <li>
        <a href="/fperez/nipy-notebooks/issues/new"><span class="octicon octicon-issue-opened"></span> New issue</a>
      </li>
</ul>

</div>


    
  </div>
</div>

      

        



      <div id="start-of-content" class="accessibility-aid"></div>
          <div class="site" itemscope itemtype="http://schema.org/WebPage">
    <div id="js-flash-container">
      
    </div>
    <div class="pagehead repohead instapaper_ignore readability-menu">
      <div class="container">
        

<ul class="pagehead-actions">

    <li class="subscription">
      <form accept-charset="UTF-8" action="/notifications/subscribe" class="js-social-container" data-autosubmit="true" data-remote="true" method="post"><div style="margin:0;padding:0;display:inline"><input name="authenticity_token" type="hidden" value="qn0ucYYDZgNs5UVLyhAxIBo3Hn61jRo4U84UNVLmW7alm+Y5f363H9cgmRH0O3WdRZtMq7JS+fuvc83ULKf6lg==" /></div>  <input id="repository_id" name="repository_id" type="hidden" value="2706284" />

    <div class="select-menu js-menu-container js-select-menu">
      <a class="social-count js-social-count" href="/fperez/nipy-notebooks/watchers">
        7
      </a>
      <span class="minibutton select-menu-button with-count js-menu-target" role="button" tabindex="0" aria-haspopup="true">
        <span class="js-select-button">
          <span class="octicon octicon-eye-watch"></span>
          Watch
        </span>
      </span>

      <div class="select-menu-modal-holder">
        <div class="select-menu-modal subscription-menu-modal js-menu-content" aria-hidden="true">
          <div class="select-menu-header">
            <span class="select-menu-title">Notification status</span>
            <span class="octicon octicon-remove-close js-menu-close"></span>
          </div> <!-- /.select-menu-header -->

          <div class="select-menu-list js-navigation-container" role="menu">

            <div class="select-menu-item js-navigation-item selected" role="menuitem" tabindex="0">
              <span class="select-menu-item-icon octicon octicon-check"></span>
              <div class="select-menu-item-text">
                <input checked="checked" id="do_included" name="do" type="radio" value="included" />
                <h4>Not watching</h4>
                <span class="description">You only receive notifications for conversations in which you participate or are @mentioned.</span>
                <span class="js-select-button-text hidden-select-button-text">
                  <span class="octicon octicon-eye-watch"></span>
                  Watch
                </span>
              </div>
            </div> <!-- /.select-menu-item -->

            <div class="select-menu-item js-navigation-item " role="menuitem" tabindex="0">
              <span class="select-menu-item-icon octicon octicon octicon-check"></span>
              <div class="select-menu-item-text">
                <input id="do_subscribed" name="do" type="radio" value="subscribed" />
                <h4>Watching</h4>
                <span class="description">You receive notifications for all conversations in this repository.</span>
                <span class="js-select-button-text hidden-select-button-text">
                  <span class="octicon octicon-eye-unwatch"></span>
                  Unwatch
                </span>
              </div>
            </div> <!-- /.select-menu-item -->

            <div class="select-menu-item js-navigation-item " role="menuitem" tabindex="0">
              <span class="select-menu-item-icon octicon octicon-check"></span>
              <div class="select-menu-item-text">
                <input id="do_ignore" name="do" type="radio" value="ignore" />
                <h4>Ignoring</h4>
                <span class="description">You do not receive any notifications for conversations in this repository.</span>
                <span class="js-select-button-text hidden-select-button-text">
                  <span class="octicon octicon-mute"></span>
                  Stop ignoring
                </span>
              </div>
            </div> <!-- /.select-menu-item -->

          </div> <!-- /.select-menu-list -->

        </div> <!-- /.select-menu-modal -->
      </div> <!-- /.select-menu-modal-holder -->
    </div> <!-- /.select-menu -->

</form>
    </li>

  <li>
  

  <div class="js-toggler-container js-social-container starring-container ">
    <a href="/fperez/nipy-notebooks/unstar"
      class="minibutton with-count js-toggler-target star-button starred"
      aria-label="Unstar this repository" title="Unstar fperez/nipy-notebooks" data-remote="true" data-method="post" rel="nofollow">
      <span class="octicon octicon-star-delete"></span><span class="text">Unstar</span>
    </a>

    <a href="/fperez/nipy-notebooks/star"
      class="minibutton with-count js-toggler-target star-button unstarred"
      aria-label="Star this repository" title="Star fperez/nipy-notebooks" data-remote="true" data-method="post" rel="nofollow">
      <span class="octicon octicon-star"></span><span class="text">Star</span>
    </a>

      <a class="social-count js-social-count" href="/fperez/nipy-notebooks/stargazers">
        7
      </a>
  </div>

  </li>


        <li>
          <a href="/fperez/nipy-notebooks/fork" class="minibutton with-count js-toggler-target fork-button lighter tooltipped-n" title="Fork your own copy of fperez/nipy-notebooks to your account" aria-label="Fork your own copy of fperez/nipy-notebooks to your account" rel="facebox nofollow">
            <span class="octicon octicon-git-branch-create"></span><span class="text">Fork</span>
          </a>
          <a href="/fperez/nipy-notebooks/network" class="social-count">8</a>
        </li>


</ul>

        <h1 itemscope itemtype="http://data-vocabulary.org/Breadcrumb" class="entry-title public">
          <span class="repo-label"><span>public</span></span>
          <span class="mega-octicon octicon-repo"></span>
          <span class="author"><a href="/fperez" class="url fn" itemprop="url" rel="author"><span itemprop="title">fperez</span></a></span><!--
       --><span class="path-divider">/</span><!--
       --><strong><a href="/fperez/nipy-notebooks" class="js-current-repository js-repo-home-link">nipy-notebooks</a></strong>

          <span class="page-context-loader">
            <img alt="Octocat-spinner-32" height="16" src="https://github.global.ssl.fastly.net/images/spinners/octocat-spinner-32.gif" width="16" />
          </span>

        </h1>
      </div><!-- /.container -->
    </div><!-- /.repohead -->

    <div class="container">
      <div class="repository-with-sidebar repo-container new-discussion-timeline js-new-discussion-timeline  ">
        <div class="repository-sidebar clearfix">
            

<div class="sunken-menu vertical-right repo-nav js-repo-nav js-repository-container-pjax js-octicon-loaders">
  <div class="sunken-menu-contents">
    <ul class="sunken-menu-group">
      <li class="tooltipped tooltipped-w" aria-label="Code">
        <a href="/fperez/nipy-notebooks" aria-label="Code" class="selected js-selected-navigation-item sunken-menu-item" data-gotokey="c" data-pjax="true" data-selected-links="repo_source repo_downloads repo_commits repo_tags repo_branches /fperez/nipy-notebooks">
          <span class="octicon octicon-code"></span> <span class="full-word">Code</span>
          <img alt="Octocat-spinner-32" class="mini-loader" height="16" src="https://github.global.ssl.fastly.net/images/spinners/octocat-spinner-32.gif" width="16" />
</a>      </li>

        <li class="tooltipped tooltipped-w" aria-label="Issues">
          <a href="/fperez/nipy-notebooks/issues" aria-label="Issues" class="js-selected-navigation-item sunken-menu-item js-disable-pjax" data-gotokey="i" data-selected-links="repo_issues /fperez/nipy-notebooks/issues">
            <span class="octicon octicon-issue-opened"></span> <span class="full-word">Issues</span>
            <span class='counter'>1</span>
            <img alt="Octocat-spinner-32" class="mini-loader" height="16" src="https://github.global.ssl.fastly.net/images/spinners/octocat-spinner-32.gif" width="16" />
</a>        </li>

      <li class="tooltipped tooltipped-w" aria-label="Pull Requests">
        <a href="/fperez/nipy-notebooks/pulls" aria-label="Pull Requests" class="js-selected-navigation-item sunken-menu-item js-disable-pjax" data-gotokey="p" data-selected-links="repo_pulls /fperez/nipy-notebooks/pulls">
            <span class="octicon octicon-git-pull-request"></span> <span class="full-word">Pull Requests</span>
            <span class='counter'>1</span>
            <img alt="Octocat-spinner-32" class="mini-loader" height="16" src="https://github.global.ssl.fastly.net/images/spinners/octocat-spinner-32.gif" width="16" />
</a>      </li>


        <li class="tooltipped tooltipped-w" aria-label="Wiki">
          <a href="/fperez/nipy-notebooks/wiki" aria-label="Wiki" class="js-selected-navigation-item sunken-menu-item" data-pjax="true" data-selected-links="repo_wiki /fperez/nipy-notebooks/wiki">
            <span class="octicon octicon-book"></span> <span class="full-word">Wiki</span>
            <img alt="Octocat-spinner-32" class="mini-loader" height="16" src="https://github.global.ssl.fastly.net/images/spinners/octocat-spinner-32.gif" width="16" />
</a>        </li>
    </ul>
    <div class="sunken-menu-separator"></div>
    <ul class="sunken-menu-group">

      <li class="tooltipped tooltipped-w" aria-label="Pulse">
        <a href="/fperez/nipy-notebooks/pulse" aria-label="Pulse" class="js-selected-navigation-item sunken-menu-item" data-pjax="true" data-selected-links="pulse /fperez/nipy-notebooks/pulse">
          <span class="octicon octicon-pulse"></span> <span class="full-word">Pulse</span>
          <img alt="Octocat-spinner-32" class="mini-loader" height="16" src="https://github.global.ssl.fastly.net/images/spinners/octocat-spinner-32.gif" width="16" />
</a>      </li>

      <li class="tooltipped tooltipped-w" aria-label="Graphs">
        <a href="/fperez/nipy-notebooks/graphs" aria-label="Graphs" class="js-selected-navigation-item sunken-menu-item" data-pjax="true" data-selected-links="repo_graphs repo_contributors /fperez/nipy-notebooks/graphs">
          <span class="octicon octicon-graph"></span> <span class="full-word">Graphs</span>
          <img alt="Octocat-spinner-32" class="mini-loader" height="16" src="https://github.global.ssl.fastly.net/images/spinners/octocat-spinner-32.gif" width="16" />
</a>      </li>

      <li class="tooltipped tooltipped-w" aria-label="Network">
        <a href="/fperez/nipy-notebooks/network" aria-label="Network" class="js-selected-navigation-item sunken-menu-item js-disable-pjax" data-selected-links="repo_network /fperez/nipy-notebooks/network">
          <span class="octicon octicon-git-branch"></span> <span class="full-word">Network</span>
          <img alt="Octocat-spinner-32" class="mini-loader" height="16" src="https://github.global.ssl.fastly.net/images/spinners/octocat-spinner-32.gif" width="16" />
</a>      </li>
    </ul>


  </div>
</div>

              <div class="only-with-full-nav">
                

  

<div class="clone-url "
  data-protocol-type="http"
  data-url="/users/set_protocol?protocol_selector=http&amp;protocol_type=clone">
  <h3><strong>HTTPS</strong> clone URL</h3>
  <div class="clone-url-box">
    <input type="text" class="clone js-url-field"
           value="https://github.com/fperez/nipy-notebooks.git" readonly="readonly">

    <span aria-label="copy to clipboard" class="js-zeroclipboard url-box-clippy minibutton zeroclipboard-button" data-clipboard-text="https://github.com/fperez/nipy-notebooks.git" data-copied-hint="copied!"><span class="octicon octicon-clippy"></span></span>
  </div>
</div>

  

<div class="clone-url open"
  data-protocol-type="ssh"
  data-url="/users/set_protocol?protocol_selector=ssh&amp;protocol_type=clone">
  <h3><strong>SSH</strong> clone URL</h3>
  <div class="clone-url-box">
    <input type="text" class="clone js-url-field"
           value="git@github.com:fperez/nipy-notebooks.git" readonly="readonly">

    <span aria-label="copy to clipboard" class="js-zeroclipboard url-box-clippy minibutton zeroclipboard-button" data-clipboard-text="git@github.com:fperez/nipy-notebooks.git" data-copied-hint="copied!"><span class="octicon octicon-clippy"></span></span>
  </div>
</div>

  

<div class="clone-url "
  data-protocol-type="subversion"
  data-url="/users/set_protocol?protocol_selector=subversion&amp;protocol_type=clone">
  <h3><strong>Subversion</strong> checkout URL</h3>
  <div class="clone-url-box">
    <input type="text" class="clone js-url-field"
           value="https://github.com/fperez/nipy-notebooks" readonly="readonly">

    <span aria-label="copy to clipboard" class="js-zeroclipboard url-box-clippy minibutton zeroclipboard-button" data-clipboard-text="https://github.com/fperez/nipy-notebooks" data-copied-hint="copied!"><span class="octicon octicon-clippy"></span></span>
  </div>
</div>


<p class="clone-options">You can clone with
      <a href="#" class="js-clone-selector" data-protocol="http">HTTPS</a>,
      <a href="#" class="js-clone-selector" data-protocol="ssh">SSH</a>,
      or <a href="#" class="js-clone-selector" data-protocol="subversion">Subversion</a>.
  <span class="help tooltipped tooltipped-n" aria-label="Get help on which URL is right for you.">
    <a href="https://help.github.com/articles/which-remote-url-should-i-use">
    <span class="octicon octicon-question"></span>
    </a>
  </span>
</p>



                <a href="/fperez/nipy-notebooks/archive/master.zip"
                   class="minibutton sidebar-button"
                   aria-label="Download fperez/nipy-notebooks as a zip file"
                   title="Download fperez/nipy-notebooks as a zip file"
                   rel="nofollow">
                  <span class="octicon octicon-cloud-download"></span>
                  Download ZIP
                </a>
              </div>
        </div><!-- /.repository-sidebar -->

        <div id="js-repo-pjax-container" class="repository-content context-loader-container" data-pjax-container>
          


<!-- blob contrib key: blob_contributors:v21:7008077e6d4b6b067cfae2abffbd2e41 -->

<p title="This is a placeholder element" class="js-history-link-replace hidden"></p>

<a href="/fperez/nipy-notebooks/find/master" data-pjax data-hotkey="t" class="js-show-file-finder" style="display:none">Show File Finder</a>

<div class="file-navigation">
  

<div class="select-menu js-menu-container js-select-menu" >
  <span class="minibutton select-menu-button js-menu-target" data-hotkey="w"
    data-master-branch="master"
    data-ref="master"
    role="button" aria-label="Switch branches or tags" tabindex="0" aria-haspopup="true">
    <span class="octicon octicon-git-branch"></span>
    <i>branch:</i>
    <span class="js-select-button">master</span>
  </span>

  <div class="select-menu-modal-holder js-menu-content js-navigation-container" data-pjax aria-hidden="true">

    <div class="select-menu-modal">
      <div class="select-menu-header">
        <span class="select-menu-title">Switch branches/tags</span>
        <span class="octicon octicon-remove-close js-menu-close"></span>
      </div> <!-- /.select-menu-header -->

      <div class="select-menu-filters">
        <div class="select-menu-text-filter">
          <input type="text" aria-label="Filter branches/tags" id="context-commitish-filter-field" class="js-filterable-field js-navigation-enable" placeholder="Filter branches/tags">
        </div>
        <div class="select-menu-tabs">
          <ul>
            <li class="select-menu-tab">
              <a href="#" data-tab-filter="branches" class="js-select-menu-tab">Branches</a>
            </li>
            <li class="select-menu-tab">
              <a href="#" data-tab-filter="tags" class="js-select-menu-tab">Tags</a>
            </li>
          </ul>
        </div><!-- /.select-menu-tabs -->
      </div><!-- /.select-menu-filters -->

      <div class="select-menu-list select-menu-tab-bucket js-select-menu-tab-bucket" data-tab-filter="branches">

        <div data-filterable-for="context-commitish-filter-field" data-filterable-type="substring">


            <div class="select-menu-item js-navigation-item selected">
              <span class="select-menu-item-icon octicon octicon-check"></span>
              <a href="/fperez/nipy-notebooks/blob/master/exploring_r_formula.ipynb"
                 data-name="master"
                 data-skip-pjax="true"
                 rel="nofollow"
                 class="js-navigation-open select-menu-item-text js-select-button-text css-truncate-target"
                 title="master">master</a>
            </div> <!-- /.select-menu-item -->
        </div>

          <div class="select-menu-no-results">Nothing to show</div>
      </div> <!-- /.select-menu-list -->

      <div class="select-menu-list select-menu-tab-bucket js-select-menu-tab-bucket" data-tab-filter="tags">
        <div data-filterable-for="context-commitish-filter-field" data-filterable-type="substring">


        </div>

        <div class="select-menu-no-results">Nothing to show</div>
      </div> <!-- /.select-menu-list -->

    </div> <!-- /.select-menu-modal -->
  </div> <!-- /.select-menu-modal-holder -->
</div> <!-- /.select-menu -->

  <div class="breadcrumb">
    <span class='repo-root js-repo-root'><span itemscope="" itemtype="http://data-vocabulary.org/Breadcrumb"><a href="/fperez/nipy-notebooks" data-branch="master" data-direction="back" data-pjax="true" itemscope="url"><span itemprop="title">nipy-notebooks</span></a></span></span><span class="separator"> / </span><strong class="final-path">exploring_r_formula.ipynb</strong> <span aria-label="copy to clipboard" class="js-zeroclipboard minibutton zeroclipboard-button" data-clipboard-text="exploring_r_formula.ipynb" data-copied-hint="copied!"><span class="octicon octicon-clippy"></span></span>
  </div>
</div>


  <div class="commit file-history-tease">
    <img alt="Matthew Brett" class="main-avatar js-avatar" data-user="67612" height="24" src="https://avatars2.githubusercontent.com/u/67612?s=140" width="24" />
    <span class="author"><a href="/matthew-brett" rel="author">matthew-brett</a></span>
    <local-time datetime="2012-11-18T02:35:17-08:00" from="now" title-format="%Y-%m-%d %H:%M:%S %z" title="2012-11-18 02:35:17 -0800">November 18, 2012</local-time>
    <div class="commit-title">
        <a href="/fperez/nipy-notebooks/commit/88ac7a1d276e9f8ecb9fa3fee0cea1a6c1f198c3" class="message" data-pjax="true" title="y_hats for the beta estimate explanation">y_hats for the beta estimate explanation</a>
    </div>

    <div class="participation">
      <p class="quickstat"><a href="#blob_contributors_box" rel="facebox"><strong>2</strong>  contributors</a></p>
          <a class="avatar tooltipped tooltipped-s" aria-label="matthew-brett" href="/fperez/nipy-notebooks/commits/master/exploring_r_formula.ipynb?author=matthew-brett"><img alt="Matthew Brett" class=" js-avatar" data-user="67612" height="20" src="https://avatars2.githubusercontent.com/u/67612?s=140" width="20" /></a>
    <a class="avatar tooltipped tooltipped-s" aria-label="jbpoline" href="/fperez/nipy-notebooks/commits/master/exploring_r_formula.ipynb?author=jbpoline"><img alt="Jean-Baptiste Poline" class=" js-avatar" data-user="275048" height="20" src="https://avatars3.githubusercontent.com/u/275048?s=140" width="20" /></a>


    </div>
    <div id="blob_contributors_box" style="display:none">
      <h2 class="facebox-header">Users who have contributed to this file</h2>
      <ul class="facebox-user-list">
          <li class="facebox-user-list-item">
            <img alt="Matthew Brett" class=" js-avatar" data-user="67612" height="24" src="https://avatars2.githubusercontent.com/u/67612?s=140" width="24" />
            <a href="/matthew-brett">matthew-brett</a>
          </li>
          <li class="facebox-user-list-item">
            <img alt="Jean-Baptiste Poline" class=" js-avatar" data-user="275048" height="24" src="https://avatars3.githubusercontent.com/u/275048?s=140" width="24" />
            <a href="/jbpoline">jbpoline</a>
          </li>
      </ul>
    </div>
  </div>

<div class="file-box">
  <div class="file">
    <div class="meta clearfix">
      <div class="info file-name">
        <span class="icon"><b class="octicon octicon-file-text"></b></span>
        <span class="mode" title="File Mode">file</span>
        <span class="meta-divider"></span>
          <span>3306 lines (3306 sloc)</span>
          <span class="meta-divider"></span>
        <span>191.714 kb</span>
      </div>
      <div class="actions">
        <div class="button-group">
                <a class="minibutton tooltipped tooltipped-n js-update-url-with-hash"
                   aria-label="Clicking this button will automatically fork this project so you can edit the file"
                   href="/fperez/nipy-notebooks/edit/master/exploring_r_formula.ipynb"
                   data-method="post" rel="nofollow">Edit</a>
          <a href="/fperez/nipy-notebooks/raw/master/exploring_r_formula.ipynb" class="button minibutton " id="raw-url">Raw</a>
            <a href="/fperez/nipy-notebooks/blame/master/exploring_r_formula.ipynb" class="button minibutton js-update-url-with-hash">Blame</a>
          <a href="/fperez/nipy-notebooks/commits/master/exploring_r_formula.ipynb" class="button minibutton " rel="nofollow">History</a>
        </div><!-- /.button-group -->

            <a class="minibutton danger empty-icon tooltipped tooltipped-s"
               href="/fperez/nipy-notebooks/delete/master/exploring_r_formula.ipynb"
               aria-label="Fork this project and delete file"
               data-method="post" data-test-id="delete-blob-file" rel="nofollow">

          Delete
        </a>
      </div><!-- /.actions -->
    </div>
        <div class="blob-wrapper data type-text js-blob-data">
        <table class="file-code file-diff tab-size-8">
          <tr class="file-code-line">
            <td class="blob-line-nums">
              <span id="L1" rel="#L1">1</span>
<span id="L2" rel="#L2">2</span>
<span id="L3" rel="#L3">3</span>
<span id="L4" rel="#L4">4</span>
<span id="L5" rel="#L5">5</span>
<span id="L6" rel="#L6">6</span>
<span id="L7" rel="#L7">7</span>
<span id="L8" rel="#L8">8</span>
<span id="L9" rel="#L9">9</span>
<span id="L10" rel="#L10">10</span>
<span id="L11" rel="#L11">11</span>
<span id="L12" rel="#L12">12</span>
<span id="L13" rel="#L13">13</span>
<span id="L14" rel="#L14">14</span>
<span id="L15" rel="#L15">15</span>
<span id="L16" rel="#L16">16</span>
<span id="L17" rel="#L17">17</span>
<span id="L18" rel="#L18">18</span>
<span id="L19" rel="#L19">19</span>
<span id="L20" rel="#L20">20</span>
<span id="L21" rel="#L21">21</span>
<span id="L22" rel="#L22">22</span>
<span id="L23" rel="#L23">23</span>
<span id="L24" rel="#L24">24</span>
<span id="L25" rel="#L25">25</span>
<span id="L26" rel="#L26">26</span>
<span id="L27" rel="#L27">27</span>
<span id="L28" rel="#L28">28</span>
<span id="L29" rel="#L29">29</span>
<span id="L30" rel="#L30">30</span>
<span id="L31" rel="#L31">31</span>
<span id="L32" rel="#L32">32</span>
<span id="L33" rel="#L33">33</span>
<span id="L34" rel="#L34">34</span>
<span id="L35" rel="#L35">35</span>
<span id="L36" rel="#L36">36</span>
<span id="L37" rel="#L37">37</span>
<span id="L38" rel="#L38">38</span>
<span id="L39" rel="#L39">39</span>
<span id="L40" rel="#L40">40</span>
<span id="L41" rel="#L41">41</span>
<span id="L42" rel="#L42">42</span>
<span id="L43" rel="#L43">43</span>
<span id="L44" rel="#L44">44</span>
<span id="L45" rel="#L45">45</span>
<span id="L46" rel="#L46">46</span>
<span id="L47" rel="#L47">47</span>
<span id="L48" rel="#L48">48</span>
<span id="L49" rel="#L49">49</span>
<span id="L50" rel="#L50">50</span>
<span id="L51" rel="#L51">51</span>
<span id="L52" rel="#L52">52</span>
<span id="L53" rel="#L53">53</span>
<span id="L54" rel="#L54">54</span>
<span id="L55" rel="#L55">55</span>
<span id="L56" rel="#L56">56</span>
<span id="L57" rel="#L57">57</span>
<span id="L58" rel="#L58">58</span>
<span id="L59" rel="#L59">59</span>
<span id="L60" rel="#L60">60</span>
<span id="L61" rel="#L61">61</span>
<span id="L62" rel="#L62">62</span>
<span id="L63" rel="#L63">63</span>
<span id="L64" rel="#L64">64</span>
<span id="L65" rel="#L65">65</span>
<span id="L66" rel="#L66">66</span>
<span id="L67" rel="#L67">67</span>
<span id="L68" rel="#L68">68</span>
<span id="L69" rel="#L69">69</span>
<span id="L70" rel="#L70">70</span>
<span id="L71" rel="#L71">71</span>
<span id="L72" rel="#L72">72</span>
<span id="L73" rel="#L73">73</span>
<span id="L74" rel="#L74">74</span>
<span id="L75" rel="#L75">75</span>
<span id="L76" rel="#L76">76</span>
<span id="L77" rel="#L77">77</span>
<span id="L78" rel="#L78">78</span>
<span id="L79" rel="#L79">79</span>
<span id="L80" rel="#L80">80</span>
<span id="L81" rel="#L81">81</span>
<span id="L82" rel="#L82">82</span>
<span id="L83" rel="#L83">83</span>
<span id="L84" rel="#L84">84</span>
<span id="L85" rel="#L85">85</span>
<span id="L86" rel="#L86">86</span>
<span id="L87" rel="#L87">87</span>
<span id="L88" rel="#L88">88</span>
<span id="L89" rel="#L89">89</span>
<span id="L90" rel="#L90">90</span>
<span id="L91" rel="#L91">91</span>
<span id="L92" rel="#L92">92</span>
<span id="L93" rel="#L93">93</span>
<span id="L94" rel="#L94">94</span>
<span id="L95" rel="#L95">95</span>
<span id="L96" rel="#L96">96</span>
<span id="L97" rel="#L97">97</span>
<span id="L98" rel="#L98">98</span>
<span id="L99" rel="#L99">99</span>
<span id="L100" rel="#L100">100</span>
<span id="L101" rel="#L101">101</span>
<span id="L102" rel="#L102">102</span>
<span id="L103" rel="#L103">103</span>
<span id="L104" rel="#L104">104</span>
<span id="L105" rel="#L105">105</span>
<span id="L106" rel="#L106">106</span>
<span id="L107" rel="#L107">107</span>
<span id="L108" rel="#L108">108</span>
<span id="L109" rel="#L109">109</span>
<span id="L110" rel="#L110">110</span>
<span id="L111" rel="#L111">111</span>
<span id="L112" rel="#L112">112</span>
<span id="L113" rel="#L113">113</span>
<span id="L114" rel="#L114">114</span>
<span id="L115" rel="#L115">115</span>
<span id="L116" rel="#L116">116</span>
<span id="L117" rel="#L117">117</span>
<span id="L118" rel="#L118">118</span>
<span id="L119" rel="#L119">119</span>
<span id="L120" rel="#L120">120</span>
<span id="L121" rel="#L121">121</span>
<span id="L122" rel="#L122">122</span>
<span id="L123" rel="#L123">123</span>
<span id="L124" rel="#L124">124</span>
<span id="L125" rel="#L125">125</span>
<span id="L126" rel="#L126">126</span>
<span id="L127" rel="#L127">127</span>
<span id="L128" rel="#L128">128</span>
<span id="L129" rel="#L129">129</span>
<span id="L130" rel="#L130">130</span>
<span id="L131" rel="#L131">131</span>
<span id="L132" rel="#L132">132</span>
<span id="L133" rel="#L133">133</span>
<span id="L134" rel="#L134">134</span>
<span id="L135" rel="#L135">135</span>
<span id="L136" rel="#L136">136</span>
<span id="L137" rel="#L137">137</span>
<span id="L138" rel="#L138">138</span>
<span id="L139" rel="#L139">139</span>
<span id="L140" rel="#L140">140</span>
<span id="L141" rel="#L141">141</span>
<span id="L142" rel="#L142">142</span>
<span id="L143" rel="#L143">143</span>
<span id="L144" rel="#L144">144</span>
<span id="L145" rel="#L145">145</span>
<span id="L146" rel="#L146">146</span>
<span id="L147" rel="#L147">147</span>
<span id="L148" rel="#L148">148</span>
<span id="L149" rel="#L149">149</span>
<span id="L150" rel="#L150">150</span>
<span id="L151" rel="#L151">151</span>
<span id="L152" rel="#L152">152</span>
<span id="L153" rel="#L153">153</span>
<span id="L154" rel="#L154">154</span>
<span id="L155" rel="#L155">155</span>
<span id="L156" rel="#L156">156</span>
<span id="L157" rel="#L157">157</span>
<span id="L158" rel="#L158">158</span>
<span id="L159" rel="#L159">159</span>
<span id="L160" rel="#L160">160</span>
<span id="L161" rel="#L161">161</span>
<span id="L162" rel="#L162">162</span>
<span id="L163" rel="#L163">163</span>
<span id="L164" rel="#L164">164</span>
<span id="L165" rel="#L165">165</span>
<span id="L166" rel="#L166">166</span>
<span id="L167" rel="#L167">167</span>
<span id="L168" rel="#L168">168</span>
<span id="L169" rel="#L169">169</span>
<span id="L170" rel="#L170">170</span>
<span id="L171" rel="#L171">171</span>
<span id="L172" rel="#L172">172</span>
<span id="L173" rel="#L173">173</span>
<span id="L174" rel="#L174">174</span>
<span id="L175" rel="#L175">175</span>
<span id="L176" rel="#L176">176</span>
<span id="L177" rel="#L177">177</span>
<span id="L178" rel="#L178">178</span>
<span id="L179" rel="#L179">179</span>
<span id="L180" rel="#L180">180</span>
<span id="L181" rel="#L181">181</span>
<span id="L182" rel="#L182">182</span>
<span id="L183" rel="#L183">183</span>
<span id="L184" rel="#L184">184</span>
<span id="L185" rel="#L185">185</span>
<span id="L186" rel="#L186">186</span>
<span id="L187" rel="#L187">187</span>
<span id="L188" rel="#L188">188</span>
<span id="L189" rel="#L189">189</span>
<span id="L190" rel="#L190">190</span>
<span id="L191" rel="#L191">191</span>
<span id="L192" rel="#L192">192</span>
<span id="L193" rel="#L193">193</span>
<span id="L194" rel="#L194">194</span>
<span id="L195" rel="#L195">195</span>
<span id="L196" rel="#L196">196</span>
<span id="L197" rel="#L197">197</span>
<span id="L198" rel="#L198">198</span>
<span id="L199" rel="#L199">199</span>
<span id="L200" rel="#L200">200</span>
<span id="L201" rel="#L201">201</span>
<span id="L202" rel="#L202">202</span>
<span id="L203" rel="#L203">203</span>
<span id="L204" rel="#L204">204</span>
<span id="L205" rel="#L205">205</span>
<span id="L206" rel="#L206">206</span>
<span id="L207" rel="#L207">207</span>
<span id="L208" rel="#L208">208</span>
<span id="L209" rel="#L209">209</span>
<span id="L210" rel="#L210">210</span>
<span id="L211" rel="#L211">211</span>
<span id="L212" rel="#L212">212</span>
<span id="L213" rel="#L213">213</span>
<span id="L214" rel="#L214">214</span>
<span id="L215" rel="#L215">215</span>
<span id="L216" rel="#L216">216</span>
<span id="L217" rel="#L217">217</span>
<span id="L218" rel="#L218">218</span>
<span id="L219" rel="#L219">219</span>
<span id="L220" rel="#L220">220</span>
<span id="L221" rel="#L221">221</span>
<span id="L222" rel="#L222">222</span>
<span id="L223" rel="#L223">223</span>
<span id="L224" rel="#L224">224</span>
<span id="L225" rel="#L225">225</span>
<span id="L226" rel="#L226">226</span>
<span id="L227" rel="#L227">227</span>
<span id="L228" rel="#L228">228</span>
<span id="L229" rel="#L229">229</span>
<span id="L230" rel="#L230">230</span>
<span id="L231" rel="#L231">231</span>
<span id="L232" rel="#L232">232</span>
<span id="L233" rel="#L233">233</span>
<span id="L234" rel="#L234">234</span>
<span id="L235" rel="#L235">235</span>
<span id="L236" rel="#L236">236</span>
<span id="L237" rel="#L237">237</span>
<span id="L238" rel="#L238">238</span>
<span id="L239" rel="#L239">239</span>
<span id="L240" rel="#L240">240</span>
<span id="L241" rel="#L241">241</span>
<span id="L242" rel="#L242">242</span>
<span id="L243" rel="#L243">243</span>
<span id="L244" rel="#L244">244</span>
<span id="L245" rel="#L245">245</span>
<span id="L246" rel="#L246">246</span>
<span id="L247" rel="#L247">247</span>
<span id="L248" rel="#L248">248</span>
<span id="L249" rel="#L249">249</span>
<span id="L250" rel="#L250">250</span>
<span id="L251" rel="#L251">251</span>
<span id="L252" rel="#L252">252</span>
<span id="L253" rel="#L253">253</span>
<span id="L254" rel="#L254">254</span>
<span id="L255" rel="#L255">255</span>
<span id="L256" rel="#L256">256</span>
<span id="L257" rel="#L257">257</span>
<span id="L258" rel="#L258">258</span>
<span id="L259" rel="#L259">259</span>
<span id="L260" rel="#L260">260</span>
<span id="L261" rel="#L261">261</span>
<span id="L262" rel="#L262">262</span>
<span id="L263" rel="#L263">263</span>
<span id="L264" rel="#L264">264</span>
<span id="L265" rel="#L265">265</span>
<span id="L266" rel="#L266">266</span>
<span id="L267" rel="#L267">267</span>
<span id="L268" rel="#L268">268</span>
<span id="L269" rel="#L269">269</span>
<span id="L270" rel="#L270">270</span>
<span id="L271" rel="#L271">271</span>
<span id="L272" rel="#L272">272</span>
<span id="L273" rel="#L273">273</span>
<span id="L274" rel="#L274">274</span>
<span id="L275" rel="#L275">275</span>
<span id="L276" rel="#L276">276</span>
<span id="L277" rel="#L277">277</span>
<span id="L278" rel="#L278">278</span>
<span id="L279" rel="#L279">279</span>
<span id="L280" rel="#L280">280</span>
<span id="L281" rel="#L281">281</span>
<span id="L282" rel="#L282">282</span>
<span id="L283" rel="#L283">283</span>
<span id="L284" rel="#L284">284</span>
<span id="L285" rel="#L285">285</span>
<span id="L286" rel="#L286">286</span>
<span id="L287" rel="#L287">287</span>
<span id="L288" rel="#L288">288</span>
<span id="L289" rel="#L289">289</span>
<span id="L290" rel="#L290">290</span>
<span id="L291" rel="#L291">291</span>
<span id="L292" rel="#L292">292</span>
<span id="L293" rel="#L293">293</span>
<span id="L294" rel="#L294">294</span>
<span id="L295" rel="#L295">295</span>
<span id="L296" rel="#L296">296</span>
<span id="L297" rel="#L297">297</span>
<span id="L298" rel="#L298">298</span>
<span id="L299" rel="#L299">299</span>
<span id="L300" rel="#L300">300</span>
<span id="L301" rel="#L301">301</span>
<span id="L302" rel="#L302">302</span>
<span id="L303" rel="#L303">303</span>
<span id="L304" rel="#L304">304</span>
<span id="L305" rel="#L305">305</span>
<span id="L306" rel="#L306">306</span>
<span id="L307" rel="#L307">307</span>
<span id="L308" rel="#L308">308</span>
<span id="L309" rel="#L309">309</span>
<span id="L310" rel="#L310">310</span>
<span id="L311" rel="#L311">311</span>
<span id="L312" rel="#L312">312</span>
<span id="L313" rel="#L313">313</span>
<span id="L314" rel="#L314">314</span>
<span id="L315" rel="#L315">315</span>
<span id="L316" rel="#L316">316</span>
<span id="L317" rel="#L317">317</span>
<span id="L318" rel="#L318">318</span>
<span id="L319" rel="#L319">319</span>
<span id="L320" rel="#L320">320</span>
<span id="L321" rel="#L321">321</span>
<span id="L322" rel="#L322">322</span>
<span id="L323" rel="#L323">323</span>
<span id="L324" rel="#L324">324</span>
<span id="L325" rel="#L325">325</span>
<span id="L326" rel="#L326">326</span>
<span id="L327" rel="#L327">327</span>
<span id="L328" rel="#L328">328</span>
<span id="L329" rel="#L329">329</span>
<span id="L330" rel="#L330">330</span>
<span id="L331" rel="#L331">331</span>
<span id="L332" rel="#L332">332</span>
<span id="L333" rel="#L333">333</span>
<span id="L334" rel="#L334">334</span>
<span id="L335" rel="#L335">335</span>
<span id="L336" rel="#L336">336</span>
<span id="L337" rel="#L337">337</span>
<span id="L338" rel="#L338">338</span>
<span id="L339" rel="#L339">339</span>
<span id="L340" rel="#L340">340</span>
<span id="L341" rel="#L341">341</span>
<span id="L342" rel="#L342">342</span>
<span id="L343" rel="#L343">343</span>
<span id="L344" rel="#L344">344</span>
<span id="L345" rel="#L345">345</span>
<span id="L346" rel="#L346">346</span>
<span id="L347" rel="#L347">347</span>
<span id="L348" rel="#L348">348</span>
<span id="L349" rel="#L349">349</span>
<span id="L350" rel="#L350">350</span>
<span id="L351" rel="#L351">351</span>
<span id="L352" rel="#L352">352</span>
<span id="L353" rel="#L353">353</span>
<span id="L354" rel="#L354">354</span>
<span id="L355" rel="#L355">355</span>
<span id="L356" rel="#L356">356</span>
<span id="L357" rel="#L357">357</span>
<span id="L358" rel="#L358">358</span>
<span id="L359" rel="#L359">359</span>
<span id="L360" rel="#L360">360</span>
<span id="L361" rel="#L361">361</span>
<span id="L362" rel="#L362">362</span>
<span id="L363" rel="#L363">363</span>
<span id="L364" rel="#L364">364</span>
<span id="L365" rel="#L365">365</span>
<span id="L366" rel="#L366">366</span>
<span id="L367" rel="#L367">367</span>
<span id="L368" rel="#L368">368</span>
<span id="L369" rel="#L369">369</span>
<span id="L370" rel="#L370">370</span>
<span id="L371" rel="#L371">371</span>
<span id="L372" rel="#L372">372</span>
<span id="L373" rel="#L373">373</span>
<span id="L374" rel="#L374">374</span>
<span id="L375" rel="#L375">375</span>
<span id="L376" rel="#L376">376</span>
<span id="L377" rel="#L377">377</span>
<span id="L378" rel="#L378">378</span>
<span id="L379" rel="#L379">379</span>
<span id="L380" rel="#L380">380</span>
<span id="L381" rel="#L381">381</span>
<span id="L382" rel="#L382">382</span>
<span id="L383" rel="#L383">383</span>
<span id="L384" rel="#L384">384</span>
<span id="L385" rel="#L385">385</span>
<span id="L386" rel="#L386">386</span>
<span id="L387" rel="#L387">387</span>
<span id="L388" rel="#L388">388</span>
<span id="L389" rel="#L389">389</span>
<span id="L390" rel="#L390">390</span>
<span id="L391" rel="#L391">391</span>
<span id="L392" rel="#L392">392</span>
<span id="L393" rel="#L393">393</span>
<span id="L394" rel="#L394">394</span>
<span id="L395" rel="#L395">395</span>
<span id="L396" rel="#L396">396</span>
<span id="L397" rel="#L397">397</span>
<span id="L398" rel="#L398">398</span>
<span id="L399" rel="#L399">399</span>
<span id="L400" rel="#L400">400</span>
<span id="L401" rel="#L401">401</span>
<span id="L402" rel="#L402">402</span>
<span id="L403" rel="#L403">403</span>
<span id="L404" rel="#L404">404</span>
<span id="L405" rel="#L405">405</span>
<span id="L406" rel="#L406">406</span>
<span id="L407" rel="#L407">407</span>
<span id="L408" rel="#L408">408</span>
<span id="L409" rel="#L409">409</span>
<span id="L410" rel="#L410">410</span>
<span id="L411" rel="#L411">411</span>
<span id="L412" rel="#L412">412</span>
<span id="L413" rel="#L413">413</span>
<span id="L414" rel="#L414">414</span>
<span id="L415" rel="#L415">415</span>
<span id="L416" rel="#L416">416</span>
<span id="L417" rel="#L417">417</span>
<span id="L418" rel="#L418">418</span>
<span id="L419" rel="#L419">419</span>
<span id="L420" rel="#L420">420</span>
<span id="L421" rel="#L421">421</span>
<span id="L422" rel="#L422">422</span>
<span id="L423" rel="#L423">423</span>
<span id="L424" rel="#L424">424</span>
<span id="L425" rel="#L425">425</span>
<span id="L426" rel="#L426">426</span>
<span id="L427" rel="#L427">427</span>
<span id="L428" rel="#L428">428</span>
<span id="L429" rel="#L429">429</span>
<span id="L430" rel="#L430">430</span>
<span id="L431" rel="#L431">431</span>
<span id="L432" rel="#L432">432</span>
<span id="L433" rel="#L433">433</span>
<span id="L434" rel="#L434">434</span>
<span id="L435" rel="#L435">435</span>
<span id="L436" rel="#L436">436</span>
<span id="L437" rel="#L437">437</span>
<span id="L438" rel="#L438">438</span>
<span id="L439" rel="#L439">439</span>
<span id="L440" rel="#L440">440</span>
<span id="L441" rel="#L441">441</span>
<span id="L442" rel="#L442">442</span>
<span id="L443" rel="#L443">443</span>
<span id="L444" rel="#L444">444</span>
<span id="L445" rel="#L445">445</span>
<span id="L446" rel="#L446">446</span>
<span id="L447" rel="#L447">447</span>
<span id="L448" rel="#L448">448</span>
<span id="L449" rel="#L449">449</span>
<span id="L450" rel="#L450">450</span>
<span id="L451" rel="#L451">451</span>
<span id="L452" rel="#L452">452</span>
<span id="L453" rel="#L453">453</span>
<span id="L454" rel="#L454">454</span>
<span id="L455" rel="#L455">455</span>
<span id="L456" rel="#L456">456</span>
<span id="L457" rel="#L457">457</span>
<span id="L458" rel="#L458">458</span>
<span id="L459" rel="#L459">459</span>
<span id="L460" rel="#L460">460</span>
<span id="L461" rel="#L461">461</span>
<span id="L462" rel="#L462">462</span>
<span id="L463" rel="#L463">463</span>
<span id="L464" rel="#L464">464</span>
<span id="L465" rel="#L465">465</span>
<span id="L466" rel="#L466">466</span>
<span id="L467" rel="#L467">467</span>
<span id="L468" rel="#L468">468</span>
<span id="L469" rel="#L469">469</span>
<span id="L470" rel="#L470">470</span>
<span id="L471" rel="#L471">471</span>
<span id="L472" rel="#L472">472</span>
<span id="L473" rel="#L473">473</span>
<span id="L474" rel="#L474">474</span>
<span id="L475" rel="#L475">475</span>
<span id="L476" rel="#L476">476</span>
<span id="L477" rel="#L477">477</span>
<span id="L478" rel="#L478">478</span>
<span id="L479" rel="#L479">479</span>
<span id="L480" rel="#L480">480</span>
<span id="L481" rel="#L481">481</span>
<span id="L482" rel="#L482">482</span>
<span id="L483" rel="#L483">483</span>
<span id="L484" rel="#L484">484</span>
<span id="L485" rel="#L485">485</span>
<span id="L486" rel="#L486">486</span>
<span id="L487" rel="#L487">487</span>
<span id="L488" rel="#L488">488</span>
<span id="L489" rel="#L489">489</span>
<span id="L490" rel="#L490">490</span>
<span id="L491" rel="#L491">491</span>
<span id="L492" rel="#L492">492</span>
<span id="L493" rel="#L493">493</span>
<span id="L494" rel="#L494">494</span>
<span id="L495" rel="#L495">495</span>
<span id="L496" rel="#L496">496</span>
<span id="L497" rel="#L497">497</span>
<span id="L498" rel="#L498">498</span>
<span id="L499" rel="#L499">499</span>
<span id="L500" rel="#L500">500</span>
<span id="L501" rel="#L501">501</span>
<span id="L502" rel="#L502">502</span>
<span id="L503" rel="#L503">503</span>
<span id="L504" rel="#L504">504</span>
<span id="L505" rel="#L505">505</span>
<span id="L506" rel="#L506">506</span>
<span id="L507" rel="#L507">507</span>
<span id="L508" rel="#L508">508</span>
<span id="L509" rel="#L509">509</span>
<span id="L510" rel="#L510">510</span>
<span id="L511" rel="#L511">511</span>
<span id="L512" rel="#L512">512</span>
<span id="L513" rel="#L513">513</span>
<span id="L514" rel="#L514">514</span>
<span id="L515" rel="#L515">515</span>
<span id="L516" rel="#L516">516</span>
<span id="L517" rel="#L517">517</span>
<span id="L518" rel="#L518">518</span>
<span id="L519" rel="#L519">519</span>
<span id="L520" rel="#L520">520</span>
<span id="L521" rel="#L521">521</span>
<span id="L522" rel="#L522">522</span>
<span id="L523" rel="#L523">523</span>
<span id="L524" rel="#L524">524</span>
<span id="L525" rel="#L525">525</span>
<span id="L526" rel="#L526">526</span>
<span id="L527" rel="#L527">527</span>
<span id="L528" rel="#L528">528</span>
<span id="L529" rel="#L529">529</span>
<span id="L530" rel="#L530">530</span>
<span id="L531" rel="#L531">531</span>
<span id="L532" rel="#L532">532</span>
<span id="L533" rel="#L533">533</span>
<span id="L534" rel="#L534">534</span>
<span id="L535" rel="#L535">535</span>
<span id="L536" rel="#L536">536</span>
<span id="L537" rel="#L537">537</span>
<span id="L538" rel="#L538">538</span>
<span id="L539" rel="#L539">539</span>
<span id="L540" rel="#L540">540</span>
<span id="L541" rel="#L541">541</span>
<span id="L542" rel="#L542">542</span>
<span id="L543" rel="#L543">543</span>
<span id="L544" rel="#L544">544</span>
<span id="L545" rel="#L545">545</span>
<span id="L546" rel="#L546">546</span>
<span id="L547" rel="#L547">547</span>
<span id="L548" rel="#L548">548</span>
<span id="L549" rel="#L549">549</span>
<span id="L550" rel="#L550">550</span>
<span id="L551" rel="#L551">551</span>
<span id="L552" rel="#L552">552</span>
<span id="L553" rel="#L553">553</span>
<span id="L554" rel="#L554">554</span>
<span id="L555" rel="#L555">555</span>
<span id="L556" rel="#L556">556</span>
<span id="L557" rel="#L557">557</span>
<span id="L558" rel="#L558">558</span>
<span id="L559" rel="#L559">559</span>
<span id="L560" rel="#L560">560</span>
<span id="L561" rel="#L561">561</span>
<span id="L562" rel="#L562">562</span>
<span id="L563" rel="#L563">563</span>
<span id="L564" rel="#L564">564</span>
<span id="L565" rel="#L565">565</span>
<span id="L566" rel="#L566">566</span>
<span id="L567" rel="#L567">567</span>
<span id="L568" rel="#L568">568</span>
<span id="L569" rel="#L569">569</span>
<span id="L570" rel="#L570">570</span>
<span id="L571" rel="#L571">571</span>
<span id="L572" rel="#L572">572</span>
<span id="L573" rel="#L573">573</span>
<span id="L574" rel="#L574">574</span>
<span id="L575" rel="#L575">575</span>
<span id="L576" rel="#L576">576</span>
<span id="L577" rel="#L577">577</span>
<span id="L578" rel="#L578">578</span>
<span id="L579" rel="#L579">579</span>
<span id="L580" rel="#L580">580</span>
<span id="L581" rel="#L581">581</span>
<span id="L582" rel="#L582">582</span>
<span id="L583" rel="#L583">583</span>
<span id="L584" rel="#L584">584</span>
<span id="L585" rel="#L585">585</span>
<span id="L586" rel="#L586">586</span>
<span id="L587" rel="#L587">587</span>
<span id="L588" rel="#L588">588</span>
<span id="L589" rel="#L589">589</span>
<span id="L590" rel="#L590">590</span>
<span id="L591" rel="#L591">591</span>
<span id="L592" rel="#L592">592</span>
<span id="L593" rel="#L593">593</span>
<span id="L594" rel="#L594">594</span>
<span id="L595" rel="#L595">595</span>
<span id="L596" rel="#L596">596</span>
<span id="L597" rel="#L597">597</span>
<span id="L598" rel="#L598">598</span>
<span id="L599" rel="#L599">599</span>
<span id="L600" rel="#L600">600</span>
<span id="L601" rel="#L601">601</span>
<span id="L602" rel="#L602">602</span>
<span id="L603" rel="#L603">603</span>
<span id="L604" rel="#L604">604</span>
<span id="L605" rel="#L605">605</span>
<span id="L606" rel="#L606">606</span>
<span id="L607" rel="#L607">607</span>
<span id="L608" rel="#L608">608</span>
<span id="L609" rel="#L609">609</span>
<span id="L610" rel="#L610">610</span>
<span id="L611" rel="#L611">611</span>
<span id="L612" rel="#L612">612</span>
<span id="L613" rel="#L613">613</span>
<span id="L614" rel="#L614">614</span>
<span id="L615" rel="#L615">615</span>
<span id="L616" rel="#L616">616</span>
<span id="L617" rel="#L617">617</span>
<span id="L618" rel="#L618">618</span>
<span id="L619" rel="#L619">619</span>
<span id="L620" rel="#L620">620</span>
<span id="L621" rel="#L621">621</span>
<span id="L622" rel="#L622">622</span>
<span id="L623" rel="#L623">623</span>
<span id="L624" rel="#L624">624</span>
<span id="L625" rel="#L625">625</span>
<span id="L626" rel="#L626">626</span>
<span id="L627" rel="#L627">627</span>
<span id="L628" rel="#L628">628</span>
<span id="L629" rel="#L629">629</span>
<span id="L630" rel="#L630">630</span>
<span id="L631" rel="#L631">631</span>
<span id="L632" rel="#L632">632</span>
<span id="L633" rel="#L633">633</span>
<span id="L634" rel="#L634">634</span>
<span id="L635" rel="#L635">635</span>
<span id="L636" rel="#L636">636</span>
<span id="L637" rel="#L637">637</span>
<span id="L638" rel="#L638">638</span>
<span id="L639" rel="#L639">639</span>
<span id="L640" rel="#L640">640</span>
<span id="L641" rel="#L641">641</span>
<span id="L642" rel="#L642">642</span>
<span id="L643" rel="#L643">643</span>
<span id="L644" rel="#L644">644</span>
<span id="L645" rel="#L645">645</span>
<span id="L646" rel="#L646">646</span>
<span id="L647" rel="#L647">647</span>
<span id="L648" rel="#L648">648</span>
<span id="L649" rel="#L649">649</span>
<span id="L650" rel="#L650">650</span>
<span id="L651" rel="#L651">651</span>
<span id="L652" rel="#L652">652</span>
<span id="L653" rel="#L653">653</span>
<span id="L654" rel="#L654">654</span>
<span id="L655" rel="#L655">655</span>
<span id="L656" rel="#L656">656</span>
<span id="L657" rel="#L657">657</span>
<span id="L658" rel="#L658">658</span>
<span id="L659" rel="#L659">659</span>
<span id="L660" rel="#L660">660</span>
<span id="L661" rel="#L661">661</span>
<span id="L662" rel="#L662">662</span>
<span id="L663" rel="#L663">663</span>
<span id="L664" rel="#L664">664</span>
<span id="L665" rel="#L665">665</span>
<span id="L666" rel="#L666">666</span>
<span id="L667" rel="#L667">667</span>
<span id="L668" rel="#L668">668</span>
<span id="L669" rel="#L669">669</span>
<span id="L670" rel="#L670">670</span>
<span id="L671" rel="#L671">671</span>
<span id="L672" rel="#L672">672</span>
<span id="L673" rel="#L673">673</span>
<span id="L674" rel="#L674">674</span>
<span id="L675" rel="#L675">675</span>
<span id="L676" rel="#L676">676</span>
<span id="L677" rel="#L677">677</span>
<span id="L678" rel="#L678">678</span>
<span id="L679" rel="#L679">679</span>
<span id="L680" rel="#L680">680</span>
<span id="L681" rel="#L681">681</span>
<span id="L682" rel="#L682">682</span>
<span id="L683" rel="#L683">683</span>
<span id="L684" rel="#L684">684</span>
<span id="L685" rel="#L685">685</span>
<span id="L686" rel="#L686">686</span>
<span id="L687" rel="#L687">687</span>
<span id="L688" rel="#L688">688</span>
<span id="L689" rel="#L689">689</span>
<span id="L690" rel="#L690">690</span>
<span id="L691" rel="#L691">691</span>
<span id="L692" rel="#L692">692</span>
<span id="L693" rel="#L693">693</span>
<span id="L694" rel="#L694">694</span>
<span id="L695" rel="#L695">695</span>
<span id="L696" rel="#L696">696</span>
<span id="L697" rel="#L697">697</span>
<span id="L698" rel="#L698">698</span>
<span id="L699" rel="#L699">699</span>
<span id="L700" rel="#L700">700</span>
<span id="L701" rel="#L701">701</span>
<span id="L702" rel="#L702">702</span>
<span id="L703" rel="#L703">703</span>
<span id="L704" rel="#L704">704</span>
<span id="L705" rel="#L705">705</span>
<span id="L706" rel="#L706">706</span>
<span id="L707" rel="#L707">707</span>
<span id="L708" rel="#L708">708</span>
<span id="L709" rel="#L709">709</span>
<span id="L710" rel="#L710">710</span>
<span id="L711" rel="#L711">711</span>
<span id="L712" rel="#L712">712</span>
<span id="L713" rel="#L713">713</span>
<span id="L714" rel="#L714">714</span>
<span id="L715" rel="#L715">715</span>
<span id="L716" rel="#L716">716</span>
<span id="L717" rel="#L717">717</span>
<span id="L718" rel="#L718">718</span>
<span id="L719" rel="#L719">719</span>
<span id="L720" rel="#L720">720</span>
<span id="L721" rel="#L721">721</span>
<span id="L722" rel="#L722">722</span>
<span id="L723" rel="#L723">723</span>
<span id="L724" rel="#L724">724</span>
<span id="L725" rel="#L725">725</span>
<span id="L726" rel="#L726">726</span>
<span id="L727" rel="#L727">727</span>
<span id="L728" rel="#L728">728</span>
<span id="L729" rel="#L729">729</span>
<span id="L730" rel="#L730">730</span>
<span id="L731" rel="#L731">731</span>
<span id="L732" rel="#L732">732</span>
<span id="L733" rel="#L733">733</span>
<span id="L734" rel="#L734">734</span>
<span id="L735" rel="#L735">735</span>
<span id="L736" rel="#L736">736</span>
<span id="L737" rel="#L737">737</span>
<span id="L738" rel="#L738">738</span>
<span id="L739" rel="#L739">739</span>
<span id="L740" rel="#L740">740</span>
<span id="L741" rel="#L741">741</span>
<span id="L742" rel="#L742">742</span>
<span id="L743" rel="#L743">743</span>
<span id="L744" rel="#L744">744</span>
<span id="L745" rel="#L745">745</span>
<span id="L746" rel="#L746">746</span>
<span id="L747" rel="#L747">747</span>
<span id="L748" rel="#L748">748</span>
<span id="L749" rel="#L749">749</span>
<span id="L750" rel="#L750">750</span>
<span id="L751" rel="#L751">751</span>
<span id="L752" rel="#L752">752</span>
<span id="L753" rel="#L753">753</span>
<span id="L754" rel="#L754">754</span>
<span id="L755" rel="#L755">755</span>
<span id="L756" rel="#L756">756</span>
<span id="L757" rel="#L757">757</span>
<span id="L758" rel="#L758">758</span>
<span id="L759" rel="#L759">759</span>
<span id="L760" rel="#L760">760</span>
<span id="L761" rel="#L761">761</span>
<span id="L762" rel="#L762">762</span>
<span id="L763" rel="#L763">763</span>
<span id="L764" rel="#L764">764</span>
<span id="L765" rel="#L765">765</span>
<span id="L766" rel="#L766">766</span>
<span id="L767" rel="#L767">767</span>
<span id="L768" rel="#L768">768</span>
<span id="L769" rel="#L769">769</span>
<span id="L770" rel="#L770">770</span>
<span id="L771" rel="#L771">771</span>
<span id="L772" rel="#L772">772</span>
<span id="L773" rel="#L773">773</span>
<span id="L774" rel="#L774">774</span>
<span id="L775" rel="#L775">775</span>
<span id="L776" rel="#L776">776</span>
<span id="L777" rel="#L777">777</span>
<span id="L778" rel="#L778">778</span>
<span id="L779" rel="#L779">779</span>
<span id="L780" rel="#L780">780</span>
<span id="L781" rel="#L781">781</span>
<span id="L782" rel="#L782">782</span>
<span id="L783" rel="#L783">783</span>
<span id="L784" rel="#L784">784</span>
<span id="L785" rel="#L785">785</span>
<span id="L786" rel="#L786">786</span>
<span id="L787" rel="#L787">787</span>
<span id="L788" rel="#L788">788</span>
<span id="L789" rel="#L789">789</span>
<span id="L790" rel="#L790">790</span>
<span id="L791" rel="#L791">791</span>
<span id="L792" rel="#L792">792</span>
<span id="L793" rel="#L793">793</span>
<span id="L794" rel="#L794">794</span>
<span id="L795" rel="#L795">795</span>
<span id="L796" rel="#L796">796</span>
<span id="L797" rel="#L797">797</span>
<span id="L798" rel="#L798">798</span>
<span id="L799" rel="#L799">799</span>
<span id="L800" rel="#L800">800</span>
<span id="L801" rel="#L801">801</span>
<span id="L802" rel="#L802">802</span>
<span id="L803" rel="#L803">803</span>
<span id="L804" rel="#L804">804</span>
<span id="L805" rel="#L805">805</span>
<span id="L806" rel="#L806">806</span>
<span id="L807" rel="#L807">807</span>
<span id="L808" rel="#L808">808</span>
<span id="L809" rel="#L809">809</span>
<span id="L810" rel="#L810">810</span>
<span id="L811" rel="#L811">811</span>
<span id="L812" rel="#L812">812</span>
<span id="L813" rel="#L813">813</span>
<span id="L814" rel="#L814">814</span>
<span id="L815" rel="#L815">815</span>
<span id="L816" rel="#L816">816</span>
<span id="L817" rel="#L817">817</span>
<span id="L818" rel="#L818">818</span>
<span id="L819" rel="#L819">819</span>
<span id="L820" rel="#L820">820</span>
<span id="L821" rel="#L821">821</span>
<span id="L822" rel="#L822">822</span>
<span id="L823" rel="#L823">823</span>
<span id="L824" rel="#L824">824</span>
<span id="L825" rel="#L825">825</span>
<span id="L826" rel="#L826">826</span>
<span id="L827" rel="#L827">827</span>
<span id="L828" rel="#L828">828</span>
<span id="L829" rel="#L829">829</span>
<span id="L830" rel="#L830">830</span>
<span id="L831" rel="#L831">831</span>
<span id="L832" rel="#L832">832</span>
<span id="L833" rel="#L833">833</span>
<span id="L834" rel="#L834">834</span>
<span id="L835" rel="#L835">835</span>
<span id="L836" rel="#L836">836</span>
<span id="L837" rel="#L837">837</span>
<span id="L838" rel="#L838">838</span>
<span id="L839" rel="#L839">839</span>
<span id="L840" rel="#L840">840</span>
<span id="L841" rel="#L841">841</span>
<span id="L842" rel="#L842">842</span>
<span id="L843" rel="#L843">843</span>
<span id="L844" rel="#L844">844</span>
<span id="L845" rel="#L845">845</span>
<span id="L846" rel="#L846">846</span>
<span id="L847" rel="#L847">847</span>
<span id="L848" rel="#L848">848</span>
<span id="L849" rel="#L849">849</span>
<span id="L850" rel="#L850">850</span>
<span id="L851" rel="#L851">851</span>
<span id="L852" rel="#L852">852</span>
<span id="L853" rel="#L853">853</span>
<span id="L854" rel="#L854">854</span>
<span id="L855" rel="#L855">855</span>
<span id="L856" rel="#L856">856</span>
<span id="L857" rel="#L857">857</span>
<span id="L858" rel="#L858">858</span>
<span id="L859" rel="#L859">859</span>
<span id="L860" rel="#L860">860</span>
<span id="L861" rel="#L861">861</span>
<span id="L862" rel="#L862">862</span>
<span id="L863" rel="#L863">863</span>
<span id="L864" rel="#L864">864</span>
<span id="L865" rel="#L865">865</span>
<span id="L866" rel="#L866">866</span>
<span id="L867" rel="#L867">867</span>
<span id="L868" rel="#L868">868</span>
<span id="L869" rel="#L869">869</span>
<span id="L870" rel="#L870">870</span>
<span id="L871" rel="#L871">871</span>
<span id="L872" rel="#L872">872</span>
<span id="L873" rel="#L873">873</span>
<span id="L874" rel="#L874">874</span>
<span id="L875" rel="#L875">875</span>
<span id="L876" rel="#L876">876</span>
<span id="L877" rel="#L877">877</span>
<span id="L878" rel="#L878">878</span>
<span id="L879" rel="#L879">879</span>
<span id="L880" rel="#L880">880</span>
<span id="L881" rel="#L881">881</span>
<span id="L882" rel="#L882">882</span>
<span id="L883" rel="#L883">883</span>
<span id="L884" rel="#L884">884</span>
<span id="L885" rel="#L885">885</span>
<span id="L886" rel="#L886">886</span>
<span id="L887" rel="#L887">887</span>
<span id="L888" rel="#L888">888</span>
<span id="L889" rel="#L889">889</span>
<span id="L890" rel="#L890">890</span>
<span id="L891" rel="#L891">891</span>
<span id="L892" rel="#L892">892</span>
<span id="L893" rel="#L893">893</span>
<span id="L894" rel="#L894">894</span>
<span id="L895" rel="#L895">895</span>
<span id="L896" rel="#L896">896</span>
<span id="L897" rel="#L897">897</span>
<span id="L898" rel="#L898">898</span>
<span id="L899" rel="#L899">899</span>
<span id="L900" rel="#L900">900</span>
<span id="L901" rel="#L901">901</span>
<span id="L902" rel="#L902">902</span>
<span id="L903" rel="#L903">903</span>
<span id="L904" rel="#L904">904</span>
<span id="L905" rel="#L905">905</span>
<span id="L906" rel="#L906">906</span>
<span id="L907" rel="#L907">907</span>
<span id="L908" rel="#L908">908</span>
<span id="L909" rel="#L909">909</span>
<span id="L910" rel="#L910">910</span>
<span id="L911" rel="#L911">911</span>
<span id="L912" rel="#L912">912</span>
<span id="L913" rel="#L913">913</span>
<span id="L914" rel="#L914">914</span>
<span id="L915" rel="#L915">915</span>
<span id="L916" rel="#L916">916</span>
<span id="L917" rel="#L917">917</span>
<span id="L918" rel="#L918">918</span>
<span id="L919" rel="#L919">919</span>
<span id="L920" rel="#L920">920</span>
<span id="L921" rel="#L921">921</span>
<span id="L922" rel="#L922">922</span>
<span id="L923" rel="#L923">923</span>
<span id="L924" rel="#L924">924</span>
<span id="L925" rel="#L925">925</span>
<span id="L926" rel="#L926">926</span>
<span id="L927" rel="#L927">927</span>
<span id="L928" rel="#L928">928</span>
<span id="L929" rel="#L929">929</span>
<span id="L930" rel="#L930">930</span>
<span id="L931" rel="#L931">931</span>
<span id="L932" rel="#L932">932</span>
<span id="L933" rel="#L933">933</span>
<span id="L934" rel="#L934">934</span>
<span id="L935" rel="#L935">935</span>
<span id="L936" rel="#L936">936</span>
<span id="L937" rel="#L937">937</span>
<span id="L938" rel="#L938">938</span>
<span id="L939" rel="#L939">939</span>
<span id="L940" rel="#L940">940</span>
<span id="L941" rel="#L941">941</span>
<span id="L942" rel="#L942">942</span>
<span id="L943" rel="#L943">943</span>
<span id="L944" rel="#L944">944</span>
<span id="L945" rel="#L945">945</span>
<span id="L946" rel="#L946">946</span>
<span id="L947" rel="#L947">947</span>
<span id="L948" rel="#L948">948</span>
<span id="L949" rel="#L949">949</span>
<span id="L950" rel="#L950">950</span>
<span id="L951" rel="#L951">951</span>
<span id="L952" rel="#L952">952</span>
<span id="L953" rel="#L953">953</span>
<span id="L954" rel="#L954">954</span>
<span id="L955" rel="#L955">955</span>
<span id="L956" rel="#L956">956</span>
<span id="L957" rel="#L957">957</span>
<span id="L958" rel="#L958">958</span>
<span id="L959" rel="#L959">959</span>
<span id="L960" rel="#L960">960</span>
<span id="L961" rel="#L961">961</span>
<span id="L962" rel="#L962">962</span>
<span id="L963" rel="#L963">963</span>
<span id="L964" rel="#L964">964</span>
<span id="L965" rel="#L965">965</span>
<span id="L966" rel="#L966">966</span>
<span id="L967" rel="#L967">967</span>
<span id="L968" rel="#L968">968</span>
<span id="L969" rel="#L969">969</span>
<span id="L970" rel="#L970">970</span>
<span id="L971" rel="#L971">971</span>
<span id="L972" rel="#L972">972</span>
<span id="L973" rel="#L973">973</span>
<span id="L974" rel="#L974">974</span>
<span id="L975" rel="#L975">975</span>
<span id="L976" rel="#L976">976</span>
<span id="L977" rel="#L977">977</span>
<span id="L978" rel="#L978">978</span>
<span id="L979" rel="#L979">979</span>
<span id="L980" rel="#L980">980</span>
<span id="L981" rel="#L981">981</span>
<span id="L982" rel="#L982">982</span>
<span id="L983" rel="#L983">983</span>
<span id="L984" rel="#L984">984</span>
<span id="L985" rel="#L985">985</span>
<span id="L986" rel="#L986">986</span>
<span id="L987" rel="#L987">987</span>
<span id="L988" rel="#L988">988</span>
<span id="L989" rel="#L989">989</span>
<span id="L990" rel="#L990">990</span>
<span id="L991" rel="#L991">991</span>
<span id="L992" rel="#L992">992</span>
<span id="L993" rel="#L993">993</span>
<span id="L994" rel="#L994">994</span>
<span id="L995" rel="#L995">995</span>
<span id="L996" rel="#L996">996</span>
<span id="L997" rel="#L997">997</span>
<span id="L998" rel="#L998">998</span>
<span id="L999" rel="#L999">999</span>
<span id="L1000" rel="#L1000">1000</span>
<span id="L1001" rel="#L1001">1001</span>
<span id="L1002" rel="#L1002">1002</span>
<span id="L1003" rel="#L1003">1003</span>
<span id="L1004" rel="#L1004">1004</span>
<span id="L1005" rel="#L1005">1005</span>
<span id="L1006" rel="#L1006">1006</span>
<span id="L1007" rel="#L1007">1007</span>
<span id="L1008" rel="#L1008">1008</span>
<span id="L1009" rel="#L1009">1009</span>
<span id="L1010" rel="#L1010">1010</span>
<span id="L1011" rel="#L1011">1011</span>
<span id="L1012" rel="#L1012">1012</span>
<span id="L1013" rel="#L1013">1013</span>
<span id="L1014" rel="#L1014">1014</span>
<span id="L1015" rel="#L1015">1015</span>
<span id="L1016" rel="#L1016">1016</span>
<span id="L1017" rel="#L1017">1017</span>
<span id="L1018" rel="#L1018">1018</span>
<span id="L1019" rel="#L1019">1019</span>
<span id="L1020" rel="#L1020">1020</span>
<span id="L1021" rel="#L1021">1021</span>
<span id="L1022" rel="#L1022">1022</span>
<span id="L1023" rel="#L1023">1023</span>
<span id="L1024" rel="#L1024">1024</span>
<span id="L1025" rel="#L1025">1025</span>
<span id="L1026" rel="#L1026">1026</span>
<span id="L1027" rel="#L1027">1027</span>
<span id="L1028" rel="#L1028">1028</span>
<span id="L1029" rel="#L1029">1029</span>
<span id="L1030" rel="#L1030">1030</span>
<span id="L1031" rel="#L1031">1031</span>
<span id="L1032" rel="#L1032">1032</span>
<span id="L1033" rel="#L1033">1033</span>
<span id="L1034" rel="#L1034">1034</span>
<span id="L1035" rel="#L1035">1035</span>
<span id="L1036" rel="#L1036">1036</span>
<span id="L1037" rel="#L1037">1037</span>
<span id="L1038" rel="#L1038">1038</span>
<span id="L1039" rel="#L1039">1039</span>
<span id="L1040" rel="#L1040">1040</span>
<span id="L1041" rel="#L1041">1041</span>
<span id="L1042" rel="#L1042">1042</span>
<span id="L1043" rel="#L1043">1043</span>
<span id="L1044" rel="#L1044">1044</span>
<span id="L1045" rel="#L1045">1045</span>
<span id="L1046" rel="#L1046">1046</span>
<span id="L1047" rel="#L1047">1047</span>
<span id="L1048" rel="#L1048">1048</span>
<span id="L1049" rel="#L1049">1049</span>
<span id="L1050" rel="#L1050">1050</span>
<span id="L1051" rel="#L1051">1051</span>
<span id="L1052" rel="#L1052">1052</span>
<span id="L1053" rel="#L1053">1053</span>
<span id="L1054" rel="#L1054">1054</span>
<span id="L1055" rel="#L1055">1055</span>
<span id="L1056" rel="#L1056">1056</span>
<span id="L1057" rel="#L1057">1057</span>
<span id="L1058" rel="#L1058">1058</span>
<span id="L1059" rel="#L1059">1059</span>
<span id="L1060" rel="#L1060">1060</span>
<span id="L1061" rel="#L1061">1061</span>
<span id="L1062" rel="#L1062">1062</span>
<span id="L1063" rel="#L1063">1063</span>
<span id="L1064" rel="#L1064">1064</span>
<span id="L1065" rel="#L1065">1065</span>
<span id="L1066" rel="#L1066">1066</span>
<span id="L1067" rel="#L1067">1067</span>
<span id="L1068" rel="#L1068">1068</span>
<span id="L1069" rel="#L1069">1069</span>
<span id="L1070" rel="#L1070">1070</span>
<span id="L1071" rel="#L1071">1071</span>
<span id="L1072" rel="#L1072">1072</span>
<span id="L1073" rel="#L1073">1073</span>
<span id="L1074" rel="#L1074">1074</span>
<span id="L1075" rel="#L1075">1075</span>
<span id="L1076" rel="#L1076">1076</span>
<span id="L1077" rel="#L1077">1077</span>
<span id="L1078" rel="#L1078">1078</span>
<span id="L1079" rel="#L1079">1079</span>
<span id="L1080" rel="#L1080">1080</span>
<span id="L1081" rel="#L1081">1081</span>
<span id="L1082" rel="#L1082">1082</span>
<span id="L1083" rel="#L1083">1083</span>
<span id="L1084" rel="#L1084">1084</span>
<span id="L1085" rel="#L1085">1085</span>
<span id="L1086" rel="#L1086">1086</span>
<span id="L1087" rel="#L1087">1087</span>
<span id="L1088" rel="#L1088">1088</span>
<span id="L1089" rel="#L1089">1089</span>
<span id="L1090" rel="#L1090">1090</span>
<span id="L1091" rel="#L1091">1091</span>
<span id="L1092" rel="#L1092">1092</span>
<span id="L1093" rel="#L1093">1093</span>
<span id="L1094" rel="#L1094">1094</span>
<span id="L1095" rel="#L1095">1095</span>
<span id="L1096" rel="#L1096">1096</span>
<span id="L1097" rel="#L1097">1097</span>
<span id="L1098" rel="#L1098">1098</span>
<span id="L1099" rel="#L1099">1099</span>
<span id="L1100" rel="#L1100">1100</span>
<span id="L1101" rel="#L1101">1101</span>
<span id="L1102" rel="#L1102">1102</span>
<span id="L1103" rel="#L1103">1103</span>
<span id="L1104" rel="#L1104">1104</span>
<span id="L1105" rel="#L1105">1105</span>
<span id="L1106" rel="#L1106">1106</span>
<span id="L1107" rel="#L1107">1107</span>
<span id="L1108" rel="#L1108">1108</span>
<span id="L1109" rel="#L1109">1109</span>
<span id="L1110" rel="#L1110">1110</span>
<span id="L1111" rel="#L1111">1111</span>
<span id="L1112" rel="#L1112">1112</span>
<span id="L1113" rel="#L1113">1113</span>
<span id="L1114" rel="#L1114">1114</span>
<span id="L1115" rel="#L1115">1115</span>
<span id="L1116" rel="#L1116">1116</span>
<span id="L1117" rel="#L1117">1117</span>
<span id="L1118" rel="#L1118">1118</span>
<span id="L1119" rel="#L1119">1119</span>
<span id="L1120" rel="#L1120">1120</span>
<span id="L1121" rel="#L1121">1121</span>
<span id="L1122" rel="#L1122">1122</span>
<span id="L1123" rel="#L1123">1123</span>
<span id="L1124" rel="#L1124">1124</span>
<span id="L1125" rel="#L1125">1125</span>
<span id="L1126" rel="#L1126">1126</span>
<span id="L1127" rel="#L1127">1127</span>
<span id="L1128" rel="#L1128">1128</span>
<span id="L1129" rel="#L1129">1129</span>
<span id="L1130" rel="#L1130">1130</span>
<span id="L1131" rel="#L1131">1131</span>
<span id="L1132" rel="#L1132">1132</span>
<span id="L1133" rel="#L1133">1133</span>
<span id="L1134" rel="#L1134">1134</span>
<span id="L1135" rel="#L1135">1135</span>
<span id="L1136" rel="#L1136">1136</span>
<span id="L1137" rel="#L1137">1137</span>
<span id="L1138" rel="#L1138">1138</span>
<span id="L1139" rel="#L1139">1139</span>
<span id="L1140" rel="#L1140">1140</span>
<span id="L1141" rel="#L1141">1141</span>
<span id="L1142" rel="#L1142">1142</span>
<span id="L1143" rel="#L1143">1143</span>
<span id="L1144" rel="#L1144">1144</span>
<span id="L1145" rel="#L1145">1145</span>
<span id="L1146" rel="#L1146">1146</span>
<span id="L1147" rel="#L1147">1147</span>
<span id="L1148" rel="#L1148">1148</span>
<span id="L1149" rel="#L1149">1149</span>
<span id="L1150" rel="#L1150">1150</span>
<span id="L1151" rel="#L1151">1151</span>
<span id="L1152" rel="#L1152">1152</span>
<span id="L1153" rel="#L1153">1153</span>
<span id="L1154" rel="#L1154">1154</span>
<span id="L1155" rel="#L1155">1155</span>
<span id="L1156" rel="#L1156">1156</span>
<span id="L1157" rel="#L1157">1157</span>
<span id="L1158" rel="#L1158">1158</span>
<span id="L1159" rel="#L1159">1159</span>
<span id="L1160" rel="#L1160">1160</span>
<span id="L1161" rel="#L1161">1161</span>
<span id="L1162" rel="#L1162">1162</span>
<span id="L1163" rel="#L1163">1163</span>
<span id="L1164" rel="#L1164">1164</span>
<span id="L1165" rel="#L1165">1165</span>
<span id="L1166" rel="#L1166">1166</span>
<span id="L1167" rel="#L1167">1167</span>
<span id="L1168" rel="#L1168">1168</span>
<span id="L1169" rel="#L1169">1169</span>
<span id="L1170" rel="#L1170">1170</span>
<span id="L1171" rel="#L1171">1171</span>
<span id="L1172" rel="#L1172">1172</span>
<span id="L1173" rel="#L1173">1173</span>
<span id="L1174" rel="#L1174">1174</span>
<span id="L1175" rel="#L1175">1175</span>
<span id="L1176" rel="#L1176">1176</span>
<span id="L1177" rel="#L1177">1177</span>
<span id="L1178" rel="#L1178">1178</span>
<span id="L1179" rel="#L1179">1179</span>
<span id="L1180" rel="#L1180">1180</span>
<span id="L1181" rel="#L1181">1181</span>
<span id="L1182" rel="#L1182">1182</span>
<span id="L1183" rel="#L1183">1183</span>
<span id="L1184" rel="#L1184">1184</span>
<span id="L1185" rel="#L1185">1185</span>
<span id="L1186" rel="#L1186">1186</span>
<span id="L1187" rel="#L1187">1187</span>
<span id="L1188" rel="#L1188">1188</span>
<span id="L1189" rel="#L1189">1189</span>
<span id="L1190" rel="#L1190">1190</span>
<span id="L1191" rel="#L1191">1191</span>
<span id="L1192" rel="#L1192">1192</span>
<span id="L1193" rel="#L1193">1193</span>
<span id="L1194" rel="#L1194">1194</span>
<span id="L1195" rel="#L1195">1195</span>
<span id="L1196" rel="#L1196">1196</span>
<span id="L1197" rel="#L1197">1197</span>
<span id="L1198" rel="#L1198">1198</span>
<span id="L1199" rel="#L1199">1199</span>
<span id="L1200" rel="#L1200">1200</span>
<span id="L1201" rel="#L1201">1201</span>
<span id="L1202" rel="#L1202">1202</span>
<span id="L1203" rel="#L1203">1203</span>
<span id="L1204" rel="#L1204">1204</span>
<span id="L1205" rel="#L1205">1205</span>
<span id="L1206" rel="#L1206">1206</span>
<span id="L1207" rel="#L1207">1207</span>
<span id="L1208" rel="#L1208">1208</span>
<span id="L1209" rel="#L1209">1209</span>
<span id="L1210" rel="#L1210">1210</span>
<span id="L1211" rel="#L1211">1211</span>
<span id="L1212" rel="#L1212">1212</span>
<span id="L1213" rel="#L1213">1213</span>
<span id="L1214" rel="#L1214">1214</span>
<span id="L1215" rel="#L1215">1215</span>
<span id="L1216" rel="#L1216">1216</span>
<span id="L1217" rel="#L1217">1217</span>
<span id="L1218" rel="#L1218">1218</span>
<span id="L1219" rel="#L1219">1219</span>
<span id="L1220" rel="#L1220">1220</span>
<span id="L1221" rel="#L1221">1221</span>
<span id="L1222" rel="#L1222">1222</span>
<span id="L1223" rel="#L1223">1223</span>
<span id="L1224" rel="#L1224">1224</span>
<span id="L1225" rel="#L1225">1225</span>
<span id="L1226" rel="#L1226">1226</span>
<span id="L1227" rel="#L1227">1227</span>
<span id="L1228" rel="#L1228">1228</span>
<span id="L1229" rel="#L1229">1229</span>
<span id="L1230" rel="#L1230">1230</span>
<span id="L1231" rel="#L1231">1231</span>
<span id="L1232" rel="#L1232">1232</span>
<span id="L1233" rel="#L1233">1233</span>
<span id="L1234" rel="#L1234">1234</span>
<span id="L1235" rel="#L1235">1235</span>
<span id="L1236" rel="#L1236">1236</span>
<span id="L1237" rel="#L1237">1237</span>
<span id="L1238" rel="#L1238">1238</span>
<span id="L1239" rel="#L1239">1239</span>
<span id="L1240" rel="#L1240">1240</span>
<span id="L1241" rel="#L1241">1241</span>
<span id="L1242" rel="#L1242">1242</span>
<span id="L1243" rel="#L1243">1243</span>
<span id="L1244" rel="#L1244">1244</span>
<span id="L1245" rel="#L1245">1245</span>
<span id="L1246" rel="#L1246">1246</span>
<span id="L1247" rel="#L1247">1247</span>
<span id="L1248" rel="#L1248">1248</span>
<span id="L1249" rel="#L1249">1249</span>
<span id="L1250" rel="#L1250">1250</span>
<span id="L1251" rel="#L1251">1251</span>
<span id="L1252" rel="#L1252">1252</span>
<span id="L1253" rel="#L1253">1253</span>
<span id="L1254" rel="#L1254">1254</span>
<span id="L1255" rel="#L1255">1255</span>
<span id="L1256" rel="#L1256">1256</span>
<span id="L1257" rel="#L1257">1257</span>
<span id="L1258" rel="#L1258">1258</span>
<span id="L1259" rel="#L1259">1259</span>
<span id="L1260" rel="#L1260">1260</span>
<span id="L1261" rel="#L1261">1261</span>
<span id="L1262" rel="#L1262">1262</span>
<span id="L1263" rel="#L1263">1263</span>
<span id="L1264" rel="#L1264">1264</span>
<span id="L1265" rel="#L1265">1265</span>
<span id="L1266" rel="#L1266">1266</span>
<span id="L1267" rel="#L1267">1267</span>
<span id="L1268" rel="#L1268">1268</span>
<span id="L1269" rel="#L1269">1269</span>
<span id="L1270" rel="#L1270">1270</span>
<span id="L1271" rel="#L1271">1271</span>
<span id="L1272" rel="#L1272">1272</span>
<span id="L1273" rel="#L1273">1273</span>
<span id="L1274" rel="#L1274">1274</span>
<span id="L1275" rel="#L1275">1275</span>
<span id="L1276" rel="#L1276">1276</span>
<span id="L1277" rel="#L1277">1277</span>
<span id="L1278" rel="#L1278">1278</span>
<span id="L1279" rel="#L1279">1279</span>
<span id="L1280" rel="#L1280">1280</span>
<span id="L1281" rel="#L1281">1281</span>
<span id="L1282" rel="#L1282">1282</span>
<span id="L1283" rel="#L1283">1283</span>
<span id="L1284" rel="#L1284">1284</span>
<span id="L1285" rel="#L1285">1285</span>
<span id="L1286" rel="#L1286">1286</span>
<span id="L1287" rel="#L1287">1287</span>
<span id="L1288" rel="#L1288">1288</span>
<span id="L1289" rel="#L1289">1289</span>
<span id="L1290" rel="#L1290">1290</span>
<span id="L1291" rel="#L1291">1291</span>
<span id="L1292" rel="#L1292">1292</span>
<span id="L1293" rel="#L1293">1293</span>
<span id="L1294" rel="#L1294">1294</span>
<span id="L1295" rel="#L1295">1295</span>
<span id="L1296" rel="#L1296">1296</span>
<span id="L1297" rel="#L1297">1297</span>
<span id="L1298" rel="#L1298">1298</span>
<span id="L1299" rel="#L1299">1299</span>
<span id="L1300" rel="#L1300">1300</span>
<span id="L1301" rel="#L1301">1301</span>
<span id="L1302" rel="#L1302">1302</span>
<span id="L1303" rel="#L1303">1303</span>
<span id="L1304" rel="#L1304">1304</span>
<span id="L1305" rel="#L1305">1305</span>
<span id="L1306" rel="#L1306">1306</span>
<span id="L1307" rel="#L1307">1307</span>
<span id="L1308" rel="#L1308">1308</span>
<span id="L1309" rel="#L1309">1309</span>
<span id="L1310" rel="#L1310">1310</span>
<span id="L1311" rel="#L1311">1311</span>
<span id="L1312" rel="#L1312">1312</span>
<span id="L1313" rel="#L1313">1313</span>
<span id="L1314" rel="#L1314">1314</span>
<span id="L1315" rel="#L1315">1315</span>
<span id="L1316" rel="#L1316">1316</span>
<span id="L1317" rel="#L1317">1317</span>
<span id="L1318" rel="#L1318">1318</span>
<span id="L1319" rel="#L1319">1319</span>
<span id="L1320" rel="#L1320">1320</span>
<span id="L1321" rel="#L1321">1321</span>
<span id="L1322" rel="#L1322">1322</span>
<span id="L1323" rel="#L1323">1323</span>
<span id="L1324" rel="#L1324">1324</span>
<span id="L1325" rel="#L1325">1325</span>
<span id="L1326" rel="#L1326">1326</span>
<span id="L1327" rel="#L1327">1327</span>
<span id="L1328" rel="#L1328">1328</span>
<span id="L1329" rel="#L1329">1329</span>
<span id="L1330" rel="#L1330">1330</span>
<span id="L1331" rel="#L1331">1331</span>
<span id="L1332" rel="#L1332">1332</span>
<span id="L1333" rel="#L1333">1333</span>
<span id="L1334" rel="#L1334">1334</span>
<span id="L1335" rel="#L1335">1335</span>
<span id="L1336" rel="#L1336">1336</span>
<span id="L1337" rel="#L1337">1337</span>
<span id="L1338" rel="#L1338">1338</span>
<span id="L1339" rel="#L1339">1339</span>
<span id="L1340" rel="#L1340">1340</span>
<span id="L1341" rel="#L1341">1341</span>
<span id="L1342" rel="#L1342">1342</span>
<span id="L1343" rel="#L1343">1343</span>
<span id="L1344" rel="#L1344">1344</span>
<span id="L1345" rel="#L1345">1345</span>
<span id="L1346" rel="#L1346">1346</span>
<span id="L1347" rel="#L1347">1347</span>
<span id="L1348" rel="#L1348">1348</span>
<span id="L1349" rel="#L1349">1349</span>
<span id="L1350" rel="#L1350">1350</span>
<span id="L1351" rel="#L1351">1351</span>
<span id="L1352" rel="#L1352">1352</span>
<span id="L1353" rel="#L1353">1353</span>
<span id="L1354" rel="#L1354">1354</span>
<span id="L1355" rel="#L1355">1355</span>
<span id="L1356" rel="#L1356">1356</span>
<span id="L1357" rel="#L1357">1357</span>
<span id="L1358" rel="#L1358">1358</span>
<span id="L1359" rel="#L1359">1359</span>
<span id="L1360" rel="#L1360">1360</span>
<span id="L1361" rel="#L1361">1361</span>
<span id="L1362" rel="#L1362">1362</span>
<span id="L1363" rel="#L1363">1363</span>
<span id="L1364" rel="#L1364">1364</span>
<span id="L1365" rel="#L1365">1365</span>
<span id="L1366" rel="#L1366">1366</span>
<span id="L1367" rel="#L1367">1367</span>
<span id="L1368" rel="#L1368">1368</span>
<span id="L1369" rel="#L1369">1369</span>
<span id="L1370" rel="#L1370">1370</span>
<span id="L1371" rel="#L1371">1371</span>
<span id="L1372" rel="#L1372">1372</span>
<span id="L1373" rel="#L1373">1373</span>
<span id="L1374" rel="#L1374">1374</span>
<span id="L1375" rel="#L1375">1375</span>
<span id="L1376" rel="#L1376">1376</span>
<span id="L1377" rel="#L1377">1377</span>
<span id="L1378" rel="#L1378">1378</span>
<span id="L1379" rel="#L1379">1379</span>
<span id="L1380" rel="#L1380">1380</span>
<span id="L1381" rel="#L1381">1381</span>
<span id="L1382" rel="#L1382">1382</span>
<span id="L1383" rel="#L1383">1383</span>
<span id="L1384" rel="#L1384">1384</span>
<span id="L1385" rel="#L1385">1385</span>
<span id="L1386" rel="#L1386">1386</span>
<span id="L1387" rel="#L1387">1387</span>
<span id="L1388" rel="#L1388">1388</span>
<span id="L1389" rel="#L1389">1389</span>
<span id="L1390" rel="#L1390">1390</span>
<span id="L1391" rel="#L1391">1391</span>
<span id="L1392" rel="#L1392">1392</span>
<span id="L1393" rel="#L1393">1393</span>
<span id="L1394" rel="#L1394">1394</span>
<span id="L1395" rel="#L1395">1395</span>
<span id="L1396" rel="#L1396">1396</span>
<span id="L1397" rel="#L1397">1397</span>
<span id="L1398" rel="#L1398">1398</span>
<span id="L1399" rel="#L1399">1399</span>
<span id="L1400" rel="#L1400">1400</span>
<span id="L1401" rel="#L1401">1401</span>
<span id="L1402" rel="#L1402">1402</span>
<span id="L1403" rel="#L1403">1403</span>
<span id="L1404" rel="#L1404">1404</span>
<span id="L1405" rel="#L1405">1405</span>
<span id="L1406" rel="#L1406">1406</span>
<span id="L1407" rel="#L1407">1407</span>
<span id="L1408" rel="#L1408">1408</span>
<span id="L1409" rel="#L1409">1409</span>
<span id="L1410" rel="#L1410">1410</span>
<span id="L1411" rel="#L1411">1411</span>
<span id="L1412" rel="#L1412">1412</span>
<span id="L1413" rel="#L1413">1413</span>
<span id="L1414" rel="#L1414">1414</span>
<span id="L1415" rel="#L1415">1415</span>
<span id="L1416" rel="#L1416">1416</span>
<span id="L1417" rel="#L1417">1417</span>
<span id="L1418" rel="#L1418">1418</span>
<span id="L1419" rel="#L1419">1419</span>
<span id="L1420" rel="#L1420">1420</span>
<span id="L1421" rel="#L1421">1421</span>
<span id="L1422" rel="#L1422">1422</span>
<span id="L1423" rel="#L1423">1423</span>
<span id="L1424" rel="#L1424">1424</span>
<span id="L1425" rel="#L1425">1425</span>
<span id="L1426" rel="#L1426">1426</span>
<span id="L1427" rel="#L1427">1427</span>
<span id="L1428" rel="#L1428">1428</span>
<span id="L1429" rel="#L1429">1429</span>
<span id="L1430" rel="#L1430">1430</span>
<span id="L1431" rel="#L1431">1431</span>
<span id="L1432" rel="#L1432">1432</span>
<span id="L1433" rel="#L1433">1433</span>
<span id="L1434" rel="#L1434">1434</span>
<span id="L1435" rel="#L1435">1435</span>
<span id="L1436" rel="#L1436">1436</span>
<span id="L1437" rel="#L1437">1437</span>
<span id="L1438" rel="#L1438">1438</span>
<span id="L1439" rel="#L1439">1439</span>
<span id="L1440" rel="#L1440">1440</span>
<span id="L1441" rel="#L1441">1441</span>
<span id="L1442" rel="#L1442">1442</span>
<span id="L1443" rel="#L1443">1443</span>
<span id="L1444" rel="#L1444">1444</span>
<span id="L1445" rel="#L1445">1445</span>
<span id="L1446" rel="#L1446">1446</span>
<span id="L1447" rel="#L1447">1447</span>
<span id="L1448" rel="#L1448">1448</span>
<span id="L1449" rel="#L1449">1449</span>
<span id="L1450" rel="#L1450">1450</span>
<span id="L1451" rel="#L1451">1451</span>
<span id="L1452" rel="#L1452">1452</span>
<span id="L1453" rel="#L1453">1453</span>
<span id="L1454" rel="#L1454">1454</span>
<span id="L1455" rel="#L1455">1455</span>
<span id="L1456" rel="#L1456">1456</span>
<span id="L1457" rel="#L1457">1457</span>
<span id="L1458" rel="#L1458">1458</span>
<span id="L1459" rel="#L1459">1459</span>
<span id="L1460" rel="#L1460">1460</span>
<span id="L1461" rel="#L1461">1461</span>
<span id="L1462" rel="#L1462">1462</span>
<span id="L1463" rel="#L1463">1463</span>
<span id="L1464" rel="#L1464">1464</span>
<span id="L1465" rel="#L1465">1465</span>
<span id="L1466" rel="#L1466">1466</span>
<span id="L1467" rel="#L1467">1467</span>
<span id="L1468" rel="#L1468">1468</span>
<span id="L1469" rel="#L1469">1469</span>
<span id="L1470" rel="#L1470">1470</span>
<span id="L1471" rel="#L1471">1471</span>
<span id="L1472" rel="#L1472">1472</span>
<span id="L1473" rel="#L1473">1473</span>
<span id="L1474" rel="#L1474">1474</span>
<span id="L1475" rel="#L1475">1475</span>
<span id="L1476" rel="#L1476">1476</span>
<span id="L1477" rel="#L1477">1477</span>
<span id="L1478" rel="#L1478">1478</span>
<span id="L1479" rel="#L1479">1479</span>
<span id="L1480" rel="#L1480">1480</span>
<span id="L1481" rel="#L1481">1481</span>
<span id="L1482" rel="#L1482">1482</span>
<span id="L1483" rel="#L1483">1483</span>
<span id="L1484" rel="#L1484">1484</span>
<span id="L1485" rel="#L1485">1485</span>
<span id="L1486" rel="#L1486">1486</span>
<span id="L1487" rel="#L1487">1487</span>
<span id="L1488" rel="#L1488">1488</span>
<span id="L1489" rel="#L1489">1489</span>
<span id="L1490" rel="#L1490">1490</span>
<span id="L1491" rel="#L1491">1491</span>
<span id="L1492" rel="#L1492">1492</span>
<span id="L1493" rel="#L1493">1493</span>
<span id="L1494" rel="#L1494">1494</span>
<span id="L1495" rel="#L1495">1495</span>
<span id="L1496" rel="#L1496">1496</span>
<span id="L1497" rel="#L1497">1497</span>
<span id="L1498" rel="#L1498">1498</span>
<span id="L1499" rel="#L1499">1499</span>
<span id="L1500" rel="#L1500">1500</span>
<span id="L1501" rel="#L1501">1501</span>
<span id="L1502" rel="#L1502">1502</span>
<span id="L1503" rel="#L1503">1503</span>
<span id="L1504" rel="#L1504">1504</span>
<span id="L1505" rel="#L1505">1505</span>
<span id="L1506" rel="#L1506">1506</span>
<span id="L1507" rel="#L1507">1507</span>
<span id="L1508" rel="#L1508">1508</span>
<span id="L1509" rel="#L1509">1509</span>
<span id="L1510" rel="#L1510">1510</span>
<span id="L1511" rel="#L1511">1511</span>
<span id="L1512" rel="#L1512">1512</span>
<span id="L1513" rel="#L1513">1513</span>
<span id="L1514" rel="#L1514">1514</span>
<span id="L1515" rel="#L1515">1515</span>
<span id="L1516" rel="#L1516">1516</span>
<span id="L1517" rel="#L1517">1517</span>
<span id="L1518" rel="#L1518">1518</span>
<span id="L1519" rel="#L1519">1519</span>
<span id="L1520" rel="#L1520">1520</span>
<span id="L1521" rel="#L1521">1521</span>
<span id="L1522" rel="#L1522">1522</span>
<span id="L1523" rel="#L1523">1523</span>
<span id="L1524" rel="#L1524">1524</span>
<span id="L1525" rel="#L1525">1525</span>
<span id="L1526" rel="#L1526">1526</span>
<span id="L1527" rel="#L1527">1527</span>
<span id="L1528" rel="#L1528">1528</span>
<span id="L1529" rel="#L1529">1529</span>
<span id="L1530" rel="#L1530">1530</span>
<span id="L1531" rel="#L1531">1531</span>
<span id="L1532" rel="#L1532">1532</span>
<span id="L1533" rel="#L1533">1533</span>
<span id="L1534" rel="#L1534">1534</span>
<span id="L1535" rel="#L1535">1535</span>
<span id="L1536" rel="#L1536">1536</span>
<span id="L1537" rel="#L1537">1537</span>
<span id="L1538" rel="#L1538">1538</span>
<span id="L1539" rel="#L1539">1539</span>
<span id="L1540" rel="#L1540">1540</span>
<span id="L1541" rel="#L1541">1541</span>
<span id="L1542" rel="#L1542">1542</span>
<span id="L1543" rel="#L1543">1543</span>
<span id="L1544" rel="#L1544">1544</span>
<span id="L1545" rel="#L1545">1545</span>
<span id="L1546" rel="#L1546">1546</span>
<span id="L1547" rel="#L1547">1547</span>
<span id="L1548" rel="#L1548">1548</span>
<span id="L1549" rel="#L1549">1549</span>
<span id="L1550" rel="#L1550">1550</span>
<span id="L1551" rel="#L1551">1551</span>
<span id="L1552" rel="#L1552">1552</span>
<span id="L1553" rel="#L1553">1553</span>
<span id="L1554" rel="#L1554">1554</span>
<span id="L1555" rel="#L1555">1555</span>
<span id="L1556" rel="#L1556">1556</span>
<span id="L1557" rel="#L1557">1557</span>
<span id="L1558" rel="#L1558">1558</span>
<span id="L1559" rel="#L1559">1559</span>
<span id="L1560" rel="#L1560">1560</span>
<span id="L1561" rel="#L1561">1561</span>
<span id="L1562" rel="#L1562">1562</span>
<span id="L1563" rel="#L1563">1563</span>
<span id="L1564" rel="#L1564">1564</span>
<span id="L1565" rel="#L1565">1565</span>
<span id="L1566" rel="#L1566">1566</span>
<span id="L1567" rel="#L1567">1567</span>
<span id="L1568" rel="#L1568">1568</span>
<span id="L1569" rel="#L1569">1569</span>
<span id="L1570" rel="#L1570">1570</span>
<span id="L1571" rel="#L1571">1571</span>
<span id="L1572" rel="#L1572">1572</span>
<span id="L1573" rel="#L1573">1573</span>
<span id="L1574" rel="#L1574">1574</span>
<span id="L1575" rel="#L1575">1575</span>
<span id="L1576" rel="#L1576">1576</span>
<span id="L1577" rel="#L1577">1577</span>
<span id="L1578" rel="#L1578">1578</span>
<span id="L1579" rel="#L1579">1579</span>
<span id="L1580" rel="#L1580">1580</span>
<span id="L1581" rel="#L1581">1581</span>
<span id="L1582" rel="#L1582">1582</span>
<span id="L1583" rel="#L1583">1583</span>
<span id="L1584" rel="#L1584">1584</span>
<span id="L1585" rel="#L1585">1585</span>
<span id="L1586" rel="#L1586">1586</span>
<span id="L1587" rel="#L1587">1587</span>
<span id="L1588" rel="#L1588">1588</span>
<span id="L1589" rel="#L1589">1589</span>
<span id="L1590" rel="#L1590">1590</span>
<span id="L1591" rel="#L1591">1591</span>
<span id="L1592" rel="#L1592">1592</span>
<span id="L1593" rel="#L1593">1593</span>
<span id="L1594" rel="#L1594">1594</span>
<span id="L1595" rel="#L1595">1595</span>
<span id="L1596" rel="#L1596">1596</span>
<span id="L1597" rel="#L1597">1597</span>
<span id="L1598" rel="#L1598">1598</span>
<span id="L1599" rel="#L1599">1599</span>
<span id="L1600" rel="#L1600">1600</span>
<span id="L1601" rel="#L1601">1601</span>
<span id="L1602" rel="#L1602">1602</span>
<span id="L1603" rel="#L1603">1603</span>
<span id="L1604" rel="#L1604">1604</span>
<span id="L1605" rel="#L1605">1605</span>
<span id="L1606" rel="#L1606">1606</span>
<span id="L1607" rel="#L1607">1607</span>
<span id="L1608" rel="#L1608">1608</span>
<span id="L1609" rel="#L1609">1609</span>
<span id="L1610" rel="#L1610">1610</span>
<span id="L1611" rel="#L1611">1611</span>
<span id="L1612" rel="#L1612">1612</span>
<span id="L1613" rel="#L1613">1613</span>
<span id="L1614" rel="#L1614">1614</span>
<span id="L1615" rel="#L1615">1615</span>
<span id="L1616" rel="#L1616">1616</span>
<span id="L1617" rel="#L1617">1617</span>
<span id="L1618" rel="#L1618">1618</span>
<span id="L1619" rel="#L1619">1619</span>
<span id="L1620" rel="#L1620">1620</span>
<span id="L1621" rel="#L1621">1621</span>
<span id="L1622" rel="#L1622">1622</span>
<span id="L1623" rel="#L1623">1623</span>
<span id="L1624" rel="#L1624">1624</span>
<span id="L1625" rel="#L1625">1625</span>
<span id="L1626" rel="#L1626">1626</span>
<span id="L1627" rel="#L1627">1627</span>
<span id="L1628" rel="#L1628">1628</span>
<span id="L1629" rel="#L1629">1629</span>
<span id="L1630" rel="#L1630">1630</span>
<span id="L1631" rel="#L1631">1631</span>
<span id="L1632" rel="#L1632">1632</span>
<span id="L1633" rel="#L1633">1633</span>
<span id="L1634" rel="#L1634">1634</span>
<span id="L1635" rel="#L1635">1635</span>
<span id="L1636" rel="#L1636">1636</span>
<span id="L1637" rel="#L1637">1637</span>
<span id="L1638" rel="#L1638">1638</span>
<span id="L1639" rel="#L1639">1639</span>
<span id="L1640" rel="#L1640">1640</span>
<span id="L1641" rel="#L1641">1641</span>
<span id="L1642" rel="#L1642">1642</span>
<span id="L1643" rel="#L1643">1643</span>
<span id="L1644" rel="#L1644">1644</span>
<span id="L1645" rel="#L1645">1645</span>
<span id="L1646" rel="#L1646">1646</span>
<span id="L1647" rel="#L1647">1647</span>
<span id="L1648" rel="#L1648">1648</span>
<span id="L1649" rel="#L1649">1649</span>
<span id="L1650" rel="#L1650">1650</span>
<span id="L1651" rel="#L1651">1651</span>
<span id="L1652" rel="#L1652">1652</span>
<span id="L1653" rel="#L1653">1653</span>
<span id="L1654" rel="#L1654">1654</span>
<span id="L1655" rel="#L1655">1655</span>
<span id="L1656" rel="#L1656">1656</span>
<span id="L1657" rel="#L1657">1657</span>
<span id="L1658" rel="#L1658">1658</span>
<span id="L1659" rel="#L1659">1659</span>
<span id="L1660" rel="#L1660">1660</span>
<span id="L1661" rel="#L1661">1661</span>
<span id="L1662" rel="#L1662">1662</span>
<span id="L1663" rel="#L1663">1663</span>
<span id="L1664" rel="#L1664">1664</span>
<span id="L1665" rel="#L1665">1665</span>
<span id="L1666" rel="#L1666">1666</span>
<span id="L1667" rel="#L1667">1667</span>
<span id="L1668" rel="#L1668">1668</span>
<span id="L1669" rel="#L1669">1669</span>
<span id="L1670" rel="#L1670">1670</span>
<span id="L1671" rel="#L1671">1671</span>
<span id="L1672" rel="#L1672">1672</span>
<span id="L1673" rel="#L1673">1673</span>
<span id="L1674" rel="#L1674">1674</span>
<span id="L1675" rel="#L1675">1675</span>
<span id="L1676" rel="#L1676">1676</span>
<span id="L1677" rel="#L1677">1677</span>
<span id="L1678" rel="#L1678">1678</span>
<span id="L1679" rel="#L1679">1679</span>
<span id="L1680" rel="#L1680">1680</span>
<span id="L1681" rel="#L1681">1681</span>
<span id="L1682" rel="#L1682">1682</span>
<span id="L1683" rel="#L1683">1683</span>
<span id="L1684" rel="#L1684">1684</span>
<span id="L1685" rel="#L1685">1685</span>
<span id="L1686" rel="#L1686">1686</span>
<span id="L1687" rel="#L1687">1687</span>
<span id="L1688" rel="#L1688">1688</span>
<span id="L1689" rel="#L1689">1689</span>
<span id="L1690" rel="#L1690">1690</span>
<span id="L1691" rel="#L1691">1691</span>
<span id="L1692" rel="#L1692">1692</span>
<span id="L1693" rel="#L1693">1693</span>
<span id="L1694" rel="#L1694">1694</span>
<span id="L1695" rel="#L1695">1695</span>
<span id="L1696" rel="#L1696">1696</span>
<span id="L1697" rel="#L1697">1697</span>
<span id="L1698" rel="#L1698">1698</span>
<span id="L1699" rel="#L1699">1699</span>
<span id="L1700" rel="#L1700">1700</span>
<span id="L1701" rel="#L1701">1701</span>
<span id="L1702" rel="#L1702">1702</span>
<span id="L1703" rel="#L1703">1703</span>
<span id="L1704" rel="#L1704">1704</span>
<span id="L1705" rel="#L1705">1705</span>
<span id="L1706" rel="#L1706">1706</span>
<span id="L1707" rel="#L1707">1707</span>
<span id="L1708" rel="#L1708">1708</span>
<span id="L1709" rel="#L1709">1709</span>
<span id="L1710" rel="#L1710">1710</span>
<span id="L1711" rel="#L1711">1711</span>
<span id="L1712" rel="#L1712">1712</span>
<span id="L1713" rel="#L1713">1713</span>
<span id="L1714" rel="#L1714">1714</span>
<span id="L1715" rel="#L1715">1715</span>
<span id="L1716" rel="#L1716">1716</span>
<span id="L1717" rel="#L1717">1717</span>
<span id="L1718" rel="#L1718">1718</span>
<span id="L1719" rel="#L1719">1719</span>
<span id="L1720" rel="#L1720">1720</span>
<span id="L1721" rel="#L1721">1721</span>
<span id="L1722" rel="#L1722">1722</span>
<span id="L1723" rel="#L1723">1723</span>
<span id="L1724" rel="#L1724">1724</span>
<span id="L1725" rel="#L1725">1725</span>
<span id="L1726" rel="#L1726">1726</span>
<span id="L1727" rel="#L1727">1727</span>
<span id="L1728" rel="#L1728">1728</span>
<span id="L1729" rel="#L1729">1729</span>
<span id="L1730" rel="#L1730">1730</span>
<span id="L1731" rel="#L1731">1731</span>
<span id="L1732" rel="#L1732">1732</span>
<span id="L1733" rel="#L1733">1733</span>
<span id="L1734" rel="#L1734">1734</span>
<span id="L1735" rel="#L1735">1735</span>
<span id="L1736" rel="#L1736">1736</span>
<span id="L1737" rel="#L1737">1737</span>
<span id="L1738" rel="#L1738">1738</span>
<span id="L1739" rel="#L1739">1739</span>
<span id="L1740" rel="#L1740">1740</span>
<span id="L1741" rel="#L1741">1741</span>
<span id="L1742" rel="#L1742">1742</span>
<span id="L1743" rel="#L1743">1743</span>
<span id="L1744" rel="#L1744">1744</span>
<span id="L1745" rel="#L1745">1745</span>
<span id="L1746" rel="#L1746">1746</span>
<span id="L1747" rel="#L1747">1747</span>
<span id="L1748" rel="#L1748">1748</span>
<span id="L1749" rel="#L1749">1749</span>
<span id="L1750" rel="#L1750">1750</span>
<span id="L1751" rel="#L1751">1751</span>
<span id="L1752" rel="#L1752">1752</span>
<span id="L1753" rel="#L1753">1753</span>
<span id="L1754" rel="#L1754">1754</span>
<span id="L1755" rel="#L1755">1755</span>
<span id="L1756" rel="#L1756">1756</span>
<span id="L1757" rel="#L1757">1757</span>
<span id="L1758" rel="#L1758">1758</span>
<span id="L1759" rel="#L1759">1759</span>
<span id="L1760" rel="#L1760">1760</span>
<span id="L1761" rel="#L1761">1761</span>
<span id="L1762" rel="#L1762">1762</span>
<span id="L1763" rel="#L1763">1763</span>
<span id="L1764" rel="#L1764">1764</span>
<span id="L1765" rel="#L1765">1765</span>
<span id="L1766" rel="#L1766">1766</span>
<span id="L1767" rel="#L1767">1767</span>
<span id="L1768" rel="#L1768">1768</span>
<span id="L1769" rel="#L1769">1769</span>
<span id="L1770" rel="#L1770">1770</span>
<span id="L1771" rel="#L1771">1771</span>
<span id="L1772" rel="#L1772">1772</span>
<span id="L1773" rel="#L1773">1773</span>
<span id="L1774" rel="#L1774">1774</span>
<span id="L1775" rel="#L1775">1775</span>
<span id="L1776" rel="#L1776">1776</span>
<span id="L1777" rel="#L1777">1777</span>
<span id="L1778" rel="#L1778">1778</span>
<span id="L1779" rel="#L1779">1779</span>
<span id="L1780" rel="#L1780">1780</span>
<span id="L1781" rel="#L1781">1781</span>
<span id="L1782" rel="#L1782">1782</span>
<span id="L1783" rel="#L1783">1783</span>
<span id="L1784" rel="#L1784">1784</span>
<span id="L1785" rel="#L1785">1785</span>
<span id="L1786" rel="#L1786">1786</span>
<span id="L1787" rel="#L1787">1787</span>
<span id="L1788" rel="#L1788">1788</span>
<span id="L1789" rel="#L1789">1789</span>
<span id="L1790" rel="#L1790">1790</span>
<span id="L1791" rel="#L1791">1791</span>
<span id="L1792" rel="#L1792">1792</span>
<span id="L1793" rel="#L1793">1793</span>
<span id="L1794" rel="#L1794">1794</span>
<span id="L1795" rel="#L1795">1795</span>
<span id="L1796" rel="#L1796">1796</span>
<span id="L1797" rel="#L1797">1797</span>
<span id="L1798" rel="#L1798">1798</span>
<span id="L1799" rel="#L1799">1799</span>
<span id="L1800" rel="#L1800">1800</span>
<span id="L1801" rel="#L1801">1801</span>
<span id="L1802" rel="#L1802">1802</span>
<span id="L1803" rel="#L1803">1803</span>
<span id="L1804" rel="#L1804">1804</span>
<span id="L1805" rel="#L1805">1805</span>
<span id="L1806" rel="#L1806">1806</span>
<span id="L1807" rel="#L1807">1807</span>
<span id="L1808" rel="#L1808">1808</span>
<span id="L1809" rel="#L1809">1809</span>
<span id="L1810" rel="#L1810">1810</span>
<span id="L1811" rel="#L1811">1811</span>
<span id="L1812" rel="#L1812">1812</span>
<span id="L1813" rel="#L1813">1813</span>
<span id="L1814" rel="#L1814">1814</span>
<span id="L1815" rel="#L1815">1815</span>
<span id="L1816" rel="#L1816">1816</span>
<span id="L1817" rel="#L1817">1817</span>
<span id="L1818" rel="#L1818">1818</span>
<span id="L1819" rel="#L1819">1819</span>
<span id="L1820" rel="#L1820">1820</span>
<span id="L1821" rel="#L1821">1821</span>
<span id="L1822" rel="#L1822">1822</span>
<span id="L1823" rel="#L1823">1823</span>
<span id="L1824" rel="#L1824">1824</span>
<span id="L1825" rel="#L1825">1825</span>
<span id="L1826" rel="#L1826">1826</span>
<span id="L1827" rel="#L1827">1827</span>
<span id="L1828" rel="#L1828">1828</span>
<span id="L1829" rel="#L1829">1829</span>
<span id="L1830" rel="#L1830">1830</span>
<span id="L1831" rel="#L1831">1831</span>
<span id="L1832" rel="#L1832">1832</span>
<span id="L1833" rel="#L1833">1833</span>
<span id="L1834" rel="#L1834">1834</span>
<span id="L1835" rel="#L1835">1835</span>
<span id="L1836" rel="#L1836">1836</span>
<span id="L1837" rel="#L1837">1837</span>
<span id="L1838" rel="#L1838">1838</span>
<span id="L1839" rel="#L1839">1839</span>
<span id="L1840" rel="#L1840">1840</span>
<span id="L1841" rel="#L1841">1841</span>
<span id="L1842" rel="#L1842">1842</span>
<span id="L1843" rel="#L1843">1843</span>
<span id="L1844" rel="#L1844">1844</span>
<span id="L1845" rel="#L1845">1845</span>
<span id="L1846" rel="#L1846">1846</span>
<span id="L1847" rel="#L1847">1847</span>
<span id="L1848" rel="#L1848">1848</span>
<span id="L1849" rel="#L1849">1849</span>
<span id="L1850" rel="#L1850">1850</span>
<span id="L1851" rel="#L1851">1851</span>
<span id="L1852" rel="#L1852">1852</span>
<span id="L1853" rel="#L1853">1853</span>
<span id="L1854" rel="#L1854">1854</span>
<span id="L1855" rel="#L1855">1855</span>
<span id="L1856" rel="#L1856">1856</span>
<span id="L1857" rel="#L1857">1857</span>
<span id="L1858" rel="#L1858">1858</span>
<span id="L1859" rel="#L1859">1859</span>
<span id="L1860" rel="#L1860">1860</span>
<span id="L1861" rel="#L1861">1861</span>
<span id="L1862" rel="#L1862">1862</span>
<span id="L1863" rel="#L1863">1863</span>
<span id="L1864" rel="#L1864">1864</span>
<span id="L1865" rel="#L1865">1865</span>
<span id="L1866" rel="#L1866">1866</span>
<span id="L1867" rel="#L1867">1867</span>
<span id="L1868" rel="#L1868">1868</span>
<span id="L1869" rel="#L1869">1869</span>
<span id="L1870" rel="#L1870">1870</span>
<span id="L1871" rel="#L1871">1871</span>
<span id="L1872" rel="#L1872">1872</span>
<span id="L1873" rel="#L1873">1873</span>
<span id="L1874" rel="#L1874">1874</span>
<span id="L1875" rel="#L1875">1875</span>
<span id="L1876" rel="#L1876">1876</span>
<span id="L1877" rel="#L1877">1877</span>
<span id="L1878" rel="#L1878">1878</span>
<span id="L1879" rel="#L1879">1879</span>
<span id="L1880" rel="#L1880">1880</span>
<span id="L1881" rel="#L1881">1881</span>
<span id="L1882" rel="#L1882">1882</span>
<span id="L1883" rel="#L1883">1883</span>
<span id="L1884" rel="#L1884">1884</span>
<span id="L1885" rel="#L1885">1885</span>
<span id="L1886" rel="#L1886">1886</span>
<span id="L1887" rel="#L1887">1887</span>
<span id="L1888" rel="#L1888">1888</span>
<span id="L1889" rel="#L1889">1889</span>
<span id="L1890" rel="#L1890">1890</span>
<span id="L1891" rel="#L1891">1891</span>
<span id="L1892" rel="#L1892">1892</span>
<span id="L1893" rel="#L1893">1893</span>
<span id="L1894" rel="#L1894">1894</span>
<span id="L1895" rel="#L1895">1895</span>
<span id="L1896" rel="#L1896">1896</span>
<span id="L1897" rel="#L1897">1897</span>
<span id="L1898" rel="#L1898">1898</span>
<span id="L1899" rel="#L1899">1899</span>
<span id="L1900" rel="#L1900">1900</span>
<span id="L1901" rel="#L1901">1901</span>
<span id="L1902" rel="#L1902">1902</span>
<span id="L1903" rel="#L1903">1903</span>
<span id="L1904" rel="#L1904">1904</span>
<span id="L1905" rel="#L1905">1905</span>
<span id="L1906" rel="#L1906">1906</span>
<span id="L1907" rel="#L1907">1907</span>
<span id="L1908" rel="#L1908">1908</span>
<span id="L1909" rel="#L1909">1909</span>
<span id="L1910" rel="#L1910">1910</span>
<span id="L1911" rel="#L1911">1911</span>
<span id="L1912" rel="#L1912">1912</span>
<span id="L1913" rel="#L1913">1913</span>
<span id="L1914" rel="#L1914">1914</span>
<span id="L1915" rel="#L1915">1915</span>
<span id="L1916" rel="#L1916">1916</span>
<span id="L1917" rel="#L1917">1917</span>
<span id="L1918" rel="#L1918">1918</span>
<span id="L1919" rel="#L1919">1919</span>
<span id="L1920" rel="#L1920">1920</span>
<span id="L1921" rel="#L1921">1921</span>
<span id="L1922" rel="#L1922">1922</span>
<span id="L1923" rel="#L1923">1923</span>
<span id="L1924" rel="#L1924">1924</span>
<span id="L1925" rel="#L1925">1925</span>
<span id="L1926" rel="#L1926">1926</span>
<span id="L1927" rel="#L1927">1927</span>
<span id="L1928" rel="#L1928">1928</span>
<span id="L1929" rel="#L1929">1929</span>
<span id="L1930" rel="#L1930">1930</span>
<span id="L1931" rel="#L1931">1931</span>
<span id="L1932" rel="#L1932">1932</span>
<span id="L1933" rel="#L1933">1933</span>
<span id="L1934" rel="#L1934">1934</span>
<span id="L1935" rel="#L1935">1935</span>
<span id="L1936" rel="#L1936">1936</span>
<span id="L1937" rel="#L1937">1937</span>
<span id="L1938" rel="#L1938">1938</span>
<span id="L1939" rel="#L1939">1939</span>
<span id="L1940" rel="#L1940">1940</span>
<span id="L1941" rel="#L1941">1941</span>
<span id="L1942" rel="#L1942">1942</span>
<span id="L1943" rel="#L1943">1943</span>
<span id="L1944" rel="#L1944">1944</span>
<span id="L1945" rel="#L1945">1945</span>
<span id="L1946" rel="#L1946">1946</span>
<span id="L1947" rel="#L1947">1947</span>
<span id="L1948" rel="#L1948">1948</span>
<span id="L1949" rel="#L1949">1949</span>
<span id="L1950" rel="#L1950">1950</span>
<span id="L1951" rel="#L1951">1951</span>
<span id="L1952" rel="#L1952">1952</span>
<span id="L1953" rel="#L1953">1953</span>
<span id="L1954" rel="#L1954">1954</span>
<span id="L1955" rel="#L1955">1955</span>
<span id="L1956" rel="#L1956">1956</span>
<span id="L1957" rel="#L1957">1957</span>
<span id="L1958" rel="#L1958">1958</span>
<span id="L1959" rel="#L1959">1959</span>
<span id="L1960" rel="#L1960">1960</span>
<span id="L1961" rel="#L1961">1961</span>
<span id="L1962" rel="#L1962">1962</span>
<span id="L1963" rel="#L1963">1963</span>
<span id="L1964" rel="#L1964">1964</span>
<span id="L1965" rel="#L1965">1965</span>
<span id="L1966" rel="#L1966">1966</span>
<span id="L1967" rel="#L1967">1967</span>
<span id="L1968" rel="#L1968">1968</span>
<span id="L1969" rel="#L1969">1969</span>
<span id="L1970" rel="#L1970">1970</span>
<span id="L1971" rel="#L1971">1971</span>
<span id="L1972" rel="#L1972">1972</span>
<span id="L1973" rel="#L1973">1973</span>
<span id="L1974" rel="#L1974">1974</span>
<span id="L1975" rel="#L1975">1975</span>
<span id="L1976" rel="#L1976">1976</span>
<span id="L1977" rel="#L1977">1977</span>
<span id="L1978" rel="#L1978">1978</span>
<span id="L1979" rel="#L1979">1979</span>
<span id="L1980" rel="#L1980">1980</span>
<span id="L1981" rel="#L1981">1981</span>
<span id="L1982" rel="#L1982">1982</span>
<span id="L1983" rel="#L1983">1983</span>
<span id="L1984" rel="#L1984">1984</span>
<span id="L1985" rel="#L1985">1985</span>
<span id="L1986" rel="#L1986">1986</span>
<span id="L1987" rel="#L1987">1987</span>
<span id="L1988" rel="#L1988">1988</span>
<span id="L1989" rel="#L1989">1989</span>
<span id="L1990" rel="#L1990">1990</span>
<span id="L1991" rel="#L1991">1991</span>
<span id="L1992" rel="#L1992">1992</span>
<span id="L1993" rel="#L1993">1993</span>
<span id="L1994" rel="#L1994">1994</span>
<span id="L1995" rel="#L1995">1995</span>
<span id="L1996" rel="#L1996">1996</span>
<span id="L1997" rel="#L1997">1997</span>
<span id="L1998" rel="#L1998">1998</span>
<span id="L1999" rel="#L1999">1999</span>
<span id="L2000" rel="#L2000">2000</span>
<span id="L2001" rel="#L2001">2001</span>
<span id="L2002" rel="#L2002">2002</span>
<span id="L2003" rel="#L2003">2003</span>
<span id="L2004" rel="#L2004">2004</span>
<span id="L2005" rel="#L2005">2005</span>
<span id="L2006" rel="#L2006">2006</span>
<span id="L2007" rel="#L2007">2007</span>
<span id="L2008" rel="#L2008">2008</span>
<span id="L2009" rel="#L2009">2009</span>
<span id="L2010" rel="#L2010">2010</span>
<span id="L2011" rel="#L2011">2011</span>
<span id="L2012" rel="#L2012">2012</span>
<span id="L2013" rel="#L2013">2013</span>
<span id="L2014" rel="#L2014">2014</span>
<span id="L2015" rel="#L2015">2015</span>
<span id="L2016" rel="#L2016">2016</span>
<span id="L2017" rel="#L2017">2017</span>
<span id="L2018" rel="#L2018">2018</span>
<span id="L2019" rel="#L2019">2019</span>
<span id="L2020" rel="#L2020">2020</span>
<span id="L2021" rel="#L2021">2021</span>
<span id="L2022" rel="#L2022">2022</span>
<span id="L2023" rel="#L2023">2023</span>
<span id="L2024" rel="#L2024">2024</span>
<span id="L2025" rel="#L2025">2025</span>
<span id="L2026" rel="#L2026">2026</span>
<span id="L2027" rel="#L2027">2027</span>
<span id="L2028" rel="#L2028">2028</span>
<span id="L2029" rel="#L2029">2029</span>
<span id="L2030" rel="#L2030">2030</span>
<span id="L2031" rel="#L2031">2031</span>
<span id="L2032" rel="#L2032">2032</span>
<span id="L2033" rel="#L2033">2033</span>
<span id="L2034" rel="#L2034">2034</span>
<span id="L2035" rel="#L2035">2035</span>
<span id="L2036" rel="#L2036">2036</span>
<span id="L2037" rel="#L2037">2037</span>
<span id="L2038" rel="#L2038">2038</span>
<span id="L2039" rel="#L2039">2039</span>
<span id="L2040" rel="#L2040">2040</span>
<span id="L2041" rel="#L2041">2041</span>
<span id="L2042" rel="#L2042">2042</span>
<span id="L2043" rel="#L2043">2043</span>
<span id="L2044" rel="#L2044">2044</span>
<span id="L2045" rel="#L2045">2045</span>
<span id="L2046" rel="#L2046">2046</span>
<span id="L2047" rel="#L2047">2047</span>
<span id="L2048" rel="#L2048">2048</span>
<span id="L2049" rel="#L2049">2049</span>
<span id="L2050" rel="#L2050">2050</span>
<span id="L2051" rel="#L2051">2051</span>
<span id="L2052" rel="#L2052">2052</span>
<span id="L2053" rel="#L2053">2053</span>
<span id="L2054" rel="#L2054">2054</span>
<span id="L2055" rel="#L2055">2055</span>
<span id="L2056" rel="#L2056">2056</span>
<span id="L2057" rel="#L2057">2057</span>
<span id="L2058" rel="#L2058">2058</span>
<span id="L2059" rel="#L2059">2059</span>
<span id="L2060" rel="#L2060">2060</span>
<span id="L2061" rel="#L2061">2061</span>
<span id="L2062" rel="#L2062">2062</span>
<span id="L2063" rel="#L2063">2063</span>
<span id="L2064" rel="#L2064">2064</span>
<span id="L2065" rel="#L2065">2065</span>
<span id="L2066" rel="#L2066">2066</span>
<span id="L2067" rel="#L2067">2067</span>
<span id="L2068" rel="#L2068">2068</span>
<span id="L2069" rel="#L2069">2069</span>
<span id="L2070" rel="#L2070">2070</span>
<span id="L2071" rel="#L2071">2071</span>
<span id="L2072" rel="#L2072">2072</span>
<span id="L2073" rel="#L2073">2073</span>
<span id="L2074" rel="#L2074">2074</span>
<span id="L2075" rel="#L2075">2075</span>
<span id="L2076" rel="#L2076">2076</span>
<span id="L2077" rel="#L2077">2077</span>
<span id="L2078" rel="#L2078">2078</span>
<span id="L2079" rel="#L2079">2079</span>
<span id="L2080" rel="#L2080">2080</span>
<span id="L2081" rel="#L2081">2081</span>
<span id="L2082" rel="#L2082">2082</span>
<span id="L2083" rel="#L2083">2083</span>
<span id="L2084" rel="#L2084">2084</span>
<span id="L2085" rel="#L2085">2085</span>
<span id="L2086" rel="#L2086">2086</span>
<span id="L2087" rel="#L2087">2087</span>
<span id="L2088" rel="#L2088">2088</span>
<span id="L2089" rel="#L2089">2089</span>
<span id="L2090" rel="#L2090">2090</span>
<span id="L2091" rel="#L2091">2091</span>
<span id="L2092" rel="#L2092">2092</span>
<span id="L2093" rel="#L2093">2093</span>
<span id="L2094" rel="#L2094">2094</span>
<span id="L2095" rel="#L2095">2095</span>
<span id="L2096" rel="#L2096">2096</span>
<span id="L2097" rel="#L2097">2097</span>
<span id="L2098" rel="#L2098">2098</span>
<span id="L2099" rel="#L2099">2099</span>
<span id="L2100" rel="#L2100">2100</span>
<span id="L2101" rel="#L2101">2101</span>
<span id="L2102" rel="#L2102">2102</span>
<span id="L2103" rel="#L2103">2103</span>
<span id="L2104" rel="#L2104">2104</span>
<span id="L2105" rel="#L2105">2105</span>
<span id="L2106" rel="#L2106">2106</span>
<span id="L2107" rel="#L2107">2107</span>
<span id="L2108" rel="#L2108">2108</span>
<span id="L2109" rel="#L2109">2109</span>
<span id="L2110" rel="#L2110">2110</span>
<span id="L2111" rel="#L2111">2111</span>
<span id="L2112" rel="#L2112">2112</span>
<span id="L2113" rel="#L2113">2113</span>
<span id="L2114" rel="#L2114">2114</span>
<span id="L2115" rel="#L2115">2115</span>
<span id="L2116" rel="#L2116">2116</span>
<span id="L2117" rel="#L2117">2117</span>
<span id="L2118" rel="#L2118">2118</span>
<span id="L2119" rel="#L2119">2119</span>
<span id="L2120" rel="#L2120">2120</span>
<span id="L2121" rel="#L2121">2121</span>
<span id="L2122" rel="#L2122">2122</span>
<span id="L2123" rel="#L2123">2123</span>
<span id="L2124" rel="#L2124">2124</span>
<span id="L2125" rel="#L2125">2125</span>
<span id="L2126" rel="#L2126">2126</span>
<span id="L2127" rel="#L2127">2127</span>
<span id="L2128" rel="#L2128">2128</span>
<span id="L2129" rel="#L2129">2129</span>
<span id="L2130" rel="#L2130">2130</span>
<span id="L2131" rel="#L2131">2131</span>
<span id="L2132" rel="#L2132">2132</span>
<span id="L2133" rel="#L2133">2133</span>
<span id="L2134" rel="#L2134">2134</span>
<span id="L2135" rel="#L2135">2135</span>
<span id="L2136" rel="#L2136">2136</span>
<span id="L2137" rel="#L2137">2137</span>
<span id="L2138" rel="#L2138">2138</span>
<span id="L2139" rel="#L2139">2139</span>
<span id="L2140" rel="#L2140">2140</span>
<span id="L2141" rel="#L2141">2141</span>
<span id="L2142" rel="#L2142">2142</span>
<span id="L2143" rel="#L2143">2143</span>
<span id="L2144" rel="#L2144">2144</span>
<span id="L2145" rel="#L2145">2145</span>
<span id="L2146" rel="#L2146">2146</span>
<span id="L2147" rel="#L2147">2147</span>
<span id="L2148" rel="#L2148">2148</span>
<span id="L2149" rel="#L2149">2149</span>
<span id="L2150" rel="#L2150">2150</span>
<span id="L2151" rel="#L2151">2151</span>
<span id="L2152" rel="#L2152">2152</span>
<span id="L2153" rel="#L2153">2153</span>
<span id="L2154" rel="#L2154">2154</span>
<span id="L2155" rel="#L2155">2155</span>
<span id="L2156" rel="#L2156">2156</span>
<span id="L2157" rel="#L2157">2157</span>
<span id="L2158" rel="#L2158">2158</span>
<span id="L2159" rel="#L2159">2159</span>
<span id="L2160" rel="#L2160">2160</span>
<span id="L2161" rel="#L2161">2161</span>
<span id="L2162" rel="#L2162">2162</span>
<span id="L2163" rel="#L2163">2163</span>
<span id="L2164" rel="#L2164">2164</span>
<span id="L2165" rel="#L2165">2165</span>
<span id="L2166" rel="#L2166">2166</span>
<span id="L2167" rel="#L2167">2167</span>
<span id="L2168" rel="#L2168">2168</span>
<span id="L2169" rel="#L2169">2169</span>
<span id="L2170" rel="#L2170">2170</span>
<span id="L2171" rel="#L2171">2171</span>
<span id="L2172" rel="#L2172">2172</span>
<span id="L2173" rel="#L2173">2173</span>
<span id="L2174" rel="#L2174">2174</span>
<span id="L2175" rel="#L2175">2175</span>
<span id="L2176" rel="#L2176">2176</span>
<span id="L2177" rel="#L2177">2177</span>
<span id="L2178" rel="#L2178">2178</span>
<span id="L2179" rel="#L2179">2179</span>
<span id="L2180" rel="#L2180">2180</span>
<span id="L2181" rel="#L2181">2181</span>
<span id="L2182" rel="#L2182">2182</span>
<span id="L2183" rel="#L2183">2183</span>
<span id="L2184" rel="#L2184">2184</span>
<span id="L2185" rel="#L2185">2185</span>
<span id="L2186" rel="#L2186">2186</span>
<span id="L2187" rel="#L2187">2187</span>
<span id="L2188" rel="#L2188">2188</span>
<span id="L2189" rel="#L2189">2189</span>
<span id="L2190" rel="#L2190">2190</span>
<span id="L2191" rel="#L2191">2191</span>
<span id="L2192" rel="#L2192">2192</span>
<span id="L2193" rel="#L2193">2193</span>
<span id="L2194" rel="#L2194">2194</span>
<span id="L2195" rel="#L2195">2195</span>
<span id="L2196" rel="#L2196">2196</span>
<span id="L2197" rel="#L2197">2197</span>
<span id="L2198" rel="#L2198">2198</span>
<span id="L2199" rel="#L2199">2199</span>
<span id="L2200" rel="#L2200">2200</span>
<span id="L2201" rel="#L2201">2201</span>
<span id="L2202" rel="#L2202">2202</span>
<span id="L2203" rel="#L2203">2203</span>
<span id="L2204" rel="#L2204">2204</span>
<span id="L2205" rel="#L2205">2205</span>
<span id="L2206" rel="#L2206">2206</span>
<span id="L2207" rel="#L2207">2207</span>
<span id="L2208" rel="#L2208">2208</span>
<span id="L2209" rel="#L2209">2209</span>
<span id="L2210" rel="#L2210">2210</span>
<span id="L2211" rel="#L2211">2211</span>
<span id="L2212" rel="#L2212">2212</span>
<span id="L2213" rel="#L2213">2213</span>
<span id="L2214" rel="#L2214">2214</span>
<span id="L2215" rel="#L2215">2215</span>
<span id="L2216" rel="#L2216">2216</span>
<span id="L2217" rel="#L2217">2217</span>
<span id="L2218" rel="#L2218">2218</span>
<span id="L2219" rel="#L2219">2219</span>
<span id="L2220" rel="#L2220">2220</span>
<span id="L2221" rel="#L2221">2221</span>
<span id="L2222" rel="#L2222">2222</span>
<span id="L2223" rel="#L2223">2223</span>
<span id="L2224" rel="#L2224">2224</span>
<span id="L2225" rel="#L2225">2225</span>
<span id="L2226" rel="#L2226">2226</span>
<span id="L2227" rel="#L2227">2227</span>
<span id="L2228" rel="#L2228">2228</span>
<span id="L2229" rel="#L2229">2229</span>
<span id="L2230" rel="#L2230">2230</span>
<span id="L2231" rel="#L2231">2231</span>
<span id="L2232" rel="#L2232">2232</span>
<span id="L2233" rel="#L2233">2233</span>
<span id="L2234" rel="#L2234">2234</span>
<span id="L2235" rel="#L2235">2235</span>
<span id="L2236" rel="#L2236">2236</span>
<span id="L2237" rel="#L2237">2237</span>
<span id="L2238" rel="#L2238">2238</span>
<span id="L2239" rel="#L2239">2239</span>
<span id="L2240" rel="#L2240">2240</span>
<span id="L2241" rel="#L2241">2241</span>
<span id="L2242" rel="#L2242">2242</span>
<span id="L2243" rel="#L2243">2243</span>
<span id="L2244" rel="#L2244">2244</span>
<span id="L2245" rel="#L2245">2245</span>
<span id="L2246" rel="#L2246">2246</span>
<span id="L2247" rel="#L2247">2247</span>
<span id="L2248" rel="#L2248">2248</span>
<span id="L2249" rel="#L2249">2249</span>
<span id="L2250" rel="#L2250">2250</span>
<span id="L2251" rel="#L2251">2251</span>
<span id="L2252" rel="#L2252">2252</span>
<span id="L2253" rel="#L2253">2253</span>
<span id="L2254" rel="#L2254">2254</span>
<span id="L2255" rel="#L2255">2255</span>
<span id="L2256" rel="#L2256">2256</span>
<span id="L2257" rel="#L2257">2257</span>
<span id="L2258" rel="#L2258">2258</span>
<span id="L2259" rel="#L2259">2259</span>
<span id="L2260" rel="#L2260">2260</span>
<span id="L2261" rel="#L2261">2261</span>
<span id="L2262" rel="#L2262">2262</span>
<span id="L2263" rel="#L2263">2263</span>
<span id="L2264" rel="#L2264">2264</span>
<span id="L2265" rel="#L2265">2265</span>
<span id="L2266" rel="#L2266">2266</span>
<span id="L2267" rel="#L2267">2267</span>
<span id="L2268" rel="#L2268">2268</span>
<span id="L2269" rel="#L2269">2269</span>
<span id="L2270" rel="#L2270">2270</span>
<span id="L2271" rel="#L2271">2271</span>
<span id="L2272" rel="#L2272">2272</span>
<span id="L2273" rel="#L2273">2273</span>
<span id="L2274" rel="#L2274">2274</span>
<span id="L2275" rel="#L2275">2275</span>
<span id="L2276" rel="#L2276">2276</span>
<span id="L2277" rel="#L2277">2277</span>
<span id="L2278" rel="#L2278">2278</span>
<span id="L2279" rel="#L2279">2279</span>
<span id="L2280" rel="#L2280">2280</span>
<span id="L2281" rel="#L2281">2281</span>
<span id="L2282" rel="#L2282">2282</span>
<span id="L2283" rel="#L2283">2283</span>
<span id="L2284" rel="#L2284">2284</span>
<span id="L2285" rel="#L2285">2285</span>
<span id="L2286" rel="#L2286">2286</span>
<span id="L2287" rel="#L2287">2287</span>
<span id="L2288" rel="#L2288">2288</span>
<span id="L2289" rel="#L2289">2289</span>
<span id="L2290" rel="#L2290">2290</span>
<span id="L2291" rel="#L2291">2291</span>
<span id="L2292" rel="#L2292">2292</span>
<span id="L2293" rel="#L2293">2293</span>
<span id="L2294" rel="#L2294">2294</span>
<span id="L2295" rel="#L2295">2295</span>
<span id="L2296" rel="#L2296">2296</span>
<span id="L2297" rel="#L2297">2297</span>
<span id="L2298" rel="#L2298">2298</span>
<span id="L2299" rel="#L2299">2299</span>
<span id="L2300" rel="#L2300">2300</span>
<span id="L2301" rel="#L2301">2301</span>
<span id="L2302" rel="#L2302">2302</span>
<span id="L2303" rel="#L2303">2303</span>
<span id="L2304" rel="#L2304">2304</span>
<span id="L2305" rel="#L2305">2305</span>
<span id="L2306" rel="#L2306">2306</span>
<span id="L2307" rel="#L2307">2307</span>
<span id="L2308" rel="#L2308">2308</span>
<span id="L2309" rel="#L2309">2309</span>
<span id="L2310" rel="#L2310">2310</span>
<span id="L2311" rel="#L2311">2311</span>
<span id="L2312" rel="#L2312">2312</span>
<span id="L2313" rel="#L2313">2313</span>
<span id="L2314" rel="#L2314">2314</span>
<span id="L2315" rel="#L2315">2315</span>
<span id="L2316" rel="#L2316">2316</span>
<span id="L2317" rel="#L2317">2317</span>
<span id="L2318" rel="#L2318">2318</span>
<span id="L2319" rel="#L2319">2319</span>
<span id="L2320" rel="#L2320">2320</span>
<span id="L2321" rel="#L2321">2321</span>
<span id="L2322" rel="#L2322">2322</span>
<span id="L2323" rel="#L2323">2323</span>
<span id="L2324" rel="#L2324">2324</span>
<span id="L2325" rel="#L2325">2325</span>
<span id="L2326" rel="#L2326">2326</span>
<span id="L2327" rel="#L2327">2327</span>
<span id="L2328" rel="#L2328">2328</span>
<span id="L2329" rel="#L2329">2329</span>
<span id="L2330" rel="#L2330">2330</span>
<span id="L2331" rel="#L2331">2331</span>
<span id="L2332" rel="#L2332">2332</span>
<span id="L2333" rel="#L2333">2333</span>
<span id="L2334" rel="#L2334">2334</span>
<span id="L2335" rel="#L2335">2335</span>
<span id="L2336" rel="#L2336">2336</span>
<span id="L2337" rel="#L2337">2337</span>
<span id="L2338" rel="#L2338">2338</span>
<span id="L2339" rel="#L2339">2339</span>
<span id="L2340" rel="#L2340">2340</span>
<span id="L2341" rel="#L2341">2341</span>
<span id="L2342" rel="#L2342">2342</span>
<span id="L2343" rel="#L2343">2343</span>
<span id="L2344" rel="#L2344">2344</span>
<span id="L2345" rel="#L2345">2345</span>
<span id="L2346" rel="#L2346">2346</span>
<span id="L2347" rel="#L2347">2347</span>
<span id="L2348" rel="#L2348">2348</span>
<span id="L2349" rel="#L2349">2349</span>
<span id="L2350" rel="#L2350">2350</span>
<span id="L2351" rel="#L2351">2351</span>
<span id="L2352" rel="#L2352">2352</span>
<span id="L2353" rel="#L2353">2353</span>
<span id="L2354" rel="#L2354">2354</span>
<span id="L2355" rel="#L2355">2355</span>
<span id="L2356" rel="#L2356">2356</span>
<span id="L2357" rel="#L2357">2357</span>
<span id="L2358" rel="#L2358">2358</span>
<span id="L2359" rel="#L2359">2359</span>
<span id="L2360" rel="#L2360">2360</span>
<span id="L2361" rel="#L2361">2361</span>
<span id="L2362" rel="#L2362">2362</span>
<span id="L2363" rel="#L2363">2363</span>
<span id="L2364" rel="#L2364">2364</span>
<span id="L2365" rel="#L2365">2365</span>
<span id="L2366" rel="#L2366">2366</span>
<span id="L2367" rel="#L2367">2367</span>
<span id="L2368" rel="#L2368">2368</span>
<span id="L2369" rel="#L2369">2369</span>
<span id="L2370" rel="#L2370">2370</span>
<span id="L2371" rel="#L2371">2371</span>
<span id="L2372" rel="#L2372">2372</span>
<span id="L2373" rel="#L2373">2373</span>
<span id="L2374" rel="#L2374">2374</span>
<span id="L2375" rel="#L2375">2375</span>
<span id="L2376" rel="#L2376">2376</span>
<span id="L2377" rel="#L2377">2377</span>
<span id="L2378" rel="#L2378">2378</span>
<span id="L2379" rel="#L2379">2379</span>
<span id="L2380" rel="#L2380">2380</span>
<span id="L2381" rel="#L2381">2381</span>
<span id="L2382" rel="#L2382">2382</span>
<span id="L2383" rel="#L2383">2383</span>
<span id="L2384" rel="#L2384">2384</span>
<span id="L2385" rel="#L2385">2385</span>
<span id="L2386" rel="#L2386">2386</span>
<span id="L2387" rel="#L2387">2387</span>
<span id="L2388" rel="#L2388">2388</span>
<span id="L2389" rel="#L2389">2389</span>
<span id="L2390" rel="#L2390">2390</span>
<span id="L2391" rel="#L2391">2391</span>
<span id="L2392" rel="#L2392">2392</span>
<span id="L2393" rel="#L2393">2393</span>
<span id="L2394" rel="#L2394">2394</span>
<span id="L2395" rel="#L2395">2395</span>
<span id="L2396" rel="#L2396">2396</span>
<span id="L2397" rel="#L2397">2397</span>
<span id="L2398" rel="#L2398">2398</span>
<span id="L2399" rel="#L2399">2399</span>
<span id="L2400" rel="#L2400">2400</span>
<span id="L2401" rel="#L2401">2401</span>
<span id="L2402" rel="#L2402">2402</span>
<span id="L2403" rel="#L2403">2403</span>
<span id="L2404" rel="#L2404">2404</span>
<span id="L2405" rel="#L2405">2405</span>
<span id="L2406" rel="#L2406">2406</span>
<span id="L2407" rel="#L2407">2407</span>
<span id="L2408" rel="#L2408">2408</span>
<span id="L2409" rel="#L2409">2409</span>
<span id="L2410" rel="#L2410">2410</span>
<span id="L2411" rel="#L2411">2411</span>
<span id="L2412" rel="#L2412">2412</span>
<span id="L2413" rel="#L2413">2413</span>
<span id="L2414" rel="#L2414">2414</span>
<span id="L2415" rel="#L2415">2415</span>
<span id="L2416" rel="#L2416">2416</span>
<span id="L2417" rel="#L2417">2417</span>
<span id="L2418" rel="#L2418">2418</span>
<span id="L2419" rel="#L2419">2419</span>
<span id="L2420" rel="#L2420">2420</span>
<span id="L2421" rel="#L2421">2421</span>
<span id="L2422" rel="#L2422">2422</span>
<span id="L2423" rel="#L2423">2423</span>
<span id="L2424" rel="#L2424">2424</span>
<span id="L2425" rel="#L2425">2425</span>
<span id="L2426" rel="#L2426">2426</span>
<span id="L2427" rel="#L2427">2427</span>
<span id="L2428" rel="#L2428">2428</span>
<span id="L2429" rel="#L2429">2429</span>
<span id="L2430" rel="#L2430">2430</span>
<span id="L2431" rel="#L2431">2431</span>
<span id="L2432" rel="#L2432">2432</span>
<span id="L2433" rel="#L2433">2433</span>
<span id="L2434" rel="#L2434">2434</span>
<span id="L2435" rel="#L2435">2435</span>
<span id="L2436" rel="#L2436">2436</span>
<span id="L2437" rel="#L2437">2437</span>
<span id="L2438" rel="#L2438">2438</span>
<span id="L2439" rel="#L2439">2439</span>
<span id="L2440" rel="#L2440">2440</span>
<span id="L2441" rel="#L2441">2441</span>
<span id="L2442" rel="#L2442">2442</span>
<span id="L2443" rel="#L2443">2443</span>
<span id="L2444" rel="#L2444">2444</span>
<span id="L2445" rel="#L2445">2445</span>
<span id="L2446" rel="#L2446">2446</span>
<span id="L2447" rel="#L2447">2447</span>
<span id="L2448" rel="#L2448">2448</span>
<span id="L2449" rel="#L2449">2449</span>
<span id="L2450" rel="#L2450">2450</span>
<span id="L2451" rel="#L2451">2451</span>
<span id="L2452" rel="#L2452">2452</span>
<span id="L2453" rel="#L2453">2453</span>
<span id="L2454" rel="#L2454">2454</span>
<span id="L2455" rel="#L2455">2455</span>
<span id="L2456" rel="#L2456">2456</span>
<span id="L2457" rel="#L2457">2457</span>
<span id="L2458" rel="#L2458">2458</span>
<span id="L2459" rel="#L2459">2459</span>
<span id="L2460" rel="#L2460">2460</span>
<span id="L2461" rel="#L2461">2461</span>
<span id="L2462" rel="#L2462">2462</span>
<span id="L2463" rel="#L2463">2463</span>
<span id="L2464" rel="#L2464">2464</span>
<span id="L2465" rel="#L2465">2465</span>
<span id="L2466" rel="#L2466">2466</span>
<span id="L2467" rel="#L2467">2467</span>
<span id="L2468" rel="#L2468">2468</span>
<span id="L2469" rel="#L2469">2469</span>
<span id="L2470" rel="#L2470">2470</span>
<span id="L2471" rel="#L2471">2471</span>
<span id="L2472" rel="#L2472">2472</span>
<span id="L2473" rel="#L2473">2473</span>
<span id="L2474" rel="#L2474">2474</span>
<span id="L2475" rel="#L2475">2475</span>
<span id="L2476" rel="#L2476">2476</span>
<span id="L2477" rel="#L2477">2477</span>
<span id="L2478" rel="#L2478">2478</span>
<span id="L2479" rel="#L2479">2479</span>
<span id="L2480" rel="#L2480">2480</span>
<span id="L2481" rel="#L2481">2481</span>
<span id="L2482" rel="#L2482">2482</span>
<span id="L2483" rel="#L2483">2483</span>
<span id="L2484" rel="#L2484">2484</span>
<span id="L2485" rel="#L2485">2485</span>
<span id="L2486" rel="#L2486">2486</span>
<span id="L2487" rel="#L2487">2487</span>
<span id="L2488" rel="#L2488">2488</span>
<span id="L2489" rel="#L2489">2489</span>
<span id="L2490" rel="#L2490">2490</span>
<span id="L2491" rel="#L2491">2491</span>
<span id="L2492" rel="#L2492">2492</span>
<span id="L2493" rel="#L2493">2493</span>
<span id="L2494" rel="#L2494">2494</span>
<span id="L2495" rel="#L2495">2495</span>
<span id="L2496" rel="#L2496">2496</span>
<span id="L2497" rel="#L2497">2497</span>
<span id="L2498" rel="#L2498">2498</span>
<span id="L2499" rel="#L2499">2499</span>
<span id="L2500" rel="#L2500">2500</span>
<span id="L2501" rel="#L2501">2501</span>
<span id="L2502" rel="#L2502">2502</span>
<span id="L2503" rel="#L2503">2503</span>
<span id="L2504" rel="#L2504">2504</span>
<span id="L2505" rel="#L2505">2505</span>
<span id="L2506" rel="#L2506">2506</span>
<span id="L2507" rel="#L2507">2507</span>
<span id="L2508" rel="#L2508">2508</span>
<span id="L2509" rel="#L2509">2509</span>
<span id="L2510" rel="#L2510">2510</span>
<span id="L2511" rel="#L2511">2511</span>
<span id="L2512" rel="#L2512">2512</span>
<span id="L2513" rel="#L2513">2513</span>
<span id="L2514" rel="#L2514">2514</span>
<span id="L2515" rel="#L2515">2515</span>
<span id="L2516" rel="#L2516">2516</span>
<span id="L2517" rel="#L2517">2517</span>
<span id="L2518" rel="#L2518">2518</span>
<span id="L2519" rel="#L2519">2519</span>
<span id="L2520" rel="#L2520">2520</span>
<span id="L2521" rel="#L2521">2521</span>
<span id="L2522" rel="#L2522">2522</span>
<span id="L2523" rel="#L2523">2523</span>
<span id="L2524" rel="#L2524">2524</span>
<span id="L2525" rel="#L2525">2525</span>
<span id="L2526" rel="#L2526">2526</span>
<span id="L2527" rel="#L2527">2527</span>
<span id="L2528" rel="#L2528">2528</span>
<span id="L2529" rel="#L2529">2529</span>
<span id="L2530" rel="#L2530">2530</span>
<span id="L2531" rel="#L2531">2531</span>
<span id="L2532" rel="#L2532">2532</span>
<span id="L2533" rel="#L2533">2533</span>
<span id="L2534" rel="#L2534">2534</span>
<span id="L2535" rel="#L2535">2535</span>
<span id="L2536" rel="#L2536">2536</span>
<span id="L2537" rel="#L2537">2537</span>
<span id="L2538" rel="#L2538">2538</span>
<span id="L2539" rel="#L2539">2539</span>
<span id="L2540" rel="#L2540">2540</span>
<span id="L2541" rel="#L2541">2541</span>
<span id="L2542" rel="#L2542">2542</span>
<span id="L2543" rel="#L2543">2543</span>
<span id="L2544" rel="#L2544">2544</span>
<span id="L2545" rel="#L2545">2545</span>
<span id="L2546" rel="#L2546">2546</span>
<span id="L2547" rel="#L2547">2547</span>
<span id="L2548" rel="#L2548">2548</span>
<span id="L2549" rel="#L2549">2549</span>
<span id="L2550" rel="#L2550">2550</span>
<span id="L2551" rel="#L2551">2551</span>
<span id="L2552" rel="#L2552">2552</span>
<span id="L2553" rel="#L2553">2553</span>
<span id="L2554" rel="#L2554">2554</span>
<span id="L2555" rel="#L2555">2555</span>
<span id="L2556" rel="#L2556">2556</span>
<span id="L2557" rel="#L2557">2557</span>
<span id="L2558" rel="#L2558">2558</span>
<span id="L2559" rel="#L2559">2559</span>
<span id="L2560" rel="#L2560">2560</span>
<span id="L2561" rel="#L2561">2561</span>
<span id="L2562" rel="#L2562">2562</span>
<span id="L2563" rel="#L2563">2563</span>
<span id="L2564" rel="#L2564">2564</span>
<span id="L2565" rel="#L2565">2565</span>
<span id="L2566" rel="#L2566">2566</span>
<span id="L2567" rel="#L2567">2567</span>
<span id="L2568" rel="#L2568">2568</span>
<span id="L2569" rel="#L2569">2569</span>
<span id="L2570" rel="#L2570">2570</span>
<span id="L2571" rel="#L2571">2571</span>
<span id="L2572" rel="#L2572">2572</span>
<span id="L2573" rel="#L2573">2573</span>
<span id="L2574" rel="#L2574">2574</span>
<span id="L2575" rel="#L2575">2575</span>
<span id="L2576" rel="#L2576">2576</span>
<span id="L2577" rel="#L2577">2577</span>
<span id="L2578" rel="#L2578">2578</span>
<span id="L2579" rel="#L2579">2579</span>
<span id="L2580" rel="#L2580">2580</span>
<span id="L2581" rel="#L2581">2581</span>
<span id="L2582" rel="#L2582">2582</span>
<span id="L2583" rel="#L2583">2583</span>
<span id="L2584" rel="#L2584">2584</span>
<span id="L2585" rel="#L2585">2585</span>
<span id="L2586" rel="#L2586">2586</span>
<span id="L2587" rel="#L2587">2587</span>
<span id="L2588" rel="#L2588">2588</span>
<span id="L2589" rel="#L2589">2589</span>
<span id="L2590" rel="#L2590">2590</span>
<span id="L2591" rel="#L2591">2591</span>
<span id="L2592" rel="#L2592">2592</span>
<span id="L2593" rel="#L2593">2593</span>
<span id="L2594" rel="#L2594">2594</span>
<span id="L2595" rel="#L2595">2595</span>
<span id="L2596" rel="#L2596">2596</span>
<span id="L2597" rel="#L2597">2597</span>
<span id="L2598" rel="#L2598">2598</span>
<span id="L2599" rel="#L2599">2599</span>
<span id="L2600" rel="#L2600">2600</span>
<span id="L2601" rel="#L2601">2601</span>
<span id="L2602" rel="#L2602">2602</span>
<span id="L2603" rel="#L2603">2603</span>
<span id="L2604" rel="#L2604">2604</span>
<span id="L2605" rel="#L2605">2605</span>
<span id="L2606" rel="#L2606">2606</span>
<span id="L2607" rel="#L2607">2607</span>
<span id="L2608" rel="#L2608">2608</span>
<span id="L2609" rel="#L2609">2609</span>
<span id="L2610" rel="#L2610">2610</span>
<span id="L2611" rel="#L2611">2611</span>
<span id="L2612" rel="#L2612">2612</span>
<span id="L2613" rel="#L2613">2613</span>
<span id="L2614" rel="#L2614">2614</span>
<span id="L2615" rel="#L2615">2615</span>
<span id="L2616" rel="#L2616">2616</span>
<span id="L2617" rel="#L2617">2617</span>
<span id="L2618" rel="#L2618">2618</span>
<span id="L2619" rel="#L2619">2619</span>
<span id="L2620" rel="#L2620">2620</span>
<span id="L2621" rel="#L2621">2621</span>
<span id="L2622" rel="#L2622">2622</span>
<span id="L2623" rel="#L2623">2623</span>
<span id="L2624" rel="#L2624">2624</span>
<span id="L2625" rel="#L2625">2625</span>
<span id="L2626" rel="#L2626">2626</span>
<span id="L2627" rel="#L2627">2627</span>
<span id="L2628" rel="#L2628">2628</span>
<span id="L2629" rel="#L2629">2629</span>
<span id="L2630" rel="#L2630">2630</span>
<span id="L2631" rel="#L2631">2631</span>
<span id="L2632" rel="#L2632">2632</span>
<span id="L2633" rel="#L2633">2633</span>
<span id="L2634" rel="#L2634">2634</span>
<span id="L2635" rel="#L2635">2635</span>
<span id="L2636" rel="#L2636">2636</span>
<span id="L2637" rel="#L2637">2637</span>
<span id="L2638" rel="#L2638">2638</span>
<span id="L2639" rel="#L2639">2639</span>
<span id="L2640" rel="#L2640">2640</span>
<span id="L2641" rel="#L2641">2641</span>
<span id="L2642" rel="#L2642">2642</span>
<span id="L2643" rel="#L2643">2643</span>
<span id="L2644" rel="#L2644">2644</span>
<span id="L2645" rel="#L2645">2645</span>
<span id="L2646" rel="#L2646">2646</span>
<span id="L2647" rel="#L2647">2647</span>
<span id="L2648" rel="#L2648">2648</span>
<span id="L2649" rel="#L2649">2649</span>
<span id="L2650" rel="#L2650">2650</span>
<span id="L2651" rel="#L2651">2651</span>
<span id="L2652" rel="#L2652">2652</span>
<span id="L2653" rel="#L2653">2653</span>
<span id="L2654" rel="#L2654">2654</span>
<span id="L2655" rel="#L2655">2655</span>
<span id="L2656" rel="#L2656">2656</span>
<span id="L2657" rel="#L2657">2657</span>
<span id="L2658" rel="#L2658">2658</span>
<span id="L2659" rel="#L2659">2659</span>
<span id="L2660" rel="#L2660">2660</span>
<span id="L2661" rel="#L2661">2661</span>
<span id="L2662" rel="#L2662">2662</span>
<span id="L2663" rel="#L2663">2663</span>
<span id="L2664" rel="#L2664">2664</span>
<span id="L2665" rel="#L2665">2665</span>
<span id="L2666" rel="#L2666">2666</span>
<span id="L2667" rel="#L2667">2667</span>
<span id="L2668" rel="#L2668">2668</span>
<span id="L2669" rel="#L2669">2669</span>
<span id="L2670" rel="#L2670">2670</span>
<span id="L2671" rel="#L2671">2671</span>
<span id="L2672" rel="#L2672">2672</span>
<span id="L2673" rel="#L2673">2673</span>
<span id="L2674" rel="#L2674">2674</span>
<span id="L2675" rel="#L2675">2675</span>
<span id="L2676" rel="#L2676">2676</span>
<span id="L2677" rel="#L2677">2677</span>
<span id="L2678" rel="#L2678">2678</span>
<span id="L2679" rel="#L2679">2679</span>
<span id="L2680" rel="#L2680">2680</span>
<span id="L2681" rel="#L2681">2681</span>
<span id="L2682" rel="#L2682">2682</span>
<span id="L2683" rel="#L2683">2683</span>
<span id="L2684" rel="#L2684">2684</span>
<span id="L2685" rel="#L2685">2685</span>
<span id="L2686" rel="#L2686">2686</span>
<span id="L2687" rel="#L2687">2687</span>
<span id="L2688" rel="#L2688">2688</span>
<span id="L2689" rel="#L2689">2689</span>
<span id="L2690" rel="#L2690">2690</span>
<span id="L2691" rel="#L2691">2691</span>
<span id="L2692" rel="#L2692">2692</span>
<span id="L2693" rel="#L2693">2693</span>
<span id="L2694" rel="#L2694">2694</span>
<span id="L2695" rel="#L2695">2695</span>
<span id="L2696" rel="#L2696">2696</span>
<span id="L2697" rel="#L2697">2697</span>
<span id="L2698" rel="#L2698">2698</span>
<span id="L2699" rel="#L2699">2699</span>
<span id="L2700" rel="#L2700">2700</span>
<span id="L2701" rel="#L2701">2701</span>
<span id="L2702" rel="#L2702">2702</span>
<span id="L2703" rel="#L2703">2703</span>
<span id="L2704" rel="#L2704">2704</span>
<span id="L2705" rel="#L2705">2705</span>
<span id="L2706" rel="#L2706">2706</span>
<span id="L2707" rel="#L2707">2707</span>
<span id="L2708" rel="#L2708">2708</span>
<span id="L2709" rel="#L2709">2709</span>
<span id="L2710" rel="#L2710">2710</span>
<span id="L2711" rel="#L2711">2711</span>
<span id="L2712" rel="#L2712">2712</span>
<span id="L2713" rel="#L2713">2713</span>
<span id="L2714" rel="#L2714">2714</span>
<span id="L2715" rel="#L2715">2715</span>
<span id="L2716" rel="#L2716">2716</span>
<span id="L2717" rel="#L2717">2717</span>
<span id="L2718" rel="#L2718">2718</span>
<span id="L2719" rel="#L2719">2719</span>
<span id="L2720" rel="#L2720">2720</span>
<span id="L2721" rel="#L2721">2721</span>
<span id="L2722" rel="#L2722">2722</span>
<span id="L2723" rel="#L2723">2723</span>
<span id="L2724" rel="#L2724">2724</span>
<span id="L2725" rel="#L2725">2725</span>
<span id="L2726" rel="#L2726">2726</span>
<span id="L2727" rel="#L2727">2727</span>
<span id="L2728" rel="#L2728">2728</span>
<span id="L2729" rel="#L2729">2729</span>
<span id="L2730" rel="#L2730">2730</span>
<span id="L2731" rel="#L2731">2731</span>
<span id="L2732" rel="#L2732">2732</span>
<span id="L2733" rel="#L2733">2733</span>
<span id="L2734" rel="#L2734">2734</span>
<span id="L2735" rel="#L2735">2735</span>
<span id="L2736" rel="#L2736">2736</span>
<span id="L2737" rel="#L2737">2737</span>
<span id="L2738" rel="#L2738">2738</span>
<span id="L2739" rel="#L2739">2739</span>
<span id="L2740" rel="#L2740">2740</span>
<span id="L2741" rel="#L2741">2741</span>
<span id="L2742" rel="#L2742">2742</span>
<span id="L2743" rel="#L2743">2743</span>
<span id="L2744" rel="#L2744">2744</span>
<span id="L2745" rel="#L2745">2745</span>
<span id="L2746" rel="#L2746">2746</span>
<span id="L2747" rel="#L2747">2747</span>
<span id="L2748" rel="#L2748">2748</span>
<span id="L2749" rel="#L2749">2749</span>
<span id="L2750" rel="#L2750">2750</span>
<span id="L2751" rel="#L2751">2751</span>
<span id="L2752" rel="#L2752">2752</span>
<span id="L2753" rel="#L2753">2753</span>
<span id="L2754" rel="#L2754">2754</span>
<span id="L2755" rel="#L2755">2755</span>
<span id="L2756" rel="#L2756">2756</span>
<span id="L2757" rel="#L2757">2757</span>
<span id="L2758" rel="#L2758">2758</span>
<span id="L2759" rel="#L2759">2759</span>
<span id="L2760" rel="#L2760">2760</span>
<span id="L2761" rel="#L2761">2761</span>
<span id="L2762" rel="#L2762">2762</span>
<span id="L2763" rel="#L2763">2763</span>
<span id="L2764" rel="#L2764">2764</span>
<span id="L2765" rel="#L2765">2765</span>
<span id="L2766" rel="#L2766">2766</span>
<span id="L2767" rel="#L2767">2767</span>
<span id="L2768" rel="#L2768">2768</span>
<span id="L2769" rel="#L2769">2769</span>
<span id="L2770" rel="#L2770">2770</span>
<span id="L2771" rel="#L2771">2771</span>
<span id="L2772" rel="#L2772">2772</span>
<span id="L2773" rel="#L2773">2773</span>
<span id="L2774" rel="#L2774">2774</span>
<span id="L2775" rel="#L2775">2775</span>
<span id="L2776" rel="#L2776">2776</span>
<span id="L2777" rel="#L2777">2777</span>
<span id="L2778" rel="#L2778">2778</span>
<span id="L2779" rel="#L2779">2779</span>
<span id="L2780" rel="#L2780">2780</span>
<span id="L2781" rel="#L2781">2781</span>
<span id="L2782" rel="#L2782">2782</span>
<span id="L2783" rel="#L2783">2783</span>
<span id="L2784" rel="#L2784">2784</span>
<span id="L2785" rel="#L2785">2785</span>
<span id="L2786" rel="#L2786">2786</span>
<span id="L2787" rel="#L2787">2787</span>
<span id="L2788" rel="#L2788">2788</span>
<span id="L2789" rel="#L2789">2789</span>
<span id="L2790" rel="#L2790">2790</span>
<span id="L2791" rel="#L2791">2791</span>
<span id="L2792" rel="#L2792">2792</span>
<span id="L2793" rel="#L2793">2793</span>
<span id="L2794" rel="#L2794">2794</span>
<span id="L2795" rel="#L2795">2795</span>
<span id="L2796" rel="#L2796">2796</span>
<span id="L2797" rel="#L2797">2797</span>
<span id="L2798" rel="#L2798">2798</span>
<span id="L2799" rel="#L2799">2799</span>
<span id="L2800" rel="#L2800">2800</span>
<span id="L2801" rel="#L2801">2801</span>
<span id="L2802" rel="#L2802">2802</span>
<span id="L2803" rel="#L2803">2803</span>
<span id="L2804" rel="#L2804">2804</span>
<span id="L2805" rel="#L2805">2805</span>
<span id="L2806" rel="#L2806">2806</span>
<span id="L2807" rel="#L2807">2807</span>
<span id="L2808" rel="#L2808">2808</span>
<span id="L2809" rel="#L2809">2809</span>
<span id="L2810" rel="#L2810">2810</span>
<span id="L2811" rel="#L2811">2811</span>
<span id="L2812" rel="#L2812">2812</span>
<span id="L2813" rel="#L2813">2813</span>
<span id="L2814" rel="#L2814">2814</span>
<span id="L2815" rel="#L2815">2815</span>
<span id="L2816" rel="#L2816">2816</span>
<span id="L2817" rel="#L2817">2817</span>
<span id="L2818" rel="#L2818">2818</span>
<span id="L2819" rel="#L2819">2819</span>
<span id="L2820" rel="#L2820">2820</span>
<span id="L2821" rel="#L2821">2821</span>
<span id="L2822" rel="#L2822">2822</span>
<span id="L2823" rel="#L2823">2823</span>
<span id="L2824" rel="#L2824">2824</span>
<span id="L2825" rel="#L2825">2825</span>
<span id="L2826" rel="#L2826">2826</span>
<span id="L2827" rel="#L2827">2827</span>
<span id="L2828" rel="#L2828">2828</span>
<span id="L2829" rel="#L2829">2829</span>
<span id="L2830" rel="#L2830">2830</span>
<span id="L2831" rel="#L2831">2831</span>
<span id="L2832" rel="#L2832">2832</span>
<span id="L2833" rel="#L2833">2833</span>
<span id="L2834" rel="#L2834">2834</span>
<span id="L2835" rel="#L2835">2835</span>
<span id="L2836" rel="#L2836">2836</span>
<span id="L2837" rel="#L2837">2837</span>
<span id="L2838" rel="#L2838">2838</span>
<span id="L2839" rel="#L2839">2839</span>
<span id="L2840" rel="#L2840">2840</span>
<span id="L2841" rel="#L2841">2841</span>
<span id="L2842" rel="#L2842">2842</span>
<span id="L2843" rel="#L2843">2843</span>
<span id="L2844" rel="#L2844">2844</span>
<span id="L2845" rel="#L2845">2845</span>
<span id="L2846" rel="#L2846">2846</span>
<span id="L2847" rel="#L2847">2847</span>
<span id="L2848" rel="#L2848">2848</span>
<span id="L2849" rel="#L2849">2849</span>
<span id="L2850" rel="#L2850">2850</span>
<span id="L2851" rel="#L2851">2851</span>
<span id="L2852" rel="#L2852">2852</span>
<span id="L2853" rel="#L2853">2853</span>
<span id="L2854" rel="#L2854">2854</span>
<span id="L2855" rel="#L2855">2855</span>
<span id="L2856" rel="#L2856">2856</span>
<span id="L2857" rel="#L2857">2857</span>
<span id="L2858" rel="#L2858">2858</span>
<span id="L2859" rel="#L2859">2859</span>
<span id="L2860" rel="#L2860">2860</span>
<span id="L2861" rel="#L2861">2861</span>
<span id="L2862" rel="#L2862">2862</span>
<span id="L2863" rel="#L2863">2863</span>
<span id="L2864" rel="#L2864">2864</span>
<span id="L2865" rel="#L2865">2865</span>
<span id="L2866" rel="#L2866">2866</span>
<span id="L2867" rel="#L2867">2867</span>
<span id="L2868" rel="#L2868">2868</span>
<span id="L2869" rel="#L2869">2869</span>
<span id="L2870" rel="#L2870">2870</span>
<span id="L2871" rel="#L2871">2871</span>
<span id="L2872" rel="#L2872">2872</span>
<span id="L2873" rel="#L2873">2873</span>
<span id="L2874" rel="#L2874">2874</span>
<span id="L2875" rel="#L2875">2875</span>
<span id="L2876" rel="#L2876">2876</span>
<span id="L2877" rel="#L2877">2877</span>
<span id="L2878" rel="#L2878">2878</span>
<span id="L2879" rel="#L2879">2879</span>
<span id="L2880" rel="#L2880">2880</span>
<span id="L2881" rel="#L2881">2881</span>
<span id="L2882" rel="#L2882">2882</span>
<span id="L2883" rel="#L2883">2883</span>
<span id="L2884" rel="#L2884">2884</span>
<span id="L2885" rel="#L2885">2885</span>
<span id="L2886" rel="#L2886">2886</span>
<span id="L2887" rel="#L2887">2887</span>
<span id="L2888" rel="#L2888">2888</span>
<span id="L2889" rel="#L2889">2889</span>
<span id="L2890" rel="#L2890">2890</span>
<span id="L2891" rel="#L2891">2891</span>
<span id="L2892" rel="#L2892">2892</span>
<span id="L2893" rel="#L2893">2893</span>
<span id="L2894" rel="#L2894">2894</span>
<span id="L2895" rel="#L2895">2895</span>
<span id="L2896" rel="#L2896">2896</span>
<span id="L2897" rel="#L2897">2897</span>
<span id="L2898" rel="#L2898">2898</span>
<span id="L2899" rel="#L2899">2899</span>
<span id="L2900" rel="#L2900">2900</span>
<span id="L2901" rel="#L2901">2901</span>
<span id="L2902" rel="#L2902">2902</span>
<span id="L2903" rel="#L2903">2903</span>
<span id="L2904" rel="#L2904">2904</span>
<span id="L2905" rel="#L2905">2905</span>
<span id="L2906" rel="#L2906">2906</span>
<span id="L2907" rel="#L2907">2907</span>
<span id="L2908" rel="#L2908">2908</span>
<span id="L2909" rel="#L2909">2909</span>
<span id="L2910" rel="#L2910">2910</span>
<span id="L2911" rel="#L2911">2911</span>
<span id="L2912" rel="#L2912">2912</span>
<span id="L2913" rel="#L2913">2913</span>
<span id="L2914" rel="#L2914">2914</span>
<span id="L2915" rel="#L2915">2915</span>
<span id="L2916" rel="#L2916">2916</span>
<span id="L2917" rel="#L2917">2917</span>
<span id="L2918" rel="#L2918">2918</span>
<span id="L2919" rel="#L2919">2919</span>
<span id="L2920" rel="#L2920">2920</span>
<span id="L2921" rel="#L2921">2921</span>
<span id="L2922" rel="#L2922">2922</span>
<span id="L2923" rel="#L2923">2923</span>
<span id="L2924" rel="#L2924">2924</span>
<span id="L2925" rel="#L2925">2925</span>
<span id="L2926" rel="#L2926">2926</span>
<span id="L2927" rel="#L2927">2927</span>
<span id="L2928" rel="#L2928">2928</span>
<span id="L2929" rel="#L2929">2929</span>
<span id="L2930" rel="#L2930">2930</span>
<span id="L2931" rel="#L2931">2931</span>
<span id="L2932" rel="#L2932">2932</span>
<span id="L2933" rel="#L2933">2933</span>
<span id="L2934" rel="#L2934">2934</span>
<span id="L2935" rel="#L2935">2935</span>
<span id="L2936" rel="#L2936">2936</span>
<span id="L2937" rel="#L2937">2937</span>
<span id="L2938" rel="#L2938">2938</span>
<span id="L2939" rel="#L2939">2939</span>
<span id="L2940" rel="#L2940">2940</span>
<span id="L2941" rel="#L2941">2941</span>
<span id="L2942" rel="#L2942">2942</span>
<span id="L2943" rel="#L2943">2943</span>
<span id="L2944" rel="#L2944">2944</span>
<span id="L2945" rel="#L2945">2945</span>
<span id="L2946" rel="#L2946">2946</span>
<span id="L2947" rel="#L2947">2947</span>
<span id="L2948" rel="#L2948">2948</span>
<span id="L2949" rel="#L2949">2949</span>
<span id="L2950" rel="#L2950">2950</span>
<span id="L2951" rel="#L2951">2951</span>
<span id="L2952" rel="#L2952">2952</span>
<span id="L2953" rel="#L2953">2953</span>
<span id="L2954" rel="#L2954">2954</span>
<span id="L2955" rel="#L2955">2955</span>
<span id="L2956" rel="#L2956">2956</span>
<span id="L2957" rel="#L2957">2957</span>
<span id="L2958" rel="#L2958">2958</span>
<span id="L2959" rel="#L2959">2959</span>
<span id="L2960" rel="#L2960">2960</span>
<span id="L2961" rel="#L2961">2961</span>
<span id="L2962" rel="#L2962">2962</span>
<span id="L2963" rel="#L2963">2963</span>
<span id="L2964" rel="#L2964">2964</span>
<span id="L2965" rel="#L2965">2965</span>
<span id="L2966" rel="#L2966">2966</span>
<span id="L2967" rel="#L2967">2967</span>
<span id="L2968" rel="#L2968">2968</span>
<span id="L2969" rel="#L2969">2969</span>
<span id="L2970" rel="#L2970">2970</span>
<span id="L2971" rel="#L2971">2971</span>
<span id="L2972" rel="#L2972">2972</span>
<span id="L2973" rel="#L2973">2973</span>
<span id="L2974" rel="#L2974">2974</span>
<span id="L2975" rel="#L2975">2975</span>
<span id="L2976" rel="#L2976">2976</span>
<span id="L2977" rel="#L2977">2977</span>
<span id="L2978" rel="#L2978">2978</span>
<span id="L2979" rel="#L2979">2979</span>
<span id="L2980" rel="#L2980">2980</span>
<span id="L2981" rel="#L2981">2981</span>
<span id="L2982" rel="#L2982">2982</span>
<span id="L2983" rel="#L2983">2983</span>
<span id="L2984" rel="#L2984">2984</span>
<span id="L2985" rel="#L2985">2985</span>
<span id="L2986" rel="#L2986">2986</span>
<span id="L2987" rel="#L2987">2987</span>
<span id="L2988" rel="#L2988">2988</span>
<span id="L2989" rel="#L2989">2989</span>
<span id="L2990" rel="#L2990">2990</span>
<span id="L2991" rel="#L2991">2991</span>
<span id="L2992" rel="#L2992">2992</span>
<span id="L2993" rel="#L2993">2993</span>
<span id="L2994" rel="#L2994">2994</span>
<span id="L2995" rel="#L2995">2995</span>
<span id="L2996" rel="#L2996">2996</span>
<span id="L2997" rel="#L2997">2997</span>
<span id="L2998" rel="#L2998">2998</span>
<span id="L2999" rel="#L2999">2999</span>
<span id="L3000" rel="#L3000">3000</span>
<span id="L3001" rel="#L3001">3001</span>
<span id="L3002" rel="#L3002">3002</span>
<span id="L3003" rel="#L3003">3003</span>
<span id="L3004" rel="#L3004">3004</span>
<span id="L3005" rel="#L3005">3005</span>
<span id="L3006" rel="#L3006">3006</span>
<span id="L3007" rel="#L3007">3007</span>
<span id="L3008" rel="#L3008">3008</span>
<span id="L3009" rel="#L3009">3009</span>
<span id="L3010" rel="#L3010">3010</span>
<span id="L3011" rel="#L3011">3011</span>
<span id="L3012" rel="#L3012">3012</span>
<span id="L3013" rel="#L3013">3013</span>
<span id="L3014" rel="#L3014">3014</span>
<span id="L3015" rel="#L3015">3015</span>
<span id="L3016" rel="#L3016">3016</span>
<span id="L3017" rel="#L3017">3017</span>
<span id="L3018" rel="#L3018">3018</span>
<span id="L3019" rel="#L3019">3019</span>
<span id="L3020" rel="#L3020">3020</span>
<span id="L3021" rel="#L3021">3021</span>
<span id="L3022" rel="#L3022">3022</span>
<span id="L3023" rel="#L3023">3023</span>
<span id="L3024" rel="#L3024">3024</span>
<span id="L3025" rel="#L3025">3025</span>
<span id="L3026" rel="#L3026">3026</span>
<span id="L3027" rel="#L3027">3027</span>
<span id="L3028" rel="#L3028">3028</span>
<span id="L3029" rel="#L3029">3029</span>
<span id="L3030" rel="#L3030">3030</span>
<span id="L3031" rel="#L3031">3031</span>
<span id="L3032" rel="#L3032">3032</span>
<span id="L3033" rel="#L3033">3033</span>
<span id="L3034" rel="#L3034">3034</span>
<span id="L3035" rel="#L3035">3035</span>
<span id="L3036" rel="#L3036">3036</span>
<span id="L3037" rel="#L3037">3037</span>
<span id="L3038" rel="#L3038">3038</span>
<span id="L3039" rel="#L3039">3039</span>
<span id="L3040" rel="#L3040">3040</span>
<span id="L3041" rel="#L3041">3041</span>
<span id="L3042" rel="#L3042">3042</span>
<span id="L3043" rel="#L3043">3043</span>
<span id="L3044" rel="#L3044">3044</span>
<span id="L3045" rel="#L3045">3045</span>
<span id="L3046" rel="#L3046">3046</span>
<span id="L3047" rel="#L3047">3047</span>
<span id="L3048" rel="#L3048">3048</span>
<span id="L3049" rel="#L3049">3049</span>
<span id="L3050" rel="#L3050">3050</span>
<span id="L3051" rel="#L3051">3051</span>
<span id="L3052" rel="#L3052">3052</span>
<span id="L3053" rel="#L3053">3053</span>
<span id="L3054" rel="#L3054">3054</span>
<span id="L3055" rel="#L3055">3055</span>
<span id="L3056" rel="#L3056">3056</span>
<span id="L3057" rel="#L3057">3057</span>
<span id="L3058" rel="#L3058">3058</span>
<span id="L3059" rel="#L3059">3059</span>
<span id="L3060" rel="#L3060">3060</span>
<span id="L3061" rel="#L3061">3061</span>
<span id="L3062" rel="#L3062">3062</span>
<span id="L3063" rel="#L3063">3063</span>
<span id="L3064" rel="#L3064">3064</span>
<span id="L3065" rel="#L3065">3065</span>
<span id="L3066" rel="#L3066">3066</span>
<span id="L3067" rel="#L3067">3067</span>
<span id="L3068" rel="#L3068">3068</span>
<span id="L3069" rel="#L3069">3069</span>
<span id="L3070" rel="#L3070">3070</span>
<span id="L3071" rel="#L3071">3071</span>
<span id="L3072" rel="#L3072">3072</span>
<span id="L3073" rel="#L3073">3073</span>
<span id="L3074" rel="#L3074">3074</span>
<span id="L3075" rel="#L3075">3075</span>
<span id="L3076" rel="#L3076">3076</span>
<span id="L3077" rel="#L3077">3077</span>
<span id="L3078" rel="#L3078">3078</span>
<span id="L3079" rel="#L3079">3079</span>
<span id="L3080" rel="#L3080">3080</span>
<span id="L3081" rel="#L3081">3081</span>
<span id="L3082" rel="#L3082">3082</span>
<span id="L3083" rel="#L3083">3083</span>
<span id="L3084" rel="#L3084">3084</span>
<span id="L3085" rel="#L3085">3085</span>
<span id="L3086" rel="#L3086">3086</span>
<span id="L3087" rel="#L3087">3087</span>
<span id="L3088" rel="#L3088">3088</span>
<span id="L3089" rel="#L3089">3089</span>
<span id="L3090" rel="#L3090">3090</span>
<span id="L3091" rel="#L3091">3091</span>
<span id="L3092" rel="#L3092">3092</span>
<span id="L3093" rel="#L3093">3093</span>
<span id="L3094" rel="#L3094">3094</span>
<span id="L3095" rel="#L3095">3095</span>
<span id="L3096" rel="#L3096">3096</span>
<span id="L3097" rel="#L3097">3097</span>
<span id="L3098" rel="#L3098">3098</span>
<span id="L3099" rel="#L3099">3099</span>
<span id="L3100" rel="#L3100">3100</span>
<span id="L3101" rel="#L3101">3101</span>
<span id="L3102" rel="#L3102">3102</span>
<span id="L3103" rel="#L3103">3103</span>
<span id="L3104" rel="#L3104">3104</span>
<span id="L3105" rel="#L3105">3105</span>
<span id="L3106" rel="#L3106">3106</span>
<span id="L3107" rel="#L3107">3107</span>
<span id="L3108" rel="#L3108">3108</span>
<span id="L3109" rel="#L3109">3109</span>
<span id="L3110" rel="#L3110">3110</span>
<span id="L3111" rel="#L3111">3111</span>
<span id="L3112" rel="#L3112">3112</span>
<span id="L3113" rel="#L3113">3113</span>
<span id="L3114" rel="#L3114">3114</span>
<span id="L3115" rel="#L3115">3115</span>
<span id="L3116" rel="#L3116">3116</span>
<span id="L3117" rel="#L3117">3117</span>
<span id="L3118" rel="#L3118">3118</span>
<span id="L3119" rel="#L3119">3119</span>
<span id="L3120" rel="#L3120">3120</span>
<span id="L3121" rel="#L3121">3121</span>
<span id="L3122" rel="#L3122">3122</span>
<span id="L3123" rel="#L3123">3123</span>
<span id="L3124" rel="#L3124">3124</span>
<span id="L3125" rel="#L3125">3125</span>
<span id="L3126" rel="#L3126">3126</span>
<span id="L3127" rel="#L3127">3127</span>
<span id="L3128" rel="#L3128">3128</span>
<span id="L3129" rel="#L3129">3129</span>
<span id="L3130" rel="#L3130">3130</span>
<span id="L3131" rel="#L3131">3131</span>
<span id="L3132" rel="#L3132">3132</span>
<span id="L3133" rel="#L3133">3133</span>
<span id="L3134" rel="#L3134">3134</span>
<span id="L3135" rel="#L3135">3135</span>
<span id="L3136" rel="#L3136">3136</span>
<span id="L3137" rel="#L3137">3137</span>
<span id="L3138" rel="#L3138">3138</span>
<span id="L3139" rel="#L3139">3139</span>
<span id="L3140" rel="#L3140">3140</span>
<span id="L3141" rel="#L3141">3141</span>
<span id="L3142" rel="#L3142">3142</span>
<span id="L3143" rel="#L3143">3143</span>
<span id="L3144" rel="#L3144">3144</span>
<span id="L3145" rel="#L3145">3145</span>
<span id="L3146" rel="#L3146">3146</span>
<span id="L3147" rel="#L3147">3147</span>
<span id="L3148" rel="#L3148">3148</span>
<span id="L3149" rel="#L3149">3149</span>
<span id="L3150" rel="#L3150">3150</span>
<span id="L3151" rel="#L3151">3151</span>
<span id="L3152" rel="#L3152">3152</span>
<span id="L3153" rel="#L3153">3153</span>
<span id="L3154" rel="#L3154">3154</span>
<span id="L3155" rel="#L3155">3155</span>
<span id="L3156" rel="#L3156">3156</span>
<span id="L3157" rel="#L3157">3157</span>
<span id="L3158" rel="#L3158">3158</span>
<span id="L3159" rel="#L3159">3159</span>
<span id="L3160" rel="#L3160">3160</span>
<span id="L3161" rel="#L3161">3161</span>
<span id="L3162" rel="#L3162">3162</span>
<span id="L3163" rel="#L3163">3163</span>
<span id="L3164" rel="#L3164">3164</span>
<span id="L3165" rel="#L3165">3165</span>
<span id="L3166" rel="#L3166">3166</span>
<span id="L3167" rel="#L3167">3167</span>
<span id="L3168" rel="#L3168">3168</span>
<span id="L3169" rel="#L3169">3169</span>
<span id="L3170" rel="#L3170">3170</span>
<span id="L3171" rel="#L3171">3171</span>
<span id="L3172" rel="#L3172">3172</span>
<span id="L3173" rel="#L3173">3173</span>
<span id="L3174" rel="#L3174">3174</span>
<span id="L3175" rel="#L3175">3175</span>
<span id="L3176" rel="#L3176">3176</span>
<span id="L3177" rel="#L3177">3177</span>
<span id="L3178" rel="#L3178">3178</span>
<span id="L3179" rel="#L3179">3179</span>
<span id="L3180" rel="#L3180">3180</span>
<span id="L3181" rel="#L3181">3181</span>
<span id="L3182" rel="#L3182">3182</span>
<span id="L3183" rel="#L3183">3183</span>
<span id="L3184" rel="#L3184">3184</span>
<span id="L3185" rel="#L3185">3185</span>
<span id="L3186" rel="#L3186">3186</span>
<span id="L3187" rel="#L3187">3187</span>
<span id="L3188" rel="#L3188">3188</span>
<span id="L3189" rel="#L3189">3189</span>
<span id="L3190" rel="#L3190">3190</span>
<span id="L3191" rel="#L3191">3191</span>
<span id="L3192" rel="#L3192">3192</span>
<span id="L3193" rel="#L3193">3193</span>
<span id="L3194" rel="#L3194">3194</span>
<span id="L3195" rel="#L3195">3195</span>
<span id="L3196" rel="#L3196">3196</span>
<span id="L3197" rel="#L3197">3197</span>
<span id="L3198" rel="#L3198">3198</span>
<span id="L3199" rel="#L3199">3199</span>
<span id="L3200" rel="#L3200">3200</span>
<span id="L3201" rel="#L3201">3201</span>
<span id="L3202" rel="#L3202">3202</span>
<span id="L3203" rel="#L3203">3203</span>
<span id="L3204" rel="#L3204">3204</span>
<span id="L3205" rel="#L3205">3205</span>
<span id="L3206" rel="#L3206">3206</span>
<span id="L3207" rel="#L3207">3207</span>
<span id="L3208" rel="#L3208">3208</span>
<span id="L3209" rel="#L3209">3209</span>
<span id="L3210" rel="#L3210">3210</span>
<span id="L3211" rel="#L3211">3211</span>
<span id="L3212" rel="#L3212">3212</span>
<span id="L3213" rel="#L3213">3213</span>
<span id="L3214" rel="#L3214">3214</span>
<span id="L3215" rel="#L3215">3215</span>
<span id="L3216" rel="#L3216">3216</span>
<span id="L3217" rel="#L3217">3217</span>
<span id="L3218" rel="#L3218">3218</span>
<span id="L3219" rel="#L3219">3219</span>
<span id="L3220" rel="#L3220">3220</span>
<span id="L3221" rel="#L3221">3221</span>
<span id="L3222" rel="#L3222">3222</span>
<span id="L3223" rel="#L3223">3223</span>
<span id="L3224" rel="#L3224">3224</span>
<span id="L3225" rel="#L3225">3225</span>
<span id="L3226" rel="#L3226">3226</span>
<span id="L3227" rel="#L3227">3227</span>
<span id="L3228" rel="#L3228">3228</span>
<span id="L3229" rel="#L3229">3229</span>
<span id="L3230" rel="#L3230">3230</span>
<span id="L3231" rel="#L3231">3231</span>
<span id="L3232" rel="#L3232">3232</span>
<span id="L3233" rel="#L3233">3233</span>
<span id="L3234" rel="#L3234">3234</span>
<span id="L3235" rel="#L3235">3235</span>
<span id="L3236" rel="#L3236">3236</span>
<span id="L3237" rel="#L3237">3237</span>
<span id="L3238" rel="#L3238">3238</span>
<span id="L3239" rel="#L3239">3239</span>
<span id="L3240" rel="#L3240">3240</span>
<span id="L3241" rel="#L3241">3241</span>
<span id="L3242" rel="#L3242">3242</span>
<span id="L3243" rel="#L3243">3243</span>
<span id="L3244" rel="#L3244">3244</span>
<span id="L3245" rel="#L3245">3245</span>
<span id="L3246" rel="#L3246">3246</span>
<span id="L3247" rel="#L3247">3247</span>
<span id="L3248" rel="#L3248">3248</span>
<span id="L3249" rel="#L3249">3249</span>
<span id="L3250" rel="#L3250">3250</span>
<span id="L3251" rel="#L3251">3251</span>
<span id="L3252" rel="#L3252">3252</span>
<span id="L3253" rel="#L3253">3253</span>
<span id="L3254" rel="#L3254">3254</span>
<span id="L3255" rel="#L3255">3255</span>
<span id="L3256" rel="#L3256">3256</span>
<span id="L3257" rel="#L3257">3257</span>
<span id="L3258" rel="#L3258">3258</span>
<span id="L3259" rel="#L3259">3259</span>
<span id="L3260" rel="#L3260">3260</span>
<span id="L3261" rel="#L3261">3261</span>
<span id="L3262" rel="#L3262">3262</span>
<span id="L3263" rel="#L3263">3263</span>
<span id="L3264" rel="#L3264">3264</span>
<span id="L3265" rel="#L3265">3265</span>
<span id="L3266" rel="#L3266">3266</span>
<span id="L3267" rel="#L3267">3267</span>
<span id="L3268" rel="#L3268">3268</span>
<span id="L3269" rel="#L3269">3269</span>
<span id="L3270" rel="#L3270">3270</span>
<span id="L3271" rel="#L3271">3271</span>
<span id="L3272" rel="#L3272">3272</span>
<span id="L3273" rel="#L3273">3273</span>
<span id="L3274" rel="#L3274">3274</span>
<span id="L3275" rel="#L3275">3275</span>
<span id="L3276" rel="#L3276">3276</span>
<span id="L3277" rel="#L3277">3277</span>
<span id="L3278" rel="#L3278">3278</span>
<span id="L3279" rel="#L3279">3279</span>
<span id="L3280" rel="#L3280">3280</span>
<span id="L3281" rel="#L3281">3281</span>
<span id="L3282" rel="#L3282">3282</span>
<span id="L3283" rel="#L3283">3283</span>
<span id="L3284" rel="#L3284">3284</span>
<span id="L3285" rel="#L3285">3285</span>
<span id="L3286" rel="#L3286">3286</span>
<span id="L3287" rel="#L3287">3287</span>
<span id="L3288" rel="#L3288">3288</span>
<span id="L3289" rel="#L3289">3289</span>
<span id="L3290" rel="#L3290">3290</span>
<span id="L3291" rel="#L3291">3291</span>
<span id="L3292" rel="#L3292">3292</span>
<span id="L3293" rel="#L3293">3293</span>
<span id="L3294" rel="#L3294">3294</span>
<span id="L3295" rel="#L3295">3295</span>
<span id="L3296" rel="#L3296">3296</span>
<span id="L3297" rel="#L3297">3297</span>
<span id="L3298" rel="#L3298">3298</span>
<span id="L3299" rel="#L3299">3299</span>
<span id="L3300" rel="#L3300">3300</span>
<span id="L3301" rel="#L3301">3301</span>
<span id="L3302" rel="#L3302">3302</span>
<span id="L3303" rel="#L3303">3303</span>
<span id="L3304" rel="#L3304">3304</span>
<span id="L3305" rel="#L3305">3305</span>
<span id="L3306" rel="#L3306">3306</span>

            </td>
            <td class="blob-line-code"><div class="code-body highlight"><pre><div class='line' id='LC1'>{</div><div class='line' id='LC2'>&nbsp;&quot;metadata&quot;: {</div><div class='line' id='LC3'>&nbsp;&nbsp;&quot;name&quot;: &quot;exploring_r_formula&quot;</div><div class='line' id='LC4'>&nbsp;},</div><div class='line' id='LC5'>&nbsp;&quot;nbformat&quot;: 3,</div><div class='line' id='LC6'>&nbsp;&quot;nbformat_minor&quot;: 0,</div><div class='line' id='LC7'>&nbsp;&quot;worksheets&quot;: [</div><div class='line' id='LC8'>&nbsp;&nbsp;{</div><div class='line' id='LC9'>&nbsp;&nbsp;&nbsp;&quot;cells&quot;: [</div><div class='line' id='LC10'>&nbsp;&nbsp;&nbsp;&nbsp;{</div><div class='line' id='LC11'>&nbsp;&nbsp;&nbsp;&nbsp;&nbsp;&quot;cell_type&quot;: &quot;markdown&quot;,</div><div class='line' id='LC12'>&nbsp;&nbsp;&nbsp;&nbsp;&nbsp;&quot;metadata&quot;: {},</div><div class='line' id='LC13'>&nbsp;&nbsp;&nbsp;&nbsp;&nbsp;&quot;source&quot;: [</div><div class='line' id='LC14'>&nbsp;&nbsp;&nbsp;&nbsp;&nbsp;&nbsp;&quot;In which I try to explain the `R` formula object.&quot;</div><div class='line' id='LC15'>&nbsp;&nbsp;&nbsp;&nbsp;&nbsp;]</div><div class='line' id='LC16'>&nbsp;&nbsp;&nbsp;&nbsp;},</div><div class='line' id='LC17'>&nbsp;&nbsp;&nbsp;&nbsp;{</div><div class='line' id='LC18'>&nbsp;&nbsp;&nbsp;&nbsp;&nbsp;&quot;cell_type&quot;: &quot;heading&quot;,</div><div class='line' id='LC19'>&nbsp;&nbsp;&nbsp;&nbsp;&nbsp;&quot;level&quot;: 2,</div><div class='line' id='LC20'>&nbsp;&nbsp;&nbsp;&nbsp;&nbsp;&quot;metadata&quot;: {},</div><div class='line' id='LC21'>&nbsp;&nbsp;&nbsp;&nbsp;&nbsp;&quot;source&quot;: [</div><div class='line' id='LC22'>&nbsp;&nbsp;&nbsp;&nbsp;&nbsp;&nbsp;&quot;What is an R formula?&quot;</div><div class='line' id='LC23'>&nbsp;&nbsp;&nbsp;&nbsp;&nbsp;]</div><div class='line' id='LC24'>&nbsp;&nbsp;&nbsp;&nbsp;},</div><div class='line' id='LC25'>&nbsp;&nbsp;&nbsp;&nbsp;{</div><div class='line' id='LC26'>&nbsp;&nbsp;&nbsp;&nbsp;&nbsp;&quot;cell_type&quot;: &quot;markdown&quot;,</div><div class='line' id='LC27'>&nbsp;&nbsp;&nbsp;&nbsp;&nbsp;&quot;metadata&quot;: {},</div><div class='line' id='LC28'>&nbsp;&nbsp;&nbsp;&nbsp;&nbsp;&quot;source&quot;: [</div><div class='line' id='LC29'>&nbsp;&nbsp;&nbsp;&nbsp;&nbsp;&nbsp;&quot;The standard reference on `R` / `S` models is Chapter 2 \&quot;Statistical Models\&quot; in \&quot;Statistical models in S\&quot;, by John M. Chambers and Trevor J. Hastie (1992). I&#39;ll call this \&quot;S models chapter 2\&quot;.\n&quot;,</div><div class='line' id='LC30'>&nbsp;&nbsp;&nbsp;&nbsp;&nbsp;&nbsp;&quot;\n&quot;,</div><div class='line' id='LC31'>&nbsp;&nbsp;&nbsp;&nbsp;&nbsp;&nbsp;&quot;&gt; \&quot;Formulas as discussed here follow generally the style of Wilkinson and Rogers (1973), and subsequently adopted by many statistical programs such as `GLIM` and `GENSTAT`.  While originally introduced in the context of the analysis of variance, the notation is in fact just a shorthand for expressing the set of terms defined separately and jointly by a number of variables, typically factors.\&quot; (section 2.3.1 of S models chapter 2)&quot;</div><div class='line' id='LC32'>&nbsp;&nbsp;&nbsp;&nbsp;&nbsp;]</div><div class='line' id='LC33'>&nbsp;&nbsp;&nbsp;&nbsp;},</div><div class='line' id='LC34'>&nbsp;&nbsp;&nbsp;&nbsp;{</div><div class='line' id='LC35'>&nbsp;&nbsp;&nbsp;&nbsp;&nbsp;&quot;cell_type&quot;: &quot;markdown&quot;,</div><div class='line' id='LC36'>&nbsp;&nbsp;&nbsp;&nbsp;&nbsp;&quot;metadata&quot;: {},</div><div class='line' id='LC37'>&nbsp;&nbsp;&nbsp;&nbsp;&nbsp;&quot;source&quot;: [</div><div class='line' id='LC38'>&nbsp;&nbsp;&nbsp;&nbsp;&nbsp;&nbsp;&quot;Most of the time we&#39;ll be looking at the relationship of the R `formula` to the design matrix for a linear model.\n&quot;,</div><div class='line' id='LC39'>&nbsp;&nbsp;&nbsp;&nbsp;&nbsp;&nbsp;&quot;\n&quot;,</div><div class='line' id='LC40'>&nbsp;&nbsp;&nbsp;&nbsp;&nbsp;&nbsp;&quot;To start with, we&#39;re only going to be using the most basic operators in R&#39;s formula syntax, which are `+` and `:`.  `a + b` means \&quot;include both of terms `a` and `b` in the model\&quot;, and `a:b` means \&quot;model interaction between term `a` and term `b`\&quot;.  There are various other operators that we&#39;ll list later, that can be expressed in terms of the `+` and the `:`.&quot;</div><div class='line' id='LC41'>&nbsp;&nbsp;&nbsp;&nbsp;&nbsp;]</div><div class='line' id='LC42'>&nbsp;&nbsp;&nbsp;&nbsp;},</div><div class='line' id='LC43'>&nbsp;&nbsp;&nbsp;&nbsp;{</div><div class='line' id='LC44'>&nbsp;&nbsp;&nbsp;&nbsp;&nbsp;&quot;cell_type&quot;: &quot;heading&quot;,</div><div class='line' id='LC45'>&nbsp;&nbsp;&nbsp;&nbsp;&nbsp;&quot;level&quot;: 2,</div><div class='line' id='LC46'>&nbsp;&nbsp;&nbsp;&nbsp;&nbsp;&quot;metadata&quot;: {},</div><div class='line' id='LC47'>&nbsp;&nbsp;&nbsp;&nbsp;&nbsp;&quot;source&quot;: [</div><div class='line' id='LC48'>&nbsp;&nbsp;&nbsp;&nbsp;&nbsp;&nbsp;&quot;Some code we need to get started&quot;</div><div class='line' id='LC49'>&nbsp;&nbsp;&nbsp;&nbsp;&nbsp;]</div><div class='line' id='LC50'>&nbsp;&nbsp;&nbsp;&nbsp;},</div><div class='line' id='LC51'>&nbsp;&nbsp;&nbsp;&nbsp;{</div><div class='line' id='LC52'>&nbsp;&nbsp;&nbsp;&nbsp;&nbsp;&quot;cell_type&quot;: &quot;markdown&quot;,</div><div class='line' id='LC53'>&nbsp;&nbsp;&nbsp;&nbsp;&nbsp;&quot;metadata&quot;: {},</div><div class='line' id='LC54'>&nbsp;&nbsp;&nbsp;&nbsp;&nbsp;&quot;source&quot;: [</div><div class='line' id='LC55'>&nbsp;&nbsp;&nbsp;&nbsp;&nbsp;&nbsp;&quot;First we start numpy for the array routines and matplotlib for the figures&quot;</div><div class='line' id='LC56'>&nbsp;&nbsp;&nbsp;&nbsp;&nbsp;]</div><div class='line' id='LC57'>&nbsp;&nbsp;&nbsp;&nbsp;},</div><div class='line' id='LC58'>&nbsp;&nbsp;&nbsp;&nbsp;{</div><div class='line' id='LC59'>&nbsp;&nbsp;&nbsp;&nbsp;&nbsp;&quot;cell_type&quot;: &quot;code&quot;,</div><div class='line' id='LC60'>&nbsp;&nbsp;&nbsp;&nbsp;&nbsp;&quot;collapsed&quot;: false,</div><div class='line' id='LC61'>&nbsp;&nbsp;&nbsp;&nbsp;&nbsp;&quot;input&quot;: [</div><div class='line' id='LC62'>&nbsp;&nbsp;&nbsp;&nbsp;&nbsp;&nbsp;&quot;%pylab inline&quot;</div><div class='line' id='LC63'>&nbsp;&nbsp;&nbsp;&nbsp;&nbsp;],</div><div class='line' id='LC64'>&nbsp;&nbsp;&nbsp;&nbsp;&nbsp;&quot;language&quot;: &quot;python&quot;,</div><div class='line' id='LC65'>&nbsp;&nbsp;&nbsp;&nbsp;&nbsp;&quot;metadata&quot;: {},</div><div class='line' id='LC66'>&nbsp;&nbsp;&nbsp;&nbsp;&nbsp;&quot;outputs&quot;: [</div><div class='line' id='LC67'>&nbsp;&nbsp;&nbsp;&nbsp;&nbsp;&nbsp;{</div><div class='line' id='LC68'>&nbsp;&nbsp;&nbsp;&nbsp;&nbsp;&nbsp;&nbsp;&quot;output_type&quot;: &quot;stream&quot;,</div><div class='line' id='LC69'>&nbsp;&nbsp;&nbsp;&nbsp;&nbsp;&nbsp;&nbsp;&quot;stream&quot;: &quot;stdout&quot;,</div><div class='line' id='LC70'>&nbsp;&nbsp;&nbsp;&nbsp;&nbsp;&nbsp;&nbsp;&quot;text&quot;: [</div><div class='line' id='LC71'>&nbsp;&nbsp;&nbsp;&nbsp;&nbsp;&nbsp;&nbsp;&nbsp;&quot;\n&quot;,</div><div class='line' id='LC72'>&nbsp;&nbsp;&nbsp;&nbsp;&nbsp;&nbsp;&nbsp;&nbsp;&quot;Welcome to pylab, a matplotlib-based Python environment [backend: module://IPython.zmq.pylab.backend_inline].\n&quot;,</div><div class='line' id='LC73'>&nbsp;&nbsp;&nbsp;&nbsp;&nbsp;&nbsp;&nbsp;&nbsp;&quot;For more information, type &#39;help(pylab)&#39;.\n&quot;</div><div class='line' id='LC74'>&nbsp;&nbsp;&nbsp;&nbsp;&nbsp;&nbsp;&nbsp;]</div><div class='line' id='LC75'>&nbsp;&nbsp;&nbsp;&nbsp;&nbsp;&nbsp;}</div><div class='line' id='LC76'>&nbsp;&nbsp;&nbsp;&nbsp;&nbsp;],</div><div class='line' id='LC77'>&nbsp;&nbsp;&nbsp;&nbsp;&nbsp;&quot;prompt_number&quot;: 1</div><div class='line' id='LC78'>&nbsp;&nbsp;&nbsp;&nbsp;},</div><div class='line' id='LC79'>&nbsp;&nbsp;&nbsp;&nbsp;{</div><div class='line' id='LC80'>&nbsp;&nbsp;&nbsp;&nbsp;&nbsp;&quot;cell_type&quot;: &quot;markdown&quot;,</div><div class='line' id='LC81'>&nbsp;&nbsp;&nbsp;&nbsp;&nbsp;&quot;metadata&quot;: {},</div><div class='line' id='LC82'>&nbsp;&nbsp;&nbsp;&nbsp;&nbsp;&quot;source&quot;: [</div><div class='line' id='LC83'>&nbsp;&nbsp;&nbsp;&nbsp;&nbsp;&nbsp;&quot;Actually, we get the following imports from the `pylab` command above, but just to be clear&quot;</div><div class='line' id='LC84'>&nbsp;&nbsp;&nbsp;&nbsp;&nbsp;]</div><div class='line' id='LC85'>&nbsp;&nbsp;&nbsp;&nbsp;},</div><div class='line' id='LC86'>&nbsp;&nbsp;&nbsp;&nbsp;{</div><div class='line' id='LC87'>&nbsp;&nbsp;&nbsp;&nbsp;&nbsp;&quot;cell_type&quot;: &quot;code&quot;,</div><div class='line' id='LC88'>&nbsp;&nbsp;&nbsp;&nbsp;&nbsp;&quot;collapsed&quot;: false,</div><div class='line' id='LC89'>&nbsp;&nbsp;&nbsp;&nbsp;&nbsp;&quot;input&quot;: [</div><div class='line' id='LC90'>&nbsp;&nbsp;&nbsp;&nbsp;&nbsp;&nbsp;&quot;import numpy as np\n&quot;,</div><div class='line' id='LC91'>&nbsp;&nbsp;&nbsp;&nbsp;&nbsp;&nbsp;&quot;import matplotlib.pylab as plt&quot;</div><div class='line' id='LC92'>&nbsp;&nbsp;&nbsp;&nbsp;&nbsp;],</div><div class='line' id='LC93'>&nbsp;&nbsp;&nbsp;&nbsp;&nbsp;&quot;language&quot;: &quot;python&quot;,</div><div class='line' id='LC94'>&nbsp;&nbsp;&nbsp;&nbsp;&nbsp;&quot;metadata&quot;: {},</div><div class='line' id='LC95'>&nbsp;&nbsp;&nbsp;&nbsp;&nbsp;&quot;outputs&quot;: [],</div><div class='line' id='LC96'>&nbsp;&nbsp;&nbsp;&nbsp;&nbsp;&quot;prompt_number&quot;: 2</div><div class='line' id='LC97'>&nbsp;&nbsp;&nbsp;&nbsp;},</div><div class='line' id='LC98'>&nbsp;&nbsp;&nbsp;&nbsp;{</div><div class='line' id='LC99'>&nbsp;&nbsp;&nbsp;&nbsp;&nbsp;&quot;cell_type&quot;: &quot;markdown&quot;,</div><div class='line' id='LC100'>&nbsp;&nbsp;&nbsp;&nbsp;&nbsp;&quot;metadata&quot;: {},</div><div class='line' id='LC101'>&nbsp;&nbsp;&nbsp;&nbsp;&nbsp;&quot;source&quot;: [</div><div class='line' id='LC102'>&nbsp;&nbsp;&nbsp;&nbsp;&nbsp;&nbsp;&quot;Next we start the extension to allow us to embed R commands in the notebook&quot;</div><div class='line' id='LC103'>&nbsp;&nbsp;&nbsp;&nbsp;&nbsp;]</div><div class='line' id='LC104'>&nbsp;&nbsp;&nbsp;&nbsp;},</div><div class='line' id='LC105'>&nbsp;&nbsp;&nbsp;&nbsp;{</div><div class='line' id='LC106'>&nbsp;&nbsp;&nbsp;&nbsp;&nbsp;&quot;cell_type&quot;: &quot;code&quot;,</div><div class='line' id='LC107'>&nbsp;&nbsp;&nbsp;&nbsp;&nbsp;&quot;collapsed&quot;: false,</div><div class='line' id='LC108'>&nbsp;&nbsp;&nbsp;&nbsp;&nbsp;&quot;input&quot;: [</div><div class='line' id='LC109'>&nbsp;&nbsp;&nbsp;&nbsp;&nbsp;&nbsp;&quot;%load_ext rmagic&quot;</div><div class='line' id='LC110'>&nbsp;&nbsp;&nbsp;&nbsp;&nbsp;],</div><div class='line' id='LC111'>&nbsp;&nbsp;&nbsp;&nbsp;&nbsp;&quot;language&quot;: &quot;python&quot;,</div><div class='line' id='LC112'>&nbsp;&nbsp;&nbsp;&nbsp;&nbsp;&quot;metadata&quot;: {},</div><div class='line' id='LC113'>&nbsp;&nbsp;&nbsp;&nbsp;&nbsp;&quot;outputs&quot;: [],</div><div class='line' id='LC114'>&nbsp;&nbsp;&nbsp;&nbsp;&nbsp;&quot;prompt_number&quot;: 3</div><div class='line' id='LC115'>&nbsp;&nbsp;&nbsp;&nbsp;},</div><div class='line' id='LC116'>&nbsp;&nbsp;&nbsp;&nbsp;{</div><div class='line' id='LC117'>&nbsp;&nbsp;&nbsp;&nbsp;&nbsp;&quot;cell_type&quot;: &quot;markdown&quot;,</div><div class='line' id='LC118'>&nbsp;&nbsp;&nbsp;&nbsp;&nbsp;&quot;metadata&quot;: {},</div><div class='line' id='LC119'>&nbsp;&nbsp;&nbsp;&nbsp;&nbsp;&quot;source&quot;: [</div><div class='line' id='LC120'>&nbsp;&nbsp;&nbsp;&nbsp;&nbsp;&nbsp;&quot;I&#39;m used to looking at design matrices as image plots, and to do that, I need some little utility functions for matplotlib&quot;</div><div class='line' id='LC121'>&nbsp;&nbsp;&nbsp;&nbsp;&nbsp;]</div><div class='line' id='LC122'>&nbsp;&nbsp;&nbsp;&nbsp;},</div><div class='line' id='LC123'>&nbsp;&nbsp;&nbsp;&nbsp;{</div><div class='line' id='LC124'>&nbsp;&nbsp;&nbsp;&nbsp;&nbsp;&quot;cell_type&quot;: &quot;code&quot;,</div><div class='line' id='LC125'>&nbsp;&nbsp;&nbsp;&nbsp;&nbsp;&quot;collapsed&quot;: false,</div><div class='line' id='LC126'>&nbsp;&nbsp;&nbsp;&nbsp;&nbsp;&quot;input&quot;: [</div><div class='line' id='LC127'>&nbsp;&nbsp;&nbsp;&nbsp;&nbsp;&nbsp;&quot;def scale_design_mtx(X):\n&quot;,</div><div class='line' id='LC128'>&nbsp;&nbsp;&nbsp;&nbsp;&nbsp;&nbsp;&quot;    \&quot;\&quot;\&quot;utility to scale the design matrix for display\&quot;\&quot;\&quot;\n&quot;,</div><div class='line' id='LC129'>&nbsp;&nbsp;&nbsp;&nbsp;&nbsp;&nbsp;&quot;    mi, ma = X.min(axis=0), X.max(axis=0)\n&quot;,</div><div class='line' id='LC130'>&nbsp;&nbsp;&nbsp;&nbsp;&nbsp;&nbsp;&quot;    col_neq = (ma - mi) &gt; 1.e-8\n&quot;,</div><div class='line' id='LC131'>&nbsp;&nbsp;&nbsp;&nbsp;&nbsp;&nbsp;&quot;    Xs = np.ones_like(X)\n&quot;,</div><div class='line' id='LC132'>&nbsp;&nbsp;&nbsp;&nbsp;&nbsp;&nbsp;&quot;    mi = mi[col_neq]\n&quot;,</div><div class='line' id='LC133'>&nbsp;&nbsp;&nbsp;&nbsp;&nbsp;&nbsp;&quot;    ma = ma[col_neq]\n&quot;,</div><div class='line' id='LC134'>&nbsp;&nbsp;&nbsp;&nbsp;&nbsp;&nbsp;&quot;    Xs[:,col_neq] = (X[:,col_neq] - mi)/(ma - mi)\n&quot;,</div><div class='line' id='LC135'>&nbsp;&nbsp;&nbsp;&nbsp;&nbsp;&nbsp;&quot;    return Xs&quot;</div><div class='line' id='LC136'>&nbsp;&nbsp;&nbsp;&nbsp;&nbsp;],</div><div class='line' id='LC137'>&nbsp;&nbsp;&nbsp;&nbsp;&nbsp;&quot;language&quot;: &quot;python&quot;,</div><div class='line' id='LC138'>&nbsp;&nbsp;&nbsp;&nbsp;&nbsp;&quot;metadata&quot;: {},</div><div class='line' id='LC139'>&nbsp;&nbsp;&nbsp;&nbsp;&nbsp;&quot;outputs&quot;: [],</div><div class='line' id='LC140'>&nbsp;&nbsp;&nbsp;&nbsp;&nbsp;&quot;prompt_number&quot;: 4</div><div class='line' id='LC141'>&nbsp;&nbsp;&nbsp;&nbsp;},</div><div class='line' id='LC142'>&nbsp;&nbsp;&nbsp;&nbsp;{</div><div class='line' id='LC143'>&nbsp;&nbsp;&nbsp;&nbsp;&nbsp;&quot;cell_type&quot;: &quot;code&quot;,</div><div class='line' id='LC144'>&nbsp;&nbsp;&nbsp;&nbsp;&nbsp;&quot;collapsed&quot;: false,</div><div class='line' id='LC145'>&nbsp;&nbsp;&nbsp;&nbsp;&nbsp;&quot;input&quot;: [</div><div class='line' id='LC146'>&nbsp;&nbsp;&nbsp;&nbsp;&nbsp;&nbsp;&quot;def show_x(X, title=&#39;Design matrix&#39;):\n&quot;,</div><div class='line' id='LC147'>&nbsp;&nbsp;&nbsp;&nbsp;&nbsp;&nbsp;&quot;    \&quot;\&quot;\&quot; Utility to show a design matrix \&quot;\&quot;\&quot;\n&quot;,</div><div class='line' id='LC148'>&nbsp;&nbsp;&nbsp;&nbsp;&nbsp;&nbsp;&quot;    N, P = X.shape\n&quot;,</div><div class='line' id='LC149'>&nbsp;&nbsp;&nbsp;&nbsp;&nbsp;&nbsp;&quot;    plt.imshow(scale_design_mtx(X), interpolation=&#39;nearest&#39;, cmap=plt.cm.gray)\n&quot;,</div><div class='line' id='LC150'>&nbsp;&nbsp;&nbsp;&nbsp;&nbsp;&nbsp;&quot;    plt.title(title)\n&quot;,</div><div class='line' id='LC151'>&nbsp;&nbsp;&nbsp;&nbsp;&nbsp;&nbsp;&quot;    # Only integer ticks for the design matrix columns\n&quot;,</div><div class='line' id='LC152'>&nbsp;&nbsp;&nbsp;&nbsp;&nbsp;&nbsp;&quot;    ax = plt.gca()\n&quot;,</div><div class='line' id='LC153'>&nbsp;&nbsp;&nbsp;&nbsp;&nbsp;&nbsp;&quot;    ticks = ax.get_xticks()\n&quot;,</div><div class='line' id='LC154'>&nbsp;&nbsp;&nbsp;&nbsp;&nbsp;&nbsp;&quot;    ax.set_xticks(ticks[(ticks == np.round(ticks)) &amp; (ticks &gt;= 0)])\n&quot;,</div><div class='line' id='LC155'>&nbsp;&nbsp;&nbsp;&nbsp;&nbsp;&nbsp;&quot;    ax.set_xlim(-0.5, P-0.5)&quot;</div><div class='line' id='LC156'>&nbsp;&nbsp;&nbsp;&nbsp;&nbsp;],</div><div class='line' id='LC157'>&nbsp;&nbsp;&nbsp;&nbsp;&nbsp;&quot;language&quot;: &quot;python&quot;,</div><div class='line' id='LC158'>&nbsp;&nbsp;&nbsp;&nbsp;&nbsp;&quot;metadata&quot;: {},</div><div class='line' id='LC159'>&nbsp;&nbsp;&nbsp;&nbsp;&nbsp;&quot;outputs&quot;: [],</div><div class='line' id='LC160'>&nbsp;&nbsp;&nbsp;&nbsp;&nbsp;&quot;prompt_number&quot;: 5</div><div class='line' id='LC161'>&nbsp;&nbsp;&nbsp;&nbsp;},</div><div class='line' id='LC162'>&nbsp;&nbsp;&nbsp;&nbsp;{</div><div class='line' id='LC163'>&nbsp;&nbsp;&nbsp;&nbsp;&nbsp;&quot;cell_type&quot;: &quot;markdown&quot;,</div><div class='line' id='LC164'>&nbsp;&nbsp;&nbsp;&nbsp;&nbsp;&quot;metadata&quot;: {},</div><div class='line' id='LC165'>&nbsp;&nbsp;&nbsp;&nbsp;&nbsp;&quot;source&quot;: [</div><div class='line' id='LC166'>&nbsp;&nbsp;&nbsp;&nbsp;&nbsp;&nbsp;&quot;Let&#39;s test that with a fake design matrix&quot;</div><div class='line' id='LC167'>&nbsp;&nbsp;&nbsp;&nbsp;&nbsp;]</div><div class='line' id='LC168'>&nbsp;&nbsp;&nbsp;&nbsp;},</div><div class='line' id='LC169'>&nbsp;&nbsp;&nbsp;&nbsp;{</div><div class='line' id='LC170'>&nbsp;&nbsp;&nbsp;&nbsp;&nbsp;&quot;cell_type&quot;: &quot;code&quot;,</div><div class='line' id='LC171'>&nbsp;&nbsp;&nbsp;&nbsp;&nbsp;&quot;collapsed&quot;: false,</div><div class='line' id='LC172'>&nbsp;&nbsp;&nbsp;&nbsp;&nbsp;&quot;input&quot;: [</div><div class='line' id='LC173'>&nbsp;&nbsp;&nbsp;&nbsp;&nbsp;&nbsp;&quot;show_x(np.random.normal(size=(10, 3)), &#39;My design&#39;)&quot;</div><div class='line' id='LC174'>&nbsp;&nbsp;&nbsp;&nbsp;&nbsp;],</div><div class='line' id='LC175'>&nbsp;&nbsp;&nbsp;&nbsp;&nbsp;&quot;language&quot;: &quot;python&quot;,</div><div class='line' id='LC176'>&nbsp;&nbsp;&nbsp;&nbsp;&nbsp;&quot;metadata&quot;: {},</div><div class='line' id='LC177'>&nbsp;&nbsp;&nbsp;&nbsp;&nbsp;&quot;outputs&quot;: [</div><div class='line' id='LC178'>&nbsp;&nbsp;&nbsp;&nbsp;&nbsp;&nbsp;{</div><div class='line' id='LC179'>&nbsp;&nbsp;&nbsp;&nbsp;&nbsp;&nbsp;&nbsp;&quot;output_type&quot;: &quot;display_data&quot;,</div><div class='line' id='LC180'>&nbsp;&nbsp;&nbsp;&nbsp;&nbsp;&nbsp;&nbsp;&quot;png&quot;: &quot;iVBORw0KGgoAAAANSUhEUgAAAFoAAAEICAYAAADfmeNKAAAABHNCSVQICAgIfAhkiAAAAAlwSFlz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\nf8P91wSwVAAAAABJRU5ErkJggg==\n&quot;</div><div class='line' id='LC181'>&nbsp;&nbsp;&nbsp;&nbsp;&nbsp;&nbsp;}</div><div class='line' id='LC182'>&nbsp;&nbsp;&nbsp;&nbsp;&nbsp;],</div><div class='line' id='LC183'>&nbsp;&nbsp;&nbsp;&nbsp;&nbsp;&quot;prompt_number&quot;: 6</div><div class='line' id='LC184'>&nbsp;&nbsp;&nbsp;&nbsp;},</div><div class='line' id='LC185'>&nbsp;&nbsp;&nbsp;&nbsp;{</div><div class='line' id='LC186'>&nbsp;&nbsp;&nbsp;&nbsp;&nbsp;&quot;cell_type&quot;: &quot;heading&quot;,</div><div class='line' id='LC187'>&nbsp;&nbsp;&nbsp;&nbsp;&nbsp;&quot;level&quot;: 2,</div><div class='line' id='LC188'>&nbsp;&nbsp;&nbsp;&nbsp;&nbsp;&quot;metadata&quot;: {},</div><div class='line' id='LC189'>&nbsp;&nbsp;&nbsp;&nbsp;&nbsp;&quot;source&quot;: [</div><div class='line' id='LC190'>&nbsp;&nbsp;&nbsp;&nbsp;&nbsp;&nbsp;&quot;Exploring simple regression&quot;</div><div class='line' id='LC191'>&nbsp;&nbsp;&nbsp;&nbsp;&nbsp;]</div><div class='line' id='LC192'>&nbsp;&nbsp;&nbsp;&nbsp;},</div><div class='line' id='LC193'>&nbsp;&nbsp;&nbsp;&nbsp;{</div><div class='line' id='LC194'>&nbsp;&nbsp;&nbsp;&nbsp;&nbsp;&quot;cell_type&quot;: &quot;markdown&quot;,</div><div class='line' id='LC195'>&nbsp;&nbsp;&nbsp;&nbsp;&nbsp;&quot;metadata&quot;: {},</div><div class='line' id='LC196'>&nbsp;&nbsp;&nbsp;&nbsp;&nbsp;&quot;source&quot;: [</div><div class='line' id='LC197'>&nbsp;&nbsp;&nbsp;&nbsp;&nbsp;&nbsp;&quot;We start with a simple linear regression of one variable against another : $Y \\approx \\beta_1 x_1 + C$.  $Y$ is the vector of data we want to predict using the covariate $x_1$ times some slope $\\beta_1$ plus an intercept $C$.  Let&#39;s imagine that our data $y_i = y_1 ... y_N$ is a vector of citation scores for $N$ authors.  Maybe our covariate values $x_{1i} = x_{11} .. x_{1N}$ are the ages of author $i$.&quot;</div><div class='line' id='LC198'>&nbsp;&nbsp;&nbsp;&nbsp;&nbsp;]</div><div class='line' id='LC199'>&nbsp;&nbsp;&nbsp;&nbsp;},</div><div class='line' id='LC200'>&nbsp;&nbsp;&nbsp;&nbsp;{</div><div class='line' id='LC201'>&nbsp;&nbsp;&nbsp;&nbsp;&nbsp;&quot;cell_type&quot;: &quot;code&quot;,</div><div class='line' id='LC202'>&nbsp;&nbsp;&nbsp;&nbsp;&nbsp;&quot;collapsed&quot;: false,</div><div class='line' id='LC203'>&nbsp;&nbsp;&nbsp;&nbsp;&nbsp;&quot;input&quot;: [</div><div class='line' id='LC204'>&nbsp;&nbsp;&nbsp;&nbsp;&nbsp;&nbsp;&quot;N = 15\n&quot;,</div><div class='line' id='LC205'>&nbsp;&nbsp;&nbsp;&nbsp;&nbsp;&nbsp;&quot;x1 = [49., 50, 45, 53, 69, 73, 35, 40, 36, 30, 49, 36, 73, 61, 74]\n&quot;,</div><div class='line' id='LC206'>&nbsp;&nbsp;&nbsp;&nbsp;&nbsp;&nbsp;&quot;Y = [ 132.03, 98.64, 146.24, 97.9, 145.12, 191.78, 155.34, 123.08, 140.87,\n&quot;,</div><div class='line' id='LC207'>&nbsp;&nbsp;&nbsp;&nbsp;&nbsp;&nbsp;&quot;      122.51, 146.08, 89.3, 134.52, 89.16, 136.08]&quot;</div><div class='line' id='LC208'>&nbsp;&nbsp;&nbsp;&nbsp;&nbsp;],</div><div class='line' id='LC209'>&nbsp;&nbsp;&nbsp;&nbsp;&nbsp;&quot;language&quot;: &quot;python&quot;,</div><div class='line' id='LC210'>&nbsp;&nbsp;&nbsp;&nbsp;&nbsp;&quot;metadata&quot;: {},</div><div class='line' id='LC211'>&nbsp;&nbsp;&nbsp;&nbsp;&nbsp;&quot;outputs&quot;: [],</div><div class='line' id='LC212'>&nbsp;&nbsp;&nbsp;&nbsp;&nbsp;&quot;prompt_number&quot;: 7</div><div class='line' id='LC213'>&nbsp;&nbsp;&nbsp;&nbsp;},</div><div class='line' id='LC214'>&nbsp;&nbsp;&nbsp;&nbsp;{</div><div class='line' id='LC215'>&nbsp;&nbsp;&nbsp;&nbsp;&nbsp;&quot;cell_type&quot;: &quot;code&quot;,</div><div class='line' id='LC216'>&nbsp;&nbsp;&nbsp;&nbsp;&nbsp;&quot;collapsed&quot;: false,</div><div class='line' id='LC217'>&nbsp;&nbsp;&nbsp;&nbsp;&nbsp;&quot;input&quot;: [</div><div class='line' id='LC218'>&nbsp;&nbsp;&nbsp;&nbsp;&nbsp;&nbsp;&quot;%%R -i x1,Y -o X\n&quot;,</div><div class='line' id='LC219'>&nbsp;&nbsp;&nbsp;&nbsp;&nbsp;&nbsp;&quot;XYfit = lm(Y~x1)\n&quot;,</div><div class='line' id='LC220'>&nbsp;&nbsp;&nbsp;&nbsp;&nbsp;&nbsp;&quot;X = model.matrix(XYfit)&quot;</div><div class='line' id='LC221'>&nbsp;&nbsp;&nbsp;&nbsp;&nbsp;],</div><div class='line' id='LC222'>&nbsp;&nbsp;&nbsp;&nbsp;&nbsp;&quot;language&quot;: &quot;python&quot;,</div><div class='line' id='LC223'>&nbsp;&nbsp;&nbsp;&nbsp;&nbsp;&quot;metadata&quot;: {},</div><div class='line' id='LC224'>&nbsp;&nbsp;&nbsp;&nbsp;&nbsp;&quot;outputs&quot;: [],</div><div class='line' id='LC225'>&nbsp;&nbsp;&nbsp;&nbsp;&nbsp;&quot;prompt_number&quot;: 8</div><div class='line' id='LC226'>&nbsp;&nbsp;&nbsp;&nbsp;},</div><div class='line' id='LC227'>&nbsp;&nbsp;&nbsp;&nbsp;{</div><div class='line' id='LC228'>&nbsp;&nbsp;&nbsp;&nbsp;&nbsp;&quot;cell_type&quot;: &quot;code&quot;,</div><div class='line' id='LC229'>&nbsp;&nbsp;&nbsp;&nbsp;&nbsp;&quot;collapsed&quot;: false,</div><div class='line' id='LC230'>&nbsp;&nbsp;&nbsp;&nbsp;&nbsp;&quot;input&quot;: [</div><div class='line' id='LC231'>&nbsp;&nbsp;&nbsp;&nbsp;&nbsp;&nbsp;&quot;X&quot;</div><div class='line' id='LC232'>&nbsp;&nbsp;&nbsp;&nbsp;&nbsp;],</div><div class='line' id='LC233'>&nbsp;&nbsp;&nbsp;&nbsp;&nbsp;&quot;language&quot;: &quot;python&quot;,</div><div class='line' id='LC234'>&nbsp;&nbsp;&nbsp;&nbsp;&nbsp;&quot;metadata&quot;: {},</div><div class='line' id='LC235'>&nbsp;&nbsp;&nbsp;&nbsp;&nbsp;&quot;outputs&quot;: [</div><div class='line' id='LC236'>&nbsp;&nbsp;&nbsp;&nbsp;&nbsp;&nbsp;{</div><div class='line' id='LC237'>&nbsp;&nbsp;&nbsp;&nbsp;&nbsp;&nbsp;&nbsp;&quot;output_type&quot;: &quot;pyout&quot;,</div><div class='line' id='LC238'>&nbsp;&nbsp;&nbsp;&nbsp;&nbsp;&nbsp;&nbsp;&quot;prompt_number&quot;: 9,</div><div class='line' id='LC239'>&nbsp;&nbsp;&nbsp;&nbsp;&nbsp;&nbsp;&nbsp;&quot;text&quot;: [</div><div class='line' id='LC240'>&nbsp;&nbsp;&nbsp;&nbsp;&nbsp;&nbsp;&nbsp;&nbsp;&quot;array([[  1.,  49.],\n&quot;,</div><div class='line' id='LC241'>&nbsp;&nbsp;&nbsp;&nbsp;&nbsp;&nbsp;&nbsp;&nbsp;&quot;       [  1.,  50.],\n&quot;,</div><div class='line' id='LC242'>&nbsp;&nbsp;&nbsp;&nbsp;&nbsp;&nbsp;&nbsp;&nbsp;&quot;       [  1.,  45.],\n&quot;,</div><div class='line' id='LC243'>&nbsp;&nbsp;&nbsp;&nbsp;&nbsp;&nbsp;&nbsp;&nbsp;&quot;       [  1.,  53.],\n&quot;,</div><div class='line' id='LC244'>&nbsp;&nbsp;&nbsp;&nbsp;&nbsp;&nbsp;&nbsp;&nbsp;&quot;       [  1.,  69.],\n&quot;,</div><div class='line' id='LC245'>&nbsp;&nbsp;&nbsp;&nbsp;&nbsp;&nbsp;&nbsp;&nbsp;&quot;       [  1.,  73.],\n&quot;,</div><div class='line' id='LC246'>&nbsp;&nbsp;&nbsp;&nbsp;&nbsp;&nbsp;&nbsp;&nbsp;&quot;       [  1.,  35.],\n&quot;,</div><div class='line' id='LC247'>&nbsp;&nbsp;&nbsp;&nbsp;&nbsp;&nbsp;&nbsp;&nbsp;&quot;       [  1.,  40.],\n&quot;,</div><div class='line' id='LC248'>&nbsp;&nbsp;&nbsp;&nbsp;&nbsp;&nbsp;&nbsp;&nbsp;&quot;       [  1.,  36.],\n&quot;,</div><div class='line' id='LC249'>&nbsp;&nbsp;&nbsp;&nbsp;&nbsp;&nbsp;&nbsp;&nbsp;&quot;       [  1.,  30.],\n&quot;,</div><div class='line' id='LC250'>&nbsp;&nbsp;&nbsp;&nbsp;&nbsp;&nbsp;&nbsp;&nbsp;&quot;       [  1.,  49.],\n&quot;,</div><div class='line' id='LC251'>&nbsp;&nbsp;&nbsp;&nbsp;&nbsp;&nbsp;&nbsp;&nbsp;&quot;       [  1.,  36.],\n&quot;,</div><div class='line' id='LC252'>&nbsp;&nbsp;&nbsp;&nbsp;&nbsp;&nbsp;&nbsp;&nbsp;&quot;       [  1.,  73.],\n&quot;,</div><div class='line' id='LC253'>&nbsp;&nbsp;&nbsp;&nbsp;&nbsp;&nbsp;&nbsp;&nbsp;&quot;       [  1.,  61.],\n&quot;,</div><div class='line' id='LC254'>&nbsp;&nbsp;&nbsp;&nbsp;&nbsp;&nbsp;&nbsp;&nbsp;&quot;       [  1.,  74.]])&quot;</div><div class='line' id='LC255'>&nbsp;&nbsp;&nbsp;&nbsp;&nbsp;&nbsp;&nbsp;]</div><div class='line' id='LC256'>&nbsp;&nbsp;&nbsp;&nbsp;&nbsp;&nbsp;}</div><div class='line' id='LC257'>&nbsp;&nbsp;&nbsp;&nbsp;&nbsp;],</div><div class='line' id='LC258'>&nbsp;&nbsp;&nbsp;&nbsp;&nbsp;&quot;prompt_number&quot;: 9</div><div class='line' id='LC259'>&nbsp;&nbsp;&nbsp;&nbsp;},</div><div class='line' id='LC260'>&nbsp;&nbsp;&nbsp;&nbsp;{</div><div class='line' id='LC261'>&nbsp;&nbsp;&nbsp;&nbsp;&nbsp;&quot;cell_type&quot;: &quot;code&quot;,</div><div class='line' id='LC262'>&nbsp;&nbsp;&nbsp;&nbsp;&nbsp;&quot;collapsed&quot;: false,</div><div class='line' id='LC263'>&nbsp;&nbsp;&nbsp;&nbsp;&nbsp;&quot;input&quot;: [</div><div class='line' id='LC264'>&nbsp;&nbsp;&nbsp;&nbsp;&nbsp;&nbsp;&quot;show_x(X, &#39;Simple linear regression&#39;)&quot;</div><div class='line' id='LC265'>&nbsp;&nbsp;&nbsp;&nbsp;&nbsp;],</div><div class='line' id='LC266'>&nbsp;&nbsp;&nbsp;&nbsp;&nbsp;&quot;language&quot;: &quot;python&quot;,</div><div class='line' id='LC267'>&nbsp;&nbsp;&nbsp;&nbsp;&nbsp;&quot;metadata&quot;: {},</div><div class='line' id='LC268'>&nbsp;&nbsp;&nbsp;&nbsp;&nbsp;&quot;outputs&quot;: [</div><div class='line' id='LC269'>&nbsp;&nbsp;&nbsp;&nbsp;&nbsp;&nbsp;{</div><div class='line' id='LC270'>&nbsp;&nbsp;&nbsp;&nbsp;&nbsp;&nbsp;&nbsp;&quot;output_type&quot;: &quot;display_data&quot;,</div><div class='line' id='LC271'>&nbsp;&nbsp;&nbsp;&nbsp;&nbsp;&nbsp;&nbsp;&quot;png&quot;: &quot;iVBORw0KGgoAAAANSUhEUgAAAJ8AAAEICAYAAABBDyavAAAABHNCSVQICAgIfAhkiAAAAAlwSFlz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\nbCR8go2ET7D5P0/GmYM+aU1+AAAAAElFTkSuQmCC\n&quot;</div><div class='line' id='LC272'>&nbsp;&nbsp;&nbsp;&nbsp;&nbsp;&nbsp;}</div><div class='line' id='LC273'>&nbsp;&nbsp;&nbsp;&nbsp;&nbsp;],</div><div class='line' id='LC274'>&nbsp;&nbsp;&nbsp;&nbsp;&nbsp;&quot;prompt_number&quot;: 10</div><div class='line' id='LC275'>&nbsp;&nbsp;&nbsp;&nbsp;},</div><div class='line' id='LC276'>&nbsp;&nbsp;&nbsp;&nbsp;{</div><div class='line' id='LC277'>&nbsp;&nbsp;&nbsp;&nbsp;&nbsp;&quot;cell_type&quot;: &quot;markdown&quot;,</div><div class='line' id='LC278'>&nbsp;&nbsp;&nbsp;&nbsp;&nbsp;&quot;metadata&quot;: {},</div><div class='line' id='LC279'>&nbsp;&nbsp;&nbsp;&nbsp;&nbsp;&quot;source&quot;: [</div><div class='line' id='LC280'>&nbsp;&nbsp;&nbsp;&nbsp;&nbsp;&nbsp;&quot;We don&#39;t have to specify data to get a model matrix:&quot;</div><div class='line' id='LC281'>&nbsp;&nbsp;&nbsp;&nbsp;&nbsp;]</div><div class='line' id='LC282'>&nbsp;&nbsp;&nbsp;&nbsp;},</div><div class='line' id='LC283'>&nbsp;&nbsp;&nbsp;&nbsp;{</div><div class='line' id='LC284'>&nbsp;&nbsp;&nbsp;&nbsp;&nbsp;&quot;cell_type&quot;: &quot;code&quot;,</div><div class='line' id='LC285'>&nbsp;&nbsp;&nbsp;&nbsp;&nbsp;&quot;collapsed&quot;: false,</div><div class='line' id='LC286'>&nbsp;&nbsp;&nbsp;&nbsp;&nbsp;&quot;input&quot;: [</div><div class='line' id='LC287'>&nbsp;&nbsp;&nbsp;&nbsp;&nbsp;&nbsp;&quot;%R model.matrix(~ x1)&quot;</div><div class='line' id='LC288'>&nbsp;&nbsp;&nbsp;&nbsp;&nbsp;],</div><div class='line' id='LC289'>&nbsp;&nbsp;&nbsp;&nbsp;&nbsp;&quot;language&quot;: &quot;python&quot;,</div><div class='line' id='LC290'>&nbsp;&nbsp;&nbsp;&nbsp;&nbsp;&quot;metadata&quot;: {},</div><div class='line' id='LC291'>&nbsp;&nbsp;&nbsp;&nbsp;&nbsp;&quot;outputs&quot;: [</div><div class='line' id='LC292'>&nbsp;&nbsp;&nbsp;&nbsp;&nbsp;&nbsp;{</div><div class='line' id='LC293'>&nbsp;&nbsp;&nbsp;&nbsp;&nbsp;&nbsp;&nbsp;&quot;output_type&quot;: &quot;pyout&quot;,</div><div class='line' id='LC294'>&nbsp;&nbsp;&nbsp;&nbsp;&nbsp;&nbsp;&nbsp;&quot;prompt_number&quot;: 11,</div><div class='line' id='LC295'>&nbsp;&nbsp;&nbsp;&nbsp;&nbsp;&nbsp;&nbsp;&quot;text&quot;: [</div><div class='line' id='LC296'>&nbsp;&nbsp;&nbsp;&nbsp;&nbsp;&nbsp;&nbsp;&nbsp;&quot;array([[  1.,  49.],\n&quot;,</div><div class='line' id='LC297'>&nbsp;&nbsp;&nbsp;&nbsp;&nbsp;&nbsp;&nbsp;&nbsp;&quot;       [  1.,  50.],\n&quot;,</div><div class='line' id='LC298'>&nbsp;&nbsp;&nbsp;&nbsp;&nbsp;&nbsp;&nbsp;&nbsp;&quot;       [  1.,  45.],\n&quot;,</div><div class='line' id='LC299'>&nbsp;&nbsp;&nbsp;&nbsp;&nbsp;&nbsp;&nbsp;&nbsp;&quot;       [  1.,  53.],\n&quot;,</div><div class='line' id='LC300'>&nbsp;&nbsp;&nbsp;&nbsp;&nbsp;&nbsp;&nbsp;&nbsp;&quot;       [  1.,  69.],\n&quot;,</div><div class='line' id='LC301'>&nbsp;&nbsp;&nbsp;&nbsp;&nbsp;&nbsp;&nbsp;&nbsp;&quot;       [  1.,  73.],\n&quot;,</div><div class='line' id='LC302'>&nbsp;&nbsp;&nbsp;&nbsp;&nbsp;&nbsp;&nbsp;&nbsp;&quot;       [  1.,  35.],\n&quot;,</div><div class='line' id='LC303'>&nbsp;&nbsp;&nbsp;&nbsp;&nbsp;&nbsp;&nbsp;&nbsp;&quot;       [  1.,  40.],\n&quot;,</div><div class='line' id='LC304'>&nbsp;&nbsp;&nbsp;&nbsp;&nbsp;&nbsp;&nbsp;&nbsp;&quot;       [  1.,  36.],\n&quot;,</div><div class='line' id='LC305'>&nbsp;&nbsp;&nbsp;&nbsp;&nbsp;&nbsp;&nbsp;&nbsp;&quot;       [  1.,  30.],\n&quot;,</div><div class='line' id='LC306'>&nbsp;&nbsp;&nbsp;&nbsp;&nbsp;&nbsp;&nbsp;&nbsp;&quot;       [  1.,  49.],\n&quot;,</div><div class='line' id='LC307'>&nbsp;&nbsp;&nbsp;&nbsp;&nbsp;&nbsp;&nbsp;&nbsp;&quot;       [  1.,  36.],\n&quot;,</div><div class='line' id='LC308'>&nbsp;&nbsp;&nbsp;&nbsp;&nbsp;&nbsp;&nbsp;&nbsp;&quot;       [  1.,  73.],\n&quot;,</div><div class='line' id='LC309'>&nbsp;&nbsp;&nbsp;&nbsp;&nbsp;&nbsp;&nbsp;&nbsp;&quot;       [  1.,  61.],\n&quot;,</div><div class='line' id='LC310'>&nbsp;&nbsp;&nbsp;&nbsp;&nbsp;&nbsp;&nbsp;&nbsp;&quot;       [  1.,  74.]])&quot;</div><div class='line' id='LC311'>&nbsp;&nbsp;&nbsp;&nbsp;&nbsp;&nbsp;&nbsp;]</div><div class='line' id='LC312'>&nbsp;&nbsp;&nbsp;&nbsp;&nbsp;&nbsp;}</div><div class='line' id='LC313'>&nbsp;&nbsp;&nbsp;&nbsp;&nbsp;],</div><div class='line' id='LC314'>&nbsp;&nbsp;&nbsp;&nbsp;&nbsp;&quot;prompt_number&quot;: 11</div><div class='line' id='LC315'>&nbsp;&nbsp;&nbsp;&nbsp;},</div><div class='line' id='LC316'>&nbsp;&nbsp;&nbsp;&nbsp;{</div><div class='line' id='LC317'>&nbsp;&nbsp;&nbsp;&nbsp;&nbsp;&quot;cell_type&quot;: &quot;markdown&quot;,</div><div class='line' id='LC318'>&nbsp;&nbsp;&nbsp;&nbsp;&nbsp;&quot;metadata&quot;: {},</div><div class='line' id='LC319'>&nbsp;&nbsp;&nbsp;&nbsp;&nbsp;&quot;source&quot;: [</div><div class='line' id='LC320'>&nbsp;&nbsp;&nbsp;&nbsp;&nbsp;&nbsp;&quot;OK, so the first thing we see is that R decided we wanted an intercept.  The intercept became a column of ones in the design matrix, and goes first in the design matrix.  So, our model above, `Y ~ x1` is in fact `Y ~ x1 + 1` in R terms:&quot;</div><div class='line' id='LC321'>&nbsp;&nbsp;&nbsp;&nbsp;&nbsp;]</div><div class='line' id='LC322'>&nbsp;&nbsp;&nbsp;&nbsp;},</div><div class='line' id='LC323'>&nbsp;&nbsp;&nbsp;&nbsp;{</div><div class='line' id='LC324'>&nbsp;&nbsp;&nbsp;&nbsp;&nbsp;&quot;cell_type&quot;: &quot;code&quot;,</div><div class='line' id='LC325'>&nbsp;&nbsp;&nbsp;&nbsp;&nbsp;&quot;collapsed&quot;: false,</div><div class='line' id='LC326'>&nbsp;&nbsp;&nbsp;&nbsp;&nbsp;&quot;input&quot;: [</div><div class='line' id='LC327'>&nbsp;&nbsp;&nbsp;&nbsp;&nbsp;&nbsp;&quot;%R model.matrix(~x1 + 1)&quot;</div><div class='line' id='LC328'>&nbsp;&nbsp;&nbsp;&nbsp;&nbsp;],</div><div class='line' id='LC329'>&nbsp;&nbsp;&nbsp;&nbsp;&nbsp;&quot;language&quot;: &quot;python&quot;,</div><div class='line' id='LC330'>&nbsp;&nbsp;&nbsp;&nbsp;&nbsp;&quot;metadata&quot;: {},</div><div class='line' id='LC331'>&nbsp;&nbsp;&nbsp;&nbsp;&nbsp;&quot;outputs&quot;: [</div><div class='line' id='LC332'>&nbsp;&nbsp;&nbsp;&nbsp;&nbsp;&nbsp;{</div><div class='line' id='LC333'>&nbsp;&nbsp;&nbsp;&nbsp;&nbsp;&nbsp;&nbsp;&quot;output_type&quot;: &quot;pyout&quot;,</div><div class='line' id='LC334'>&nbsp;&nbsp;&nbsp;&nbsp;&nbsp;&nbsp;&nbsp;&quot;prompt_number&quot;: 12,</div><div class='line' id='LC335'>&nbsp;&nbsp;&nbsp;&nbsp;&nbsp;&nbsp;&nbsp;&quot;text&quot;: [</div><div class='line' id='LC336'>&nbsp;&nbsp;&nbsp;&nbsp;&nbsp;&nbsp;&nbsp;&nbsp;&quot;array([[  1.,  49.],\n&quot;,</div><div class='line' id='LC337'>&nbsp;&nbsp;&nbsp;&nbsp;&nbsp;&nbsp;&nbsp;&nbsp;&quot;       [  1.,  50.],\n&quot;,</div><div class='line' id='LC338'>&nbsp;&nbsp;&nbsp;&nbsp;&nbsp;&nbsp;&nbsp;&nbsp;&quot;       [  1.,  45.],\n&quot;,</div><div class='line' id='LC339'>&nbsp;&nbsp;&nbsp;&nbsp;&nbsp;&nbsp;&nbsp;&nbsp;&quot;       [  1.,  53.],\n&quot;,</div><div class='line' id='LC340'>&nbsp;&nbsp;&nbsp;&nbsp;&nbsp;&nbsp;&nbsp;&nbsp;&quot;       [  1.,  69.],\n&quot;,</div><div class='line' id='LC341'>&nbsp;&nbsp;&nbsp;&nbsp;&nbsp;&nbsp;&nbsp;&nbsp;&quot;       [  1.,  73.],\n&quot;,</div><div class='line' id='LC342'>&nbsp;&nbsp;&nbsp;&nbsp;&nbsp;&nbsp;&nbsp;&nbsp;&quot;       [  1.,  35.],\n&quot;,</div><div class='line' id='LC343'>&nbsp;&nbsp;&nbsp;&nbsp;&nbsp;&nbsp;&nbsp;&nbsp;&quot;       [  1.,  40.],\n&quot;,</div><div class='line' id='LC344'>&nbsp;&nbsp;&nbsp;&nbsp;&nbsp;&nbsp;&nbsp;&nbsp;&quot;       [  1.,  36.],\n&quot;,</div><div class='line' id='LC345'>&nbsp;&nbsp;&nbsp;&nbsp;&nbsp;&nbsp;&nbsp;&nbsp;&quot;       [  1.,  30.],\n&quot;,</div><div class='line' id='LC346'>&nbsp;&nbsp;&nbsp;&nbsp;&nbsp;&nbsp;&nbsp;&nbsp;&quot;       [  1.,  49.],\n&quot;,</div><div class='line' id='LC347'>&nbsp;&nbsp;&nbsp;&nbsp;&nbsp;&nbsp;&nbsp;&nbsp;&quot;       [  1.,  36.],\n&quot;,</div><div class='line' id='LC348'>&nbsp;&nbsp;&nbsp;&nbsp;&nbsp;&nbsp;&nbsp;&nbsp;&quot;       [  1.,  73.],\n&quot;,</div><div class='line' id='LC349'>&nbsp;&nbsp;&nbsp;&nbsp;&nbsp;&nbsp;&nbsp;&nbsp;&quot;       [  1.,  61.],\n&quot;,</div><div class='line' id='LC350'>&nbsp;&nbsp;&nbsp;&nbsp;&nbsp;&nbsp;&nbsp;&nbsp;&quot;       [  1.,  74.]])&quot;</div><div class='line' id='LC351'>&nbsp;&nbsp;&nbsp;&nbsp;&nbsp;&nbsp;&nbsp;]</div><div class='line' id='LC352'>&nbsp;&nbsp;&nbsp;&nbsp;&nbsp;&nbsp;}</div><div class='line' id='LC353'>&nbsp;&nbsp;&nbsp;&nbsp;&nbsp;],</div><div class='line' id='LC354'>&nbsp;&nbsp;&nbsp;&nbsp;&nbsp;&quot;prompt_number&quot;: 12</div><div class='line' id='LC355'>&nbsp;&nbsp;&nbsp;&nbsp;},</div><div class='line' id='LC356'>&nbsp;&nbsp;&nbsp;&nbsp;{</div><div class='line' id='LC357'>&nbsp;&nbsp;&nbsp;&nbsp;&nbsp;&quot;cell_type&quot;: &quot;markdown&quot;,</div><div class='line' id='LC358'>&nbsp;&nbsp;&nbsp;&nbsp;&nbsp;&quot;metadata&quot;: {},</div><div class='line' id='LC359'>&nbsp;&nbsp;&nbsp;&nbsp;&nbsp;&quot;source&quot;: [</div><div class='line' id='LC360'>&nbsp;&nbsp;&nbsp;&nbsp;&nbsp;&nbsp;&quot;We see also that there&#39;s nothing we can do about where the column of ones goes; it goes at the front.  This is a specific application of some general rules that R applies when making the design matrix from a formula, as we&#39;ll see later.&quot;</div><div class='line' id='LC361'>&nbsp;&nbsp;&nbsp;&nbsp;&nbsp;]</div><div class='line' id='LC362'>&nbsp;&nbsp;&nbsp;&nbsp;},</div><div class='line' id='LC363'>&nbsp;&nbsp;&nbsp;&nbsp;{</div><div class='line' id='LC364'>&nbsp;&nbsp;&nbsp;&nbsp;&nbsp;&quot;cell_type&quot;: &quot;markdown&quot;,</div><div class='line' id='LC365'>&nbsp;&nbsp;&nbsp;&nbsp;&nbsp;&quot;metadata&quot;: {},</div><div class='line' id='LC366'>&nbsp;&nbsp;&nbsp;&nbsp;&nbsp;&quot;source&quot;: [</div><div class='line' id='LC367'>&nbsp;&nbsp;&nbsp;&nbsp;&nbsp;&nbsp;&quot;If we already have a constant in the model we still get a new one, whether we asked for one or not.&quot;</div><div class='line' id='LC368'>&nbsp;&nbsp;&nbsp;&nbsp;&nbsp;]</div><div class='line' id='LC369'>&nbsp;&nbsp;&nbsp;&nbsp;},</div><div class='line' id='LC370'>&nbsp;&nbsp;&nbsp;&nbsp;{</div><div class='line' id='LC371'>&nbsp;&nbsp;&nbsp;&nbsp;&nbsp;&quot;cell_type&quot;: &quot;code&quot;,</div><div class='line' id='LC372'>&nbsp;&nbsp;&nbsp;&nbsp;&nbsp;&quot;collapsed&quot;: false,</div><div class='line' id='LC373'>&nbsp;&nbsp;&nbsp;&nbsp;&nbsp;&quot;input&quot;: [</div><div class='line' id='LC374'>&nbsp;&nbsp;&nbsp;&nbsp;&nbsp;&nbsp;&quot;C = np.ones((N,))\n&quot;,</div><div class='line' id='LC375'>&nbsp;&nbsp;&nbsp;&nbsp;&nbsp;&nbsp;&quot;%Rpush C\n&quot;,</div><div class='line' id='LC376'>&nbsp;&nbsp;&nbsp;&nbsp;&nbsp;&nbsp;&quot;%R model.matrix(~x1 + C)&quot;</div><div class='line' id='LC377'>&nbsp;&nbsp;&nbsp;&nbsp;&nbsp;],</div><div class='line' id='LC378'>&nbsp;&nbsp;&nbsp;&nbsp;&nbsp;&quot;language&quot;: &quot;python&quot;,</div><div class='line' id='LC379'>&nbsp;&nbsp;&nbsp;&nbsp;&nbsp;&quot;metadata&quot;: {},</div><div class='line' id='LC380'>&nbsp;&nbsp;&nbsp;&nbsp;&nbsp;&quot;outputs&quot;: [</div><div class='line' id='LC381'>&nbsp;&nbsp;&nbsp;&nbsp;&nbsp;&nbsp;{</div><div class='line' id='LC382'>&nbsp;&nbsp;&nbsp;&nbsp;&nbsp;&nbsp;&nbsp;&quot;output_type&quot;: &quot;pyout&quot;,</div><div class='line' id='LC383'>&nbsp;&nbsp;&nbsp;&nbsp;&nbsp;&nbsp;&nbsp;&quot;prompt_number&quot;: 13,</div><div class='line' id='LC384'>&nbsp;&nbsp;&nbsp;&nbsp;&nbsp;&nbsp;&nbsp;&quot;text&quot;: [</div><div class='line' id='LC385'>&nbsp;&nbsp;&nbsp;&nbsp;&nbsp;&nbsp;&nbsp;&nbsp;&quot;array([[  1.,  49.,   1.],\n&quot;,</div><div class='line' id='LC386'>&nbsp;&nbsp;&nbsp;&nbsp;&nbsp;&nbsp;&nbsp;&nbsp;&quot;       [  1.,  50.,   1.],\n&quot;,</div><div class='line' id='LC387'>&nbsp;&nbsp;&nbsp;&nbsp;&nbsp;&nbsp;&nbsp;&nbsp;&quot;       [  1.,  45.,   1.],\n&quot;,</div><div class='line' id='LC388'>&nbsp;&nbsp;&nbsp;&nbsp;&nbsp;&nbsp;&nbsp;&nbsp;&quot;       [  1.,  53.,   1.],\n&quot;,</div><div class='line' id='LC389'>&nbsp;&nbsp;&nbsp;&nbsp;&nbsp;&nbsp;&nbsp;&nbsp;&quot;       [  1.,  69.,   1.],\n&quot;,</div><div class='line' id='LC390'>&nbsp;&nbsp;&nbsp;&nbsp;&nbsp;&nbsp;&nbsp;&nbsp;&quot;       [  1.,  73.,   1.],\n&quot;,</div><div class='line' id='LC391'>&nbsp;&nbsp;&nbsp;&nbsp;&nbsp;&nbsp;&nbsp;&nbsp;&quot;       [  1.,  35.,   1.],\n&quot;,</div><div class='line' id='LC392'>&nbsp;&nbsp;&nbsp;&nbsp;&nbsp;&nbsp;&nbsp;&nbsp;&quot;       [  1.,  40.,   1.],\n&quot;,</div><div class='line' id='LC393'>&nbsp;&nbsp;&nbsp;&nbsp;&nbsp;&nbsp;&nbsp;&nbsp;&quot;       [  1.,  36.,   1.],\n&quot;,</div><div class='line' id='LC394'>&nbsp;&nbsp;&nbsp;&nbsp;&nbsp;&nbsp;&nbsp;&nbsp;&quot;       [  1.,  30.,   1.],\n&quot;,</div><div class='line' id='LC395'>&nbsp;&nbsp;&nbsp;&nbsp;&nbsp;&nbsp;&nbsp;&nbsp;&quot;       [  1.,  49.,   1.],\n&quot;,</div><div class='line' id='LC396'>&nbsp;&nbsp;&nbsp;&nbsp;&nbsp;&nbsp;&nbsp;&nbsp;&quot;       [  1.,  36.,   1.],\n&quot;,</div><div class='line' id='LC397'>&nbsp;&nbsp;&nbsp;&nbsp;&nbsp;&nbsp;&nbsp;&nbsp;&quot;       [  1.,  73.,   1.],\n&quot;,</div><div class='line' id='LC398'>&nbsp;&nbsp;&nbsp;&nbsp;&nbsp;&nbsp;&nbsp;&nbsp;&quot;       [  1.,  61.,   1.],\n&quot;,</div><div class='line' id='LC399'>&nbsp;&nbsp;&nbsp;&nbsp;&nbsp;&nbsp;&nbsp;&nbsp;&quot;       [  1.,  74.,   1.]])&quot;</div><div class='line' id='LC400'>&nbsp;&nbsp;&nbsp;&nbsp;&nbsp;&nbsp;&nbsp;]</div><div class='line' id='LC401'>&nbsp;&nbsp;&nbsp;&nbsp;&nbsp;&nbsp;}</div><div class='line' id='LC402'>&nbsp;&nbsp;&nbsp;&nbsp;&nbsp;],</div><div class='line' id='LC403'>&nbsp;&nbsp;&nbsp;&nbsp;&nbsp;&quot;prompt_number&quot;: 13</div><div class='line' id='LC404'>&nbsp;&nbsp;&nbsp;&nbsp;},</div><div class='line' id='LC405'>&nbsp;&nbsp;&nbsp;&nbsp;{</div><div class='line' id='LC406'>&nbsp;&nbsp;&nbsp;&nbsp;&nbsp;&quot;cell_type&quot;: &quot;markdown&quot;,</div><div class='line' id='LC407'>&nbsp;&nbsp;&nbsp;&nbsp;&nbsp;&quot;metadata&quot;: {},</div><div class='line' id='LC408'>&nbsp;&nbsp;&nbsp;&nbsp;&nbsp;&quot;source&quot;: [</div><div class='line' id='LC409'>&nbsp;&nbsp;&nbsp;&nbsp;&nbsp;&nbsp;&quot;But we can turn off the added constant by hand with the &#39;- 1&#39; shorthand:&quot;</div><div class='line' id='LC410'>&nbsp;&nbsp;&nbsp;&nbsp;&nbsp;]</div><div class='line' id='LC411'>&nbsp;&nbsp;&nbsp;&nbsp;},</div><div class='line' id='LC412'>&nbsp;&nbsp;&nbsp;&nbsp;{</div><div class='line' id='LC413'>&nbsp;&nbsp;&nbsp;&nbsp;&nbsp;&quot;cell_type&quot;: &quot;code&quot;,</div><div class='line' id='LC414'>&nbsp;&nbsp;&nbsp;&nbsp;&nbsp;&quot;collapsed&quot;: false,</div><div class='line' id='LC415'>&nbsp;&nbsp;&nbsp;&nbsp;&nbsp;&quot;input&quot;: [</div><div class='line' id='LC416'>&nbsp;&nbsp;&nbsp;&nbsp;&nbsp;&nbsp;&quot;%R model.matrix(~x1 - 1)&quot;</div><div class='line' id='LC417'>&nbsp;&nbsp;&nbsp;&nbsp;&nbsp;],</div><div class='line' id='LC418'>&nbsp;&nbsp;&nbsp;&nbsp;&nbsp;&quot;language&quot;: &quot;python&quot;,</div><div class='line' id='LC419'>&nbsp;&nbsp;&nbsp;&nbsp;&nbsp;&quot;metadata&quot;: {},</div><div class='line' id='LC420'>&nbsp;&nbsp;&nbsp;&nbsp;&nbsp;&quot;outputs&quot;: [</div><div class='line' id='LC421'>&nbsp;&nbsp;&nbsp;&nbsp;&nbsp;&nbsp;{</div><div class='line' id='LC422'>&nbsp;&nbsp;&nbsp;&nbsp;&nbsp;&nbsp;&nbsp;&quot;output_type&quot;: &quot;pyout&quot;,</div><div class='line' id='LC423'>&nbsp;&nbsp;&nbsp;&nbsp;&nbsp;&nbsp;&nbsp;&quot;prompt_number&quot;: 14,</div><div class='line' id='LC424'>&nbsp;&nbsp;&nbsp;&nbsp;&nbsp;&nbsp;&nbsp;&quot;text&quot;: [</div><div class='line' id='LC425'>&nbsp;&nbsp;&nbsp;&nbsp;&nbsp;&nbsp;&nbsp;&nbsp;&quot;array([[ 49.],\n&quot;,</div><div class='line' id='LC426'>&nbsp;&nbsp;&nbsp;&nbsp;&nbsp;&nbsp;&nbsp;&nbsp;&quot;       [ 50.],\n&quot;,</div><div class='line' id='LC427'>&nbsp;&nbsp;&nbsp;&nbsp;&nbsp;&nbsp;&nbsp;&nbsp;&quot;       [ 45.],\n&quot;,</div><div class='line' id='LC428'>&nbsp;&nbsp;&nbsp;&nbsp;&nbsp;&nbsp;&nbsp;&nbsp;&quot;       [ 53.],\n&quot;,</div><div class='line' id='LC429'>&nbsp;&nbsp;&nbsp;&nbsp;&nbsp;&nbsp;&nbsp;&nbsp;&quot;       [ 69.],\n&quot;,</div><div class='line' id='LC430'>&nbsp;&nbsp;&nbsp;&nbsp;&nbsp;&nbsp;&nbsp;&nbsp;&quot;       [ 73.],\n&quot;,</div><div class='line' id='LC431'>&nbsp;&nbsp;&nbsp;&nbsp;&nbsp;&nbsp;&nbsp;&nbsp;&quot;       [ 35.],\n&quot;,</div><div class='line' id='LC432'>&nbsp;&nbsp;&nbsp;&nbsp;&nbsp;&nbsp;&nbsp;&nbsp;&quot;       [ 40.],\n&quot;,</div><div class='line' id='LC433'>&nbsp;&nbsp;&nbsp;&nbsp;&nbsp;&nbsp;&nbsp;&nbsp;&quot;       [ 36.],\n&quot;,</div><div class='line' id='LC434'>&nbsp;&nbsp;&nbsp;&nbsp;&nbsp;&nbsp;&nbsp;&nbsp;&quot;       [ 30.],\n&quot;,</div><div class='line' id='LC435'>&nbsp;&nbsp;&nbsp;&nbsp;&nbsp;&nbsp;&nbsp;&nbsp;&quot;       [ 49.],\n&quot;,</div><div class='line' id='LC436'>&nbsp;&nbsp;&nbsp;&nbsp;&nbsp;&nbsp;&nbsp;&nbsp;&quot;       [ 36.],\n&quot;,</div><div class='line' id='LC437'>&nbsp;&nbsp;&nbsp;&nbsp;&nbsp;&nbsp;&nbsp;&nbsp;&quot;       [ 73.],\n&quot;,</div><div class='line' id='LC438'>&nbsp;&nbsp;&nbsp;&nbsp;&nbsp;&nbsp;&nbsp;&nbsp;&quot;       [ 61.],\n&quot;,</div><div class='line' id='LC439'>&nbsp;&nbsp;&nbsp;&nbsp;&nbsp;&nbsp;&nbsp;&nbsp;&quot;       [ 74.]])&quot;</div><div class='line' id='LC440'>&nbsp;&nbsp;&nbsp;&nbsp;&nbsp;&nbsp;&nbsp;]</div><div class='line' id='LC441'>&nbsp;&nbsp;&nbsp;&nbsp;&nbsp;&nbsp;}</div><div class='line' id='LC442'>&nbsp;&nbsp;&nbsp;&nbsp;&nbsp;],</div><div class='line' id='LC443'>&nbsp;&nbsp;&nbsp;&nbsp;&nbsp;&quot;prompt_number&quot;: 14</div><div class='line' id='LC444'>&nbsp;&nbsp;&nbsp;&nbsp;},</div><div class='line' id='LC445'>&nbsp;&nbsp;&nbsp;&nbsp;{</div><div class='line' id='LC446'>&nbsp;&nbsp;&nbsp;&nbsp;&nbsp;&quot;cell_type&quot;: &quot;markdown&quot;,</div><div class='line' id='LC447'>&nbsp;&nbsp;&nbsp;&nbsp;&nbsp;&quot;metadata&quot;: {},</div><div class='line' id='LC448'>&nbsp;&nbsp;&nbsp;&nbsp;&nbsp;&quot;source&quot;: [</div><div class='line' id='LC449'>&nbsp;&nbsp;&nbsp;&nbsp;&nbsp;&nbsp;&quot;Multiple regression : $Y \\approx \\beta_1 x_1 + \\beta_2 x_2 + C$&quot;</div><div class='line' id='LC450'>&nbsp;&nbsp;&nbsp;&nbsp;&nbsp;]</div><div class='line' id='LC451'>&nbsp;&nbsp;&nbsp;&nbsp;},</div><div class='line' id='LC452'>&nbsp;&nbsp;&nbsp;&nbsp;{</div><div class='line' id='LC453'>&nbsp;&nbsp;&nbsp;&nbsp;&nbsp;&quot;cell_type&quot;: &quot;code&quot;,</div><div class='line' id='LC454'>&nbsp;&nbsp;&nbsp;&nbsp;&nbsp;&quot;collapsed&quot;: false,</div><div class='line' id='LC455'>&nbsp;&nbsp;&nbsp;&nbsp;&nbsp;&quot;input&quot;: [</div><div class='line' id='LC456'>&nbsp;&nbsp;&nbsp;&nbsp;&nbsp;&nbsp;&quot;x2 = np.arange(N)\n&quot;,</div><div class='line' id='LC457'>&nbsp;&nbsp;&nbsp;&nbsp;&nbsp;&nbsp;&quot;%Rpush x2\n&quot;,</div><div class='line' id='LC458'>&nbsp;&nbsp;&nbsp;&nbsp;&nbsp;&nbsp;&quot;X = %R model.matrix(~ x1 + x2)\n&quot;,</div><div class='line' id='LC459'>&nbsp;&nbsp;&nbsp;&nbsp;&nbsp;&nbsp;&quot;show_x(X, &#39;Two variables&#39;)&quot;</div><div class='line' id='LC460'>&nbsp;&nbsp;&nbsp;&nbsp;&nbsp;],</div><div class='line' id='LC461'>&nbsp;&nbsp;&nbsp;&nbsp;&nbsp;&quot;language&quot;: &quot;python&quot;,</div><div class='line' id='LC462'>&nbsp;&nbsp;&nbsp;&nbsp;&nbsp;&quot;metadata&quot;: {},</div><div class='line' id='LC463'>&nbsp;&nbsp;&nbsp;&nbsp;&nbsp;&quot;outputs&quot;: [</div><div class='line' id='LC464'>&nbsp;&nbsp;&nbsp;&nbsp;&nbsp;&nbsp;{</div><div class='line' id='LC465'>&nbsp;&nbsp;&nbsp;&nbsp;&nbsp;&nbsp;&nbsp;&quot;output_type&quot;: &quot;display_data&quot;,</div><div class='line' id='LC466'>&nbsp;&nbsp;&nbsp;&nbsp;&nbsp;&nbsp;&nbsp;&quot;png&quot;: &quot;iVBORw0KGgoAAAANSUhEUgAAAF8AAAEICAYAAAA5sCgOAAAABHNCSVQICAgIfAhkiAAAAAlwSFlz\nAAALEgAACxIB0t1+/AAAEWhJREFUeJztnXtMk9f/x9/lYgajEEQER4tlIKFchAbUSEQQReecxilz\noKhxLiYuU3Fzxs24uC14/RoH6jbjBdxUNBvxEocY0SGoEy8Q5w3xQqWA4gXorKIt9fP7Y1l/MgoW\nnoeeWs4rIfHp85xz3rw8eTjP6emphIgIHCY4sA7Qk+HyGcLlM4TLZwiXzxAunyF2Kz88PBzFxcUW\nXevg4IDbt2+bPZeTk4O4uDgxo/1/ux2ddHNzg1QqhVQqhYODA1xdXSGVSuHu7o7c3NxuCSQWly9f\nxvDhw1nH6BCnjk7qdDrTvwMCArBt2zYkJiZ2eyghtLS0wMmpw1/LZuj0befZs2dwcXFBQ0MDACAj\nIwPOzs6m/6hly5Zh4cKFAACtVosZM2agb9++UCgUyMjIgLkH6rq6Ori6uqKxsdH0Wnl5Oby9vWE0\nGnHr1i0kJiaiT58+8Pb2RlpaGrRarelahUKBNWvWYODAgZBKpTAajVAoFDh+/DgA4OzZsxg6dCg8\nPT3x1ltvYd68eTAYDK0y/P777wgMDIS3tzcWL15sNicAVFRUICkpCV5eXggJCcGvv/5qOpefn4+w\nsDC4u7tDJpNh3bp1HcskC1EoFHTs2DEiIho+fDjl5eUREVFSUhIFBQXR4cOHiYgoLi6O9u/fT0RE\n06dPp4kTJ5JOpyO1Wk3BwcG0bds2s/UnJibSli1bTMeLFi2iuXPnEhHRzZs3qbCwkPR6PT148ICG\nDx9O6enppmv79+9PKpWKampq6NmzZ23yXrhwgUpLS8loNJJarSalUknff/+9qbxEIqHExERqbGyk\n6upqCg4Opq1btxIRUXZ2Ng0bNoyIiHQ6HclkMsrJySGj0Ujl5eXUp08funbtGhER+fr60smTJ4mI\nqKmpicrKyjp02iX5y5Yto/nz51NLSwv5+vpSVlYWLVmyhJqbm8nFxYUaGhqopaWFevXqZQpGRLR5\n82ZKSEgwW//WrVspMTGRiIhevHhBcrmcSkpKzF67b98+UqlUrbJlZ2e3m/e/rF+/nt5//33TsUQi\noSNHjpiOf/jhBxo5ciQRtZa/Z88eiouLa1XXnDlz6JtvviEiIn9/f9q8eTNptVqz7f6XLo124uPj\nUVRUhLKyMkRERGDUqFE4ceIESktLERQUBE9PTzx8+BAGgwH9+/c3lfP390dtba3ZOidNmoQ///wT\n9+7dQ3FxMRwcHDBs2DAAQH19PVJSUiCTyeDh4YHp06fj0aNHrcrL5fJ281ZWVuK9995Dv3794OHh\ngaVLl3ZY3t/fH3V1dW3quXPnDkpLS+Hp6Wn62b17N+rr6wEAeXl5yM/Ph0KhQEJCAs6cOdOhxy7J\nHzp0KK5fv459+/YhISEBSqUS1dXVyM/PR0JCAgCgT58+cHZ2hlqtNpWrrq6GTCYzW6enpydGjx6N\nvXv3Yvfu3UhNTTWd++qrr+Do6IjLly9Dq9Xil19+wYsXL1qVl0gk7eadO3cuQkNDcfPmTWi1WmRk\nZLQpX11d3erffn5+berx9/dHfHw8GhsbTT+PHz/Gpk2bAAAxMTHYv38/Hjx4gIkTJ2LKlCntZgK6\nKN/V1RXR0dHYtGkT4uPjAQCxsbH46aefTMeOjo6YMmUKli5dCp1Ohzt37mD9+vVIS0trt96pU6di\nx44dyMvLw9SpU02v63Q6vPnmm3B3d0dtbS3Wrl3bqbw6nQ5SqRSurq6oqKjAjz/+2Oaa//3vf2hq\naoJGo0FWVhY+/PDDNteMGzcOlZWV2LlzJwwGAwwGA86dO4eKigoYDAbs2rULWq0Wjo6OkEqlcHR0\n7DiYRTcnM/fQL7/8klxdXUmv1xMR0caNG8nBwYHu379vuqaxsZHS0tLI29ub5HI5fffdd/TixYt2\n22hubiapVErh4eGtXr9y5QpFR0eTm5sbqVQqWrduHcnl8naz/fe14uJiCgkJITc3N4qLi6Ovv/66\n1b1bIpHQhg0b6O233yYvLy9atGiRKWdOTk6ra69fv07jxo0jb29v8vLyopEjR9LFixdJr9fTO++8\nQ56enuTu7k6DBw+mU6dOdehUQsTfTGGF3U4vvA5w+Qzh8hnS7ZMgHQ0BbRlr/Cm0ygxUR7/I8uXL\nsXz58nbPL1iwoN1zpaWlGDJkSIdtZ2VlvTIfK/hthyFcPkNEkV9QUICQkBAMGDAAq1ev7lTZf6cj\nuoK5KYDXCcHyjUYjPv30UxQUFODq1avIzc3FtWvXLC4vRH5780SvC4Llnz17FkFBQVAoFHB2dkZK\nSgoOHDggRja7R/Bop7a2ttV0rEwmQ2lpaatrXh7NJCQkCOrt9oRg+ZaM4zsaSvZkBN92/Pz8oNFo\nTMcajea1vxdbC8HyY2JicOPGDajVauj1euzduxcTJkwQI5vdI/i24+TkhI0bN2LMmDEwGo2YPXs2\nlEqlGNnsHlGmF8aOHYuxY8eKUVWPgj/hMoTLZ4jNr6vr1auXoPK9e/fudJl/V+N1N7znM4TLZwiX\nzxAunyFcPkO4fIZw+Qzh8hnC5TOEy2cIl88QLp8hXD5DuHyG2PyU8stvzncFPqXMMQuXzxAunyGC\n5Ws0GowYMQJhYWEIDw+36Q8j2BqC/+A6Oztj/fr1iIqKgk6nQ3R0NJKSkvjaHQsQ3PN9fX0RFRUF\n4J/NkZRKpdl9CzhtEXWoqVarUV5e3uZzUra+Srm5uRnNzc1Wb1c0+TqdDsnJycjMzISbm1urc7a+\nStnFxQUuLi6m49dqnG8wGDB58mSkpaVh4sSJYlTZIxAsn4gwe/ZshIaGIj09XYxMPQbB8k+dOoWd\nO3fijz/+gEqlgkqlQkFBgRjZ7B7B9/xhw4a12TiIYxn8CZchXD5DbH5KeeDAgYLKV1VViZREfHjP\nZwiXzxAunyFcPkO4fIZw+Qzh8hnC5TOEy2cIl88QLp8hXD5DuHyGcPkMsfkp5enTpwsqf/LkSZGS\niA/v+Qzh8hnC5TNENPlGoxEqlQrjx48Xq0q7RzT5mZmZCA0NfW2/rIAFosivqalBfn4+Pv74Y6t8\n44K9IMpQc+HChVi7di3+/vtvs+dtfZXyo0ePrLY49mUEyz906BD69u0LlUqFoqIis9fY+iplLy8v\neHl5mY5v3rxplXYF33ZOnz6NgwcPIiAgAKmpqTh+/DhmzJghRja7R7D8FStWQKPRoKqqCnv27EFi\nYiJ+/vlnMbLZPaKP8/lox3JEnduJj483fSso59XwJ1yGcPkMsfkpZV9fX0Hlu7LxhbXgPZ8hXD5D\nuHyGcPkM4fIZwuUzhMtnCJfPEC6fIVw+Q7h8hnD5DOHyGcLlM8Tmp5QDAwMFlbflbcd4z2cIl88Q\nUeQ3NTUhOTkZSqUSoaGhOHPmjBjV2j2i3PMXLFiAd999F7/99htaWlrw5MkTMaq1ewTL12q1KCkp\nwY4dO/6p0MkJHh4egoP1BATLr6qqgre3N2bNmoWLFy8iOjoamZmZcHV1NV1j6wtla2pqUFtba/V2\nJSRwTff58+cxdOhQnD59GoMGDUJ6ejrc3d3x7bff/tOARCJo2bi/v7+QeF0aam7YsMEqS90F/8GV\nyWSQyWQYNGgQACA5ORllZWWCg/UERNnCXS6Xo7KyEgBQWFiIsLAwwcF6AqKMdjZs2IBp06ZBr9cj\nMDAQ2dnZYlRr94giPzIyEufOnROjqh4Ff8JlCJfPEC6fITY/pSyXywWVf/mDbrYG7/kM4fIZwuUz\nhMtnCJfPEC6fIVw+Q7h8hnD5DOHyGcLlM4TLZwiXzxCbn9W8d++eoPJ87wWOWbh8hnD5DBFF/sqV\nKxEWFoaIiAhMnToVz58/F6Nau0ewfLVajS1btqCsrAyXLl2C0WjEnj17xMhm9wge7bi7u8PZ2RlP\nnz6Fo6Mjnj59Cj8/PzGy2T2C5ffu3Ruff/45/P394eLigjFjxmDUqFGtrrH1Vco3btyw2i6yLyN4\nlfKtW7cwfvx4lJSUwMPDAx988AGSk5Mxbdq0fxoQuEpZ6Afi0tPTO11m/vz5r8cq5fPnzyM2NhZe\nXl5wcnLCpEmTcPr0aTGy2T2C5YeEhODMmTNobm4GEaGwsBChoaFiZLN7BMuPjIzEjBkzEBMTY/qy\n+Dlz5ggO1hMQZW5n8eLFWLx4sRhV9Sj4Ey5DuHyG2PyU8u3btwWV9/T0FCmJ+PCezxAunyFcPkO4\nfIZw+Qzh8hnC5TOEy2cIl88QLp8hXD5DuHyGcPkM4fIZYvNTyvPnzxdUnu+9wDELl88QLp8hFsv/\n6KOP4OPjg4iICNNrDQ0NSEpKQnBwMEaPHo2mpqZuCWmvWCx/1qxZKCgoaPXaqlWrkJSUhMrKSowc\nORKrVq0SPaA9Y7H8uLi4Nm9GHzx4EDNnzgQAzJw5E/v37xc3nZ0jaKhZX18PHx8fAICPjw/q6+vN\nXmfrq5T/+usvXLp0yertijbOl0gkkEgkZs+9LN8WGThwoGmpIwDs2rXLKu0KGu34+PiYPqp59+5d\n9O3bV5RQPQVB8idMmGDaN3/Hjh02/eUwtojF8lNTUxEbG4vr169DLpcjOzsbS5YswdGjRxEcHIzj\nx49jyZIl3ZnV7rD4np+bm2v29cLCQtHC9DT4Ey5DuHyG2PyU8qFDhwSV//eDebYI7/kM4fIZwuUz\nhMtnCJfPEC6fIVw+Q7h8hnD5DOHyGcLlM4TLZwiXzxAunyE2P6VcUVEhqPydO3dESiI+vOczhMtn\nCJfPEEGrlL/44gsolUpERkZi0qRJ0Gq13RLSXhG0Snn06NG4cuUKLl68iODgYKxcuVL0gPaMoFXK\nSUlJcHD4p4ohQ4agpqZG3HR2jmhDze3btyM1NdXsOVtfpVxaWorS0lKrt9upvZTVajXGjx/fZjl1\nRkYGysrKkJeX17YBgXspGwyGLpcFujbOHzBggFX2Uhbc83NycpCfn49jx46JkadHIUh+QUEB1q5d\nixMnTuCNN94QK1OPocurlLdv34558+ZBp9MhKSkJKpUKn3zySXdmtTsE75//ygb4Pb9d+BMuQ7h8\nhtj8lPKRI0cElY+NjRUpifjwns8QLp8hXD5DuHyGcPkM4fIZwuUzhMtnCJfPEC6fIVw+Q7h8hnD5\nDOHyGWLz72SxwFqZec9nCJfPEEELZf9l3bp1cHBwQENDg6jh7B1BC2UBQKPR4OjRo+jfv7+owXoC\nghbKAsBnn32GNWvWiBqqpyDoDfQDBw5AJpO12o3VHLa+ULaoqAhFRUXWb5g6QVVVFYWHhxMR0ZMn\nT2jw4MGk1WqJiEihUNDDhw/blOlkEzaBtTJ3ebRz69YtqNVqREZGIiAgADU1NYiOjsb9+/fF6xl2\nTpdvOxEREa12DQ8ICMCFCxfQu3dvUYL1BDq9ULaystK0ne/LtLeD+KsQcq9lVVYsLJafm5uLuro6\nPH/+HBqNBrNmzWp1/vbt213q9Vw+hwlcPkOsMqv5OtLNWgBYYZWyNX6J1xV+22EIl88QLp8hTOUX\nFBQgJCQEAwYMwOrVqy0u19F7C69Co9FgxIgRCAsLQ3h4OLKysjpdh2hYZQbJDC0tLRQYGEhVVVWk\n1+spMjKSrl69alHZ4uJiKisrM03ydYa7d+9SeXk5ERE9fvyYgoODLW5XbJj1/LNnzyIoKAgKhQLO\nzs5ISUnBgQMHLCrb3nsLluDr64uoqCgAgJubG5RKJerq6rpUl1CYya+trYVcLjcdy2Qy1NbWWjWD\nWq1GeXk5hgwZYtV2/4WZfNYPXzqdDsnJycjMzISbmxuTDMzk+/n5QaPRmI41Gg1kMplV2jYYDJg8\neTLS0tKYfqsdM/kxMTG4ceMG1Go19Ho99u7diwkTJnR7u0SE2bNnIzQ0FOnp6d3e3qvCMCM/P5+C\ng4MpMDCQVqxYYXG5lJQU6tevH/Xq1YtkMhlt377d4rIlJSUkkUgoMjKSoqKiKCoqig4fPtyV+ILp\n9ok1TvvwJ1yGcPkM4fIZwuUzhMtnCJfPkP8D+X4CimAmUBYAAAAASUVORK5CYII=\n&quot;</div><div class='line' id='LC467'>&nbsp;&nbsp;&nbsp;&nbsp;&nbsp;&nbsp;}</div><div class='line' id='LC468'>&nbsp;&nbsp;&nbsp;&nbsp;&nbsp;],</div><div class='line' id='LC469'>&nbsp;&nbsp;&nbsp;&nbsp;&nbsp;&quot;prompt_number&quot;: 15</div><div class='line' id='LC470'>&nbsp;&nbsp;&nbsp;&nbsp;},</div><div class='line' id='LC471'>&nbsp;&nbsp;&nbsp;&nbsp;{</div><div class='line' id='LC472'>&nbsp;&nbsp;&nbsp;&nbsp;&nbsp;&quot;cell_type&quot;: &quot;markdown&quot;,</div><div class='line' id='LC473'>&nbsp;&nbsp;&nbsp;&nbsp;&nbsp;&quot;metadata&quot;: {},</div><div class='line' id='LC474'>&nbsp;&nbsp;&nbsp;&nbsp;&nbsp;&quot;source&quot;: [</div><div class='line' id='LC475'>&nbsp;&nbsp;&nbsp;&nbsp;&nbsp;&nbsp;&quot;Yes, intercept at the front, `x1`, then `x2`&quot;</div><div class='line' id='LC476'>&nbsp;&nbsp;&nbsp;&nbsp;&nbsp;]</div><div class='line' id='LC477'>&nbsp;&nbsp;&nbsp;&nbsp;},</div><div class='line' id='LC478'>&nbsp;&nbsp;&nbsp;&nbsp;{</div><div class='line' id='LC479'>&nbsp;&nbsp;&nbsp;&nbsp;&nbsp;&quot;cell_type&quot;: &quot;code&quot;,</div><div class='line' id='LC480'>&nbsp;&nbsp;&nbsp;&nbsp;&nbsp;&quot;collapsed&quot;: false,</div><div class='line' id='LC481'>&nbsp;&nbsp;&nbsp;&nbsp;&nbsp;&quot;input&quot;: [</div><div class='line' id='LC482'>&nbsp;&nbsp;&nbsp;&nbsp;&nbsp;&nbsp;&quot;X = %R model.matrix(~ x2 + x1)\n&quot;,</div><div class='line' id='LC483'>&nbsp;&nbsp;&nbsp;&nbsp;&nbsp;&nbsp;&quot;show_x(X, &#39;Same two variables&#39;)&quot;</div><div class='line' id='LC484'>&nbsp;&nbsp;&nbsp;&nbsp;&nbsp;],</div><div class='line' id='LC485'>&nbsp;&nbsp;&nbsp;&nbsp;&nbsp;&quot;language&quot;: &quot;python&quot;,</div><div class='line' id='LC486'>&nbsp;&nbsp;&nbsp;&nbsp;&nbsp;&quot;metadata&quot;: {},</div><div class='line' id='LC487'>&nbsp;&nbsp;&nbsp;&nbsp;&nbsp;&quot;outputs&quot;: [</div><div class='line' id='LC488'>&nbsp;&nbsp;&nbsp;&nbsp;&nbsp;&nbsp;{</div><div class='line' id='LC489'>&nbsp;&nbsp;&nbsp;&nbsp;&nbsp;&nbsp;&nbsp;&quot;output_type&quot;: &quot;display_data&quot;,</div><div class='line' id='LC490'>&nbsp;&nbsp;&nbsp;&nbsp;&nbsp;&nbsp;&nbsp;&quot;png&quot;: &quot;iVBORw0KGgoAAAANSUhEUgAAAIQAAAEICAYAAACeQVywAAAABHNCSVQICAgIfAhkiAAAAAlwSFlz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\na2ECAAAAAElFTkSuQmCC\n&quot;</div><div class='line' id='LC491'>&nbsp;&nbsp;&nbsp;&nbsp;&nbsp;&nbsp;}</div><div class='line' id='LC492'>&nbsp;&nbsp;&nbsp;&nbsp;&nbsp;],</div><div class='line' id='LC493'>&nbsp;&nbsp;&nbsp;&nbsp;&nbsp;&quot;prompt_number&quot;: 16</div><div class='line' id='LC494'>&nbsp;&nbsp;&nbsp;&nbsp;},</div><div class='line' id='LC495'>&nbsp;&nbsp;&nbsp;&nbsp;{</div><div class='line' id='LC496'>&nbsp;&nbsp;&nbsp;&nbsp;&nbsp;&quot;cell_type&quot;: &quot;markdown&quot;,</div><div class='line' id='LC497'>&nbsp;&nbsp;&nbsp;&nbsp;&nbsp;&quot;metadata&quot;: {},</div><div class='line' id='LC498'>&nbsp;&nbsp;&nbsp;&nbsp;&nbsp;&quot;source&quot;: [</div><div class='line' id='LC499'>&nbsp;&nbsp;&nbsp;&nbsp;&nbsp;&nbsp;&quot;You can see from the plot above that the order of columns in the design matrix is determined by order of entry of variables into the formula.&quot;</div><div class='line' id='LC500'>&nbsp;&nbsp;&nbsp;&nbsp;&nbsp;]</div><div class='line' id='LC501'>&nbsp;&nbsp;&nbsp;&nbsp;},</div><div class='line' id='LC502'>&nbsp;&nbsp;&nbsp;&nbsp;{</div><div class='line' id='LC503'>&nbsp;&nbsp;&nbsp;&nbsp;&nbsp;&quot;cell_type&quot;: &quot;markdown&quot;,</div><div class='line' id='LC504'>&nbsp;&nbsp;&nbsp;&nbsp;&nbsp;&quot;metadata&quot;: {},</div><div class='line' id='LC505'>&nbsp;&nbsp;&nbsp;&nbsp;&nbsp;&quot;source&quot;: [</div><div class='line' id='LC506'>&nbsp;&nbsp;&nbsp;&nbsp;&nbsp;&nbsp;&quot;R uses `:` for expressing the *interaction* between variables:&quot;</div><div class='line' id='LC507'>&nbsp;&nbsp;&nbsp;&nbsp;&nbsp;]</div><div class='line' id='LC508'>&nbsp;&nbsp;&nbsp;&nbsp;},</div><div class='line' id='LC509'>&nbsp;&nbsp;&nbsp;&nbsp;{</div><div class='line' id='LC510'>&nbsp;&nbsp;&nbsp;&nbsp;&nbsp;&quot;cell_type&quot;: &quot;code&quot;,</div><div class='line' id='LC511'>&nbsp;&nbsp;&nbsp;&nbsp;&nbsp;&quot;collapsed&quot;: false,</div><div class='line' id='LC512'>&nbsp;&nbsp;&nbsp;&nbsp;&nbsp;&quot;input&quot;: [</div><div class='line' id='LC513'>&nbsp;&nbsp;&nbsp;&nbsp;&nbsp;&nbsp;&quot;X = %R model.matrix(~x1 + x2 + x1:x2)\n&quot;,</div><div class='line' id='LC514'>&nbsp;&nbsp;&nbsp;&nbsp;&nbsp;&nbsp;&quot;show_x(X, \&quot;Two variables and their interaction\&quot;)&quot;</div><div class='line' id='LC515'>&nbsp;&nbsp;&nbsp;&nbsp;&nbsp;],</div><div class='line' id='LC516'>&nbsp;&nbsp;&nbsp;&nbsp;&nbsp;&quot;language&quot;: &quot;python&quot;,</div><div class='line' id='LC517'>&nbsp;&nbsp;&nbsp;&nbsp;&nbsp;&quot;metadata&quot;: {},</div><div class='line' id='LC518'>&nbsp;&nbsp;&nbsp;&nbsp;&nbsp;&quot;outputs&quot;: [</div><div class='line' id='LC519'>&nbsp;&nbsp;&nbsp;&nbsp;&nbsp;&nbsp;{</div><div class='line' id='LC520'>&nbsp;&nbsp;&nbsp;&nbsp;&nbsp;&nbsp;&nbsp;&quot;output_type&quot;: &quot;display_data&quot;,</div><div class='line' id='LC521'>&nbsp;&nbsp;&nbsp;&nbsp;&nbsp;&nbsp;&nbsp;&quot;png&quot;: &quot;iVBORw0KGgoAAAANSUhEUgAAAN4AAAEICAYAAAAwd0oxAAAABHNCSVQICAgIfAhkiAAAAAlwSFlz\nAAALEgAACxIB0t1+/AAAGRVJREFUeJzt3Xt0jHf+B/D35HaIXCRBErkTWQm5HemGLHIhVIvNYjVx\nKdYeR3fbJt1tLS3by6rW7SjdtijC1nVbp/TYiBWlqBUlSjVIXXJFikiaiUtun98fZX6JTDKTSeIr\n0/frHOeYmefzPJ/nyfOe5zYzj0ZEBET0SFmoboDol4jBI1KAwSNSgMEjUoDBI1KAwSNSwGyD17dv\nXxw8eNCoYS0sLHDp0iW9r61fvx6DBg1qzdZaXVP9t8bwddnb2yM3N9fo4Z966il88sknJk1Lteas\nQ83VZPDs7Oxgb28Pe3t7WFhYwNbWFvb29nBwcMCWLVvapKHWcubMGQwePFh1G8rFxMRg7dq1rTa+\n8vJy+Pr6Gj18WloaJk+ebNSwrd1rc0ydOhXz5s2r91xbrkNWTb2o1Wp1//fz88PatWsRFxfXJo20\nlurqalhZNTlbvygajeaRTau2thYWFqbvRLW015ZO/5ESI/n6+sq+ffvkzp070qFDB7l586aIiMyf\nP1+srKykvLxcRETmzp0rKSkpIiJSWloqkydPlq5du4qPj4/Mnz9famtrG4y7qKhIOnbsKCUlJbrn\nsrKypEuXLlJdXS0XLlyQ2NhYcXFxkS5dusjEiROltLRUN6yPj48sXLhQgoODpUOHDlJdXS0+Pj6y\nb98+ERHJzMyU/v37S+fOncXd3V2ef/55qays1NVrNBpZsWKF9OjRQ7p06SKvvPKKrs/U1FQZOHCg\nbtizZ8/K0KFDxdnZWX71q1/Jv//9b91r//nPfyQoKEjs7e3Fw8NDlixZondZGjM/S5YskZCQEHF0\ndJRnnnlG7t69q3t90aJF4u7uLh4eHrJ27VrRaDRy8eLFBtN59dVXxdLSUjp06CB2dnbywgsv6OZ3\n5cqV0qtXL+ncubP8+c9/rle3du1aCQwMFCcnJxk+fLjk5eXVW1YPpjVlyhSZOXOmjBgxQjp16qRb\n3nVFR0fLmjVrdMvyN7/5jbz88svi5OQkfn5+snv37iZ7bWp565v+rl27JCwsTBwcHMTLy0veeOON\nev0cOnRIBgwYIJ07dxYvLy9Zv369rF69WqytrcXGxkbs7Oxk9OjRur9DRkaGiIjcvXtXkpOTpXv3\n7tK9e3dJSUmRe/fuiYjI/v37xcPDQ5YuXSrdunUTd3d3SU1N1fu3f6DZwRMRGTx4sGzfvl1EROLj\n48Xf31+3AAcNGiQ7duwQEZHJkydLQkKCaLVayc3NlYCAAFm7dq3e8cfFxcnHH3+se/zyyy/Lc889\nJyI/r6gZGRlSWVkp169fl8GDB+vC/WABhYeHS2FhoW4FrdvviRMnJDMzU2pqaiQ3N1cCAwPlvffe\n09VrNBqJi4uTW7duSX5+vgQEBNRbWR4ET6vViqenp6xfv15qamrk5MmT0qVLFzl79qyIiLi5ucnh\nw4dF5Oc3naysLL3zamh+fH19JTIyUq5evSolJSUSGBgoK1euFBGR3bt3i6urq3z//fdSUVEhSUlJ\njQZPRCQmJqbBMtdoNDJq1CgpKyuT/Px86dq1q6Snp4uIyI4dO8Tf31/OnTsnNTU1Mn/+fImKiqpX\nWzd4jo6OcuTIERGRem8O+qafmpoq1tbWsmbNGqmtrZWPPvpIunfv3mivjS3v7OzsRqd/4MABOXPm\njIiInD59WlxdXXXrY25urtjb28vWrVulurpabt68Kd9++62IiEydOlXmzZtXr/e669C8efNkwIAB\ncv36dbl+/bpERUXpht+/f79YWVnJ66+/LtXV1ZKWlia2trb13kwfZlLw5s2bJy+++KJUV1eLm5ub\nrFixQmbPni137tzRbbmqq6vFxsZGt1KKiKxatUpiYmL0jn/NmjUSFxcnIiK1tbXi5eUlhw4d0jvs\n559/LuHh4fV6e/gdpm6/D1u2bJn87ne/0z3WaDSyZ88e3eMPP/xQhgwZIiL1g7d161YZNGhQvXHN\nmDFD3nzzTRER8fb2llWrVklZWZne6TZG3/xs2rRJ93jWrFkyc+ZMERGZNm2azJkzR/daTk6OweA9\neBOpO79ff/217vH48eNl4cKFIiLy5JNP1lv5a2pqxNbWVvLz83W1dYM3ZcqUJuft4eD5+/vrXquo\nqBCNRiPFxcV6ezW0vI2ZfnJysrz00ksiIrJgwQIZM2aM3uGmTp0qc+fOrfdc3XWoZ8+euo2LiMie\nPXvE19dXRH4OXseOHaWmpkb3erdu3SQzM7PRvkzaIY6OjsaBAweQlZWF4OBgDB06FF999RUyMzPh\n7+8PJycn3LhxA1VVVfDx8dHVeXt7o6ioSO84x4wZg//973+4du0aDh48CAsLCwwcOBAAUFxcjMTE\nRHh6esLR0RGTJ0/GzZs369V7eXk12m9OTg5GjhwJd3d3ODo64rXXXmuy3tvbG1euXGkwnry8PGRm\nZsLJyUn3b/PmzSguLgYAbN++HWlpafD19UVMTAyOHj2qtx9j5sfNzU33/44dO6KiogIAcPXq1Qa9\nGqLv2Knu+G1tbXXH83l5eUhOTtbNn4uLCwDo/btpNJoml7s+D08XqH8uoW6vhpa3vulnZmYiNjYW\n3bp1Q+fOnbFq1Srdsi0oKECPHj2a1e8DV65cabAu111HXFxc6h1f1l2m+pgUvAEDBuD8+fP4/PPP\nERMTg8DAQOTn5yMtLQ0xMTEAgC5dusDa2rreqef8/Hx4enrqHaeTkxOGDRuGbdu2YfPmzUhKStK9\n9uqrr8LS0hJnzpxBWVkZPvnkE9TW1tarb+rA/LnnnkNQUBAuXLiAsrIyvP322w3q8/Pz6/3fw8Oj\nwXi8vb0RHR2NW7du6f6Vl5fjgw8+AABERERgx44duH79OhISEjB+/Hi9/RgzP41xd3dv0GtTmnvC\nwtvbG6tXr643jxUVFejfv3+zxmOKh3s1tLz1mTBhAhISElBYWIjS0lLMnDkTcv8LON7e3rh48aJR\n035Y9+7dG6zL3bt3N3LOGjIpeLa2tujXrx8++OADREdHAwCioqKwcuVK3WNLS0uMHz8er732GrRa\nLfLy8rBs2TJMmjSp0fFOmDABGzZswPbt2zFhwgTd81qtFp06dYKDgwOKioqwePHiZvWr1Wphb28P\nW1tbnDt3Dh999FGDYZYsWYLS0lIUFBRgxYoVeOaZZxoM8/TTTyMnJwcbN25EVVUVqqqq8M033+Dc\nuXOoqqrCpk2bUFZWBktLS9jb28PS0rLRfpo7Pw9WnvHjx2P9+vU4e/Ysbt++jTfffLPJOldX10ZX\ntrrjfjD+mTNnYsGCBcjOzgYAlJWV4dNPP22yp9bycK8jR45sdHk3Nn2tVgsnJyfY2Njg2LFj2Lx5\ns+61CRMmICMjA59++imqq6tx8+ZNnDp1Sjftpq5tJiUlYf78+bhx4wZu3LiBt956y+jLJPqYfO41\nOjoa1dXV+PWvf617rNVq6133eP/999GpUyf06NEDgwYNwsSJEzFt2rRGxzl69GhcuHAB7u7uCA4O\n1j3/+uuvIysrC46Ojhg1ahTGjh3brHfyJUuWYPPmzXBwcMCMGTOQmJjYoP63v/0t+vXrh/DwcIwc\nORLTp08H8PM74YNh7e3t8d///hdbt26Fh4cH3N3dMWfOHFRWVgIANm7cCD8/Pzg6OmL16tXYtGmT\n3n6aOz91e3jyySeRkpKCuLg4BAQEYMiQIU3WJicn47PPPoOzszNSUlIMjj8hIQF/+9vfkJiYCEdH\nRwQHB2PPnj31htVXZwx9w9d9/HCvdnZ2TS5vfeP78MMP8fe//x0ODg74xz/+Ue8N1NvbG2lpaVi6\ndClcXFwQHh6O06dPAwCmT5+O7OxsODk5YcyYMQ16nzt3LiIiIhASEoKQkBBERERg7ty5eufDqGUh\nrf22RUQGtZOrjUTmhcEjUoDBI1KAH2psBY/y85CPA54WaDkGr5U0tjK+8cYbeOONN5qsTU5O1vt8\nZmYmIiMjm6xdsWKFUf3R44W7mkQKMHhECjB4RkhPT0fv3r3Rq1cvLFy4sFm1Dz5CZwp9H1sj88Dg\nGVBTU4Pnn38e6enpyM7OxpYtW3D27Fmj61sSvMY+10rtH4NnwLFjx+Dv7w9fX19YW1sjMTERO3fu\nVN0WtXM8q2lAUVFRva+eeHp6IjMzs8Fwdc9cxsTEtGhLR+aPwTPA2Gt0hi4ZENXFXU0DPDw8UFBQ\noHtcUFDAYy9qMQbPgIiICPzwww/Izc1FZWUltm3bhtGjR6tui9o57moaYGVlhX/+858YPnw4ampq\nMH36dAQGBqpui9o5Bs8II0aMwIgRI1S3QWaEu5pECjB4RApwV/MxYGNjY3Kts7OzybUPfrukOZr6\nyToyHrd4RAoweEQKMHhECjB4RAoweEQKMHhECjB4RAoweEQKMHhECjB4RAoweEQKMHhECjB4RAow\neEQK8GtBj4G6P6bUXC35WtBPP/3U7Bp+Lah1cItHpACDR6QAg0ekAINnQEFBAWJjY9GnTx/07duX\nN4KkVsGTKwZYW1tj2bJlCAsLg1arRb9+/RAfH8/f1qQW4RbPADc3N4SFhQEA7OzsEBgYiCtXriju\nito7bvGaITc3FydPntR7X3JzvVtQZWUlqqqqVLdhdhg8I2m1WowbNw7Lly+HnZ1dg9fN9W5BNjY2\n9X5+sKKiQmE35oO7mkaoqqrC2LFjMWnSJCQkJKhuh8wAg2eAiGD69OkICgpCSkqK6nbITDB4Bnz9\n9dfYuHEj9u/fj/DwcISHhyM9PV11W9TO8RjPgIEDB6K2tlZ1G2RmuMUjUoDBI1KAu5qPgZCQEJNr\nL1++bHKtpaVls2t+/PFHk6dH/49bPCIFGDwiBRg8IgUYPCIFGDwiBRg8IgUYPCIFGDwiBRg8IgUY\nPCIFGDwiBRg8IgUYPCIFGDwiBfi1oMfA5MmTTa49fPiwybUODg7Nrjl//rzJ06P/xy0ekQIMHpEC\nDB6RAgyekWpqahAeHo5Ro0apboXMAINnpOXLlyMoKAgajUZ1K2QGGDwjFBYWIi0tDX/84x8hIqrb\nITPAywlGeOmll7B48WL89NNPjQ5jrncLunXrFm7duqW6DbPD4Bmwa9cudOvWDeHh4Thw4ECjw5nr\n3YKcnJzg5OSke3zp0iWF3ZgP7moacOTIEXzxxRfw8/NDUlISvvzySzz77LOq26J2jsEzYMGCBSgo\nKMDly5exdetWxMXF4V//+pfqtqidY/CaiWc1qTXwGK8ZoqOjER0drboNMgPc4hEpwOARKcBdzceA\nm5ubybXOzs4m1/KGm+pwi0ekAINHpACDR6QAg0ekAINHpACDR6QAg0ekAINHpACDR6QAg0ekAINH\npACDR6QAg0ekAINHpAC/FvQY6Nmzp8m1CQkJJtceOXLE5FpqGW7xiBRg8IgUYPCMUFpainHjxiEw\nMBBBQUE4evSo6paoneMxnhGSk5Px1FNP4bPPPkN1dTUqKipUt0TtHINnQFlZGQ4dOoQNGzYAAKys\nrODo6Ki4K2rvGDwDLl++jK5du2LatGk4deoU+vXrh+XLl8PW1rbecOZ605Ly8nKUl5erbsPsaIT3\nnWrS8ePHMWDAABw5cgRPPPEEUlJS4ODggLfeeks3jEajadHtu7y9vU2ufdSXE06cOMFblbUCnlwx\nwNPTE56ennjiiScAAOPGjUNWVpbirqi9Y/AMcHNzg5eXF3JycgAAGRkZ6NOnj+KuqL3jMZ4R3n//\nfUycOBGVlZXo2bMnUlNTVbdE7RyDZ4TQ0FB88803qtsgM8JdTSIFGDwiBRg8IgV4jPcY8PLyMrnW\nxcXF5NqW3GmIWoZbPCIFGDwiBRg8IgUYPCIFGDwiBRg8IgUYPCIFGDwiBRg8IgUYPCIFGDwiBRg8\nIgUYPCIF+O2Ex8C1a9dMrm3JNwwsLPi+qwqXPJECDB6RAgwekQIMnhHeeecd9OnTB8HBwZgwYQLu\n3bunuiVq5xg8A3Jzc/Hxxx8jKysL3333HWpqarB161bVbVE7x7OaBjg4OMDa2hq3b9+GpaUlbt++\nDQ8PD9VtUTvH4Bng7OyMv/71r/D29kbHjh0xfPhwDB06tMFw5nq3oJKSEpSUlKhuw+wweAZcvHgR\n7733HnJzc+Ho6Ijf//732LRpEyZOnFhvuLrBMyfOzs71rhVevHhRYTfmg8d4Bhw/fhxRUVFwcXGB\nlZUVxowZY9LtrYjqYvAM6N27N44ePYo7d+5ARJCRkYGgoCDVbVE7x+AZEBoaimeffRYREREICQkB\nAMyYMUNxV9Te8RjPCLNmzcKsWbNUt0FmhFs8IgUYPCIFuKv5GLh06ZLJtU5OTibXVlZWmlxLLcMt\nHpECDB6RAgwekQIMHpECDB6RAgwekQIMHpECDB6RAgwekQIMHpECDB6RAgwekQIMHpECDB6RAvxa\n0GPgxRdfNLnWxcXF5Nr+/fs3u2b//v0mT4/+H7d4RAoweEQKMHhECjB49/3hD3+Aq6srgoODdc+V\nlJQgPj4eAQEBGDZsGEpLSxV2SOaEwbtv2rRpSE9Pr/fcu+++i/j4eOTk5GDIkCF49913FXVH5obB\nu2/QoEENfjjoiy++wJQpUwAAU6ZMwY4dO1S0RmaIlxOaUFxcDFdXVwCAq6sriouLGx3WXO8WlJeX\nh/z8fNVtmB0Gz0gajQYajabR1831bkE+Pj7w8fHRPT58+LDCbswHdzWb4OrqimvXrgEArl69im7d\nuinuiMwFg9eE0aNHY8OGDQCADRs2ICEhQXFHZC4YvPuSkpIQFRWF8+fPw8vLC6mpqZg9ezb27t2L\ngIAAfPnll5g9e7bqNslM8Bjvvi1btuh9PiMj4xF3Qr8E3OIRKcDgESnAXc3HwK5du0yunThxosm1\nD87Y0qPHLR6RAgwekQIMHpECDB6RAgwekQIMHpECDB6RAgwekQIMHpECDB6RAgwekQIMHpECDB6R\nAgwekQIaERHVTbR3Go0GLVmMVVVVJtfm5eWZXFtTU9Psmt69e7doXuln3OIRKcDgESnA4BEpwODd\np+9uQa+88goCAwMRGhqKMWPGoKysTGGHZE4YvPv03S1o2LBh+P7773Hq1CkEBATgnXfeUdQdmRsG\n7z59dwuKj4+HhcXPiygyMhKFhYUqWiMzxF8ZM9K6deuQlJTU6OvmeregY8eO4dixY6rbMDu8jldH\nbm4uRo0ahe+++67e82+//TaysrKwfft2vXW8jkfNxS2eAevXr0daWhr27dunuhUyIwxeE9LT07F4\n8WJ89dVX6NChg+p2yIzw5Mp9D98taN26dXjhhReg1WoRHx+P8PBw/OlPf1LdJpkJHuO1Ah7jUXNx\ni0ekAINHpABPrjwG9uzZY3JtVFSUybXZ2dkm11LLcItHpACDR6QAg0ekAINHpACDR6QAg0ekAINH\npACDR6QAg0ekAINHpACDR6QAg0ekAINHpACDR6QAv4HeClr6DfT25Jc0r22JWzwiBRg8IgUYvPv0\n3bTkgaVLl8LCwgIlJSUKOiNzxODdp++mJQBQUFCAvXv3wsfHR0FXZK4YvPv03bQEAP7yl79g0aJF\nCjoic8YfO2rCzp074enpiZCQEIPDmutNSw4cOIADBw6obsPs8HJCHXVvWnL79m3ExsZi7969cHBw\ngJ+fH44fPw4XF5cGdb+kU+y/pHltS9zVbMTFixeRm5uL0NBQ+Pn5obCwEP369cOPP/6oujUyA9zV\nbERwcDCKi4t1j/38/HDixAk4Ozsr7IrMBbd49z24aUlOTg68vLyQmppa73WNRmPSeFtyfNQea8k4\nDN59W7ZswZUrV3Dv3j0UFBRg2rRp9V6/dOmSSVu79hgeBq/tMXhECjB4RArwckIrMPX4r73iKtNy\nPKvZCrgiUnNxV5NIAQaPSAEGj0gBBq8Npaeno3fv3ujVqxcWLlxodF1T3w00pKCgALGxsejTpw/6\n9u2LFStWGF179+5dREZGIiwsDEFBQZgzZ06zp09GEmoT1dXV0rNnT7l8+bJUVlZKaGioZGdnG1V7\n8OBBycrKkr59+zZ7ulevXpWTJ0+KiEh5ebkEBAQYPV0RkYqKChERqaqqksjISDl06FCzeyDDuMVr\nI8eOHYO/vz98fX1hbW2NxMRE7Ny506jaxr4baAw3NzeEhYUBAOzs7BAYGIgrV64YXW9rawsAqKys\nRE1NDT+b2kYYvDZSVFQELy8v3WNPT08UFRU90h5yc3Nx8uRJREZGGl1TW1uLsLAwuLq6IjY2FkFB\nQW3Y4S8Xg9dGVF9U12q1GDduHJYvXw47Ozuj6ywsLPDtt9+isLAQBw8e5Oc22wiD10Y8PDxQUFCg\ne1xQUABPT89HMu2qqiqMHTsWkyZNQkJCgknjcHR0xNNPP43jx4+3cncEMHhtJiIiAj/88ANyc3NR\nWVmJbdu2YfTo0W0+XRHB9OnTERQUhJSUlGbV3rhxA6WlpQCAO3fuYO/evQgPD2+LNkn12R1zlpaW\nJgEBAdKzZ09ZsGCB0XWJiYni7u4uNjY24unpKevWrTO69tChQ6LRaCQ0NFTCwsIkLCxMdu/ebVTt\n6dOnJTw8XEJDQyU4OFgWLVpk9HSpefghaSIFuKtJpACDR6QAg0ekAINHpACDR6QAg0ekwP8BzOCB\nMaOPnNoAAAAASUVORK5CYII=\n&quot;</div><div class='line' id='LC522'>&nbsp;&nbsp;&nbsp;&nbsp;&nbsp;&nbsp;}</div><div class='line' id='LC523'>&nbsp;&nbsp;&nbsp;&nbsp;&nbsp;],</div><div class='line' id='LC524'>&nbsp;&nbsp;&nbsp;&nbsp;&nbsp;&quot;prompt_number&quot;: 17</div><div class='line' id='LC525'>&nbsp;&nbsp;&nbsp;&nbsp;},</div><div class='line' id='LC526'>&nbsp;&nbsp;&nbsp;&nbsp;{</div><div class='line' id='LC527'>&nbsp;&nbsp;&nbsp;&nbsp;&nbsp;&quot;cell_type&quot;: &quot;markdown&quot;,</div><div class='line' id='LC528'>&nbsp;&nbsp;&nbsp;&nbsp;&nbsp;&quot;metadata&quot;: {},</div><div class='line' id='LC529'>&nbsp;&nbsp;&nbsp;&nbsp;&nbsp;&quot;source&quot;: [</div><div class='line' id='LC530'>&nbsp;&nbsp;&nbsp;&nbsp;&nbsp;&nbsp;&quot;In this case it is an interaction between two numerical variables, but later we&#39;ll see interaction between factors.  The interaction column for two numerical variables like `x1` and `x2` is the elementwise product of `x1` and `x2`.&quot;</div><div class='line' id='LC531'>&nbsp;&nbsp;&nbsp;&nbsp;&nbsp;]</div><div class='line' id='LC532'>&nbsp;&nbsp;&nbsp;&nbsp;},</div><div class='line' id='LC533'>&nbsp;&nbsp;&nbsp;&nbsp;{</div><div class='line' id='LC534'>&nbsp;&nbsp;&nbsp;&nbsp;&nbsp;&quot;cell_type&quot;: &quot;code&quot;,</div><div class='line' id='LC535'>&nbsp;&nbsp;&nbsp;&nbsp;&nbsp;&quot;collapsed&quot;: false,</div><div class='line' id='LC536'>&nbsp;&nbsp;&nbsp;&nbsp;&nbsp;&quot;input&quot;: [</div><div class='line' id='LC537'>&nbsp;&nbsp;&nbsp;&nbsp;&nbsp;&nbsp;&quot;X[:,3] == x1 * x2&quot;</div><div class='line' id='LC538'>&nbsp;&nbsp;&nbsp;&nbsp;&nbsp;],</div><div class='line' id='LC539'>&nbsp;&nbsp;&nbsp;&nbsp;&nbsp;&quot;language&quot;: &quot;python&quot;,</div><div class='line' id='LC540'>&nbsp;&nbsp;&nbsp;&nbsp;&nbsp;&quot;metadata&quot;: {},</div><div class='line' id='LC541'>&nbsp;&nbsp;&nbsp;&nbsp;&nbsp;&quot;outputs&quot;: [</div><div class='line' id='LC542'>&nbsp;&nbsp;&nbsp;&nbsp;&nbsp;&nbsp;{</div><div class='line' id='LC543'>&nbsp;&nbsp;&nbsp;&nbsp;&nbsp;&nbsp;&nbsp;&quot;output_type&quot;: &quot;pyout&quot;,</div><div class='line' id='LC544'>&nbsp;&nbsp;&nbsp;&nbsp;&nbsp;&nbsp;&nbsp;&quot;prompt_number&quot;: 18,</div><div class='line' id='LC545'>&nbsp;&nbsp;&nbsp;&nbsp;&nbsp;&nbsp;&nbsp;&quot;text&quot;: [</div><div class='line' id='LC546'>&nbsp;&nbsp;&nbsp;&nbsp;&nbsp;&nbsp;&nbsp;&nbsp;&quot;array([ True,  True,  True,  True,  True,  True,  True,  True,  True,\n&quot;,</div><div class='line' id='LC547'>&nbsp;&nbsp;&nbsp;&nbsp;&nbsp;&nbsp;&nbsp;&nbsp;&quot;        True,  True,  True,  True,  True,  True], dtype=bool)&quot;</div><div class='line' id='LC548'>&nbsp;&nbsp;&nbsp;&nbsp;&nbsp;&nbsp;&nbsp;]</div><div class='line' id='LC549'>&nbsp;&nbsp;&nbsp;&nbsp;&nbsp;&nbsp;}</div><div class='line' id='LC550'>&nbsp;&nbsp;&nbsp;&nbsp;&nbsp;],</div><div class='line' id='LC551'>&nbsp;&nbsp;&nbsp;&nbsp;&nbsp;&quot;prompt_number&quot;: 18</div><div class='line' id='LC552'>&nbsp;&nbsp;&nbsp;&nbsp;},</div><div class='line' id='LC553'>&nbsp;&nbsp;&nbsp;&nbsp;{</div><div class='line' id='LC554'>&nbsp;&nbsp;&nbsp;&nbsp;&nbsp;&quot;cell_type&quot;: &quot;markdown&quot;,</div><div class='line' id='LC555'>&nbsp;&nbsp;&nbsp;&nbsp;&nbsp;&quot;metadata&quot;: {},</div><div class='line' id='LC556'>&nbsp;&nbsp;&nbsp;&nbsp;&nbsp;&quot;source&quot;: [</div><div class='line' id='LC557'>&nbsp;&nbsp;&nbsp;&nbsp;&nbsp;&nbsp;&quot;The interaction column always comes after the \&quot;main effects\&quot; `x1` and `x2`, no matter how we ask for them&quot;</div><div class='line' id='LC558'>&nbsp;&nbsp;&nbsp;&nbsp;&nbsp;]</div><div class='line' id='LC559'>&nbsp;&nbsp;&nbsp;&nbsp;},</div><div class='line' id='LC560'>&nbsp;&nbsp;&nbsp;&nbsp;{</div><div class='line' id='LC561'>&nbsp;&nbsp;&nbsp;&nbsp;&nbsp;&quot;cell_type&quot;: &quot;code&quot;,</div><div class='line' id='LC562'>&nbsp;&nbsp;&nbsp;&nbsp;&nbsp;&quot;collapsed&quot;: false,</div><div class='line' id='LC563'>&nbsp;&nbsp;&nbsp;&nbsp;&nbsp;&quot;input&quot;: [</div><div class='line' id='LC564'>&nbsp;&nbsp;&nbsp;&nbsp;&nbsp;&nbsp;&quot;X2 = %R model.matrix(~ x1:x2 + x1 + x2)\n&quot;,</div><div class='line' id='LC565'>&nbsp;&nbsp;&nbsp;&nbsp;&nbsp;&nbsp;&quot;if np.all(X == X2):\n&quot;,</div><div class='line' id='LC566'>&nbsp;&nbsp;&nbsp;&nbsp;&nbsp;&nbsp;&quot;    print \&quot;Designs are the same\&quot;\n&quot;,</div><div class='line' id='LC567'>&nbsp;&nbsp;&nbsp;&nbsp;&nbsp;&nbsp;&quot;%R print(coef(lm(Y ~ x1:x2 + x1 + x2)))&quot;</div><div class='line' id='LC568'>&nbsp;&nbsp;&nbsp;&nbsp;&nbsp;],</div><div class='line' id='LC569'>&nbsp;&nbsp;&nbsp;&nbsp;&nbsp;&quot;language&quot;: &quot;python&quot;,</div><div class='line' id='LC570'>&nbsp;&nbsp;&nbsp;&nbsp;&nbsp;&quot;metadata&quot;: {},</div><div class='line' id='LC571'>&nbsp;&nbsp;&nbsp;&nbsp;&nbsp;&quot;outputs&quot;: [</div><div class='line' id='LC572'>&nbsp;&nbsp;&nbsp;&nbsp;&nbsp;&nbsp;{</div><div class='line' id='LC573'>&nbsp;&nbsp;&nbsp;&nbsp;&nbsp;&nbsp;&nbsp;&quot;output_type&quot;: &quot;stream&quot;,</div><div class='line' id='LC574'>&nbsp;&nbsp;&nbsp;&nbsp;&nbsp;&nbsp;&nbsp;&quot;stream&quot;: &quot;stdout&quot;,</div><div class='line' id='LC575'>&nbsp;&nbsp;&nbsp;&nbsp;&nbsp;&nbsp;&nbsp;&quot;text&quot;: [</div><div class='line' id='LC576'>&nbsp;&nbsp;&nbsp;&nbsp;&nbsp;&nbsp;&nbsp;&nbsp;&quot;Designs are the same\n&quot;</div><div class='line' id='LC577'>&nbsp;&nbsp;&nbsp;&nbsp;&nbsp;&nbsp;&nbsp;]</div><div class='line' id='LC578'>&nbsp;&nbsp;&nbsp;&nbsp;&nbsp;&nbsp;},</div><div class='line' id='LC579'>&nbsp;&nbsp;&nbsp;&nbsp;&nbsp;&nbsp;{</div><div class='line' id='LC580'>&nbsp;&nbsp;&nbsp;&nbsp;&nbsp;&nbsp;&nbsp;&quot;output_type&quot;: &quot;display_data&quot;,</div><div class='line' id='LC581'>&nbsp;&nbsp;&nbsp;&nbsp;&nbsp;&nbsp;&nbsp;&quot;text&quot;: [</div><div class='line' id='LC582'>&nbsp;&nbsp;&nbsp;&nbsp;&nbsp;&nbsp;&nbsp;&nbsp;&quot;(Intercept)          x1          x2       x1:x2 \n&quot;,</div><div class='line' id='LC583'>&nbsp;&nbsp;&nbsp;&nbsp;&nbsp;&nbsp;&nbsp;&nbsp;&quot;78.19705800  1.15405802  2.57086251 -0.06924777 \n&quot;</div><div class='line' id='LC584'>&nbsp;&nbsp;&nbsp;&nbsp;&nbsp;&nbsp;&nbsp;]</div><div class='line' id='LC585'>&nbsp;&nbsp;&nbsp;&nbsp;&nbsp;&nbsp;}</div><div class='line' id='LC586'>&nbsp;&nbsp;&nbsp;&nbsp;&nbsp;],</div><div class='line' id='LC587'>&nbsp;&nbsp;&nbsp;&nbsp;&nbsp;&quot;prompt_number&quot;: 19</div><div class='line' id='LC588'>&nbsp;&nbsp;&nbsp;&nbsp;},</div><div class='line' id='LC589'>&nbsp;&nbsp;&nbsp;&nbsp;{</div><div class='line' id='LC590'>&nbsp;&nbsp;&nbsp;&nbsp;&nbsp;&quot;cell_type&quot;: &quot;markdown&quot;,</div><div class='line' id='LC591'>&nbsp;&nbsp;&nbsp;&nbsp;&nbsp;&quot;metadata&quot;: {},</div><div class='line' id='LC592'>&nbsp;&nbsp;&nbsp;&nbsp;&nbsp;&quot;source&quot;: [</div><div class='line' id='LC593'>&nbsp;&nbsp;&nbsp;&nbsp;&nbsp;&nbsp;&quot;All the interactions come after all the main effects, even if there are other main effect not related to the interactions&quot;</div><div class='line' id='LC594'>&nbsp;&nbsp;&nbsp;&nbsp;&nbsp;]</div><div class='line' id='LC595'>&nbsp;&nbsp;&nbsp;&nbsp;},</div><div class='line' id='LC596'>&nbsp;&nbsp;&nbsp;&nbsp;{</div><div class='line' id='LC597'>&nbsp;&nbsp;&nbsp;&nbsp;&nbsp;&quot;cell_type&quot;: &quot;code&quot;,</div><div class='line' id='LC598'>&nbsp;&nbsp;&nbsp;&nbsp;&nbsp;&quot;collapsed&quot;: false,</div><div class='line' id='LC599'>&nbsp;&nbsp;&nbsp;&nbsp;&nbsp;&quot;input&quot;: [</div><div class='line' id='LC600'>&nbsp;&nbsp;&nbsp;&nbsp;&nbsp;&nbsp;&quot;x3 = np.random.normal(size=(N,))\n&quot;,</div><div class='line' id='LC601'>&nbsp;&nbsp;&nbsp;&nbsp;&nbsp;&nbsp;&quot;x4 = np.random.normal(size=(N,))\n&quot;,</div><div class='line' id='LC602'>&nbsp;&nbsp;&nbsp;&nbsp;&nbsp;&nbsp;&quot;%Rpush x3 x4&quot;</div><div class='line' id='LC603'>&nbsp;&nbsp;&nbsp;&nbsp;&nbsp;],</div><div class='line' id='LC604'>&nbsp;&nbsp;&nbsp;&nbsp;&nbsp;&quot;language&quot;: &quot;python&quot;,</div><div class='line' id='LC605'>&nbsp;&nbsp;&nbsp;&nbsp;&nbsp;&quot;metadata&quot;: {},</div><div class='line' id='LC606'>&nbsp;&nbsp;&nbsp;&nbsp;&nbsp;&quot;outputs&quot;: [],</div><div class='line' id='LC607'>&nbsp;&nbsp;&nbsp;&nbsp;&nbsp;&quot;prompt_number&quot;: 20</div><div class='line' id='LC608'>&nbsp;&nbsp;&nbsp;&nbsp;},</div><div class='line' id='LC609'>&nbsp;&nbsp;&nbsp;&nbsp;{</div><div class='line' id='LC610'>&nbsp;&nbsp;&nbsp;&nbsp;&nbsp;&quot;cell_type&quot;: &quot;code&quot;,</div><div class='line' id='LC611'>&nbsp;&nbsp;&nbsp;&nbsp;&nbsp;&quot;collapsed&quot;: false,</div><div class='line' id='LC612'>&nbsp;&nbsp;&nbsp;&nbsp;&nbsp;&quot;input&quot;: [</div><div class='line' id='LC613'>&nbsp;&nbsp;&nbsp;&nbsp;&nbsp;&nbsp;&quot;%R print(coef(lm(Y ~ x1 + x2 + x1:x2 + x3 + x4)))&quot;</div><div class='line' id='LC614'>&nbsp;&nbsp;&nbsp;&nbsp;&nbsp;],</div><div class='line' id='LC615'>&nbsp;&nbsp;&nbsp;&nbsp;&nbsp;&quot;language&quot;: &quot;python&quot;,</div><div class='line' id='LC616'>&nbsp;&nbsp;&nbsp;&nbsp;&nbsp;&quot;metadata&quot;: {},</div><div class='line' id='LC617'>&nbsp;&nbsp;&nbsp;&nbsp;&nbsp;&quot;outputs&quot;: [</div><div class='line' id='LC618'>&nbsp;&nbsp;&nbsp;&nbsp;&nbsp;&nbsp;{</div><div class='line' id='LC619'>&nbsp;&nbsp;&nbsp;&nbsp;&nbsp;&nbsp;&nbsp;&quot;output_type&quot;: &quot;display_data&quot;,</div><div class='line' id='LC620'>&nbsp;&nbsp;&nbsp;&nbsp;&nbsp;&nbsp;&nbsp;&quot;text&quot;: [</div><div class='line' id='LC621'>&nbsp;&nbsp;&nbsp;&nbsp;&nbsp;&nbsp;&nbsp;&nbsp;&quot;(Intercept)          x1          x2          x3          x4       x1:x2 \n&quot;,</div><div class='line' id='LC622'>&nbsp;&nbsp;&nbsp;&nbsp;&nbsp;&nbsp;&nbsp;&nbsp;&quot; 54.7950866   1.6052856   6.9301647  -7.9637614 -13.8470418  -0.1535353 \n&quot;</div><div class='line' id='LC623'>&nbsp;&nbsp;&nbsp;&nbsp;&nbsp;&nbsp;&nbsp;]</div><div class='line' id='LC624'>&nbsp;&nbsp;&nbsp;&nbsp;&nbsp;&nbsp;}</div><div class='line' id='LC625'>&nbsp;&nbsp;&nbsp;&nbsp;&nbsp;],</div><div class='line' id='LC626'>&nbsp;&nbsp;&nbsp;&nbsp;&nbsp;&quot;prompt_number&quot;: 21</div><div class='line' id='LC627'>&nbsp;&nbsp;&nbsp;&nbsp;},</div><div class='line' id='LC628'>&nbsp;&nbsp;&nbsp;&nbsp;{</div><div class='line' id='LC629'>&nbsp;&nbsp;&nbsp;&nbsp;&nbsp;&quot;cell_type&quot;: &quot;heading&quot;,</div><div class='line' id='LC630'>&nbsp;&nbsp;&nbsp;&nbsp;&nbsp;&quot;level&quot;: 2,</div><div class='line' id='LC631'>&nbsp;&nbsp;&nbsp;&nbsp;&nbsp;&quot;metadata&quot;: {},</div><div class='line' id='LC632'>&nbsp;&nbsp;&nbsp;&nbsp;&nbsp;&quot;source&quot;: [</div><div class='line' id='LC633'>&nbsp;&nbsp;&nbsp;&nbsp;&nbsp;&nbsp;&quot;Factors in formulae&quot;</div><div class='line' id='LC634'>&nbsp;&nbsp;&nbsp;&nbsp;&nbsp;]</div><div class='line' id='LC635'>&nbsp;&nbsp;&nbsp;&nbsp;},</div><div class='line' id='LC636'>&nbsp;&nbsp;&nbsp;&nbsp;{</div><div class='line' id='LC637'>&nbsp;&nbsp;&nbsp;&nbsp;&nbsp;&quot;cell_type&quot;: &quot;markdown&quot;,</div><div class='line' id='LC638'>&nbsp;&nbsp;&nbsp;&nbsp;&nbsp;&quot;metadata&quot;: {},</div><div class='line' id='LC639'>&nbsp;&nbsp;&nbsp;&nbsp;&nbsp;&quot;source&quot;: [</div><div class='line' id='LC640'>&nbsp;&nbsp;&nbsp;&nbsp;&nbsp;&nbsp;&quot;Quoting again from the Chambers and Hastie chapter, section 2.2.1: \&quot;A factor is an object that represents values from some specified set of possible *levels*\&quot;.  For example, we might have a &#39;nationality&#39; factor that represents the nationality of subjects in our sample.  Maybe the subjects all come from one of the USA, UK or France.&quot;</div><div class='line' id='LC641'>&nbsp;&nbsp;&nbsp;&nbsp;&nbsp;]</div><div class='line' id='LC642'>&nbsp;&nbsp;&nbsp;&nbsp;},</div><div class='line' id='LC643'>&nbsp;&nbsp;&nbsp;&nbsp;{</div><div class='line' id='LC644'>&nbsp;&nbsp;&nbsp;&nbsp;&nbsp;&quot;cell_type&quot;: &quot;code&quot;,</div><div class='line' id='LC645'>&nbsp;&nbsp;&nbsp;&nbsp;&nbsp;&quot;collapsed&quot;: false,</div><div class='line' id='LC646'>&nbsp;&nbsp;&nbsp;&nbsp;&nbsp;&quot;input&quot;: [</div><div class='line' id='LC647'>&nbsp;&nbsp;&nbsp;&nbsp;&nbsp;&nbsp;&quot;nationality = [&#39;USA&#39;] * 5 + [&#39;UK&#39;] * 5 + [&#39;France&#39;] * 5&quot;</div><div class='line' id='LC648'>&nbsp;&nbsp;&nbsp;&nbsp;&nbsp;],</div><div class='line' id='LC649'>&nbsp;&nbsp;&nbsp;&nbsp;&nbsp;&quot;language&quot;: &quot;python&quot;,</div><div class='line' id='LC650'>&nbsp;&nbsp;&nbsp;&nbsp;&nbsp;&quot;metadata&quot;: {},</div><div class='line' id='LC651'>&nbsp;&nbsp;&nbsp;&nbsp;&nbsp;&quot;outputs&quot;: [],</div><div class='line' id='LC652'>&nbsp;&nbsp;&nbsp;&nbsp;&nbsp;&quot;prompt_number&quot;: 22</div><div class='line' id='LC653'>&nbsp;&nbsp;&nbsp;&nbsp;},</div><div class='line' id='LC654'>&nbsp;&nbsp;&nbsp;&nbsp;{</div><div class='line' id='LC655'>&nbsp;&nbsp;&nbsp;&nbsp;&nbsp;&quot;cell_type&quot;: &quot;markdown&quot;,</div><div class='line' id='LC656'>&nbsp;&nbsp;&nbsp;&nbsp;&nbsp;&quot;metadata&quot;: {},</div><div class='line' id='LC657'>&nbsp;&nbsp;&nbsp;&nbsp;&nbsp;&quot;source&quot;: [</div><div class='line' id='LC658'>&nbsp;&nbsp;&nbsp;&nbsp;&nbsp;&nbsp;&quot;Because this is a string variable, R&#39;s formula will assume this is a factor&quot;</div><div class='line' id='LC659'>&nbsp;&nbsp;&nbsp;&nbsp;&nbsp;]</div><div class='line' id='LC660'>&nbsp;&nbsp;&nbsp;&nbsp;},</div><div class='line' id='LC661'>&nbsp;&nbsp;&nbsp;&nbsp;{</div><div class='line' id='LC662'>&nbsp;&nbsp;&nbsp;&nbsp;&nbsp;&quot;cell_type&quot;: &quot;code&quot;,</div><div class='line' id='LC663'>&nbsp;&nbsp;&nbsp;&nbsp;&nbsp;&quot;collapsed&quot;: false,</div><div class='line' id='LC664'>&nbsp;&nbsp;&nbsp;&nbsp;&nbsp;&quot;input&quot;: [</div><div class='line' id='LC665'>&nbsp;&nbsp;&nbsp;&nbsp;&nbsp;&nbsp;&quot;%Rpush nationality&quot;</div><div class='line' id='LC666'>&nbsp;&nbsp;&nbsp;&nbsp;&nbsp;],</div><div class='line' id='LC667'>&nbsp;&nbsp;&nbsp;&nbsp;&nbsp;&quot;language&quot;: &quot;python&quot;,</div><div class='line' id='LC668'>&nbsp;&nbsp;&nbsp;&nbsp;&nbsp;&quot;metadata&quot;: {},</div><div class='line' id='LC669'>&nbsp;&nbsp;&nbsp;&nbsp;&nbsp;&quot;outputs&quot;: [],</div><div class='line' id='LC670'>&nbsp;&nbsp;&nbsp;&nbsp;&nbsp;&quot;prompt_number&quot;: 23</div><div class='line' id='LC671'>&nbsp;&nbsp;&nbsp;&nbsp;},</div><div class='line' id='LC672'>&nbsp;&nbsp;&nbsp;&nbsp;{</div><div class='line' id='LC673'>&nbsp;&nbsp;&nbsp;&nbsp;&nbsp;&quot;cell_type&quot;: &quot;code&quot;,</div><div class='line' id='LC674'>&nbsp;&nbsp;&nbsp;&nbsp;&nbsp;&quot;collapsed&quot;: false,</div><div class='line' id='LC675'>&nbsp;&nbsp;&nbsp;&nbsp;&nbsp;&quot;input&quot;: [</div><div class='line' id='LC676'>&nbsp;&nbsp;&nbsp;&nbsp;&nbsp;&nbsp;&quot;%R print(model.matrix( ~ nationality))&quot;</div><div class='line' id='LC677'>&nbsp;&nbsp;&nbsp;&nbsp;&nbsp;],</div><div class='line' id='LC678'>&nbsp;&nbsp;&nbsp;&nbsp;&nbsp;&quot;language&quot;: &quot;python&quot;,</div><div class='line' id='LC679'>&nbsp;&nbsp;&nbsp;&nbsp;&nbsp;&quot;metadata&quot;: {},</div><div class='line' id='LC680'>&nbsp;&nbsp;&nbsp;&nbsp;&nbsp;&quot;outputs&quot;: [</div><div class='line' id='LC681'>&nbsp;&nbsp;&nbsp;&nbsp;&nbsp;&nbsp;{</div><div class='line' id='LC682'>&nbsp;&nbsp;&nbsp;&nbsp;&nbsp;&nbsp;&nbsp;&quot;output_type&quot;: &quot;display_data&quot;,</div><div class='line' id='LC683'>&nbsp;&nbsp;&nbsp;&nbsp;&nbsp;&nbsp;&nbsp;&quot;text&quot;: [</div><div class='line' id='LC684'>&nbsp;&nbsp;&nbsp;&nbsp;&nbsp;&nbsp;&nbsp;&nbsp;&quot;   (Intercept) nationalityUK nationalityUSA\n&quot;,</div><div class='line' id='LC685'>&nbsp;&nbsp;&nbsp;&nbsp;&nbsp;&nbsp;&nbsp;&nbsp;&quot;1            1             0              1\n&quot;,</div><div class='line' id='LC686'>&nbsp;&nbsp;&nbsp;&nbsp;&nbsp;&nbsp;&nbsp;&nbsp;&quot;2            1             0              1\n&quot;,</div><div class='line' id='LC687'>&nbsp;&nbsp;&nbsp;&nbsp;&nbsp;&nbsp;&nbsp;&nbsp;&quot;3            1             0              1\n&quot;,</div><div class='line' id='LC688'>&nbsp;&nbsp;&nbsp;&nbsp;&nbsp;&nbsp;&nbsp;&nbsp;&quot;4            1             0              1\n&quot;,</div><div class='line' id='LC689'>&nbsp;&nbsp;&nbsp;&nbsp;&nbsp;&nbsp;&nbsp;&nbsp;&quot;5            1             0              1\n&quot;,</div><div class='line' id='LC690'>&nbsp;&nbsp;&nbsp;&nbsp;&nbsp;&nbsp;&nbsp;&nbsp;&quot;6            1             1              0\n&quot;,</div><div class='line' id='LC691'>&nbsp;&nbsp;&nbsp;&nbsp;&nbsp;&nbsp;&nbsp;&nbsp;&quot;7            1             1              0\n&quot;,</div><div class='line' id='LC692'>&nbsp;&nbsp;&nbsp;&nbsp;&nbsp;&nbsp;&nbsp;&nbsp;&quot;8            1             1              0\n&quot;,</div><div class='line' id='LC693'>&nbsp;&nbsp;&nbsp;&nbsp;&nbsp;&nbsp;&nbsp;&nbsp;&quot;9            1             1              0\n&quot;,</div><div class='line' id='LC694'>&nbsp;&nbsp;&nbsp;&nbsp;&nbsp;&nbsp;&nbsp;&nbsp;&quot;10           1             1              0\n&quot;,</div><div class='line' id='LC695'>&nbsp;&nbsp;&nbsp;&nbsp;&nbsp;&nbsp;&nbsp;&nbsp;&quot;11           1             0              0\n&quot;,</div><div class='line' id='LC696'>&nbsp;&nbsp;&nbsp;&nbsp;&nbsp;&nbsp;&nbsp;&nbsp;&quot;12           1             0              0\n&quot;,</div><div class='line' id='LC697'>&nbsp;&nbsp;&nbsp;&nbsp;&nbsp;&nbsp;&nbsp;&nbsp;&quot;13           1             0              0\n&quot;,</div><div class='line' id='LC698'>&nbsp;&nbsp;&nbsp;&nbsp;&nbsp;&nbsp;&nbsp;&nbsp;&quot;14           1             0              0\n&quot;,</div><div class='line' id='LC699'>&nbsp;&nbsp;&nbsp;&nbsp;&nbsp;&nbsp;&nbsp;&nbsp;&quot;15           1             0              0\n&quot;,</div><div class='line' id='LC700'>&nbsp;&nbsp;&nbsp;&nbsp;&nbsp;&nbsp;&nbsp;&nbsp;&quot;attr(,\&quot;assign\&quot;)\n&quot;,</div><div class='line' id='LC701'>&nbsp;&nbsp;&nbsp;&nbsp;&nbsp;&nbsp;&nbsp;&nbsp;&quot;[1] 0 1 1\n&quot;,</div><div class='line' id='LC702'>&nbsp;&nbsp;&nbsp;&nbsp;&nbsp;&nbsp;&nbsp;&nbsp;&quot;attr(,\&quot;contrasts\&quot;)\n&quot;,</div><div class='line' id='LC703'>&nbsp;&nbsp;&nbsp;&nbsp;&nbsp;&nbsp;&nbsp;&nbsp;&quot;attr(,\&quot;contrasts\&quot;)$nationality\n&quot;,</div><div class='line' id='LC704'>&nbsp;&nbsp;&nbsp;&nbsp;&nbsp;&nbsp;&nbsp;&nbsp;&quot;[1] \&quot;contr.treatment\&quot;\n&quot;,</div><div class='line' id='LC705'>&nbsp;&nbsp;&nbsp;&nbsp;&nbsp;&nbsp;&nbsp;&nbsp;&quot;\n&quot;,</div><div class='line' id='LC706'>&nbsp;&nbsp;&nbsp;&nbsp;&nbsp;&nbsp;&nbsp;&nbsp;&quot;Warning message:\n&quot;,</div><div class='line' id='LC707'>&nbsp;&nbsp;&nbsp;&nbsp;&nbsp;&nbsp;&nbsp;&nbsp;&quot;In model.matrix.default(~nationality) :\n&quot;,</div><div class='line' id='LC708'>&nbsp;&nbsp;&nbsp;&nbsp;&nbsp;&nbsp;&nbsp;&nbsp;&quot;  variable &#39;nationality&#39; converted to a factor\n&quot;</div><div class='line' id='LC709'>&nbsp;&nbsp;&nbsp;&nbsp;&nbsp;&nbsp;&nbsp;]</div><div class='line' id='LC710'>&nbsp;&nbsp;&nbsp;&nbsp;&nbsp;&nbsp;}</div><div class='line' id='LC711'>&nbsp;&nbsp;&nbsp;&nbsp;&nbsp;],</div><div class='line' id='LC712'>&nbsp;&nbsp;&nbsp;&nbsp;&nbsp;&quot;prompt_number&quot;: 24</div><div class='line' id='LC713'>&nbsp;&nbsp;&nbsp;&nbsp;},</div><div class='line' id='LC714'>&nbsp;&nbsp;&nbsp;&nbsp;{</div><div class='line' id='LC715'>&nbsp;&nbsp;&nbsp;&nbsp;&nbsp;&quot;cell_type&quot;: &quot;markdown&quot;,</div><div class='line' id='LC716'>&nbsp;&nbsp;&nbsp;&nbsp;&nbsp;&quot;metadata&quot;: {},</div><div class='line' id='LC717'>&nbsp;&nbsp;&nbsp;&nbsp;&nbsp;&quot;source&quot;: [</div><div class='line' id='LC718'>&nbsp;&nbsp;&nbsp;&nbsp;&nbsp;&nbsp;&quot;To be more specific, and avoid the warning, we&#39;ll tell R that `nationality` is a factor:&quot;</div><div class='line' id='LC719'>&nbsp;&nbsp;&nbsp;&nbsp;&nbsp;]</div><div class='line' id='LC720'>&nbsp;&nbsp;&nbsp;&nbsp;},</div><div class='line' id='LC721'>&nbsp;&nbsp;&nbsp;&nbsp;{</div><div class='line' id='LC722'>&nbsp;&nbsp;&nbsp;&nbsp;&nbsp;&quot;cell_type&quot;: &quot;code&quot;,</div><div class='line' id='LC723'>&nbsp;&nbsp;&nbsp;&nbsp;&nbsp;&quot;collapsed&quot;: false,</div><div class='line' id='LC724'>&nbsp;&nbsp;&nbsp;&nbsp;&nbsp;&quot;input&quot;: [</div><div class='line' id='LC725'>&nbsp;&nbsp;&nbsp;&nbsp;&nbsp;&nbsp;&quot;%%R\n&quot;,</div><div class='line' id='LC726'>&nbsp;&nbsp;&nbsp;&nbsp;&nbsp;&nbsp;&quot;nationality = factor(nationality)\n&quot;,</div><div class='line' id='LC727'>&nbsp;&nbsp;&nbsp;&nbsp;&nbsp;&nbsp;&quot;print(levels(nationality))\n&quot;,</div><div class='line' id='LC728'>&nbsp;&nbsp;&nbsp;&nbsp;&nbsp;&nbsp;&quot;print(model.matrix( ~ nationality))&quot;</div><div class='line' id='LC729'>&nbsp;&nbsp;&nbsp;&nbsp;&nbsp;],</div><div class='line' id='LC730'>&nbsp;&nbsp;&nbsp;&nbsp;&nbsp;&quot;language&quot;: &quot;python&quot;,</div><div class='line' id='LC731'>&nbsp;&nbsp;&nbsp;&nbsp;&nbsp;&quot;metadata&quot;: {},</div><div class='line' id='LC732'>&nbsp;&nbsp;&nbsp;&nbsp;&nbsp;&quot;outputs&quot;: [</div><div class='line' id='LC733'>&nbsp;&nbsp;&nbsp;&nbsp;&nbsp;&nbsp;{</div><div class='line' id='LC734'>&nbsp;&nbsp;&nbsp;&nbsp;&nbsp;&nbsp;&nbsp;&quot;output_type&quot;: &quot;display_data&quot;,</div><div class='line' id='LC735'>&nbsp;&nbsp;&nbsp;&nbsp;&nbsp;&nbsp;&nbsp;&quot;text&quot;: [</div><div class='line' id='LC736'>&nbsp;&nbsp;&nbsp;&nbsp;&nbsp;&nbsp;&nbsp;&nbsp;&quot;[1] \&quot;France\&quot; \&quot;UK\&quot;     \&quot;USA\&quot;   \n&quot;,</div><div class='line' id='LC737'>&nbsp;&nbsp;&nbsp;&nbsp;&nbsp;&nbsp;&nbsp;&nbsp;&quot;   (Intercept) nationalityUK nationalityUSA\n&quot;,</div><div class='line' id='LC738'>&nbsp;&nbsp;&nbsp;&nbsp;&nbsp;&nbsp;&nbsp;&nbsp;&quot;1            1             0              1\n&quot;,</div><div class='line' id='LC739'>&nbsp;&nbsp;&nbsp;&nbsp;&nbsp;&nbsp;&nbsp;&nbsp;&quot;2            1             0              1\n&quot;,</div><div class='line' id='LC740'>&nbsp;&nbsp;&nbsp;&nbsp;&nbsp;&nbsp;&nbsp;&nbsp;&quot;3            1             0              1\n&quot;,</div><div class='line' id='LC741'>&nbsp;&nbsp;&nbsp;&nbsp;&nbsp;&nbsp;&nbsp;&nbsp;&quot;4            1             0              1\n&quot;,</div><div class='line' id='LC742'>&nbsp;&nbsp;&nbsp;&nbsp;&nbsp;&nbsp;&nbsp;&nbsp;&quot;5            1             0              1\n&quot;,</div><div class='line' id='LC743'>&nbsp;&nbsp;&nbsp;&nbsp;&nbsp;&nbsp;&nbsp;&nbsp;&quot;6            1             1              0\n&quot;,</div><div class='line' id='LC744'>&nbsp;&nbsp;&nbsp;&nbsp;&nbsp;&nbsp;&nbsp;&nbsp;&quot;7            1             1              0\n&quot;,</div><div class='line' id='LC745'>&nbsp;&nbsp;&nbsp;&nbsp;&nbsp;&nbsp;&nbsp;&nbsp;&quot;8            1             1              0\n&quot;,</div><div class='line' id='LC746'>&nbsp;&nbsp;&nbsp;&nbsp;&nbsp;&nbsp;&nbsp;&nbsp;&quot;9            1             1              0\n&quot;,</div><div class='line' id='LC747'>&nbsp;&nbsp;&nbsp;&nbsp;&nbsp;&nbsp;&nbsp;&nbsp;&quot;10           1             1              0\n&quot;,</div><div class='line' id='LC748'>&nbsp;&nbsp;&nbsp;&nbsp;&nbsp;&nbsp;&nbsp;&nbsp;&quot;11           1             0              0\n&quot;,</div><div class='line' id='LC749'>&nbsp;&nbsp;&nbsp;&nbsp;&nbsp;&nbsp;&nbsp;&nbsp;&quot;12           1             0              0\n&quot;,</div><div class='line' id='LC750'>&nbsp;&nbsp;&nbsp;&nbsp;&nbsp;&nbsp;&nbsp;&nbsp;&quot;13           1             0              0\n&quot;,</div><div class='line' id='LC751'>&nbsp;&nbsp;&nbsp;&nbsp;&nbsp;&nbsp;&nbsp;&nbsp;&quot;14           1             0              0\n&quot;,</div><div class='line' id='LC752'>&nbsp;&nbsp;&nbsp;&nbsp;&nbsp;&nbsp;&nbsp;&nbsp;&quot;15           1             0              0\n&quot;,</div><div class='line' id='LC753'>&nbsp;&nbsp;&nbsp;&nbsp;&nbsp;&nbsp;&nbsp;&nbsp;&quot;attr(,\&quot;assign\&quot;)\n&quot;,</div><div class='line' id='LC754'>&nbsp;&nbsp;&nbsp;&nbsp;&nbsp;&nbsp;&nbsp;&nbsp;&quot;[1] 0 1 1\n&quot;,</div><div class='line' id='LC755'>&nbsp;&nbsp;&nbsp;&nbsp;&nbsp;&nbsp;&nbsp;&nbsp;&quot;attr(,\&quot;contrasts\&quot;)\n&quot;,</div><div class='line' id='LC756'>&nbsp;&nbsp;&nbsp;&nbsp;&nbsp;&nbsp;&nbsp;&nbsp;&quot;attr(,\&quot;contrasts\&quot;)$nationality\n&quot;,</div><div class='line' id='LC757'>&nbsp;&nbsp;&nbsp;&nbsp;&nbsp;&nbsp;&nbsp;&nbsp;&quot;[1] \&quot;contr.treatment\&quot;\n&quot;,</div><div class='line' id='LC758'>&nbsp;&nbsp;&nbsp;&nbsp;&nbsp;&nbsp;&nbsp;&nbsp;&quot;\n&quot;</div><div class='line' id='LC759'>&nbsp;&nbsp;&nbsp;&nbsp;&nbsp;&nbsp;&nbsp;]</div><div class='line' id='LC760'>&nbsp;&nbsp;&nbsp;&nbsp;&nbsp;&nbsp;}</div><div class='line' id='LC761'>&nbsp;&nbsp;&nbsp;&nbsp;&nbsp;],</div><div class='line' id='LC762'>&nbsp;&nbsp;&nbsp;&nbsp;&nbsp;&quot;prompt_number&quot;: 25</div><div class='line' id='LC763'>&nbsp;&nbsp;&nbsp;&nbsp;},</div><div class='line' id='LC764'>&nbsp;&nbsp;&nbsp;&nbsp;{</div><div class='line' id='LC765'>&nbsp;&nbsp;&nbsp;&nbsp;&nbsp;&quot;cell_type&quot;: &quot;markdown&quot;,</div><div class='line' id='LC766'>&nbsp;&nbsp;&nbsp;&nbsp;&nbsp;&quot;metadata&quot;: {},</div><div class='line' id='LC767'>&nbsp;&nbsp;&nbsp;&nbsp;&nbsp;&quot;source&quot;: [</div><div class='line' id='LC768'>&nbsp;&nbsp;&nbsp;&nbsp;&nbsp;&nbsp;&quot;First note the levels.  R has sorted the levels alphabetically from the values in the vector.  So, the first level is now \&quot;France\&quot;. Note the design matrix.  The intercept is there by default.  There are then two columns representing the factor.  The first is a column representing the difference between the reference level (the first level, \&quot;France\&quot;) and the second level (\&quot;UK\&quot;).  The second is a column representing the difference between \&quot;France\&quot; and \&quot;USA\&quot;.  This is one of several possible choices for dummy variable coding of a factor in the design matrix.  This particular coding is called &#39;treatment&#39; coding.  You&#39;ll see that noted as `&#39;contr.treatment&#39;` at the end of the model matrix printed output.  It&#39;s called &#39;treatment&#39; coding because the first level is taken to be the &#39;no treatment&#39; level and the others are taken to be &#39;treatment&#39; groups to be compared to the no-treatment control.&quot;</div><div class='line' id='LC769'>&nbsp;&nbsp;&nbsp;&nbsp;&nbsp;]</div><div class='line' id='LC770'>&nbsp;&nbsp;&nbsp;&nbsp;},</div><div class='line' id='LC771'>&nbsp;&nbsp;&nbsp;&nbsp;{</div><div class='line' id='LC772'>&nbsp;&nbsp;&nbsp;&nbsp;&nbsp;&quot;cell_type&quot;: &quot;markdown&quot;,</div><div class='line' id='LC773'>&nbsp;&nbsp;&nbsp;&nbsp;&nbsp;&quot;metadata&quot;: {},</div><div class='line' id='LC774'>&nbsp;&nbsp;&nbsp;&nbsp;&nbsp;&quot;source&quot;: [</div><div class='line' id='LC775'>&nbsp;&nbsp;&nbsp;&nbsp;&nbsp;&nbsp;&quot;It is interesting to think about the interpretetation of the coefficients $\\hat\\beta$. In this specific example, these coefficients are easily related to the difference of means between \&quot;UK\&quot; and \&quot;France\&quot;, or \&quot;USA\&quot; and \&quot;France\&quot;, but not directly to the mean of the observations for a specific country.&quot;</div><div class='line' id='LC776'>&nbsp;&nbsp;&nbsp;&nbsp;&nbsp;]</div><div class='line' id='LC777'>&nbsp;&nbsp;&nbsp;&nbsp;},</div><div class='line' id='LC778'>&nbsp;&nbsp;&nbsp;&nbsp;{</div><div class='line' id='LC779'>&nbsp;&nbsp;&nbsp;&nbsp;&nbsp;&quot;cell_type&quot;: &quot;markdown&quot;,</div><div class='line' id='LC780'>&nbsp;&nbsp;&nbsp;&nbsp;&nbsp;&quot;metadata&quot;: {},</div><div class='line' id='LC781'>&nbsp;&nbsp;&nbsp;&nbsp;&nbsp;&quot;source&quot;: [</div><div class='line' id='LC782'>&nbsp;&nbsp;&nbsp;&nbsp;&nbsp;&nbsp;&quot;To see this, we think of the *fitted values* - that is, the values $\\hat{y}_i$.  What is the mean of the fitted values for $\\hat{y}_i$ for the \&quot;USA\&quot; authors?\n&quot;,</div><div class='line' id='LC783'>&nbsp;&nbsp;&nbsp;&nbsp;&nbsp;&nbsp;&quot;\n&quot;,</div><div class='line' id='LC784'>&nbsp;&nbsp;&nbsp;&nbsp;&nbsp;&nbsp;&quot;$$\n&quot;,</div><div class='line' id='LC785'>&nbsp;&nbsp;&nbsp;&nbsp;&nbsp;&nbsp;&quot;\\frac{1}{5} \\sum_{i=1}^5 \\hat{y}_i = \\hat\\beta_1 + \\hat\\beta_3\n&quot;,</div><div class='line' id='LC786'>&nbsp;&nbsp;&nbsp;&nbsp;&nbsp;&nbsp;&quot;$$\n&quot;,</div><div class='line' id='LC787'>&nbsp;&nbsp;&nbsp;&nbsp;&nbsp;&nbsp;&quot;\n&quot;,</div><div class='line' id='LC788'>&nbsp;&nbsp;&nbsp;&nbsp;&nbsp;&nbsp;&quot;In the same way, the mean for the fitted values for the \&quot;UK\&quot; are:\n&quot;,</div><div class='line' id='LC789'>&nbsp;&nbsp;&nbsp;&nbsp;&nbsp;&nbsp;&quot;\n&quot;,</div><div class='line' id='LC790'>&nbsp;&nbsp;&nbsp;&nbsp;&nbsp;&nbsp;&quot;$$\n&quot;,</div><div class='line' id='LC791'>&nbsp;&nbsp;&nbsp;&nbsp;&nbsp;&nbsp;&quot;\\frac{1}{5} \\sum_{i=6}^{10}\\hat{y}_i = \\hat\\beta_1 + \\hat\\beta_2 \n&quot;,</div><div class='line' id='LC792'>&nbsp;&nbsp;&nbsp;&nbsp;&nbsp;&nbsp;&quot;$$\n&quot;,</div><div class='line' id='LC793'>&nbsp;&nbsp;&nbsp;&nbsp;&nbsp;&nbsp;&quot;\n&quot;,</div><div class='line' id='LC794'>&nbsp;&nbsp;&nbsp;&nbsp;&nbsp;&nbsp;&quot;and for \&quot;France\&quot;:\n&quot;,</div><div class='line' id='LC795'>&nbsp;&nbsp;&nbsp;&nbsp;&nbsp;&nbsp;&quot;\n&quot;,</div><div class='line' id='LC796'>&nbsp;&nbsp;&nbsp;&nbsp;&nbsp;&nbsp;&quot;$$\n&quot;,</div><div class='line' id='LC797'>&nbsp;&nbsp;&nbsp;&nbsp;&nbsp;&nbsp;&quot;\\frac{1}{5} \\sum_{i=11}^{15} \\hat{y}_i = \\hat\\beta_1 \n&quot;,</div><div class='line' id='LC798'>&nbsp;&nbsp;&nbsp;&nbsp;&nbsp;&nbsp;&quot;$$\n&quot;,</div><div class='line' id='LC799'>&nbsp;&nbsp;&nbsp;&nbsp;&nbsp;&nbsp;&quot;\n&quot;,</div><div class='line' id='LC800'>&nbsp;&nbsp;&nbsp;&nbsp;&nbsp;&nbsp;&quot;So the mean for the fitted values for the \&quot;USA\&quot; compared to the baseline is indeed our third coefficient:\n&quot;,</div><div class='line' id='LC801'>&nbsp;&nbsp;&nbsp;&nbsp;&nbsp;&nbsp;&quot;\n&quot;,</div><div class='line' id='LC802'>&nbsp;&nbsp;&nbsp;&nbsp;&nbsp;&nbsp;&quot;$$\n&quot;,</div><div class='line' id='LC803'>&nbsp;&nbsp;&nbsp;&nbsp;&nbsp;&nbsp;&quot;\\frac{1}{5}\\sum_{i=1}^5 \\hat{y}_i - \\frac{1}{5}\\sum_{i=11}^{15} \\hat{y}_i = \\hat\\beta_3\n&quot;,</div><div class='line' id='LC804'>&nbsp;&nbsp;&nbsp;&nbsp;&nbsp;&nbsp;&quot;$$&quot;</div><div class='line' id='LC805'>&nbsp;&nbsp;&nbsp;&nbsp;&nbsp;]</div><div class='line' id='LC806'>&nbsp;&nbsp;&nbsp;&nbsp;},</div><div class='line' id='LC807'>&nbsp;&nbsp;&nbsp;&nbsp;{</div><div class='line' id='LC808'>&nbsp;&nbsp;&nbsp;&nbsp;&nbsp;&quot;cell_type&quot;: &quot;markdown&quot;,</div><div class='line' id='LC809'>&nbsp;&nbsp;&nbsp;&nbsp;&nbsp;&quot;metadata&quot;: {},</div><div class='line' id='LC810'>&nbsp;&nbsp;&nbsp;&nbsp;&nbsp;&quot;source&quot;: [</div><div class='line' id='LC811'>&nbsp;&nbsp;&nbsp;&nbsp;&nbsp;&nbsp;&quot;There are various ways of changing how the factor gets coded as columns in the design matrix.  For example:&quot;</div><div class='line' id='LC812'>&nbsp;&nbsp;&nbsp;&nbsp;&nbsp;]</div><div class='line' id='LC813'>&nbsp;&nbsp;&nbsp;&nbsp;},</div><div class='line' id='LC814'>&nbsp;&nbsp;&nbsp;&nbsp;{</div><div class='line' id='LC815'>&nbsp;&nbsp;&nbsp;&nbsp;&nbsp;&quot;cell_type&quot;: &quot;code&quot;,</div><div class='line' id='LC816'>&nbsp;&nbsp;&nbsp;&nbsp;&nbsp;&quot;collapsed&quot;: false,</div><div class='line' id='LC817'>&nbsp;&nbsp;&nbsp;&nbsp;&nbsp;&quot;input&quot;: [</div><div class='line' id='LC818'>&nbsp;&nbsp;&nbsp;&nbsp;&nbsp;&nbsp;&quot;%R print(model.matrix( ~ C(nationality, helmert)))&quot;</div><div class='line' id='LC819'>&nbsp;&nbsp;&nbsp;&nbsp;&nbsp;],</div><div class='line' id='LC820'>&nbsp;&nbsp;&nbsp;&nbsp;&nbsp;&quot;language&quot;: &quot;python&quot;,</div><div class='line' id='LC821'>&nbsp;&nbsp;&nbsp;&nbsp;&nbsp;&quot;metadata&quot;: {},</div><div class='line' id='LC822'>&nbsp;&nbsp;&nbsp;&nbsp;&nbsp;&quot;outputs&quot;: [</div><div class='line' id='LC823'>&nbsp;&nbsp;&nbsp;&nbsp;&nbsp;&nbsp;{</div><div class='line' id='LC824'>&nbsp;&nbsp;&nbsp;&nbsp;&nbsp;&nbsp;&nbsp;&quot;output_type&quot;: &quot;display_data&quot;,</div><div class='line' id='LC825'>&nbsp;&nbsp;&nbsp;&nbsp;&nbsp;&nbsp;&nbsp;&quot;text&quot;: [</div><div class='line' id='LC826'>&nbsp;&nbsp;&nbsp;&nbsp;&nbsp;&nbsp;&nbsp;&nbsp;&quot;   (Intercept) C(nationality, helmert)1 C(nationality, helmert)2\n&quot;,</div><div class='line' id='LC827'>&nbsp;&nbsp;&nbsp;&nbsp;&nbsp;&nbsp;&nbsp;&nbsp;&quot;1            1                        0                        2\n&quot;,</div><div class='line' id='LC828'>&nbsp;&nbsp;&nbsp;&nbsp;&nbsp;&nbsp;&nbsp;&nbsp;&quot;2            1                        0                        2\n&quot;,</div><div class='line' id='LC829'>&nbsp;&nbsp;&nbsp;&nbsp;&nbsp;&nbsp;&nbsp;&nbsp;&quot;3            1                        0                        2\n&quot;,</div><div class='line' id='LC830'>&nbsp;&nbsp;&nbsp;&nbsp;&nbsp;&nbsp;&nbsp;&nbsp;&quot;4            1                        0                        2\n&quot;,</div><div class='line' id='LC831'>&nbsp;&nbsp;&nbsp;&nbsp;&nbsp;&nbsp;&nbsp;&nbsp;&quot;5            1                        0                        2\n&quot;,</div><div class='line' id='LC832'>&nbsp;&nbsp;&nbsp;&nbsp;&nbsp;&nbsp;&nbsp;&nbsp;&quot;6            1                        1                       -1\n&quot;,</div><div class='line' id='LC833'>&nbsp;&nbsp;&nbsp;&nbsp;&nbsp;&nbsp;&nbsp;&nbsp;&quot;7            1                        1                       -1\n&quot;,</div><div class='line' id='LC834'>&nbsp;&nbsp;&nbsp;&nbsp;&nbsp;&nbsp;&nbsp;&nbsp;&quot;8            1                        1                       -1\n&quot;,</div><div class='line' id='LC835'>&nbsp;&nbsp;&nbsp;&nbsp;&nbsp;&nbsp;&nbsp;&nbsp;&quot;9            1                        1                       -1\n&quot;,</div><div class='line' id='LC836'>&nbsp;&nbsp;&nbsp;&nbsp;&nbsp;&nbsp;&nbsp;&nbsp;&quot;10           1                        1                       -1\n&quot;,</div><div class='line' id='LC837'>&nbsp;&nbsp;&nbsp;&nbsp;&nbsp;&nbsp;&nbsp;&nbsp;&quot;11           1                       -1                       -1\n&quot;,</div><div class='line' id='LC838'>&nbsp;&nbsp;&nbsp;&nbsp;&nbsp;&nbsp;&nbsp;&nbsp;&quot;12           1                       -1                       -1\n&quot;,</div><div class='line' id='LC839'>&nbsp;&nbsp;&nbsp;&nbsp;&nbsp;&nbsp;&nbsp;&nbsp;&quot;13           1                       -1                       -1\n&quot;,</div><div class='line' id='LC840'>&nbsp;&nbsp;&nbsp;&nbsp;&nbsp;&nbsp;&nbsp;&nbsp;&quot;14           1                       -1                       -1\n&quot;,</div><div class='line' id='LC841'>&nbsp;&nbsp;&nbsp;&nbsp;&nbsp;&nbsp;&nbsp;&nbsp;&quot;15           1                       -1                       -1\n&quot;,</div><div class='line' id='LC842'>&nbsp;&nbsp;&nbsp;&nbsp;&nbsp;&nbsp;&nbsp;&nbsp;&quot;attr(,\&quot;assign\&quot;)\n&quot;,</div><div class='line' id='LC843'>&nbsp;&nbsp;&nbsp;&nbsp;&nbsp;&nbsp;&nbsp;&nbsp;&quot;[1] 0 1 1\n&quot;,</div><div class='line' id='LC844'>&nbsp;&nbsp;&nbsp;&nbsp;&nbsp;&nbsp;&nbsp;&nbsp;&quot;attr(,\&quot;contrasts\&quot;)\n&quot;,</div><div class='line' id='LC845'>&nbsp;&nbsp;&nbsp;&nbsp;&nbsp;&nbsp;&nbsp;&nbsp;&quot;attr(,\&quot;contrasts\&quot;)$`C(nationality, helmert)`\n&quot;,</div><div class='line' id='LC846'>&nbsp;&nbsp;&nbsp;&nbsp;&nbsp;&nbsp;&nbsp;&nbsp;&quot;[1] \&quot;contr.helmert\&quot;\n&quot;,</div><div class='line' id='LC847'>&nbsp;&nbsp;&nbsp;&nbsp;&nbsp;&nbsp;&nbsp;&nbsp;&quot;\n&quot;</div><div class='line' id='LC848'>&nbsp;&nbsp;&nbsp;&nbsp;&nbsp;&nbsp;&nbsp;]</div><div class='line' id='LC849'>&nbsp;&nbsp;&nbsp;&nbsp;&nbsp;&nbsp;}</div><div class='line' id='LC850'>&nbsp;&nbsp;&nbsp;&nbsp;&nbsp;],</div><div class='line' id='LC851'>&nbsp;&nbsp;&nbsp;&nbsp;&nbsp;&quot;prompt_number&quot;: 26</div><div class='line' id='LC852'>&nbsp;&nbsp;&nbsp;&nbsp;},</div><div class='line' id='LC853'>&nbsp;&nbsp;&nbsp;&nbsp;{</div><div class='line' id='LC854'>&nbsp;&nbsp;&nbsp;&nbsp;&nbsp;&quot;cell_type&quot;: &quot;markdown&quot;,</div><div class='line' id='LC855'>&nbsp;&nbsp;&nbsp;&nbsp;&nbsp;&quot;metadata&quot;: {},</div><div class='line' id='LC856'>&nbsp;&nbsp;&nbsp;&nbsp;&nbsp;&quot;source&quot;: [</div><div class='line' id='LC857'>&nbsp;&nbsp;&nbsp;&nbsp;&nbsp;&nbsp;&quot;This coding is of type &#39;helmert&#39;; the first column encodes the difference between &#39;UK&#39; and &#39;France&#39;; the second is the difference between &#39;USA&#39; and the average of (&#39;UK&#39;, &#39;France&#39;).&quot;</div><div class='line' id='LC858'>&nbsp;&nbsp;&nbsp;&nbsp;&nbsp;]</div><div class='line' id='LC859'>&nbsp;&nbsp;&nbsp;&nbsp;},</div><div class='line' id='LC860'>&nbsp;&nbsp;&nbsp;&nbsp;{</div><div class='line' id='LC861'>&nbsp;&nbsp;&nbsp;&nbsp;&nbsp;&quot;cell_type&quot;: &quot;markdown&quot;,</div><div class='line' id='LC862'>&nbsp;&nbsp;&nbsp;&nbsp;&nbsp;&quot;metadata&quot;: {},</div><div class='line' id='LC863'>&nbsp;&nbsp;&nbsp;&nbsp;&nbsp;&quot;source&quot;: [</div><div class='line' id='LC864'>&nbsp;&nbsp;&nbsp;&nbsp;&nbsp;&nbsp;&quot;You can even pass in your own contrast matrices or vectors.  If a vector, as below, then R fills out the rest of the contrast matrix to make coding columns that cover the space of the factor.&quot;</div><div class='line' id='LC865'>&nbsp;&nbsp;&nbsp;&nbsp;&nbsp;]</div><div class='line' id='LC866'>&nbsp;&nbsp;&nbsp;&nbsp;},</div><div class='line' id='LC867'>&nbsp;&nbsp;&nbsp;&nbsp;{</div><div class='line' id='LC868'>&nbsp;&nbsp;&nbsp;&nbsp;&nbsp;&quot;cell_type&quot;: &quot;code&quot;,</div><div class='line' id='LC869'>&nbsp;&nbsp;&nbsp;&nbsp;&nbsp;&quot;collapsed&quot;: false,</div><div class='line' id='LC870'>&nbsp;&nbsp;&nbsp;&nbsp;&nbsp;&quot;input&quot;: [</div><div class='line' id='LC871'>&nbsp;&nbsp;&nbsp;&nbsp;&nbsp;&nbsp;&quot;%R print(model.matrix( ~ C(nationality, c(2,-1,-1))))&quot;</div><div class='line' id='LC872'>&nbsp;&nbsp;&nbsp;&nbsp;&nbsp;],</div><div class='line' id='LC873'>&nbsp;&nbsp;&nbsp;&nbsp;&nbsp;&quot;language&quot;: &quot;python&quot;,</div><div class='line' id='LC874'>&nbsp;&nbsp;&nbsp;&nbsp;&nbsp;&quot;metadata&quot;: {},</div><div class='line' id='LC875'>&nbsp;&nbsp;&nbsp;&nbsp;&nbsp;&quot;outputs&quot;: [</div><div class='line' id='LC876'>&nbsp;&nbsp;&nbsp;&nbsp;&nbsp;&nbsp;{</div><div class='line' id='LC877'>&nbsp;&nbsp;&nbsp;&nbsp;&nbsp;&nbsp;&nbsp;&quot;output_type&quot;: &quot;display_data&quot;,</div><div class='line' id='LC878'>&nbsp;&nbsp;&nbsp;&nbsp;&nbsp;&nbsp;&nbsp;&quot;text&quot;: [</div><div class='line' id='LC879'>&nbsp;&nbsp;&nbsp;&nbsp;&nbsp;&nbsp;&nbsp;&nbsp;&quot;   (Intercept) C(nationality, c(2, -1, -1))1 C(nationality, c(2, -1, -1))2\n&quot;,</div><div class='line' id='LC880'>&nbsp;&nbsp;&nbsp;&nbsp;&nbsp;&nbsp;&nbsp;&nbsp;&quot;1            1                            -1                  7.071068e-01\n&quot;,</div><div class='line' id='LC881'>&nbsp;&nbsp;&nbsp;&nbsp;&nbsp;&nbsp;&nbsp;&nbsp;&quot;2            1                            -1                  7.071068e-01\n&quot;,</div><div class='line' id='LC882'>&nbsp;&nbsp;&nbsp;&nbsp;&nbsp;&nbsp;&nbsp;&nbsp;&quot;3            1                            -1                  7.071068e-01\n&quot;,</div><div class='line' id='LC883'>&nbsp;&nbsp;&nbsp;&nbsp;&nbsp;&nbsp;&nbsp;&nbsp;&quot;4            1                            -1                  7.071068e-01\n&quot;,</div><div class='line' id='LC884'>&nbsp;&nbsp;&nbsp;&nbsp;&nbsp;&nbsp;&nbsp;&nbsp;&quot;5            1                            -1                  7.071068e-01\n&quot;,</div><div class='line' id='LC885'>&nbsp;&nbsp;&nbsp;&nbsp;&nbsp;&nbsp;&nbsp;&nbsp;&quot;6            1                            -1                 -7.071068e-01\n&quot;,</div><div class='line' id='LC886'>&nbsp;&nbsp;&nbsp;&nbsp;&nbsp;&nbsp;&nbsp;&nbsp;&quot;7            1                            -1                 -7.071068e-01\n&quot;,</div><div class='line' id='LC887'>&nbsp;&nbsp;&nbsp;&nbsp;&nbsp;&nbsp;&nbsp;&nbsp;&quot;8            1                            -1                 -7.071068e-01\n&quot;,</div><div class='line' id='LC888'>&nbsp;&nbsp;&nbsp;&nbsp;&nbsp;&nbsp;&nbsp;&nbsp;&quot;9            1                            -1                 -7.071068e-01\n&quot;,</div><div class='line' id='LC889'>&nbsp;&nbsp;&nbsp;&nbsp;&nbsp;&nbsp;&nbsp;&nbsp;&quot;10           1                            -1                 -7.071068e-01\n&quot;,</div><div class='line' id='LC890'>&nbsp;&nbsp;&nbsp;&nbsp;&nbsp;&nbsp;&nbsp;&nbsp;&quot;11           1                             2                 -5.551115e-17\n&quot;,</div><div class='line' id='LC891'>&nbsp;&nbsp;&nbsp;&nbsp;&nbsp;&nbsp;&nbsp;&nbsp;&quot;12           1                             2                 -5.551115e-17\n&quot;,</div><div class='line' id='LC892'>&nbsp;&nbsp;&nbsp;&nbsp;&nbsp;&nbsp;&nbsp;&nbsp;&quot;13           1                             2                 -5.551115e-17\n&quot;,</div><div class='line' id='LC893'>&nbsp;&nbsp;&nbsp;&nbsp;&nbsp;&nbsp;&nbsp;&nbsp;&quot;14           1                             2                 -5.551115e-17\n&quot;,</div><div class='line' id='LC894'>&nbsp;&nbsp;&nbsp;&nbsp;&nbsp;&nbsp;&nbsp;&nbsp;&quot;15           1                             2                 -5.551115e-17\n&quot;,</div><div class='line' id='LC895'>&nbsp;&nbsp;&nbsp;&nbsp;&nbsp;&nbsp;&nbsp;&nbsp;&quot;attr(,\&quot;assign\&quot;)\n&quot;,</div><div class='line' id='LC896'>&nbsp;&nbsp;&nbsp;&nbsp;&nbsp;&nbsp;&nbsp;&nbsp;&quot;[1] 0 1 1\n&quot;,</div><div class='line' id='LC897'>&nbsp;&nbsp;&nbsp;&nbsp;&nbsp;&nbsp;&nbsp;&nbsp;&quot;attr(,\&quot;contrasts\&quot;)\n&quot;,</div><div class='line' id='LC898'>&nbsp;&nbsp;&nbsp;&nbsp;&nbsp;&nbsp;&nbsp;&nbsp;&quot;attr(,\&quot;contrasts\&quot;)$`C(nationality, c(2, -1, -1))`\n&quot;,</div><div class='line' id='LC899'>&nbsp;&nbsp;&nbsp;&nbsp;&nbsp;&nbsp;&nbsp;&nbsp;&quot;       [,1]          [,2]\n&quot;,</div><div class='line' id='LC900'>&nbsp;&nbsp;&nbsp;&nbsp;&nbsp;&nbsp;&nbsp;&nbsp;&quot;France    2 -5.551115e-17\n&quot;,</div><div class='line' id='LC901'>&nbsp;&nbsp;&nbsp;&nbsp;&nbsp;&nbsp;&nbsp;&nbsp;&quot;UK       -1 -7.071068e-01\n&quot;,</div><div class='line' id='LC902'>&nbsp;&nbsp;&nbsp;&nbsp;&nbsp;&nbsp;&nbsp;&nbsp;&quot;USA      -1  7.071068e-01\n&quot;,</div><div class='line' id='LC903'>&nbsp;&nbsp;&nbsp;&nbsp;&nbsp;&nbsp;&nbsp;&nbsp;&quot;\n&quot;</div><div class='line' id='LC904'>&nbsp;&nbsp;&nbsp;&nbsp;&nbsp;&nbsp;&nbsp;]</div><div class='line' id='LC905'>&nbsp;&nbsp;&nbsp;&nbsp;&nbsp;&nbsp;}</div><div class='line' id='LC906'>&nbsp;&nbsp;&nbsp;&nbsp;&nbsp;],</div><div class='line' id='LC907'>&nbsp;&nbsp;&nbsp;&nbsp;&nbsp;&quot;prompt_number&quot;: 27</div><div class='line' id='LC908'>&nbsp;&nbsp;&nbsp;&nbsp;},</div><div class='line' id='LC909'>&nbsp;&nbsp;&nbsp;&nbsp;{</div><div class='line' id='LC910'>&nbsp;&nbsp;&nbsp;&nbsp;&nbsp;&quot;cell_type&quot;: &quot;markdown&quot;,</div><div class='line' id='LC911'>&nbsp;&nbsp;&nbsp;&nbsp;&nbsp;&quot;metadata&quot;: {},</div><div class='line' id='LC912'>&nbsp;&nbsp;&nbsp;&nbsp;&nbsp;&quot;source&quot;: [</div><div class='line' id='LC913'>&nbsp;&nbsp;&nbsp;&nbsp;&nbsp;&nbsp;&quot;\&quot;treatment\&quot; and \&quot;helmert\&quot; and the `c(2, -1, -1)` option are *contrast* codings of the factor.  By \&quot;coding\&quot; I mean the coding of the factor in terms of dummy variables in the design matrix.  As the name implies, the contrast codings encode the means implied by the factors by contrasting the different levels.  Specifically for the default \&quot;treatment\&quot; coding, the coding contrasts the second level to the first, and the third level to the first.&quot;</div><div class='line' id='LC914'>&nbsp;&nbsp;&nbsp;&nbsp;&nbsp;]</div><div class='line' id='LC915'>&nbsp;&nbsp;&nbsp;&nbsp;},</div><div class='line' id='LC916'>&nbsp;&nbsp;&nbsp;&nbsp;{</div><div class='line' id='LC917'>&nbsp;&nbsp;&nbsp;&nbsp;&nbsp;&quot;cell_type&quot;: &quot;heading&quot;,</div><div class='line' id='LC918'>&nbsp;&nbsp;&nbsp;&nbsp;&nbsp;&quot;level&quot;: 2,</div><div class='line' id='LC919'>&nbsp;&nbsp;&nbsp;&nbsp;&nbsp;&quot;metadata&quot;: {},</div><div class='line' id='LC920'>&nbsp;&nbsp;&nbsp;&nbsp;&nbsp;&quot;source&quot;: [</div><div class='line' id='LC921'>&nbsp;&nbsp;&nbsp;&nbsp;&nbsp;&nbsp;&quot;An interlude on vector spaces&quot;</div><div class='line' id='LC922'>&nbsp;&nbsp;&nbsp;&nbsp;&nbsp;]</div><div class='line' id='LC923'>&nbsp;&nbsp;&nbsp;&nbsp;},</div><div class='line' id='LC924'>&nbsp;&nbsp;&nbsp;&nbsp;{</div><div class='line' id='LC925'>&nbsp;&nbsp;&nbsp;&nbsp;&nbsp;&quot;cell_type&quot;: &quot;markdown&quot;,</div><div class='line' id='LC926'>&nbsp;&nbsp;&nbsp;&nbsp;&nbsp;&quot;metadata&quot;: {},</div><div class='line' id='LC927'>&nbsp;&nbsp;&nbsp;&nbsp;&nbsp;&quot;source&quot;: [</div><div class='line' id='LC928'>&nbsp;&nbsp;&nbsp;&nbsp;&nbsp;&nbsp;&quot;I&#39;ve deliberately used the vague phrase &#39;encode the means&#39; above, but now I&#39;ll get more specific.\n&quot;,</div><div class='line' id='LC929'>&nbsp;&nbsp;&nbsp;&nbsp;&nbsp;&nbsp;&quot;\n&quot;,</div><div class='line' id='LC930'>&nbsp;&nbsp;&nbsp;&nbsp;&nbsp;&nbsp;&quot;The design matrix $X$ is best thought of as the concatenation of the column vectors $x_1 .. x_P$ where $X$ is shape (dimension) $N, P$.  When we estimate our linear model, there will be a corresponding $P$ length vector of coefficients $\\beta_1 .. \\beta_P$ - call this vector $B$. We will fit our data $Y$ by choosing coefficients $B$ such that $Y \\approx X B$ in some sense of $\\approx$, such as least squares.\n&quot;,</div><div class='line' id='LC931'>&nbsp;&nbsp;&nbsp;&nbsp;&nbsp;&nbsp;&quot;\n&quot;,</div><div class='line' id='LC932'>&nbsp;&nbsp;&nbsp;&nbsp;&nbsp;&nbsp;&quot;The columns of $X$ define a *vector space*.  We can call this the *column space* of $X$. The column space of $X$ is the set of all vectors that can be formed by a some linear combination of the columns of $X$. For a given $B$, $X B$ is one particular vector in the column space of $X$.  The column space of a matrix $X$ obviously defines the range of vectors $X B$, and therefore constrains the ability of the design $X$ to fit the data $Y$.\n&quot;,</div><div class='line' id='LC933'>&nbsp;&nbsp;&nbsp;&nbsp;&nbsp;&nbsp;&quot;\n&quot;,</div><div class='line' id='LC934'>&nbsp;&nbsp;&nbsp;&nbsp;&nbsp;&nbsp;&quot;The column space of a matrix $W$ contains (spans) the column space of another matrix $X$ if, for all columns $x_1 .. x_i .. x_P$ there is some vector $B_i$ such that $x_i = W B_i$.  Let&#39;s say $W$ has $P_W$ columns. If we stack the column vectors $B_i$ into a $P_W, P$ matrix $C$ then we can rephrase the rule as: there is some matrix $C$ such that $X = W C$.&quot;</div><div class='line' id='LC935'>&nbsp;&nbsp;&nbsp;&nbsp;&nbsp;]</div><div class='line' id='LC936'>&nbsp;&nbsp;&nbsp;&nbsp;},</div><div class='line' id='LC937'>&nbsp;&nbsp;&nbsp;&nbsp;{</div><div class='line' id='LC938'>&nbsp;&nbsp;&nbsp;&nbsp;&nbsp;&quot;cell_type&quot;: &quot;heading&quot;,</div><div class='line' id='LC939'>&nbsp;&nbsp;&nbsp;&nbsp;&nbsp;&quot;level&quot;: 2,</div><div class='line' id='LC940'>&nbsp;&nbsp;&nbsp;&nbsp;&nbsp;&quot;metadata&quot;: {},</div><div class='line' id='LC941'>&nbsp;&nbsp;&nbsp;&nbsp;&nbsp;&quot;source&quot;: [</div><div class='line' id='LC942'>&nbsp;&nbsp;&nbsp;&nbsp;&nbsp;&nbsp;&quot;Vector spaces, design matrices and factors&quot;</div><div class='line' id='LC943'>&nbsp;&nbsp;&nbsp;&nbsp;&nbsp;]</div><div class='line' id='LC944'>&nbsp;&nbsp;&nbsp;&nbsp;},</div><div class='line' id='LC945'>&nbsp;&nbsp;&nbsp;&nbsp;{</div><div class='line' id='LC946'>&nbsp;&nbsp;&nbsp;&nbsp;&nbsp;&quot;cell_type&quot;: &quot;markdown&quot;,</div><div class='line' id='LC947'>&nbsp;&nbsp;&nbsp;&nbsp;&nbsp;&quot;metadata&quot;: {},</div><div class='line' id='LC948'>&nbsp;&nbsp;&nbsp;&nbsp;&nbsp;&quot;source&quot;: [</div><div class='line' id='LC949'>&nbsp;&nbsp;&nbsp;&nbsp;&nbsp;&nbsp;&quot;Now let us return to the factor `nationality`.  What do we mean by a \&quot;factor\&quot;?  We mean that the observations $y_1 .. y_N$ each belong to one and only one of three groups, where the groups are \&quot;USA\&quot;, \&quot;UK\&quot;, and \&quot;France\&quot;.  In terms of our statistical model, by including the factor `nationality`, we mean this:\n&quot;,</div><div class='line' id='LC950'>&nbsp;&nbsp;&nbsp;&nbsp;&nbsp;&nbsp;&quot;\n&quot;,</div><div class='line' id='LC951'>&nbsp;&nbsp;&nbsp;&nbsp;&nbsp;&nbsp;&quot;$y_i \\approx \\alpha_{USA} \\text{ if } \\mathtt{nationality}_i \\text{ is } \\mathtt{USA}$\n&quot;,</div><div class='line' id='LC952'>&nbsp;&nbsp;&nbsp;&nbsp;&nbsp;&nbsp;&quot;\n&quot;,</div><div class='line' id='LC953'>&nbsp;&nbsp;&nbsp;&nbsp;&nbsp;&nbsp;&quot;$y_i \\approx \\alpha_{UK} \\text{ if } \\mathtt{nationality}_i \\text{ is } \\mathtt{UK}$\n&quot;,</div><div class='line' id='LC954'>&nbsp;&nbsp;&nbsp;&nbsp;&nbsp;&nbsp;&quot;\n&quot;,</div><div class='line' id='LC955'>&nbsp;&nbsp;&nbsp;&nbsp;&nbsp;&nbsp;&quot;$y_i \\approx \\alpha_{France} \\text{ if } \\mathtt{nationality}_i \\text{ is } \\mathtt{France}$\n&quot;,</div><div class='line' id='LC956'>&nbsp;&nbsp;&nbsp;&nbsp;&nbsp;&nbsp;&quot;\n&quot;,</div><div class='line' id='LC957'>&nbsp;&nbsp;&nbsp;&nbsp;&nbsp;&nbsp;&quot;I can rephrase this model in terms of matrices by using \&quot;indicator coding\&quot;.  There will be three columns in my matrix.  The first will be the indicator column for \&quot;USA\&quot;, that contains a $1$ for rows corresponding to observations of type \&quot;USA\&quot; and a $0$ otherwise.  The second will contain a $1$ for \&quot;UK\&quot; observations, and the third a $1$ for \&quot;France\&quot; observations.&quot;</div><div class='line' id='LC958'>&nbsp;&nbsp;&nbsp;&nbsp;&nbsp;]</div><div class='line' id='LC959'>&nbsp;&nbsp;&nbsp;&nbsp;},</div><div class='line' id='LC960'>&nbsp;&nbsp;&nbsp;&nbsp;{</div><div class='line' id='LC961'>&nbsp;&nbsp;&nbsp;&nbsp;&nbsp;&quot;cell_type&quot;: &quot;code&quot;,</div><div class='line' id='LC962'>&nbsp;&nbsp;&nbsp;&nbsp;&nbsp;&quot;collapsed&quot;: false,</div><div class='line' id='LC963'>&nbsp;&nbsp;&nbsp;&nbsp;&nbsp;&quot;input&quot;: [</div><div class='line' id='LC964'>&nbsp;&nbsp;&nbsp;&nbsp;&nbsp;&nbsp;&quot;nationality = np.array(nationality)\n&quot;,</div><div class='line' id='LC965'>&nbsp;&nbsp;&nbsp;&nbsp;&nbsp;&nbsp;&quot;indicate_usa = nationality == &#39;USA&#39;\n&quot;,</div><div class='line' id='LC966'>&nbsp;&nbsp;&nbsp;&nbsp;&nbsp;&nbsp;&quot;indicate_uk = nationality == &#39;UK&#39;\n&quot;,</div><div class='line' id='LC967'>&nbsp;&nbsp;&nbsp;&nbsp;&nbsp;&nbsp;&quot;indicate_france = nationality == &#39;France&#39;\n&quot;,</div><div class='line' id='LC968'>&nbsp;&nbsp;&nbsp;&nbsp;&nbsp;&nbsp;&quot;X = np.column_stack((indicate_usa, indicate_uk, indicate_france)).astype(int)\n&quot;,</div><div class='line' id='LC969'>&nbsp;&nbsp;&nbsp;&nbsp;&nbsp;&nbsp;&quot;X&quot;</div><div class='line' id='LC970'>&nbsp;&nbsp;&nbsp;&nbsp;&nbsp;],</div><div class='line' id='LC971'>&nbsp;&nbsp;&nbsp;&nbsp;&nbsp;&quot;language&quot;: &quot;python&quot;,</div><div class='line' id='LC972'>&nbsp;&nbsp;&nbsp;&nbsp;&nbsp;&quot;metadata&quot;: {},</div><div class='line' id='LC973'>&nbsp;&nbsp;&nbsp;&nbsp;&nbsp;&quot;outputs&quot;: [</div><div class='line' id='LC974'>&nbsp;&nbsp;&nbsp;&nbsp;&nbsp;&nbsp;{</div><div class='line' id='LC975'>&nbsp;&nbsp;&nbsp;&nbsp;&nbsp;&nbsp;&nbsp;&quot;output_type&quot;: &quot;pyout&quot;,</div><div class='line' id='LC976'>&nbsp;&nbsp;&nbsp;&nbsp;&nbsp;&nbsp;&nbsp;&quot;prompt_number&quot;: 28,</div><div class='line' id='LC977'>&nbsp;&nbsp;&nbsp;&nbsp;&nbsp;&nbsp;&nbsp;&quot;text&quot;: [</div><div class='line' id='LC978'>&nbsp;&nbsp;&nbsp;&nbsp;&nbsp;&nbsp;&nbsp;&nbsp;&quot;array([[1, 0, 0],\n&quot;,</div><div class='line' id='LC979'>&nbsp;&nbsp;&nbsp;&nbsp;&nbsp;&nbsp;&nbsp;&nbsp;&quot;       [1, 0, 0],\n&quot;,</div><div class='line' id='LC980'>&nbsp;&nbsp;&nbsp;&nbsp;&nbsp;&nbsp;&nbsp;&nbsp;&quot;       [1, 0, 0],\n&quot;,</div><div class='line' id='LC981'>&nbsp;&nbsp;&nbsp;&nbsp;&nbsp;&nbsp;&nbsp;&nbsp;&quot;       [1, 0, 0],\n&quot;,</div><div class='line' id='LC982'>&nbsp;&nbsp;&nbsp;&nbsp;&nbsp;&nbsp;&nbsp;&nbsp;&quot;       [1, 0, 0],\n&quot;,</div><div class='line' id='LC983'>&nbsp;&nbsp;&nbsp;&nbsp;&nbsp;&nbsp;&nbsp;&nbsp;&quot;       [0, 1, 0],\n&quot;,</div><div class='line' id='LC984'>&nbsp;&nbsp;&nbsp;&nbsp;&nbsp;&nbsp;&nbsp;&nbsp;&quot;       [0, 1, 0],\n&quot;,</div><div class='line' id='LC985'>&nbsp;&nbsp;&nbsp;&nbsp;&nbsp;&nbsp;&nbsp;&nbsp;&quot;       [0, 1, 0],\n&quot;,</div><div class='line' id='LC986'>&nbsp;&nbsp;&nbsp;&nbsp;&nbsp;&nbsp;&nbsp;&nbsp;&quot;       [0, 1, 0],\n&quot;,</div><div class='line' id='LC987'>&nbsp;&nbsp;&nbsp;&nbsp;&nbsp;&nbsp;&nbsp;&nbsp;&quot;       [0, 1, 0],\n&quot;,</div><div class='line' id='LC988'>&nbsp;&nbsp;&nbsp;&nbsp;&nbsp;&nbsp;&nbsp;&nbsp;&quot;       [0, 0, 1],\n&quot;,</div><div class='line' id='LC989'>&nbsp;&nbsp;&nbsp;&nbsp;&nbsp;&nbsp;&nbsp;&nbsp;&quot;       [0, 0, 1],\n&quot;,</div><div class='line' id='LC990'>&nbsp;&nbsp;&nbsp;&nbsp;&nbsp;&nbsp;&nbsp;&nbsp;&quot;       [0, 0, 1],\n&quot;,</div><div class='line' id='LC991'>&nbsp;&nbsp;&nbsp;&nbsp;&nbsp;&nbsp;&nbsp;&nbsp;&quot;       [0, 0, 1],\n&quot;,</div><div class='line' id='LC992'>&nbsp;&nbsp;&nbsp;&nbsp;&nbsp;&nbsp;&nbsp;&nbsp;&quot;       [0, 0, 1]])&quot;</div><div class='line' id='LC993'>&nbsp;&nbsp;&nbsp;&nbsp;&nbsp;&nbsp;&nbsp;]</div><div class='line' id='LC994'>&nbsp;&nbsp;&nbsp;&nbsp;&nbsp;&nbsp;}</div><div class='line' id='LC995'>&nbsp;&nbsp;&nbsp;&nbsp;&nbsp;],</div><div class='line' id='LC996'>&nbsp;&nbsp;&nbsp;&nbsp;&nbsp;&quot;prompt_number&quot;: 28</div><div class='line' id='LC997'>&nbsp;&nbsp;&nbsp;&nbsp;},</div><div class='line' id='LC998'>&nbsp;&nbsp;&nbsp;&nbsp;{</div><div class='line' id='LC999'>&nbsp;&nbsp;&nbsp;&nbsp;&nbsp;&quot;cell_type&quot;: &quot;markdown&quot;,</div><div class='line' id='LC1000'>&nbsp;&nbsp;&nbsp;&nbsp;&nbsp;&quot;metadata&quot;: {},</div><div class='line' id='LC1001'>&nbsp;&nbsp;&nbsp;&nbsp;&nbsp;&quot;source&quot;: [</div><div class='line' id='LC1002'>&nbsp;&nbsp;&nbsp;&nbsp;&nbsp;&nbsp;&quot;We can now rephrase our factor model by stacking our coefficients $\\alpha_{USA}, \\alpha_{UK}, \\alpha_{France}$ into a column vector $A$, and rephrasing our model in matrix form as $Y = X A$. &quot;</div><div class='line' id='LC1003'>&nbsp;&nbsp;&nbsp;&nbsp;&nbsp;]</div><div class='line' id='LC1004'>&nbsp;&nbsp;&nbsp;&nbsp;},</div><div class='line' id='LC1005'>&nbsp;&nbsp;&nbsp;&nbsp;{</div><div class='line' id='LC1006'>&nbsp;&nbsp;&nbsp;&nbsp;&nbsp;&quot;cell_type&quot;: &quot;markdown&quot;,</div><div class='line' id='LC1007'>&nbsp;&nbsp;&nbsp;&nbsp;&nbsp;&quot;metadata&quot;: {},</div><div class='line' id='LC1008'>&nbsp;&nbsp;&nbsp;&nbsp;&nbsp;&quot;source&quot;: [</div><div class='line' id='LC1009'>&nbsp;&nbsp;&nbsp;&nbsp;&nbsp;&nbsp;&quot;In this case, the parameters $\\hat\\beta$ are easily interpreted as the means of each group, since we have :\n&quot;,</div><div class='line' id='LC1010'>&nbsp;&nbsp;&nbsp;&nbsp;&nbsp;&nbsp;&quot;\n&quot;,</div><div class='line' id='LC1011'>&nbsp;&nbsp;&nbsp;&nbsp;&nbsp;&nbsp;&quot;$$\n&quot;,</div><div class='line' id='LC1012'>&nbsp;&nbsp;&nbsp;&nbsp;&nbsp;&nbsp;&quot;\\frac{1}{5}\\sum_{i=1}^5 \\hat{y}_i =  \\hat\\beta_1\n&quot;,</div><div class='line' id='LC1013'>&nbsp;&nbsp;&nbsp;&nbsp;&nbsp;&nbsp;&quot;$$\n&quot;,</div><div class='line' id='LC1014'>&nbsp;&nbsp;&nbsp;&nbsp;&nbsp;&nbsp;&quot;$$\n&quot;,</div><div class='line' id='LC1015'>&nbsp;&nbsp;&nbsp;&nbsp;&nbsp;&nbsp;&quot;\\frac{1}{5}\\sum_{i=6}^{10} \\hat{y}_i = \\hat\\beta_2 \n&quot;,</div><div class='line' id='LC1016'>&nbsp;&nbsp;&nbsp;&nbsp;&nbsp;&nbsp;&quot;$$\n&quot;,</div><div class='line' id='LC1017'>&nbsp;&nbsp;&nbsp;&nbsp;&nbsp;&nbsp;&quot;$$\n&quot;,</div><div class='line' id='LC1018'>&nbsp;&nbsp;&nbsp;&nbsp;&nbsp;&nbsp;&quot;\\frac{1}{5}\\sum_{i=11}^{15} \\hat{y}_i = \\hat\\beta_3 \n&quot;,</div><div class='line' id='LC1019'>&nbsp;&nbsp;&nbsp;&nbsp;&nbsp;&nbsp;&quot;$$\n&quot;</div><div class='line' id='LC1020'>&nbsp;&nbsp;&nbsp;&nbsp;&nbsp;]</div><div class='line' id='LC1021'>&nbsp;&nbsp;&nbsp;&nbsp;},</div><div class='line' id='LC1022'>&nbsp;&nbsp;&nbsp;&nbsp;{</div><div class='line' id='LC1023'>&nbsp;&nbsp;&nbsp;&nbsp;&nbsp;&quot;cell_type&quot;: &quot;markdown&quot;,</div><div class='line' id='LC1024'>&nbsp;&nbsp;&nbsp;&nbsp;&nbsp;&quot;metadata&quot;: {},</div><div class='line' id='LC1025'>&nbsp;&nbsp;&nbsp;&nbsp;&nbsp;&quot;source&quot;: [</div><div class='line' id='LC1026'>&nbsp;&nbsp;&nbsp;&nbsp;&nbsp;&nbsp;&quot;What if we want to add an intercept to our design matrix $X$?  Let&#39;s call the design matrix with the intercept $W$:&quot;</div><div class='line' id='LC1027'>&nbsp;&nbsp;&nbsp;&nbsp;&nbsp;]</div><div class='line' id='LC1028'>&nbsp;&nbsp;&nbsp;&nbsp;},</div><div class='line' id='LC1029'>&nbsp;&nbsp;&nbsp;&nbsp;{</div><div class='line' id='LC1030'>&nbsp;&nbsp;&nbsp;&nbsp;&nbsp;&quot;cell_type&quot;: &quot;code&quot;,</div><div class='line' id='LC1031'>&nbsp;&nbsp;&nbsp;&nbsp;&nbsp;&quot;collapsed&quot;: false,</div><div class='line' id='LC1032'>&nbsp;&nbsp;&nbsp;&nbsp;&nbsp;&quot;input&quot;: [</div><div class='line' id='LC1033'>&nbsp;&nbsp;&nbsp;&nbsp;&nbsp;&nbsp;&quot;W = np.column_stack((np.ones(N,), X))\n&quot;,</div><div class='line' id='LC1034'>&nbsp;&nbsp;&nbsp;&nbsp;&nbsp;&nbsp;&quot;W&quot;</div><div class='line' id='LC1035'>&nbsp;&nbsp;&nbsp;&nbsp;&nbsp;],</div><div class='line' id='LC1036'>&nbsp;&nbsp;&nbsp;&nbsp;&nbsp;&quot;language&quot;: &quot;python&quot;,</div><div class='line' id='LC1037'>&nbsp;&nbsp;&nbsp;&nbsp;&nbsp;&quot;metadata&quot;: {},</div><div class='line' id='LC1038'>&nbsp;&nbsp;&nbsp;&nbsp;&nbsp;&quot;outputs&quot;: [</div><div class='line' id='LC1039'>&nbsp;&nbsp;&nbsp;&nbsp;&nbsp;&nbsp;{</div><div class='line' id='LC1040'>&nbsp;&nbsp;&nbsp;&nbsp;&nbsp;&nbsp;&nbsp;&quot;output_type&quot;: &quot;pyout&quot;,</div><div class='line' id='LC1041'>&nbsp;&nbsp;&nbsp;&nbsp;&nbsp;&nbsp;&nbsp;&quot;prompt_number&quot;: 29,</div><div class='line' id='LC1042'>&nbsp;&nbsp;&nbsp;&nbsp;&nbsp;&nbsp;&nbsp;&quot;text&quot;: [</div><div class='line' id='LC1043'>&nbsp;&nbsp;&nbsp;&nbsp;&nbsp;&nbsp;&nbsp;&nbsp;&quot;array([[ 1.,  1.,  0.,  0.],\n&quot;,</div><div class='line' id='LC1044'>&nbsp;&nbsp;&nbsp;&nbsp;&nbsp;&nbsp;&nbsp;&nbsp;&quot;       [ 1.,  1.,  0.,  0.],\n&quot;,</div><div class='line' id='LC1045'>&nbsp;&nbsp;&nbsp;&nbsp;&nbsp;&nbsp;&nbsp;&nbsp;&quot;       [ 1.,  1.,  0.,  0.],\n&quot;,</div><div class='line' id='LC1046'>&nbsp;&nbsp;&nbsp;&nbsp;&nbsp;&nbsp;&nbsp;&nbsp;&quot;       [ 1.,  1.,  0.,  0.],\n&quot;,</div><div class='line' id='LC1047'>&nbsp;&nbsp;&nbsp;&nbsp;&nbsp;&nbsp;&nbsp;&nbsp;&quot;       [ 1.,  1.,  0.,  0.],\n&quot;,</div><div class='line' id='LC1048'>&nbsp;&nbsp;&nbsp;&nbsp;&nbsp;&nbsp;&nbsp;&nbsp;&quot;       [ 1.,  0.,  1.,  0.],\n&quot;,</div><div class='line' id='LC1049'>&nbsp;&nbsp;&nbsp;&nbsp;&nbsp;&nbsp;&nbsp;&nbsp;&quot;       [ 1.,  0.,  1.,  0.],\n&quot;,</div><div class='line' id='LC1050'>&nbsp;&nbsp;&nbsp;&nbsp;&nbsp;&nbsp;&nbsp;&nbsp;&quot;       [ 1.,  0.,  1.,  0.],\n&quot;,</div><div class='line' id='LC1051'>&nbsp;&nbsp;&nbsp;&nbsp;&nbsp;&nbsp;&nbsp;&nbsp;&quot;       [ 1.,  0.,  1.,  0.],\n&quot;,</div><div class='line' id='LC1052'>&nbsp;&nbsp;&nbsp;&nbsp;&nbsp;&nbsp;&nbsp;&nbsp;&quot;       [ 1.,  0.,  1.,  0.],\n&quot;,</div><div class='line' id='LC1053'>&nbsp;&nbsp;&nbsp;&nbsp;&nbsp;&nbsp;&nbsp;&nbsp;&quot;       [ 1.,  0.,  0.,  1.],\n&quot;,</div><div class='line' id='LC1054'>&nbsp;&nbsp;&nbsp;&nbsp;&nbsp;&nbsp;&nbsp;&nbsp;&quot;       [ 1.,  0.,  0.,  1.],\n&quot;,</div><div class='line' id='LC1055'>&nbsp;&nbsp;&nbsp;&nbsp;&nbsp;&nbsp;&nbsp;&nbsp;&quot;       [ 1.,  0.,  0.,  1.],\n&quot;,</div><div class='line' id='LC1056'>&nbsp;&nbsp;&nbsp;&nbsp;&nbsp;&nbsp;&nbsp;&nbsp;&quot;       [ 1.,  0.,  0.,  1.],\n&quot;,</div><div class='line' id='LC1057'>&nbsp;&nbsp;&nbsp;&nbsp;&nbsp;&nbsp;&nbsp;&nbsp;&quot;       [ 1.,  0.,  0.,  1.]])&quot;</div><div class='line' id='LC1058'>&nbsp;&nbsp;&nbsp;&nbsp;&nbsp;&nbsp;&nbsp;]</div><div class='line' id='LC1059'>&nbsp;&nbsp;&nbsp;&nbsp;&nbsp;&nbsp;}</div><div class='line' id='LC1060'>&nbsp;&nbsp;&nbsp;&nbsp;&nbsp;],</div><div class='line' id='LC1061'>&nbsp;&nbsp;&nbsp;&nbsp;&nbsp;&quot;prompt_number&quot;: 29</div><div class='line' id='LC1062'>&nbsp;&nbsp;&nbsp;&nbsp;},</div><div class='line' id='LC1063'>&nbsp;&nbsp;&nbsp;&nbsp;{</div><div class='line' id='LC1064'>&nbsp;&nbsp;&nbsp;&nbsp;&nbsp;&quot;cell_type&quot;: &quot;markdown&quot;,</div><div class='line' id='LC1065'>&nbsp;&nbsp;&nbsp;&nbsp;&nbsp;&quot;metadata&quot;: {},</div><div class='line' id='LC1066'>&nbsp;&nbsp;&nbsp;&nbsp;&nbsp;&quot;source&quot;: [</div><div class='line' id='LC1067'>&nbsp;&nbsp;&nbsp;&nbsp;&nbsp;&nbsp;&quot;Our design has four columns, but one of them does not contribute to the column space of $W$, because $w_1 = w_2 + w_3 + w_4$.  That is the same as saying that any vector $S * w_1$ (where $S$ is a scalar) can be exactly given by $S * w2 + S * w_3 + S * w_4$.  Put another way, $X$ (with three column vectors) contains the column space of $W$ (with 4 column vectors).\n&quot;,</div><div class='line' id='LC1068'>&nbsp;&nbsp;&nbsp;&nbsp;&nbsp;&nbsp;&quot;\n&quot;,</div><div class='line' id='LC1069'>&nbsp;&nbsp;&nbsp;&nbsp;&nbsp;&nbsp;&quot;What should we do about this?  There are two options.  One is - do nothing.  Our design matrix $W$ has one column more than the minimum needed to span the column space, and if we find some parameters $B$ to fit the data $Y$ to the design $W$, then we will have to take some care in interpreting the parameters, because there will be a necessary relationship between $\\beta_1$ and $\\beta_2 + \\beta_3 + \\beta_4$.\n&quot;,</div><div class='line' id='LC1070'>&nbsp;&nbsp;&nbsp;&nbsp;&nbsp;&nbsp;&quot;\n&quot;,</div><div class='line' id='LC1071'>&nbsp;&nbsp;&nbsp;&nbsp;&nbsp;&nbsp;&quot;Another option is choose some new and reduced set of vectors to represent the factor, that we can append to the constant column, and that can nevertheless represent the column space of $X$ (the indicator columns).   That is what R refers to as \&quot;contrast coding\&quot; for factors.  Let&#39;s return to the default &#39;treatment&#39; contrast coding:&quot;</div><div class='line' id='LC1072'>&nbsp;&nbsp;&nbsp;&nbsp;&nbsp;]</div><div class='line' id='LC1073'>&nbsp;&nbsp;&nbsp;&nbsp;},</div><div class='line' id='LC1074'>&nbsp;&nbsp;&nbsp;&nbsp;{</div><div class='line' id='LC1075'>&nbsp;&nbsp;&nbsp;&nbsp;&nbsp;&quot;cell_type&quot;: &quot;code&quot;,</div><div class='line' id='LC1076'>&nbsp;&nbsp;&nbsp;&nbsp;&nbsp;&quot;collapsed&quot;: false,</div><div class='line' id='LC1077'>&nbsp;&nbsp;&nbsp;&nbsp;&nbsp;&quot;input&quot;: [</div><div class='line' id='LC1078'>&nbsp;&nbsp;&nbsp;&nbsp;&nbsp;&nbsp;&quot;Z = %R model.matrix( ~ nationality)\n&quot;,</div><div class='line' id='LC1079'>&nbsp;&nbsp;&nbsp;&nbsp;&nbsp;&nbsp;&quot;Z&quot;</div><div class='line' id='LC1080'>&nbsp;&nbsp;&nbsp;&nbsp;&nbsp;],</div><div class='line' id='LC1081'>&nbsp;&nbsp;&nbsp;&nbsp;&nbsp;&quot;language&quot;: &quot;python&quot;,</div><div class='line' id='LC1082'>&nbsp;&nbsp;&nbsp;&nbsp;&nbsp;&quot;metadata&quot;: {},</div><div class='line' id='LC1083'>&nbsp;&nbsp;&nbsp;&nbsp;&nbsp;&quot;outputs&quot;: [</div><div class='line' id='LC1084'>&nbsp;&nbsp;&nbsp;&nbsp;&nbsp;&nbsp;{</div><div class='line' id='LC1085'>&nbsp;&nbsp;&nbsp;&nbsp;&nbsp;&nbsp;&nbsp;&quot;output_type&quot;: &quot;pyout&quot;,</div><div class='line' id='LC1086'>&nbsp;&nbsp;&nbsp;&nbsp;&nbsp;&nbsp;&nbsp;&quot;prompt_number&quot;: 30,</div><div class='line' id='LC1087'>&nbsp;&nbsp;&nbsp;&nbsp;&nbsp;&nbsp;&nbsp;&quot;text&quot;: [</div><div class='line' id='LC1088'>&nbsp;&nbsp;&nbsp;&nbsp;&nbsp;&nbsp;&nbsp;&nbsp;&quot;array([[ 1.,  0.,  1.],\n&quot;,</div><div class='line' id='LC1089'>&nbsp;&nbsp;&nbsp;&nbsp;&nbsp;&nbsp;&nbsp;&nbsp;&quot;       [ 1.,  0.,  1.],\n&quot;,</div><div class='line' id='LC1090'>&nbsp;&nbsp;&nbsp;&nbsp;&nbsp;&nbsp;&nbsp;&nbsp;&quot;       [ 1.,  0.,  1.],\n&quot;,</div><div class='line' id='LC1091'>&nbsp;&nbsp;&nbsp;&nbsp;&nbsp;&nbsp;&nbsp;&nbsp;&quot;       [ 1.,  0.,  1.],\n&quot;,</div><div class='line' id='LC1092'>&nbsp;&nbsp;&nbsp;&nbsp;&nbsp;&nbsp;&nbsp;&nbsp;&quot;       [ 1.,  0.,  1.],\n&quot;,</div><div class='line' id='LC1093'>&nbsp;&nbsp;&nbsp;&nbsp;&nbsp;&nbsp;&nbsp;&nbsp;&quot;       [ 1.,  1.,  0.],\n&quot;,</div><div class='line' id='LC1094'>&nbsp;&nbsp;&nbsp;&nbsp;&nbsp;&nbsp;&nbsp;&nbsp;&quot;       [ 1.,  1.,  0.],\n&quot;,</div><div class='line' id='LC1095'>&nbsp;&nbsp;&nbsp;&nbsp;&nbsp;&nbsp;&nbsp;&nbsp;&quot;       [ 1.,  1.,  0.],\n&quot;,</div><div class='line' id='LC1096'>&nbsp;&nbsp;&nbsp;&nbsp;&nbsp;&nbsp;&nbsp;&nbsp;&quot;       [ 1.,  1.,  0.],\n&quot;,</div><div class='line' id='LC1097'>&nbsp;&nbsp;&nbsp;&nbsp;&nbsp;&nbsp;&nbsp;&nbsp;&quot;       [ 1.,  1.,  0.],\n&quot;,</div><div class='line' id='LC1098'>&nbsp;&nbsp;&nbsp;&nbsp;&nbsp;&nbsp;&nbsp;&nbsp;&quot;       [ 1.,  0.,  0.],\n&quot;,</div><div class='line' id='LC1099'>&nbsp;&nbsp;&nbsp;&nbsp;&nbsp;&nbsp;&nbsp;&nbsp;&quot;       [ 1.,  0.,  0.],\n&quot;,</div><div class='line' id='LC1100'>&nbsp;&nbsp;&nbsp;&nbsp;&nbsp;&nbsp;&nbsp;&nbsp;&quot;       [ 1.,  0.,  0.],\n&quot;,</div><div class='line' id='LC1101'>&nbsp;&nbsp;&nbsp;&nbsp;&nbsp;&nbsp;&nbsp;&nbsp;&quot;       [ 1.,  0.,  0.],\n&quot;,</div><div class='line' id='LC1102'>&nbsp;&nbsp;&nbsp;&nbsp;&nbsp;&nbsp;&nbsp;&nbsp;&quot;       [ 1.,  0.,  0.]])&quot;</div><div class='line' id='LC1103'>&nbsp;&nbsp;&nbsp;&nbsp;&nbsp;&nbsp;&nbsp;]</div><div class='line' id='LC1104'>&nbsp;&nbsp;&nbsp;&nbsp;&nbsp;&nbsp;}</div><div class='line' id='LC1105'>&nbsp;&nbsp;&nbsp;&nbsp;&nbsp;],</div><div class='line' id='LC1106'>&nbsp;&nbsp;&nbsp;&nbsp;&nbsp;&quot;prompt_number&quot;: 30</div><div class='line' id='LC1107'>&nbsp;&nbsp;&nbsp;&nbsp;},</div><div class='line' id='LC1108'>&nbsp;&nbsp;&nbsp;&nbsp;{</div><div class='line' id='LC1109'>&nbsp;&nbsp;&nbsp;&nbsp;&nbsp;&quot;cell_type&quot;: &quot;markdown&quot;,</div><div class='line' id='LC1110'>&nbsp;&nbsp;&nbsp;&nbsp;&nbsp;&quot;metadata&quot;: {},</div><div class='line' id='LC1111'>&nbsp;&nbsp;&nbsp;&nbsp;&nbsp;&quot;source&quot;: [</div><div class='line' id='LC1112'>&nbsp;&nbsp;&nbsp;&nbsp;&nbsp;&nbsp;&quot;Does `Z` contain the column space of the indicator columns $X$?  Yes, because there is a $P, P$ matrix $C$ such that $X = Z C$:&quot;</div><div class='line' id='LC1113'>&nbsp;&nbsp;&nbsp;&nbsp;&nbsp;]</div><div class='line' id='LC1114'>&nbsp;&nbsp;&nbsp;&nbsp;},</div><div class='line' id='LC1115'>&nbsp;&nbsp;&nbsp;&nbsp;{</div><div class='line' id='LC1116'>&nbsp;&nbsp;&nbsp;&nbsp;&nbsp;&quot;cell_type&quot;: &quot;code&quot;,</div><div class='line' id='LC1117'>&nbsp;&nbsp;&nbsp;&nbsp;&nbsp;&quot;collapsed&quot;: false,</div><div class='line' id='LC1118'>&nbsp;&nbsp;&nbsp;&nbsp;&nbsp;&quot;input&quot;: [</div><div class='line' id='LC1119'>&nbsp;&nbsp;&nbsp;&nbsp;&nbsp;&nbsp;&quot;C = np.array([[0, 0, 1], [0, 1, 0], [1, -1, -1]]).T\n&quot;,</div><div class='line' id='LC1120'>&nbsp;&nbsp;&nbsp;&nbsp;&nbsp;&nbsp;&quot;np.dot(Z, C)&quot;</div><div class='line' id='LC1121'>&nbsp;&nbsp;&nbsp;&nbsp;&nbsp;],</div><div class='line' id='LC1122'>&nbsp;&nbsp;&nbsp;&nbsp;&nbsp;&quot;language&quot;: &quot;python&quot;,</div><div class='line' id='LC1123'>&nbsp;&nbsp;&nbsp;&nbsp;&nbsp;&quot;metadata&quot;: {},</div><div class='line' id='LC1124'>&nbsp;&nbsp;&nbsp;&nbsp;&nbsp;&quot;outputs&quot;: [</div><div class='line' id='LC1125'>&nbsp;&nbsp;&nbsp;&nbsp;&nbsp;&nbsp;{</div><div class='line' id='LC1126'>&nbsp;&nbsp;&nbsp;&nbsp;&nbsp;&nbsp;&nbsp;&quot;output_type&quot;: &quot;pyout&quot;,</div><div class='line' id='LC1127'>&nbsp;&nbsp;&nbsp;&nbsp;&nbsp;&nbsp;&nbsp;&quot;prompt_number&quot;: 31,</div><div class='line' id='LC1128'>&nbsp;&nbsp;&nbsp;&nbsp;&nbsp;&nbsp;&nbsp;&quot;text&quot;: [</div><div class='line' id='LC1129'>&nbsp;&nbsp;&nbsp;&nbsp;&nbsp;&nbsp;&nbsp;&nbsp;&quot;array([[ 1.,  0.,  0.],\n&quot;,</div><div class='line' id='LC1130'>&nbsp;&nbsp;&nbsp;&nbsp;&nbsp;&nbsp;&nbsp;&nbsp;&quot;       [ 1.,  0.,  0.],\n&quot;,</div><div class='line' id='LC1131'>&nbsp;&nbsp;&nbsp;&nbsp;&nbsp;&nbsp;&nbsp;&nbsp;&quot;       [ 1.,  0.,  0.],\n&quot;,</div><div class='line' id='LC1132'>&nbsp;&nbsp;&nbsp;&nbsp;&nbsp;&nbsp;&nbsp;&nbsp;&quot;       [ 1.,  0.,  0.],\n&quot;,</div><div class='line' id='LC1133'>&nbsp;&nbsp;&nbsp;&nbsp;&nbsp;&nbsp;&nbsp;&nbsp;&quot;       [ 1.,  0.,  0.],\n&quot;,</div><div class='line' id='LC1134'>&nbsp;&nbsp;&nbsp;&nbsp;&nbsp;&nbsp;&nbsp;&nbsp;&quot;       [ 0.,  1.,  0.],\n&quot;,</div><div class='line' id='LC1135'>&nbsp;&nbsp;&nbsp;&nbsp;&nbsp;&nbsp;&nbsp;&nbsp;&quot;       [ 0.,  1.,  0.],\n&quot;,</div><div class='line' id='LC1136'>&nbsp;&nbsp;&nbsp;&nbsp;&nbsp;&nbsp;&nbsp;&nbsp;&quot;       [ 0.,  1.,  0.],\n&quot;,</div><div class='line' id='LC1137'>&nbsp;&nbsp;&nbsp;&nbsp;&nbsp;&nbsp;&nbsp;&nbsp;&quot;       [ 0.,  1.,  0.],\n&quot;,</div><div class='line' id='LC1138'>&nbsp;&nbsp;&nbsp;&nbsp;&nbsp;&nbsp;&nbsp;&nbsp;&quot;       [ 0.,  1.,  0.],\n&quot;,</div><div class='line' id='LC1139'>&nbsp;&nbsp;&nbsp;&nbsp;&nbsp;&nbsp;&nbsp;&nbsp;&quot;       [ 0.,  0.,  1.],\n&quot;,</div><div class='line' id='LC1140'>&nbsp;&nbsp;&nbsp;&nbsp;&nbsp;&nbsp;&nbsp;&nbsp;&quot;       [ 0.,  0.,  1.],\n&quot;,</div><div class='line' id='LC1141'>&nbsp;&nbsp;&nbsp;&nbsp;&nbsp;&nbsp;&nbsp;&nbsp;&quot;       [ 0.,  0.,  1.],\n&quot;,</div><div class='line' id='LC1142'>&nbsp;&nbsp;&nbsp;&nbsp;&nbsp;&nbsp;&nbsp;&nbsp;&quot;       [ 0.,  0.,  1.],\n&quot;,</div><div class='line' id='LC1143'>&nbsp;&nbsp;&nbsp;&nbsp;&nbsp;&nbsp;&nbsp;&nbsp;&quot;       [ 0.,  0.,  1.]])&quot;</div><div class='line' id='LC1144'>&nbsp;&nbsp;&nbsp;&nbsp;&nbsp;&nbsp;&nbsp;]</div><div class='line' id='LC1145'>&nbsp;&nbsp;&nbsp;&nbsp;&nbsp;&nbsp;}</div><div class='line' id='LC1146'>&nbsp;&nbsp;&nbsp;&nbsp;&nbsp;],</div><div class='line' id='LC1147'>&nbsp;&nbsp;&nbsp;&nbsp;&nbsp;&quot;prompt_number&quot;: 31</div><div class='line' id='LC1148'>&nbsp;&nbsp;&nbsp;&nbsp;},</div><div class='line' id='LC1149'>&nbsp;&nbsp;&nbsp;&nbsp;{</div><div class='line' id='LC1150'>&nbsp;&nbsp;&nbsp;&nbsp;&nbsp;&quot;cell_type&quot;: &quot;markdown&quot;,</div><div class='line' id='LC1151'>&nbsp;&nbsp;&nbsp;&nbsp;&nbsp;&quot;metadata&quot;: {},</div><div class='line' id='LC1152'>&nbsp;&nbsp;&nbsp;&nbsp;&nbsp;&quot;source&quot;: [</div><div class='line' id='LC1153'>&nbsp;&nbsp;&nbsp;&nbsp;&nbsp;&nbsp;&quot;Does the treatment contrast coding have exactly the same column space as the indicator columns?  That is, can all vectors that are a combination of the columns of `Z` also be created from combinations of columns of `X`?  Yes, because our matrix $C$ above is invertible. If $C^{-1}$ is the inverse of $C$, then $Z = X C^{-1}$: &quot;</div><div class='line' id='LC1154'>&nbsp;&nbsp;&nbsp;&nbsp;&nbsp;]</div><div class='line' id='LC1155'>&nbsp;&nbsp;&nbsp;&nbsp;},</div><div class='line' id='LC1156'>&nbsp;&nbsp;&nbsp;&nbsp;{</div><div class='line' id='LC1157'>&nbsp;&nbsp;&nbsp;&nbsp;&nbsp;&quot;cell_type&quot;: &quot;code&quot;,</div><div class='line' id='LC1158'>&nbsp;&nbsp;&nbsp;&nbsp;&nbsp;&quot;collapsed&quot;: false,</div><div class='line' id='LC1159'>&nbsp;&nbsp;&nbsp;&nbsp;&nbsp;&quot;input&quot;: [</div><div class='line' id='LC1160'>&nbsp;&nbsp;&nbsp;&nbsp;&nbsp;&nbsp;&quot;np.all(np.dot(X, np.linalg.inv(C)) == Z)&quot;</div><div class='line' id='LC1161'>&nbsp;&nbsp;&nbsp;&nbsp;&nbsp;],</div><div class='line' id='LC1162'>&nbsp;&nbsp;&nbsp;&nbsp;&nbsp;&quot;language&quot;: &quot;python&quot;,</div><div class='line' id='LC1163'>&nbsp;&nbsp;&nbsp;&nbsp;&nbsp;&quot;metadata&quot;: {},</div><div class='line' id='LC1164'>&nbsp;&nbsp;&nbsp;&nbsp;&nbsp;&quot;outputs&quot;: [</div><div class='line' id='LC1165'>&nbsp;&nbsp;&nbsp;&nbsp;&nbsp;&nbsp;{</div><div class='line' id='LC1166'>&nbsp;&nbsp;&nbsp;&nbsp;&nbsp;&nbsp;&nbsp;&quot;output_type&quot;: &quot;pyout&quot;,</div><div class='line' id='LC1167'>&nbsp;&nbsp;&nbsp;&nbsp;&nbsp;&nbsp;&nbsp;&quot;prompt_number&quot;: 32,</div><div class='line' id='LC1168'>&nbsp;&nbsp;&nbsp;&nbsp;&nbsp;&nbsp;&nbsp;&quot;text&quot;: [</div><div class='line' id='LC1169'>&nbsp;&nbsp;&nbsp;&nbsp;&nbsp;&nbsp;&nbsp;&nbsp;&quot;True&quot;</div><div class='line' id='LC1170'>&nbsp;&nbsp;&nbsp;&nbsp;&nbsp;&nbsp;&nbsp;]</div><div class='line' id='LC1171'>&nbsp;&nbsp;&nbsp;&nbsp;&nbsp;&nbsp;}</div><div class='line' id='LC1172'>&nbsp;&nbsp;&nbsp;&nbsp;&nbsp;],</div><div class='line' id='LC1173'>&nbsp;&nbsp;&nbsp;&nbsp;&nbsp;&quot;prompt_number&quot;: 32</div><div class='line' id='LC1174'>&nbsp;&nbsp;&nbsp;&nbsp;},</div><div class='line' id='LC1175'>&nbsp;&nbsp;&nbsp;&nbsp;{</div><div class='line' id='LC1176'>&nbsp;&nbsp;&nbsp;&nbsp;&nbsp;&quot;cell_type&quot;: &quot;markdown&quot;,</div><div class='line' id='LC1177'>&nbsp;&nbsp;&nbsp;&nbsp;&nbsp;&quot;metadata&quot;: {},</div><div class='line' id='LC1178'>&nbsp;&nbsp;&nbsp;&nbsp;&nbsp;&quot;source&quot;: [</div><div class='line' id='LC1179'>&nbsp;&nbsp;&nbsp;&nbsp;&nbsp;&nbsp;&quot;Therefore all vectors in the space of `Z` are also in the column space of `X`.&quot;</div><div class='line' id='LC1180'>&nbsp;&nbsp;&nbsp;&nbsp;&nbsp;]</div><div class='line' id='LC1181'>&nbsp;&nbsp;&nbsp;&nbsp;},</div><div class='line' id='LC1182'>&nbsp;&nbsp;&nbsp;&nbsp;{</div><div class='line' id='LC1183'>&nbsp;&nbsp;&nbsp;&nbsp;&nbsp;&quot;cell_type&quot;: &quot;markdown&quot;,</div><div class='line' id='LC1184'>&nbsp;&nbsp;&nbsp;&nbsp;&nbsp;&quot;metadata&quot;: {},</div><div class='line' id='LC1185'>&nbsp;&nbsp;&nbsp;&nbsp;&nbsp;&quot;source&quot;: [</div><div class='line' id='LC1186'>&nbsp;&nbsp;&nbsp;&nbsp;&nbsp;&nbsp;&quot;As a side-note, I can get the matrix that maps from the 3 indicator columns to the 2 contrast columns like this:&quot;</div><div class='line' id='LC1187'>&nbsp;&nbsp;&nbsp;&nbsp;&nbsp;]</div><div class='line' id='LC1188'>&nbsp;&nbsp;&nbsp;&nbsp;},</div><div class='line' id='LC1189'>&nbsp;&nbsp;&nbsp;&nbsp;{</div><div class='line' id='LC1190'>&nbsp;&nbsp;&nbsp;&nbsp;&nbsp;&quot;cell_type&quot;: &quot;code&quot;,</div><div class='line' id='LC1191'>&nbsp;&nbsp;&nbsp;&nbsp;&nbsp;&quot;collapsed&quot;: false,</div><div class='line' id='LC1192'>&nbsp;&nbsp;&nbsp;&nbsp;&nbsp;&quot;input&quot;: [</div><div class='line' id='LC1193'>&nbsp;&nbsp;&nbsp;&nbsp;&nbsp;&nbsp;&quot;X_indicator = %R model.matrix(~ nationality-1)\n&quot;,</div><div class='line' id='LC1194'>&nbsp;&nbsp;&nbsp;&nbsp;&nbsp;&nbsp;&quot;X_contrast = %R model.matrix(~ nationality)\n&quot;,</div><div class='line' id='LC1195'>&nbsp;&nbsp;&nbsp;&nbsp;&nbsp;&nbsp;&quot;C_map = %R contr.treatment(3) # Three levels for nationality\n&quot;,</div><div class='line' id='LC1196'>&nbsp;&nbsp;&nbsp;&nbsp;&nbsp;&nbsp;&quot;np.all(np.dot(X_indicator, C_map) == X_contrast[:, 1:])                                &quot;</div><div class='line' id='LC1197'>&nbsp;&nbsp;&nbsp;&nbsp;&nbsp;],</div><div class='line' id='LC1198'>&nbsp;&nbsp;&nbsp;&nbsp;&nbsp;&quot;language&quot;: &quot;python&quot;,</div><div class='line' id='LC1199'>&nbsp;&nbsp;&nbsp;&nbsp;&nbsp;&quot;metadata&quot;: {},</div><div class='line' id='LC1200'>&nbsp;&nbsp;&nbsp;&nbsp;&nbsp;&quot;outputs&quot;: [</div><div class='line' id='LC1201'>&nbsp;&nbsp;&nbsp;&nbsp;&nbsp;&nbsp;{</div><div class='line' id='LC1202'>&nbsp;&nbsp;&nbsp;&nbsp;&nbsp;&nbsp;&nbsp;&quot;output_type&quot;: &quot;pyout&quot;,</div><div class='line' id='LC1203'>&nbsp;&nbsp;&nbsp;&nbsp;&nbsp;&nbsp;&nbsp;&quot;prompt_number&quot;: 33,</div><div class='line' id='LC1204'>&nbsp;&nbsp;&nbsp;&nbsp;&nbsp;&nbsp;&nbsp;&quot;text&quot;: [</div><div class='line' id='LC1205'>&nbsp;&nbsp;&nbsp;&nbsp;&nbsp;&nbsp;&nbsp;&nbsp;&quot;True&quot;</div><div class='line' id='LC1206'>&nbsp;&nbsp;&nbsp;&nbsp;&nbsp;&nbsp;&nbsp;]</div><div class='line' id='LC1207'>&nbsp;&nbsp;&nbsp;&nbsp;&nbsp;&nbsp;}</div><div class='line' id='LC1208'>&nbsp;&nbsp;&nbsp;&nbsp;&nbsp;],</div><div class='line' id='LC1209'>&nbsp;&nbsp;&nbsp;&nbsp;&nbsp;&quot;prompt_number&quot;: 33</div><div class='line' id='LC1210'>&nbsp;&nbsp;&nbsp;&nbsp;},</div><div class='line' id='LC1211'>&nbsp;&nbsp;&nbsp;&nbsp;{</div><div class='line' id='LC1212'>&nbsp;&nbsp;&nbsp;&nbsp;&nbsp;&quot;cell_type&quot;: &quot;markdown&quot;,</div><div class='line' id='LC1213'>&nbsp;&nbsp;&nbsp;&nbsp;&nbsp;&quot;metadata&quot;: {},</div><div class='line' id='LC1214'>&nbsp;&nbsp;&nbsp;&nbsp;&nbsp;&quot;source&quot;: [</div><div class='line' id='LC1215'>&nbsp;&nbsp;&nbsp;&nbsp;&nbsp;&nbsp;&quot;It&#39;s easy to go from there to the full `C` matrix mapping from the indicator design to the intercept + contrast design:&quot;</div><div class='line' id='LC1216'>&nbsp;&nbsp;&nbsp;&nbsp;&nbsp;]</div><div class='line' id='LC1217'>&nbsp;&nbsp;&nbsp;&nbsp;},</div><div class='line' id='LC1218'>&nbsp;&nbsp;&nbsp;&nbsp;{</div><div class='line' id='LC1219'>&nbsp;&nbsp;&nbsp;&nbsp;&nbsp;&quot;cell_type&quot;: &quot;code&quot;,</div><div class='line' id='LC1220'>&nbsp;&nbsp;&nbsp;&nbsp;&nbsp;&quot;collapsed&quot;: false,</div><div class='line' id='LC1221'>&nbsp;&nbsp;&nbsp;&nbsp;&nbsp;&quot;input&quot;: [</div><div class='line' id='LC1222'>&nbsp;&nbsp;&nbsp;&nbsp;&nbsp;&nbsp;&quot;C_map_with_inter = np.column_stack(([1, 1, 1], C_map))\n&quot;,</div><div class='line' id='LC1223'>&nbsp;&nbsp;&nbsp;&nbsp;&nbsp;&nbsp;&quot;np.all(np.dot(X_indicator, C_map_with_inter) == X_contrast)&quot;</div><div class='line' id='LC1224'>&nbsp;&nbsp;&nbsp;&nbsp;&nbsp;],</div><div class='line' id='LC1225'>&nbsp;&nbsp;&nbsp;&nbsp;&nbsp;&quot;language&quot;: &quot;python&quot;,</div><div class='line' id='LC1226'>&nbsp;&nbsp;&nbsp;&nbsp;&nbsp;&quot;metadata&quot;: {},</div><div class='line' id='LC1227'>&nbsp;&nbsp;&nbsp;&nbsp;&nbsp;&quot;outputs&quot;: [</div><div class='line' id='LC1228'>&nbsp;&nbsp;&nbsp;&nbsp;&nbsp;&nbsp;{</div><div class='line' id='LC1229'>&nbsp;&nbsp;&nbsp;&nbsp;&nbsp;&nbsp;&nbsp;&quot;output_type&quot;: &quot;pyout&quot;,</div><div class='line' id='LC1230'>&nbsp;&nbsp;&nbsp;&nbsp;&nbsp;&nbsp;&nbsp;&quot;prompt_number&quot;: 34,</div><div class='line' id='LC1231'>&nbsp;&nbsp;&nbsp;&nbsp;&nbsp;&nbsp;&nbsp;&quot;text&quot;: [</div><div class='line' id='LC1232'>&nbsp;&nbsp;&nbsp;&nbsp;&nbsp;&nbsp;&nbsp;&nbsp;&quot;True&quot;</div><div class='line' id='LC1233'>&nbsp;&nbsp;&nbsp;&nbsp;&nbsp;&nbsp;&nbsp;]</div><div class='line' id='LC1234'>&nbsp;&nbsp;&nbsp;&nbsp;&nbsp;&nbsp;}</div><div class='line' id='LC1235'>&nbsp;&nbsp;&nbsp;&nbsp;&nbsp;],</div><div class='line' id='LC1236'>&nbsp;&nbsp;&nbsp;&nbsp;&nbsp;&quot;prompt_number&quot;: 34</div><div class='line' id='LC1237'>&nbsp;&nbsp;&nbsp;&nbsp;},</div><div class='line' id='LC1238'>&nbsp;&nbsp;&nbsp;&nbsp;{</div><div class='line' id='LC1239'>&nbsp;&nbsp;&nbsp;&nbsp;&nbsp;&quot;cell_type&quot;: &quot;markdown&quot;,</div><div class='line' id='LC1240'>&nbsp;&nbsp;&nbsp;&nbsp;&nbsp;&quot;metadata&quot;: {},</div><div class='line' id='LC1241'>&nbsp;&nbsp;&nbsp;&nbsp;&nbsp;&quot;source&quot;: [</div><div class='line' id='LC1242'>&nbsp;&nbsp;&nbsp;&nbsp;&nbsp;&nbsp;&quot;How about the \&quot;helmert\&quot; coding? Does that contain the column space of the indicator coding?&quot;</div><div class='line' id='LC1243'>&nbsp;&nbsp;&nbsp;&nbsp;&nbsp;]</div><div class='line' id='LC1244'>&nbsp;&nbsp;&nbsp;&nbsp;},</div><div class='line' id='LC1245'>&nbsp;&nbsp;&nbsp;&nbsp;{</div><div class='line' id='LC1246'>&nbsp;&nbsp;&nbsp;&nbsp;&nbsp;&quot;cell_type&quot;: &quot;code&quot;,</div><div class='line' id='LC1247'>&nbsp;&nbsp;&nbsp;&nbsp;&nbsp;&quot;collapsed&quot;: false,</div><div class='line' id='LC1248'>&nbsp;&nbsp;&nbsp;&nbsp;&nbsp;&quot;input&quot;: [</div><div class='line' id='LC1249'>&nbsp;&nbsp;&nbsp;&nbsp;&nbsp;&nbsp;&quot;Z = %R model.matrix( ~ C(nationality, helmert))\n&quot;,</div><div class='line' id='LC1250'>&nbsp;&nbsp;&nbsp;&nbsp;&nbsp;&nbsp;&quot;C = np.array([[1./3, -0.5, -1./6], [1./3, 0.5, -1./6], [1./3, 0, 1./3]]).T\n&quot;,</div><div class='line' id='LC1251'>&nbsp;&nbsp;&nbsp;&nbsp;&nbsp;&nbsp;&quot;np.set_printoptions(suppress=True) # suppress very small floating point values\n&quot;,</div><div class='line' id='LC1252'>&nbsp;&nbsp;&nbsp;&nbsp;&nbsp;&nbsp;&quot;np.dot(Z, C) # same as X_indicator&quot;</div><div class='line' id='LC1253'>&nbsp;&nbsp;&nbsp;&nbsp;&nbsp;],</div><div class='line' id='LC1254'>&nbsp;&nbsp;&nbsp;&nbsp;&nbsp;&quot;language&quot;: &quot;python&quot;,</div><div class='line' id='LC1255'>&nbsp;&nbsp;&nbsp;&nbsp;&nbsp;&quot;metadata&quot;: {},</div><div class='line' id='LC1256'>&nbsp;&nbsp;&nbsp;&nbsp;&nbsp;&quot;outputs&quot;: [</div><div class='line' id='LC1257'>&nbsp;&nbsp;&nbsp;&nbsp;&nbsp;&nbsp;{</div><div class='line' id='LC1258'>&nbsp;&nbsp;&nbsp;&nbsp;&nbsp;&nbsp;&nbsp;&quot;output_type&quot;: &quot;pyout&quot;,</div><div class='line' id='LC1259'>&nbsp;&nbsp;&nbsp;&nbsp;&nbsp;&nbsp;&nbsp;&quot;prompt_number&quot;: 35,</div><div class='line' id='LC1260'>&nbsp;&nbsp;&nbsp;&nbsp;&nbsp;&nbsp;&nbsp;&quot;text&quot;: [</div><div class='line' id='LC1261'>&nbsp;&nbsp;&nbsp;&nbsp;&nbsp;&nbsp;&nbsp;&nbsp;&quot;array([[ 0.,  0.,  1.],\n&quot;,</div><div class='line' id='LC1262'>&nbsp;&nbsp;&nbsp;&nbsp;&nbsp;&nbsp;&nbsp;&nbsp;&quot;       [ 0.,  0.,  1.],\n&quot;,</div><div class='line' id='LC1263'>&nbsp;&nbsp;&nbsp;&nbsp;&nbsp;&nbsp;&nbsp;&nbsp;&quot;       [ 0.,  0.,  1.],\n&quot;,</div><div class='line' id='LC1264'>&nbsp;&nbsp;&nbsp;&nbsp;&nbsp;&nbsp;&nbsp;&nbsp;&quot;       [ 0.,  0.,  1.],\n&quot;,</div><div class='line' id='LC1265'>&nbsp;&nbsp;&nbsp;&nbsp;&nbsp;&nbsp;&nbsp;&nbsp;&quot;       [ 0.,  0.,  1.],\n&quot;,</div><div class='line' id='LC1266'>&nbsp;&nbsp;&nbsp;&nbsp;&nbsp;&nbsp;&nbsp;&nbsp;&quot;       [-0.,  1.,  0.],\n&quot;,</div><div class='line' id='LC1267'>&nbsp;&nbsp;&nbsp;&nbsp;&nbsp;&nbsp;&nbsp;&nbsp;&quot;       [-0.,  1.,  0.],\n&quot;,</div><div class='line' id='LC1268'>&nbsp;&nbsp;&nbsp;&nbsp;&nbsp;&nbsp;&nbsp;&nbsp;&quot;       [-0.,  1.,  0.],\n&quot;,</div><div class='line' id='LC1269'>&nbsp;&nbsp;&nbsp;&nbsp;&nbsp;&nbsp;&nbsp;&nbsp;&quot;       [-0.,  1.,  0.],\n&quot;,</div><div class='line' id='LC1270'>&nbsp;&nbsp;&nbsp;&nbsp;&nbsp;&nbsp;&nbsp;&nbsp;&quot;       [-0.,  1.,  0.],\n&quot;,</div><div class='line' id='LC1271'>&nbsp;&nbsp;&nbsp;&nbsp;&nbsp;&nbsp;&nbsp;&nbsp;&quot;       [ 1., -0.,  0.],\n&quot;,</div><div class='line' id='LC1272'>&nbsp;&nbsp;&nbsp;&nbsp;&nbsp;&nbsp;&nbsp;&nbsp;&quot;       [ 1., -0.,  0.],\n&quot;,</div><div class='line' id='LC1273'>&nbsp;&nbsp;&nbsp;&nbsp;&nbsp;&nbsp;&nbsp;&nbsp;&quot;       [ 1., -0.,  0.],\n&quot;,</div><div class='line' id='LC1274'>&nbsp;&nbsp;&nbsp;&nbsp;&nbsp;&nbsp;&nbsp;&nbsp;&quot;       [ 1., -0.,  0.],\n&quot;,</div><div class='line' id='LC1275'>&nbsp;&nbsp;&nbsp;&nbsp;&nbsp;&nbsp;&nbsp;&nbsp;&quot;       [ 1., -0.,  0.]])&quot;</div><div class='line' id='LC1276'>&nbsp;&nbsp;&nbsp;&nbsp;&nbsp;&nbsp;&nbsp;]</div><div class='line' id='LC1277'>&nbsp;&nbsp;&nbsp;&nbsp;&nbsp;&nbsp;}</div><div class='line' id='LC1278'>&nbsp;&nbsp;&nbsp;&nbsp;&nbsp;],</div><div class='line' id='LC1279'>&nbsp;&nbsp;&nbsp;&nbsp;&nbsp;&quot;prompt_number&quot;: 35</div><div class='line' id='LC1280'>&nbsp;&nbsp;&nbsp;&nbsp;},</div><div class='line' id='LC1281'>&nbsp;&nbsp;&nbsp;&nbsp;{</div><div class='line' id='LC1282'>&nbsp;&nbsp;&nbsp;&nbsp;&nbsp;&quot;cell_type&quot;: &quot;markdown&quot;,</div><div class='line' id='LC1283'>&nbsp;&nbsp;&nbsp;&nbsp;&nbsp;&quot;metadata&quot;: {},</div><div class='line' id='LC1284'>&nbsp;&nbsp;&nbsp;&nbsp;&nbsp;&quot;source&quot;: [</div><div class='line' id='LC1285'>&nbsp;&nbsp;&nbsp;&nbsp;&nbsp;&nbsp;&quot;In fact, if we tell R to leave out the constant column, we will get indicator coding for the factor, with the columns permuted to reflect the fact that R thinks the levels should be ordered \&quot;France\&quot;, \&quot;UK\&quot;, \&quot;USA\&quot;:&quot;</div><div class='line' id='LC1286'>&nbsp;&nbsp;&nbsp;&nbsp;&nbsp;]</div><div class='line' id='LC1287'>&nbsp;&nbsp;&nbsp;&nbsp;},</div><div class='line' id='LC1288'>&nbsp;&nbsp;&nbsp;&nbsp;{</div><div class='line' id='LC1289'>&nbsp;&nbsp;&nbsp;&nbsp;&nbsp;&quot;cell_type&quot;: &quot;code&quot;,</div><div class='line' id='LC1290'>&nbsp;&nbsp;&nbsp;&nbsp;&nbsp;&quot;collapsed&quot;: false,</div><div class='line' id='LC1291'>&nbsp;&nbsp;&nbsp;&nbsp;&nbsp;&quot;input&quot;: [</div><div class='line' id='LC1292'>&nbsp;&nbsp;&nbsp;&nbsp;&nbsp;&nbsp;&quot;%R model.matrix( ~ nationality-1)&quot;</div><div class='line' id='LC1293'>&nbsp;&nbsp;&nbsp;&nbsp;&nbsp;],</div><div class='line' id='LC1294'>&nbsp;&nbsp;&nbsp;&nbsp;&nbsp;&quot;language&quot;: &quot;python&quot;,</div><div class='line' id='LC1295'>&nbsp;&nbsp;&nbsp;&nbsp;&nbsp;&quot;metadata&quot;: {},</div><div class='line' id='LC1296'>&nbsp;&nbsp;&nbsp;&nbsp;&nbsp;&quot;outputs&quot;: [</div><div class='line' id='LC1297'>&nbsp;&nbsp;&nbsp;&nbsp;&nbsp;&nbsp;{</div><div class='line' id='LC1298'>&nbsp;&nbsp;&nbsp;&nbsp;&nbsp;&nbsp;&nbsp;&quot;output_type&quot;: &quot;pyout&quot;,</div><div class='line' id='LC1299'>&nbsp;&nbsp;&nbsp;&nbsp;&nbsp;&nbsp;&nbsp;&quot;prompt_number&quot;: 36,</div><div class='line' id='LC1300'>&nbsp;&nbsp;&nbsp;&nbsp;&nbsp;&nbsp;&nbsp;&quot;text&quot;: [</div><div class='line' id='LC1301'>&nbsp;&nbsp;&nbsp;&nbsp;&nbsp;&nbsp;&nbsp;&nbsp;&quot;array([[ 0.,  0.,  1.],\n&quot;,</div><div class='line' id='LC1302'>&nbsp;&nbsp;&nbsp;&nbsp;&nbsp;&nbsp;&nbsp;&nbsp;&quot;       [ 0.,  0.,  1.],\n&quot;,</div><div class='line' id='LC1303'>&nbsp;&nbsp;&nbsp;&nbsp;&nbsp;&nbsp;&nbsp;&nbsp;&quot;       [ 0.,  0.,  1.],\n&quot;,</div><div class='line' id='LC1304'>&nbsp;&nbsp;&nbsp;&nbsp;&nbsp;&nbsp;&nbsp;&nbsp;&quot;       [ 0.,  0.,  1.],\n&quot;,</div><div class='line' id='LC1305'>&nbsp;&nbsp;&nbsp;&nbsp;&nbsp;&nbsp;&nbsp;&nbsp;&quot;       [ 0.,  0.,  1.],\n&quot;,</div><div class='line' id='LC1306'>&nbsp;&nbsp;&nbsp;&nbsp;&nbsp;&nbsp;&nbsp;&nbsp;&quot;       [ 0.,  1.,  0.],\n&quot;,</div><div class='line' id='LC1307'>&nbsp;&nbsp;&nbsp;&nbsp;&nbsp;&nbsp;&nbsp;&nbsp;&quot;       [ 0.,  1.,  0.],\n&quot;,</div><div class='line' id='LC1308'>&nbsp;&nbsp;&nbsp;&nbsp;&nbsp;&nbsp;&nbsp;&nbsp;&quot;       [ 0.,  1.,  0.],\n&quot;,</div><div class='line' id='LC1309'>&nbsp;&nbsp;&nbsp;&nbsp;&nbsp;&nbsp;&nbsp;&nbsp;&quot;       [ 0.,  1.,  0.],\n&quot;,</div><div class='line' id='LC1310'>&nbsp;&nbsp;&nbsp;&nbsp;&nbsp;&nbsp;&nbsp;&nbsp;&quot;       [ 0.,  1.,  0.],\n&quot;,</div><div class='line' id='LC1311'>&nbsp;&nbsp;&nbsp;&nbsp;&nbsp;&nbsp;&nbsp;&nbsp;&quot;       [ 1.,  0.,  0.],\n&quot;,</div><div class='line' id='LC1312'>&nbsp;&nbsp;&nbsp;&nbsp;&nbsp;&nbsp;&nbsp;&nbsp;&quot;       [ 1.,  0.,  0.],\n&quot;,</div><div class='line' id='LC1313'>&nbsp;&nbsp;&nbsp;&nbsp;&nbsp;&nbsp;&nbsp;&nbsp;&quot;       [ 1.,  0.,  0.],\n&quot;,</div><div class='line' id='LC1314'>&nbsp;&nbsp;&nbsp;&nbsp;&nbsp;&nbsp;&nbsp;&nbsp;&quot;       [ 1.,  0.,  0.],\n&quot;,</div><div class='line' id='LC1315'>&nbsp;&nbsp;&nbsp;&nbsp;&nbsp;&nbsp;&nbsp;&nbsp;&quot;       [ 1.,  0.,  0.]])&quot;</div><div class='line' id='LC1316'>&nbsp;&nbsp;&nbsp;&nbsp;&nbsp;&nbsp;&nbsp;]</div><div class='line' id='LC1317'>&nbsp;&nbsp;&nbsp;&nbsp;&nbsp;&nbsp;}</div><div class='line' id='LC1318'>&nbsp;&nbsp;&nbsp;&nbsp;&nbsp;],</div><div class='line' id='LC1319'>&nbsp;&nbsp;&nbsp;&nbsp;&nbsp;&quot;prompt_number&quot;: 36</div><div class='line' id='LC1320'>&nbsp;&nbsp;&nbsp;&nbsp;},</div><div class='line' id='LC1321'>&nbsp;&nbsp;&nbsp;&nbsp;{</div><div class='line' id='LC1322'>&nbsp;&nbsp;&nbsp;&nbsp;&nbsp;&quot;cell_type&quot;: &quot;markdown&quot;,</div><div class='line' id='LC1323'>&nbsp;&nbsp;&nbsp;&nbsp;&nbsp;&quot;metadata&quot;: {},</div><div class='line' id='LC1324'>&nbsp;&nbsp;&nbsp;&nbsp;&nbsp;&quot;source&quot;: [</div><div class='line' id='LC1325'>&nbsp;&nbsp;&nbsp;&nbsp;&nbsp;&nbsp;&quot;We now start to see the rules that R is using in constructing the design matrix.  It seems that R is looking at each effect to be added, and for each effect to be added, it is removing anything that can be modeled by columns already in the design matrix.  Later on, we&#39;ll make this rule more explicit.&quot;</div><div class='line' id='LC1326'>&nbsp;&nbsp;&nbsp;&nbsp;&nbsp;]</div><div class='line' id='LC1327'>&nbsp;&nbsp;&nbsp;&nbsp;},</div><div class='line' id='LC1328'>&nbsp;&nbsp;&nbsp;&nbsp;{</div><div class='line' id='LC1329'>&nbsp;&nbsp;&nbsp;&nbsp;&nbsp;&quot;cell_type&quot;: &quot;heading&quot;,</div><div class='line' id='LC1330'>&nbsp;&nbsp;&nbsp;&nbsp;&nbsp;&quot;level&quot;: 2,</div><div class='line' id='LC1331'>&nbsp;&nbsp;&nbsp;&nbsp;&nbsp;&quot;metadata&quot;: {},</div><div class='line' id='LC1332'>&nbsp;&nbsp;&nbsp;&nbsp;&nbsp;&quot;source&quot;: [</div><div class='line' id='LC1333'>&nbsp;&nbsp;&nbsp;&nbsp;&nbsp;&nbsp;&quot;Factors, interactions and column spaces&quot;</div><div class='line' id='LC1334'>&nbsp;&nbsp;&nbsp;&nbsp;&nbsp;]</div><div class='line' id='LC1335'>&nbsp;&nbsp;&nbsp;&nbsp;},</div><div class='line' id='LC1336'>&nbsp;&nbsp;&nbsp;&nbsp;{</div><div class='line' id='LC1337'>&nbsp;&nbsp;&nbsp;&nbsp;&nbsp;&quot;cell_type&quot;: &quot;markdown&quot;,</div><div class='line' id='LC1338'>&nbsp;&nbsp;&nbsp;&nbsp;&nbsp;&quot;metadata&quot;: {},</div><div class='line' id='LC1339'>&nbsp;&nbsp;&nbsp;&nbsp;&nbsp;&quot;source&quot;: [</div><div class='line' id='LC1340'>&nbsp;&nbsp;&nbsp;&nbsp;&nbsp;&nbsp;&quot;Let&#39;s define a new factor `awesome` which has levels of \&quot;No\&quot; (is not awesome) or \&quot;Yes\&quot; (is too awesome).&quot;</div><div class='line' id='LC1341'>&nbsp;&nbsp;&nbsp;&nbsp;&nbsp;]</div><div class='line' id='LC1342'>&nbsp;&nbsp;&nbsp;&nbsp;},</div><div class='line' id='LC1343'>&nbsp;&nbsp;&nbsp;&nbsp;{</div><div class='line' id='LC1344'>&nbsp;&nbsp;&nbsp;&nbsp;&nbsp;&quot;cell_type&quot;: &quot;code&quot;,</div><div class='line' id='LC1345'>&nbsp;&nbsp;&nbsp;&nbsp;&nbsp;&quot;collapsed&quot;: false,</div><div class='line' id='LC1346'>&nbsp;&nbsp;&nbsp;&nbsp;&nbsp;&quot;input&quot;: [</div><div class='line' id='LC1347'>&nbsp;&nbsp;&nbsp;&nbsp;&nbsp;&nbsp;&quot;awesome = np.array([\&quot;Yes\&quot;, \&quot;No\&quot;] * 7 + [\&quot;Yes\&quot;])\n&quot;,</div><div class='line' id='LC1348'>&nbsp;&nbsp;&nbsp;&nbsp;&nbsp;&nbsp;&quot;awesome&quot;</div><div class='line' id='LC1349'>&nbsp;&nbsp;&nbsp;&nbsp;&nbsp;],</div><div class='line' id='LC1350'>&nbsp;&nbsp;&nbsp;&nbsp;&nbsp;&quot;language&quot;: &quot;python&quot;,</div><div class='line' id='LC1351'>&nbsp;&nbsp;&nbsp;&nbsp;&nbsp;&quot;metadata&quot;: {},</div><div class='line' id='LC1352'>&nbsp;&nbsp;&nbsp;&nbsp;&nbsp;&quot;outputs&quot;: [</div><div class='line' id='LC1353'>&nbsp;&nbsp;&nbsp;&nbsp;&nbsp;&nbsp;{</div><div class='line' id='LC1354'>&nbsp;&nbsp;&nbsp;&nbsp;&nbsp;&nbsp;&nbsp;&quot;output_type&quot;: &quot;pyout&quot;,</div><div class='line' id='LC1355'>&nbsp;&nbsp;&nbsp;&nbsp;&nbsp;&nbsp;&nbsp;&quot;prompt_number&quot;: 37,</div><div class='line' id='LC1356'>&nbsp;&nbsp;&nbsp;&nbsp;&nbsp;&nbsp;&nbsp;&quot;text&quot;: [</div><div class='line' id='LC1357'>&nbsp;&nbsp;&nbsp;&nbsp;&nbsp;&nbsp;&nbsp;&nbsp;&quot;array([&#39;Yes&#39;, &#39;No&#39;, &#39;Yes&#39;, &#39;No&#39;, &#39;Yes&#39;, &#39;No&#39;, &#39;Yes&#39;, &#39;No&#39;, &#39;Yes&#39;, &#39;No&#39;,\n&quot;,</div><div class='line' id='LC1358'>&nbsp;&nbsp;&nbsp;&nbsp;&nbsp;&nbsp;&nbsp;&nbsp;&quot;       &#39;Yes&#39;, &#39;No&#39;, &#39;Yes&#39;, &#39;No&#39;, &#39;Yes&#39;], \n&quot;,</div><div class='line' id='LC1359'>&nbsp;&nbsp;&nbsp;&nbsp;&nbsp;&nbsp;&nbsp;&nbsp;&quot;      dtype=&#39;|S3&#39;)&quot;</div><div class='line' id='LC1360'>&nbsp;&nbsp;&nbsp;&nbsp;&nbsp;&nbsp;&nbsp;]</div><div class='line' id='LC1361'>&nbsp;&nbsp;&nbsp;&nbsp;&nbsp;&nbsp;}</div><div class='line' id='LC1362'>&nbsp;&nbsp;&nbsp;&nbsp;&nbsp;],</div><div class='line' id='LC1363'>&nbsp;&nbsp;&nbsp;&nbsp;&nbsp;&quot;prompt_number&quot;: 37</div><div class='line' id='LC1364'>&nbsp;&nbsp;&nbsp;&nbsp;},</div><div class='line' id='LC1365'>&nbsp;&nbsp;&nbsp;&nbsp;{</div><div class='line' id='LC1366'>&nbsp;&nbsp;&nbsp;&nbsp;&nbsp;&quot;cell_type&quot;: &quot;markdown&quot;,</div><div class='line' id='LC1367'>&nbsp;&nbsp;&nbsp;&nbsp;&nbsp;&quot;metadata&quot;: {},</div><div class='line' id='LC1368'>&nbsp;&nbsp;&nbsp;&nbsp;&nbsp;&quot;source&quot;: [</div><div class='line' id='LC1369'>&nbsp;&nbsp;&nbsp;&nbsp;&nbsp;&nbsp;&quot;To model both these factors independently:&quot;</div><div class='line' id='LC1370'>&nbsp;&nbsp;&nbsp;&nbsp;&nbsp;]</div><div class='line' id='LC1371'>&nbsp;&nbsp;&nbsp;&nbsp;},</div><div class='line' id='LC1372'>&nbsp;&nbsp;&nbsp;&nbsp;{</div><div class='line' id='LC1373'>&nbsp;&nbsp;&nbsp;&nbsp;&nbsp;&quot;cell_type&quot;: &quot;code&quot;,</div><div class='line' id='LC1374'>&nbsp;&nbsp;&nbsp;&nbsp;&nbsp;&quot;collapsed&quot;: false,</div><div class='line' id='LC1375'>&nbsp;&nbsp;&nbsp;&nbsp;&nbsp;&quot;input&quot;: [</div><div class='line' id='LC1376'>&nbsp;&nbsp;&nbsp;&nbsp;&nbsp;&nbsp;&quot;%%R -i awesome\n&quot;,</div><div class='line' id='LC1377'>&nbsp;&nbsp;&nbsp;&nbsp;&nbsp;&nbsp;&quot;awesome = factor(awesome)\n&quot;,</div><div class='line' id='LC1378'>&nbsp;&nbsp;&nbsp;&nbsp;&nbsp;&nbsp;&quot;print(model.matrix(~ nationality + awesome))&quot;</div><div class='line' id='LC1379'>&nbsp;&nbsp;&nbsp;&nbsp;&nbsp;],</div><div class='line' id='LC1380'>&nbsp;&nbsp;&nbsp;&nbsp;&nbsp;&quot;language&quot;: &quot;python&quot;,</div><div class='line' id='LC1381'>&nbsp;&nbsp;&nbsp;&nbsp;&nbsp;&quot;metadata&quot;: {},</div><div class='line' id='LC1382'>&nbsp;&nbsp;&nbsp;&nbsp;&nbsp;&quot;outputs&quot;: [</div><div class='line' id='LC1383'>&nbsp;&nbsp;&nbsp;&nbsp;&nbsp;&nbsp;{</div><div class='line' id='LC1384'>&nbsp;&nbsp;&nbsp;&nbsp;&nbsp;&nbsp;&nbsp;&quot;output_type&quot;: &quot;display_data&quot;,</div><div class='line' id='LC1385'>&nbsp;&nbsp;&nbsp;&nbsp;&nbsp;&nbsp;&nbsp;&quot;text&quot;: [</div><div class='line' id='LC1386'>&nbsp;&nbsp;&nbsp;&nbsp;&nbsp;&nbsp;&nbsp;&nbsp;&quot;   (Intercept) nationalityUK nationalityUSA awesomeYes\n&quot;,</div><div class='line' id='LC1387'>&nbsp;&nbsp;&nbsp;&nbsp;&nbsp;&nbsp;&nbsp;&nbsp;&quot;1            1             0              1          1\n&quot;,</div><div class='line' id='LC1388'>&nbsp;&nbsp;&nbsp;&nbsp;&nbsp;&nbsp;&nbsp;&nbsp;&quot;2            1             0              1          0\n&quot;,</div><div class='line' id='LC1389'>&nbsp;&nbsp;&nbsp;&nbsp;&nbsp;&nbsp;&nbsp;&nbsp;&quot;3            1             0              1          1\n&quot;,</div><div class='line' id='LC1390'>&nbsp;&nbsp;&nbsp;&nbsp;&nbsp;&nbsp;&nbsp;&nbsp;&quot;4            1             0              1          0\n&quot;,</div><div class='line' id='LC1391'>&nbsp;&nbsp;&nbsp;&nbsp;&nbsp;&nbsp;&nbsp;&nbsp;&quot;5            1             0              1          1\n&quot;,</div><div class='line' id='LC1392'>&nbsp;&nbsp;&nbsp;&nbsp;&nbsp;&nbsp;&nbsp;&nbsp;&quot;6            1             1              0          0\n&quot;,</div><div class='line' id='LC1393'>&nbsp;&nbsp;&nbsp;&nbsp;&nbsp;&nbsp;&nbsp;&nbsp;&quot;7            1             1              0          1\n&quot;,</div><div class='line' id='LC1394'>&nbsp;&nbsp;&nbsp;&nbsp;&nbsp;&nbsp;&nbsp;&nbsp;&quot;8            1             1              0          0\n&quot;,</div><div class='line' id='LC1395'>&nbsp;&nbsp;&nbsp;&nbsp;&nbsp;&nbsp;&nbsp;&nbsp;&quot;9            1             1              0          1\n&quot;,</div><div class='line' id='LC1396'>&nbsp;&nbsp;&nbsp;&nbsp;&nbsp;&nbsp;&nbsp;&nbsp;&quot;10           1             1              0          0\n&quot;,</div><div class='line' id='LC1397'>&nbsp;&nbsp;&nbsp;&nbsp;&nbsp;&nbsp;&nbsp;&nbsp;&quot;11           1             0              0          1\n&quot;,</div><div class='line' id='LC1398'>&nbsp;&nbsp;&nbsp;&nbsp;&nbsp;&nbsp;&nbsp;&nbsp;&quot;12           1             0              0          0\n&quot;,</div><div class='line' id='LC1399'>&nbsp;&nbsp;&nbsp;&nbsp;&nbsp;&nbsp;&nbsp;&nbsp;&quot;13           1             0              0          1\n&quot;,</div><div class='line' id='LC1400'>&nbsp;&nbsp;&nbsp;&nbsp;&nbsp;&nbsp;&nbsp;&nbsp;&quot;14           1             0              0          0\n&quot;,</div><div class='line' id='LC1401'>&nbsp;&nbsp;&nbsp;&nbsp;&nbsp;&nbsp;&nbsp;&nbsp;&quot;15           1             0              0          1\n&quot;,</div><div class='line' id='LC1402'>&nbsp;&nbsp;&nbsp;&nbsp;&nbsp;&nbsp;&nbsp;&nbsp;&quot;attr(,\&quot;assign\&quot;)\n&quot;,</div><div class='line' id='LC1403'>&nbsp;&nbsp;&nbsp;&nbsp;&nbsp;&nbsp;&nbsp;&nbsp;&quot;[1] 0 1 1 2\n&quot;,</div><div class='line' id='LC1404'>&nbsp;&nbsp;&nbsp;&nbsp;&nbsp;&nbsp;&nbsp;&nbsp;&quot;attr(,\&quot;contrasts\&quot;)\n&quot;,</div><div class='line' id='LC1405'>&nbsp;&nbsp;&nbsp;&nbsp;&nbsp;&nbsp;&nbsp;&nbsp;&quot;attr(,\&quot;contrasts\&quot;)$nationality\n&quot;,</div><div class='line' id='LC1406'>&nbsp;&nbsp;&nbsp;&nbsp;&nbsp;&nbsp;&nbsp;&nbsp;&quot;[1] \&quot;contr.treatment\&quot;\n&quot;,</div><div class='line' id='LC1407'>&nbsp;&nbsp;&nbsp;&nbsp;&nbsp;&nbsp;&nbsp;&nbsp;&quot;\n&quot;,</div><div class='line' id='LC1408'>&nbsp;&nbsp;&nbsp;&nbsp;&nbsp;&nbsp;&nbsp;&nbsp;&quot;attr(,\&quot;contrasts\&quot;)$awesome\n&quot;,</div><div class='line' id='LC1409'>&nbsp;&nbsp;&nbsp;&nbsp;&nbsp;&nbsp;&nbsp;&nbsp;&quot;[1] \&quot;contr.treatment\&quot;\n&quot;,</div><div class='line' id='LC1410'>&nbsp;&nbsp;&nbsp;&nbsp;&nbsp;&nbsp;&nbsp;&nbsp;&quot;\n&quot;</div><div class='line' id='LC1411'>&nbsp;&nbsp;&nbsp;&nbsp;&nbsp;&nbsp;&nbsp;]</div><div class='line' id='LC1412'>&nbsp;&nbsp;&nbsp;&nbsp;&nbsp;&nbsp;}</div><div class='line' id='LC1413'>&nbsp;&nbsp;&nbsp;&nbsp;&nbsp;],</div><div class='line' id='LC1414'>&nbsp;&nbsp;&nbsp;&nbsp;&nbsp;&quot;prompt_number&quot;: 38</div><div class='line' id='LC1415'>&nbsp;&nbsp;&nbsp;&nbsp;},</div><div class='line' id='LC1416'>&nbsp;&nbsp;&nbsp;&nbsp;{</div><div class='line' id='LC1417'>&nbsp;&nbsp;&nbsp;&nbsp;&nbsp;&quot;cell_type&quot;: &quot;markdown&quot;,</div><div class='line' id='LC1418'>&nbsp;&nbsp;&nbsp;&nbsp;&nbsp;&quot;metadata&quot;: {},</div><div class='line' id='LC1419'>&nbsp;&nbsp;&nbsp;&nbsp;&nbsp;&quot;source&quot;: [</div><div class='line' id='LC1420'>&nbsp;&nbsp;&nbsp;&nbsp;&nbsp;&nbsp;&quot;Notice that both `nationality` and `awesome` have \&quot;treatment\&quot; contrast coding, and that for `awesome` this gives just one column corresponding to the difference between \&quot;no treatment\&quot; == first level after alphabetical sort == \&quot;No\&quot;, and \&quot;treatment\&quot; == second level == \&quot;Yes\&quot;.&quot;</div><div class='line' id='LC1421'>&nbsp;&nbsp;&nbsp;&nbsp;&nbsp;]</div><div class='line' id='LC1422'>&nbsp;&nbsp;&nbsp;&nbsp;},</div><div class='line' id='LC1423'>&nbsp;&nbsp;&nbsp;&nbsp;{</div><div class='line' id='LC1424'>&nbsp;&nbsp;&nbsp;&nbsp;&nbsp;&quot;cell_type&quot;: &quot;markdown&quot;,</div><div class='line' id='LC1425'>&nbsp;&nbsp;&nbsp;&nbsp;&nbsp;&quot;metadata&quot;: {},</div><div class='line' id='LC1426'>&nbsp;&nbsp;&nbsp;&nbsp;&nbsp;&quot;source&quot;: [</div><div class='line' id='LC1427'>&nbsp;&nbsp;&nbsp;&nbsp;&nbsp;&nbsp;&quot;This allows us to model the effect of `nationality`, and the effect of `awesome`, but what if the effect of `awesome` is different depending on what nationality you are?  Maybe if you are from the \&quot;UK\&quot;, you get cited all the time, even though you are not awesome.  If the effect of `awesome` differs across the levels of `nationality`, then there is said to be an \&quot;interaction\&quot; between `awesome` and `nationality`.\n&quot;,</div><div class='line' id='LC1428'>&nbsp;&nbsp;&nbsp;&nbsp;&nbsp;&nbsp;&quot;\n&quot;,</div><div class='line' id='LC1429'>&nbsp;&nbsp;&nbsp;&nbsp;&nbsp;&nbsp;&quot;In order to be able to model any such interaction, we can do the classic analysis of variance trick of breaking up the data into cells defined by every combination of `nationality` and `awesome`:\n&quot;,</div><div class='line' id='LC1430'>&nbsp;&nbsp;&nbsp;&nbsp;&nbsp;&nbsp;&quot;\n&quot;,</div><div class='line' id='LC1431'>&nbsp;&nbsp;&nbsp;&nbsp;&nbsp;&nbsp;&quot;$y_i \\approx \\alpha_{USA,Yes} \\text{ if } \\mathtt{nationality}_i \\text{ is } \\mathtt{USA} \\text{ and } \\mathtt{awesome}_i \\text{ is } \\mathtt{Yes}$\n&quot;,</div><div class='line' id='LC1432'>&nbsp;&nbsp;&nbsp;&nbsp;&nbsp;&nbsp;&quot;\n&quot;,</div><div class='line' id='LC1433'>&nbsp;&nbsp;&nbsp;&nbsp;&nbsp;&nbsp;&quot;$y_i \\approx \\alpha_{USA,No} \\text{ if } \\mathtt{nationality}_i \\text{ is } \\mathtt{USA} \\text{ and } \\mathtt{awesome}_i \\text{ is } \\mathtt{No}$\n&quot;,</div><div class='line' id='LC1434'>&nbsp;&nbsp;&nbsp;&nbsp;&nbsp;&nbsp;&quot;\n&quot;,</div><div class='line' id='LC1435'>&nbsp;&nbsp;&nbsp;&nbsp;&nbsp;&nbsp;&quot;$y_i \\approx \\alpha_{UK,Yes} \\text{ if } \\mathtt{nationality}_i \\text{ is } \\mathtt{UK} \\text{ and } \\mathtt{awesome}_i \\text{ is } \\mathtt{Yes}$\n&quot;,</div><div class='line' id='LC1436'>&nbsp;&nbsp;&nbsp;&nbsp;&nbsp;&nbsp;&quot;\n&quot;,</div><div class='line' id='LC1437'>&nbsp;&nbsp;&nbsp;&nbsp;&nbsp;&nbsp;&quot;$y_i \\approx \\alpha_{UK,No} \\text{ if } \\mathtt{nationality}_i \\text{ is } \\mathtt{UK} \\text{ and } \\mathtt{awesome}_i \\text{ is } \\mathtt{No}$\n&quot;,</div><div class='line' id='LC1438'>&nbsp;&nbsp;&nbsp;&nbsp;&nbsp;&nbsp;&quot;\n&quot;,</div><div class='line' id='LC1439'>&nbsp;&nbsp;&nbsp;&nbsp;&nbsp;&nbsp;&quot;$y_i \\approx \\alpha_{France,Yes} \\text{ if } \\mathtt{nationality}_i \\text{ is } \\mathtt{France} \\text{ and } \\mathtt{awesome}_i \\text{ is } \\mathtt{Yes}$\n&quot;,</div><div class='line' id='LC1440'>&nbsp;&nbsp;&nbsp;&nbsp;&nbsp;&nbsp;&quot;\n&quot;,</div><div class='line' id='LC1441'>&nbsp;&nbsp;&nbsp;&nbsp;&nbsp;&nbsp;&quot;$y_i \\approx \\alpha_{France,No} \\text{ if } \\mathtt{nationality}_i \\text{ is } \\mathtt{France} \\text{ and } \\mathtt{awesome}_i \\text{ is } \\mathtt{No}$\n&quot;,</div><div class='line' id='LC1442'>&nbsp;&nbsp;&nbsp;&nbsp;&nbsp;&nbsp;&quot;\n&quot;,</div><div class='line' id='LC1443'>&nbsp;&nbsp;&nbsp;&nbsp;&nbsp;&nbsp;&quot;The indicator coding for this is:&quot;</div><div class='line' id='LC1444'>&nbsp;&nbsp;&nbsp;&nbsp;&nbsp;]</div><div class='line' id='LC1445'>&nbsp;&nbsp;&nbsp;&nbsp;},</div><div class='line' id='LC1446'>&nbsp;&nbsp;&nbsp;&nbsp;{</div><div class='line' id='LC1447'>&nbsp;&nbsp;&nbsp;&nbsp;&nbsp;&quot;cell_type&quot;: &quot;code&quot;,</div><div class='line' id='LC1448'>&nbsp;&nbsp;&nbsp;&nbsp;&nbsp;&quot;collapsed&quot;: false,</div><div class='line' id='LC1449'>&nbsp;&nbsp;&nbsp;&nbsp;&nbsp;&quot;input&quot;: [</div><div class='line' id='LC1450'>&nbsp;&nbsp;&nbsp;&nbsp;&nbsp;&nbsp;&quot;indicator_columns = []\n&quot;,</div><div class='line' id='LC1451'>&nbsp;&nbsp;&nbsp;&nbsp;&nbsp;&nbsp;&quot;for country in &#39;USA&#39;, &#39;UK&#39;, &#39;France&#39;:\n&quot;,</div><div class='line' id='LC1452'>&nbsp;&nbsp;&nbsp;&nbsp;&nbsp;&nbsp;&quot;    for quality in &#39;Yes&#39;, &#39;No&#39;:\n&quot;,</div><div class='line' id='LC1453'>&nbsp;&nbsp;&nbsp;&nbsp;&nbsp;&nbsp;&quot;        indicator_columns.append((nationality == country) &amp; (awesome == quality))\n&quot;,</div><div class='line' id='LC1454'>&nbsp;&nbsp;&nbsp;&nbsp;&nbsp;&nbsp;&quot;X = np.column_stack(indicator_columns).astype(int)\n&quot;,</div><div class='line' id='LC1455'>&nbsp;&nbsp;&nbsp;&nbsp;&nbsp;&nbsp;&quot;X&quot;</div><div class='line' id='LC1456'>&nbsp;&nbsp;&nbsp;&nbsp;&nbsp;],</div><div class='line' id='LC1457'>&nbsp;&nbsp;&nbsp;&nbsp;&nbsp;&quot;language&quot;: &quot;python&quot;,</div><div class='line' id='LC1458'>&nbsp;&nbsp;&nbsp;&nbsp;&nbsp;&quot;metadata&quot;: {},</div><div class='line' id='LC1459'>&nbsp;&nbsp;&nbsp;&nbsp;&nbsp;&quot;outputs&quot;: [</div><div class='line' id='LC1460'>&nbsp;&nbsp;&nbsp;&nbsp;&nbsp;&nbsp;{</div><div class='line' id='LC1461'>&nbsp;&nbsp;&nbsp;&nbsp;&nbsp;&nbsp;&nbsp;&quot;output_type&quot;: &quot;pyout&quot;,</div><div class='line' id='LC1462'>&nbsp;&nbsp;&nbsp;&nbsp;&nbsp;&nbsp;&nbsp;&quot;prompt_number&quot;: 39,</div><div class='line' id='LC1463'>&nbsp;&nbsp;&nbsp;&nbsp;&nbsp;&nbsp;&nbsp;&quot;text&quot;: [</div><div class='line' id='LC1464'>&nbsp;&nbsp;&nbsp;&nbsp;&nbsp;&nbsp;&nbsp;&nbsp;&quot;array([[1, 0, 0, 0, 0, 0],\n&quot;,</div><div class='line' id='LC1465'>&nbsp;&nbsp;&nbsp;&nbsp;&nbsp;&nbsp;&nbsp;&nbsp;&quot;       [0, 1, 0, 0, 0, 0],\n&quot;,</div><div class='line' id='LC1466'>&nbsp;&nbsp;&nbsp;&nbsp;&nbsp;&nbsp;&nbsp;&nbsp;&quot;       [1, 0, 0, 0, 0, 0],\n&quot;,</div><div class='line' id='LC1467'>&nbsp;&nbsp;&nbsp;&nbsp;&nbsp;&nbsp;&nbsp;&nbsp;&quot;       [0, 1, 0, 0, 0, 0],\n&quot;,</div><div class='line' id='LC1468'>&nbsp;&nbsp;&nbsp;&nbsp;&nbsp;&nbsp;&nbsp;&nbsp;&quot;       [1, 0, 0, 0, 0, 0],\n&quot;,</div><div class='line' id='LC1469'>&nbsp;&nbsp;&nbsp;&nbsp;&nbsp;&nbsp;&nbsp;&nbsp;&quot;       [0, 0, 0, 1, 0, 0],\n&quot;,</div><div class='line' id='LC1470'>&nbsp;&nbsp;&nbsp;&nbsp;&nbsp;&nbsp;&nbsp;&nbsp;&quot;       [0, 0, 1, 0, 0, 0],\n&quot;,</div><div class='line' id='LC1471'>&nbsp;&nbsp;&nbsp;&nbsp;&nbsp;&nbsp;&nbsp;&nbsp;&quot;       [0, 0, 0, 1, 0, 0],\n&quot;,</div><div class='line' id='LC1472'>&nbsp;&nbsp;&nbsp;&nbsp;&nbsp;&nbsp;&nbsp;&nbsp;&quot;       [0, 0, 1, 0, 0, 0],\n&quot;,</div><div class='line' id='LC1473'>&nbsp;&nbsp;&nbsp;&nbsp;&nbsp;&nbsp;&nbsp;&nbsp;&quot;       [0, 0, 0, 1, 0, 0],\n&quot;,</div><div class='line' id='LC1474'>&nbsp;&nbsp;&nbsp;&nbsp;&nbsp;&nbsp;&nbsp;&nbsp;&quot;       [0, 0, 0, 0, 1, 0],\n&quot;,</div><div class='line' id='LC1475'>&nbsp;&nbsp;&nbsp;&nbsp;&nbsp;&nbsp;&nbsp;&nbsp;&quot;       [0, 0, 0, 0, 0, 1],\n&quot;,</div><div class='line' id='LC1476'>&nbsp;&nbsp;&nbsp;&nbsp;&nbsp;&nbsp;&nbsp;&nbsp;&quot;       [0, 0, 0, 0, 1, 0],\n&quot;,</div><div class='line' id='LC1477'>&nbsp;&nbsp;&nbsp;&nbsp;&nbsp;&nbsp;&nbsp;&nbsp;&quot;       [0, 0, 0, 0, 0, 1],\n&quot;,</div><div class='line' id='LC1478'>&nbsp;&nbsp;&nbsp;&nbsp;&nbsp;&nbsp;&nbsp;&nbsp;&quot;       [0, 0, 0, 0, 1, 0]])&quot;</div><div class='line' id='LC1479'>&nbsp;&nbsp;&nbsp;&nbsp;&nbsp;&nbsp;&nbsp;]</div><div class='line' id='LC1480'>&nbsp;&nbsp;&nbsp;&nbsp;&nbsp;&nbsp;}</div><div class='line' id='LC1481'>&nbsp;&nbsp;&nbsp;&nbsp;&nbsp;],</div><div class='line' id='LC1482'>&nbsp;&nbsp;&nbsp;&nbsp;&nbsp;&quot;prompt_number&quot;: 39</div><div class='line' id='LC1483'>&nbsp;&nbsp;&nbsp;&nbsp;},</div><div class='line' id='LC1484'>&nbsp;&nbsp;&nbsp;&nbsp;{</div><div class='line' id='LC1485'>&nbsp;&nbsp;&nbsp;&nbsp;&nbsp;&quot;cell_type&quot;: &quot;markdown&quot;,</div><div class='line' id='LC1486'>&nbsp;&nbsp;&nbsp;&nbsp;&nbsp;&quot;metadata&quot;: {},</div><div class='line' id='LC1487'>&nbsp;&nbsp;&nbsp;&nbsp;&nbsp;&quot;source&quot;: [</div><div class='line' id='LC1488'>&nbsp;&nbsp;&nbsp;&nbsp;&nbsp;&nbsp;&quot;This can be a little easier to grasp in an image of the design matrix.  Here black corresponds to 0 and white to 1:&quot;</div><div class='line' id='LC1489'>&nbsp;&nbsp;&nbsp;&nbsp;&nbsp;]</div><div class='line' id='LC1490'>&nbsp;&nbsp;&nbsp;&nbsp;},</div><div class='line' id='LC1491'>&nbsp;&nbsp;&nbsp;&nbsp;{</div><div class='line' id='LC1492'>&nbsp;&nbsp;&nbsp;&nbsp;&nbsp;&quot;cell_type&quot;: &quot;code&quot;,</div><div class='line' id='LC1493'>&nbsp;&nbsp;&nbsp;&nbsp;&nbsp;&quot;collapsed&quot;: false,</div><div class='line' id='LC1494'>&nbsp;&nbsp;&nbsp;&nbsp;&nbsp;&quot;input&quot;: [</div><div class='line' id='LC1495'>&nbsp;&nbsp;&nbsp;&nbsp;&nbsp;&nbsp;&quot;show_x(X, &#39;Interaction of nationality and awesome&#39;)&quot;</div><div class='line' id='LC1496'>&nbsp;&nbsp;&nbsp;&nbsp;&nbsp;],</div><div class='line' id='LC1497'>&nbsp;&nbsp;&nbsp;&nbsp;&nbsp;&quot;language&quot;: &quot;python&quot;,</div><div class='line' id='LC1498'>&nbsp;&nbsp;&nbsp;&nbsp;&nbsp;&quot;metadata&quot;: {},</div><div class='line' id='LC1499'>&nbsp;&nbsp;&nbsp;&nbsp;&nbsp;&quot;outputs&quot;: [</div><div class='line' id='LC1500'>&nbsp;&nbsp;&nbsp;&nbsp;&nbsp;&nbsp;{</div><div class='line' id='LC1501'>&nbsp;&nbsp;&nbsp;&nbsp;&nbsp;&nbsp;&nbsp;&quot;output_type&quot;: &quot;display_data&quot;,</div><div class='line' id='LC1502'>&nbsp;&nbsp;&nbsp;&nbsp;&nbsp;&nbsp;&nbsp;&quot;png&quot;: &quot;iVBORw0KGgoAAAANSUhEUgAAAPoAAAEICAYAAAB2wembAAAABHNCSVQICAgIfAhkiAAAAAlwSFlz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\nm2eqBwE8uXgAAAAASUVORK5CYII=\n&quot;</div><div class='line' id='LC1503'>&nbsp;&nbsp;&nbsp;&nbsp;&nbsp;&nbsp;}</div><div class='line' id='LC1504'>&nbsp;&nbsp;&nbsp;&nbsp;&nbsp;],</div><div class='line' id='LC1505'>&nbsp;&nbsp;&nbsp;&nbsp;&nbsp;&quot;prompt_number&quot;: 40</div><div class='line' id='LC1506'>&nbsp;&nbsp;&nbsp;&nbsp;},</div><div class='line' id='LC1507'>&nbsp;&nbsp;&nbsp;&nbsp;{</div><div class='line' id='LC1508'>&nbsp;&nbsp;&nbsp;&nbsp;&nbsp;&quot;cell_type&quot;: &quot;markdown&quot;,</div><div class='line' id='LC1509'>&nbsp;&nbsp;&nbsp;&nbsp;&nbsp;&quot;metadata&quot;: {},</div><div class='line' id='LC1510'>&nbsp;&nbsp;&nbsp;&nbsp;&nbsp;&quot;source&quot;: [</div><div class='line' id='LC1511'>&nbsp;&nbsp;&nbsp;&nbsp;&nbsp;&nbsp;&quot;These columns are also the element-wise products of the indicator columns for each pair of (`nationality`, `awesome`):&quot;</div><div class='line' id='LC1512'>&nbsp;&nbsp;&nbsp;&nbsp;&nbsp;]</div><div class='line' id='LC1513'>&nbsp;&nbsp;&nbsp;&nbsp;},</div><div class='line' id='LC1514'>&nbsp;&nbsp;&nbsp;&nbsp;{</div><div class='line' id='LC1515'>&nbsp;&nbsp;&nbsp;&nbsp;&nbsp;&quot;cell_type&quot;: &quot;code&quot;,</div><div class='line' id='LC1516'>&nbsp;&nbsp;&nbsp;&nbsp;&nbsp;&quot;collapsed&quot;: false,</div><div class='line' id='LC1517'>&nbsp;&nbsp;&nbsp;&nbsp;&nbsp;&quot;input&quot;: [</div><div class='line' id='LC1518'>&nbsp;&nbsp;&nbsp;&nbsp;&nbsp;&nbsp;&quot;nat_cols = []\n&quot;,</div><div class='line' id='LC1519'>&nbsp;&nbsp;&nbsp;&nbsp;&nbsp;&nbsp;&quot;for country in &#39;USA&#39;, &#39;UK&#39;, &#39;France&#39;:\n&quot;,</div><div class='line' id='LC1520'>&nbsp;&nbsp;&nbsp;&nbsp;&nbsp;&nbsp;&quot;    nat_cols.append(nationality == country)\n&quot;,</div><div class='line' id='LC1521'>&nbsp;&nbsp;&nbsp;&nbsp;&nbsp;&nbsp;&quot;awe_cols = []\n&quot;,</div><div class='line' id='LC1522'>&nbsp;&nbsp;&nbsp;&nbsp;&nbsp;&nbsp;&quot;for quality in &#39;Yes&#39;, &#39;No&#39;:\n&quot;,</div><div class='line' id='LC1523'>&nbsp;&nbsp;&nbsp;&nbsp;&nbsp;&nbsp;&quot;    awe_cols.append(awesome == quality)\n&quot;,</div><div class='line' id='LC1524'>&nbsp;&nbsp;&nbsp;&nbsp;&nbsp;&nbsp;&quot;all_cols = []\n&quot;,</div><div class='line' id='LC1525'>&nbsp;&nbsp;&nbsp;&nbsp;&nbsp;&nbsp;&quot;for nat_col in nat_cols:\n&quot;,</div><div class='line' id='LC1526'>&nbsp;&nbsp;&nbsp;&nbsp;&nbsp;&nbsp;&quot;    for awe_col in awe_cols:\n&quot;,</div><div class='line' id='LC1527'>&nbsp;&nbsp;&nbsp;&nbsp;&nbsp;&nbsp;&quot;        all_cols.append(nat_col * awe_col)\n&quot;,</div><div class='line' id='LC1528'>&nbsp;&nbsp;&nbsp;&nbsp;&nbsp;&nbsp;&quot;X_again = np.column_stack(all_cols).astype(int)\n&quot;,</div><div class='line' id='LC1529'>&nbsp;&nbsp;&nbsp;&nbsp;&nbsp;&nbsp;&quot;show_x(X_again, &#39;Interaction by product of indicator columns&#39;)&quot;</div><div class='line' id='LC1530'>&nbsp;&nbsp;&nbsp;&nbsp;&nbsp;],</div><div class='line' id='LC1531'>&nbsp;&nbsp;&nbsp;&nbsp;&nbsp;&quot;language&quot;: &quot;python&quot;,</div><div class='line' id='LC1532'>&nbsp;&nbsp;&nbsp;&nbsp;&nbsp;&quot;metadata&quot;: {},</div><div class='line' id='LC1533'>&nbsp;&nbsp;&nbsp;&nbsp;&nbsp;&quot;outputs&quot;: [</div><div class='line' id='LC1534'>&nbsp;&nbsp;&nbsp;&nbsp;&nbsp;&nbsp;{</div><div class='line' id='LC1535'>&nbsp;&nbsp;&nbsp;&nbsp;&nbsp;&nbsp;&nbsp;&quot;output_type&quot;: &quot;display_data&quot;,</div><div class='line' id='LC1536'>&nbsp;&nbsp;&nbsp;&nbsp;&nbsp;&nbsp;&nbsp;&quot;png&quot;: &quot;iVBORw0KGgoAAAANSUhEUgAAARIAAAEICAYAAACTenveAAAABHNCSVQICAgIfAhkiAAAAAlwSFlz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\nf/NjqQEPRsgYAAAAAElFTkSuQmCC\n&quot;</div><div class='line' id='LC1537'>&nbsp;&nbsp;&nbsp;&nbsp;&nbsp;&nbsp;}</div><div class='line' id='LC1538'>&nbsp;&nbsp;&nbsp;&nbsp;&nbsp;],</div><div class='line' id='LC1539'>&nbsp;&nbsp;&nbsp;&nbsp;&nbsp;&quot;prompt_number&quot;: 41</div><div class='line' id='LC1540'>&nbsp;&nbsp;&nbsp;&nbsp;},</div><div class='line' id='LC1541'>&nbsp;&nbsp;&nbsp;&nbsp;{</div><div class='line' id='LC1542'>&nbsp;&nbsp;&nbsp;&nbsp;&nbsp;&quot;cell_type&quot;: &quot;markdown&quot;,</div><div class='line' id='LC1543'>&nbsp;&nbsp;&nbsp;&nbsp;&nbsp;&quot;metadata&quot;: {},</div><div class='line' id='LC1544'>&nbsp;&nbsp;&nbsp;&nbsp;&nbsp;&quot;source&quot;: [</div><div class='line' id='LC1545'>&nbsp;&nbsp;&nbsp;&nbsp;&nbsp;&nbsp;&quot;R formulae represent an interaction with the colon `:`.  We can make R give us this same coding, if we ask for the interaction, and to have no intercept. The columns will be permuted because R orders the factor levels alphabetically.&quot;</div><div class='line' id='LC1546'>&nbsp;&nbsp;&nbsp;&nbsp;&nbsp;]</div><div class='line' id='LC1547'>&nbsp;&nbsp;&nbsp;&nbsp;},</div><div class='line' id='LC1548'>&nbsp;&nbsp;&nbsp;&nbsp;{</div><div class='line' id='LC1549'>&nbsp;&nbsp;&nbsp;&nbsp;&nbsp;&quot;cell_type&quot;: &quot;code&quot;,</div><div class='line' id='LC1550'>&nbsp;&nbsp;&nbsp;&nbsp;&nbsp;&quot;collapsed&quot;: false,</div><div class='line' id='LC1551'>&nbsp;&nbsp;&nbsp;&nbsp;&nbsp;&quot;input&quot;: [</div><div class='line' id='LC1552'>&nbsp;&nbsp;&nbsp;&nbsp;&nbsp;&nbsp;&quot;X_r = %R model.matrix(~ awesome:nationality-1)\n&quot;,</div><div class='line' id='LC1553'>&nbsp;&nbsp;&nbsp;&nbsp;&nbsp;&nbsp;&quot;show_x(X_r, &#39;R interaction using indicator coding&#39;)&quot;</div><div class='line' id='LC1554'>&nbsp;&nbsp;&nbsp;&nbsp;&nbsp;],</div><div class='line' id='LC1555'>&nbsp;&nbsp;&nbsp;&nbsp;&nbsp;&quot;language&quot;: &quot;python&quot;,</div><div class='line' id='LC1556'>&nbsp;&nbsp;&nbsp;&nbsp;&nbsp;&quot;metadata&quot;: {},</div><div class='line' id='LC1557'>&nbsp;&nbsp;&nbsp;&nbsp;&nbsp;&quot;outputs&quot;: [</div><div class='line' id='LC1558'>&nbsp;&nbsp;&nbsp;&nbsp;&nbsp;&nbsp;{</div><div class='line' id='LC1559'>&nbsp;&nbsp;&nbsp;&nbsp;&nbsp;&nbsp;&nbsp;&quot;output_type&quot;: &quot;display_data&quot;,</div><div class='line' id='LC1560'>&nbsp;&nbsp;&nbsp;&nbsp;&nbsp;&nbsp;&nbsp;&quot;png&quot;: &quot;iVBORw0KGgoAAAANSUhEUgAAAOMAAAEICAYAAACtekO5AAAABHNCSVQICAgIfAhkiAAAAAlwSFlz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\nEini/wHG2H8faAzvSQAAAABJRU5ErkJggg==\n&quot;</div><div class='line' id='LC1561'>&nbsp;&nbsp;&nbsp;&nbsp;&nbsp;&nbsp;}</div><div class='line' id='LC1562'>&nbsp;&nbsp;&nbsp;&nbsp;&nbsp;],</div><div class='line' id='LC1563'>&nbsp;&nbsp;&nbsp;&nbsp;&nbsp;&quot;prompt_number&quot;: 42</div><div class='line' id='LC1564'>&nbsp;&nbsp;&nbsp;&nbsp;},</div><div class='line' id='LC1565'>&nbsp;&nbsp;&nbsp;&nbsp;{</div><div class='line' id='LC1566'>&nbsp;&nbsp;&nbsp;&nbsp;&nbsp;&quot;cell_type&quot;: &quot;markdown&quot;,</div><div class='line' id='LC1567'>&nbsp;&nbsp;&nbsp;&nbsp;&nbsp;&quot;metadata&quot;: {},</div><div class='line' id='LC1568'>&nbsp;&nbsp;&nbsp;&nbsp;&nbsp;&quot;source&quot;: [</div><div class='line' id='LC1569'>&nbsp;&nbsp;&nbsp;&nbsp;&nbsp;&nbsp;&quot;Back to column spaces.  The first two columns of X add up to the indicator column for the first country. So, for R&#39;s design, the first two columns add up to the indicator coding for &#39;France&#39;.&quot;</div><div class='line' id='LC1570'>&nbsp;&nbsp;&nbsp;&nbsp;&nbsp;]</div><div class='line' id='LC1571'>&nbsp;&nbsp;&nbsp;&nbsp;},</div><div class='line' id='LC1572'>&nbsp;&nbsp;&nbsp;&nbsp;{</div><div class='line' id='LC1573'>&nbsp;&nbsp;&nbsp;&nbsp;&nbsp;&quot;cell_type&quot;: &quot;code&quot;,</div><div class='line' id='LC1574'>&nbsp;&nbsp;&nbsp;&nbsp;&nbsp;&quot;collapsed&quot;: false,</div><div class='line' id='LC1575'>&nbsp;&nbsp;&nbsp;&nbsp;&nbsp;&quot;input&quot;: [</div><div class='line' id='LC1576'>&nbsp;&nbsp;&nbsp;&nbsp;&nbsp;&nbsp;&quot;X_nations = %R model.matrix(~ nationality-1)\n&quot;,</div><div class='line' id='LC1577'>&nbsp;&nbsp;&nbsp;&nbsp;&nbsp;&nbsp;&quot;X_nations[:, 0] == X_r[:, 0] + X_r[:, 1]&quot;</div><div class='line' id='LC1578'>&nbsp;&nbsp;&nbsp;&nbsp;&nbsp;],</div><div class='line' id='LC1579'>&nbsp;&nbsp;&nbsp;&nbsp;&nbsp;&quot;language&quot;: &quot;python&quot;,</div><div class='line' id='LC1580'>&nbsp;&nbsp;&nbsp;&nbsp;&nbsp;&quot;metadata&quot;: {},</div><div class='line' id='LC1581'>&nbsp;&nbsp;&nbsp;&nbsp;&nbsp;&quot;outputs&quot;: [</div><div class='line' id='LC1582'>&nbsp;&nbsp;&nbsp;&nbsp;&nbsp;&nbsp;{</div><div class='line' id='LC1583'>&nbsp;&nbsp;&nbsp;&nbsp;&nbsp;&nbsp;&nbsp;&quot;output_type&quot;: &quot;pyout&quot;,</div><div class='line' id='LC1584'>&nbsp;&nbsp;&nbsp;&nbsp;&nbsp;&nbsp;&nbsp;&quot;prompt_number&quot;: 43,</div><div class='line' id='LC1585'>&nbsp;&nbsp;&nbsp;&nbsp;&nbsp;&nbsp;&nbsp;&quot;text&quot;: [</div><div class='line' id='LC1586'>&nbsp;&nbsp;&nbsp;&nbsp;&nbsp;&nbsp;&nbsp;&nbsp;&quot;array([ True,  True,  True,  True,  True,  True,  True,  True,  True,\n&quot;,</div><div class='line' id='LC1587'>&nbsp;&nbsp;&nbsp;&nbsp;&nbsp;&nbsp;&nbsp;&nbsp;&quot;        True,  True,  True,  True,  True,  True], dtype=bool)&quot;</div><div class='line' id='LC1588'>&nbsp;&nbsp;&nbsp;&nbsp;&nbsp;&nbsp;&nbsp;]</div><div class='line' id='LC1589'>&nbsp;&nbsp;&nbsp;&nbsp;&nbsp;&nbsp;}</div><div class='line' id='LC1590'>&nbsp;&nbsp;&nbsp;&nbsp;&nbsp;],</div><div class='line' id='LC1591'>&nbsp;&nbsp;&nbsp;&nbsp;&nbsp;&quot;prompt_number&quot;: 43</div><div class='line' id='LC1592'>&nbsp;&nbsp;&nbsp;&nbsp;},</div><div class='line' id='LC1593'>&nbsp;&nbsp;&nbsp;&nbsp;{</div><div class='line' id='LC1594'>&nbsp;&nbsp;&nbsp;&nbsp;&nbsp;&quot;cell_type&quot;: &quot;markdown&quot;,</div><div class='line' id='LC1595'>&nbsp;&nbsp;&nbsp;&nbsp;&nbsp;&quot;metadata&quot;: {},</div><div class='line' id='LC1596'>&nbsp;&nbsp;&nbsp;&nbsp;&nbsp;&quot;source&quot;: [</div><div class='line' id='LC1597'>&nbsp;&nbsp;&nbsp;&nbsp;&nbsp;&nbsp;&quot;Similarly, the first, third and fifth columns add up to the indicator coding for \&quot;No\&quot;:&quot;</div><div class='line' id='LC1598'>&nbsp;&nbsp;&nbsp;&nbsp;&nbsp;]</div><div class='line' id='LC1599'>&nbsp;&nbsp;&nbsp;&nbsp;},</div><div class='line' id='LC1600'>&nbsp;&nbsp;&nbsp;&nbsp;{</div><div class='line' id='LC1601'>&nbsp;&nbsp;&nbsp;&nbsp;&nbsp;&quot;cell_type&quot;: &quot;code&quot;,</div><div class='line' id='LC1602'>&nbsp;&nbsp;&nbsp;&nbsp;&nbsp;&quot;collapsed&quot;: false,</div><div class='line' id='LC1603'>&nbsp;&nbsp;&nbsp;&nbsp;&nbsp;&quot;input&quot;: [</div><div class='line' id='LC1604'>&nbsp;&nbsp;&nbsp;&nbsp;&nbsp;&nbsp;&quot;X_awesome = %R model.matrix(~ awesome-1)\n&quot;,</div><div class='line' id='LC1605'>&nbsp;&nbsp;&nbsp;&nbsp;&nbsp;&nbsp;&quot;X_awesome[:, 0] == np.sum(X_r[:, (0, 2, 4)], axis=1)&quot;</div><div class='line' id='LC1606'>&nbsp;&nbsp;&nbsp;&nbsp;&nbsp;],</div><div class='line' id='LC1607'>&nbsp;&nbsp;&nbsp;&nbsp;&nbsp;&quot;language&quot;: &quot;python&quot;,</div><div class='line' id='LC1608'>&nbsp;&nbsp;&nbsp;&nbsp;&nbsp;&quot;metadata&quot;: {},</div><div class='line' id='LC1609'>&nbsp;&nbsp;&nbsp;&nbsp;&nbsp;&quot;outputs&quot;: [</div><div class='line' id='LC1610'>&nbsp;&nbsp;&nbsp;&nbsp;&nbsp;&nbsp;{</div><div class='line' id='LC1611'>&nbsp;&nbsp;&nbsp;&nbsp;&nbsp;&nbsp;&nbsp;&quot;output_type&quot;: &quot;pyout&quot;,</div><div class='line' id='LC1612'>&nbsp;&nbsp;&nbsp;&nbsp;&nbsp;&nbsp;&nbsp;&quot;prompt_number&quot;: 44,</div><div class='line' id='LC1613'>&nbsp;&nbsp;&nbsp;&nbsp;&nbsp;&nbsp;&nbsp;&quot;text&quot;: [</div><div class='line' id='LC1614'>&nbsp;&nbsp;&nbsp;&nbsp;&nbsp;&nbsp;&nbsp;&nbsp;&quot;array([ True,  True,  True,  True,  True,  True,  True,  True,  True,\n&quot;,</div><div class='line' id='LC1615'>&nbsp;&nbsp;&nbsp;&nbsp;&nbsp;&nbsp;&nbsp;&nbsp;&quot;        True,  True,  True,  True,  True,  True], dtype=bool)&quot;</div><div class='line' id='LC1616'>&nbsp;&nbsp;&nbsp;&nbsp;&nbsp;&nbsp;&nbsp;]</div><div class='line' id='LC1617'>&nbsp;&nbsp;&nbsp;&nbsp;&nbsp;&nbsp;}</div><div class='line' id='LC1618'>&nbsp;&nbsp;&nbsp;&nbsp;&nbsp;],</div><div class='line' id='LC1619'>&nbsp;&nbsp;&nbsp;&nbsp;&nbsp;&quot;prompt_number&quot;: 44</div><div class='line' id='LC1620'>&nbsp;&nbsp;&nbsp;&nbsp;},</div><div class='line' id='LC1621'>&nbsp;&nbsp;&nbsp;&nbsp;{</div><div class='line' id='LC1622'>&nbsp;&nbsp;&nbsp;&nbsp;&nbsp;&quot;cell_type&quot;: &quot;markdown&quot;,</div><div class='line' id='LC1623'>&nbsp;&nbsp;&nbsp;&nbsp;&nbsp;&quot;metadata&quot;: {},</div><div class='line' id='LC1624'>&nbsp;&nbsp;&nbsp;&nbsp;&nbsp;&quot;source&quot;: [</div><div class='line' id='LC1625'>&nbsp;&nbsp;&nbsp;&nbsp;&nbsp;&nbsp;&quot;So, the indicator coding for the interaction, contains the column space of the indicator coding for the individual factors.  Put another way, anything that can be fit with the model `nationality-1` and anything that can be fit by `awesome-1` can also be fit by the model `nationality:awesome-1`.  As we saw before, the column space of `nationality` is the same as the column space of `nationality-1`, as is also true of the pairs (`awesome`, `awesome-1`), (`nationality:awesome`, `nationality:awesome-1`), (`nationality + awesome`, `nationality + awsome-1`).  So, the model `nationality:awesome` contains the column space of `nationality + awesome`.&quot;</div><div class='line' id='LC1626'>&nbsp;&nbsp;&nbsp;&nbsp;&nbsp;]</div><div class='line' id='LC1627'>&nbsp;&nbsp;&nbsp;&nbsp;},</div><div class='line' id='LC1628'>&nbsp;&nbsp;&nbsp;&nbsp;{</div><div class='line' id='LC1629'>&nbsp;&nbsp;&nbsp;&nbsp;&nbsp;&quot;cell_type&quot;: &quot;heading&quot;,</div><div class='line' id='LC1630'>&nbsp;&nbsp;&nbsp;&nbsp;&nbsp;&quot;level&quot;: 2,</div><div class='line' id='LC1631'>&nbsp;&nbsp;&nbsp;&nbsp;&nbsp;&quot;metadata&quot;: {},</div><div class='line' id='LC1632'>&nbsp;&nbsp;&nbsp;&nbsp;&nbsp;&quot;source&quot;: [</div><div class='line' id='LC1633'>&nbsp;&nbsp;&nbsp;&nbsp;&nbsp;&nbsp;&quot;The intercept, main effects and interaction effects&quot;</div><div class='line' id='LC1634'>&nbsp;&nbsp;&nbsp;&nbsp;&nbsp;]</div><div class='line' id='LC1635'>&nbsp;&nbsp;&nbsp;&nbsp;},</div><div class='line' id='LC1636'>&nbsp;&nbsp;&nbsp;&nbsp;{</div><div class='line' id='LC1637'>&nbsp;&nbsp;&nbsp;&nbsp;&nbsp;&quot;cell_type&quot;: &quot;markdown&quot;,</div><div class='line' id='LC1638'>&nbsp;&nbsp;&nbsp;&nbsp;&nbsp;&quot;metadata&quot;: {},</div><div class='line' id='LC1639'>&nbsp;&nbsp;&nbsp;&nbsp;&nbsp;&quot;source&quot;: [</div><div class='line' id='LC1640'>&nbsp;&nbsp;&nbsp;&nbsp;&nbsp;&nbsp;&quot;Consider a simple model of our data `Y`, in which we have only an intercept (constant) term: $Y = \\mu$. In a model fit with ordinary least squares, $\\mu$ will be the mean of the observations `Y`.  Compare this to the model we have seen before in which each country has its own characteristic value:\n&quot;,</div><div class='line' id='LC1641'>&nbsp;&nbsp;&nbsp;&nbsp;&nbsp;&nbsp;&quot;\n&quot;,</div><div class='line' id='LC1642'>&nbsp;&nbsp;&nbsp;&nbsp;&nbsp;&nbsp;&quot;$\\begin{array}{cl}\n&quot;,</div><div class='line' id='LC1643'>&nbsp;&nbsp;&nbsp;&nbsp;&nbsp;&nbsp;&quot;y_i \\approx \\alpha_{USA} &amp; \\text{ if } \\mathtt{nationality}_i \\text{ is } \\mathtt{USA} \\cr\n&quot;,</div><div class='line' id='LC1644'>&nbsp;&nbsp;&nbsp;&nbsp;&nbsp;&nbsp;&quot;y_i \\approx \\alpha_{UK} &amp; \\text{ if } \\mathtt{nationality}_i \\text{ is } \\mathtt{UK} \\cr\n&quot;,</div><div class='line' id='LC1645'>&nbsp;&nbsp;&nbsp;&nbsp;&nbsp;&nbsp;&quot;y_i \\approx \\alpha_{France} &amp;\\text{ if } \\mathtt{nationality}_i \\text{ is } \\mathtt{France}\n&quot;,</div><div class='line' id='LC1646'>&nbsp;&nbsp;&nbsp;&nbsp;&nbsp;&nbsp;&quot;\\end{array}$\n&quot;,</div><div class='line' id='LC1647'>&nbsp;&nbsp;&nbsp;&nbsp;&nbsp;&nbsp;&quot;\n&quot;,</div><div class='line' id='LC1648'>&nbsp;&nbsp;&nbsp;&nbsp;&nbsp;&nbsp;&quot;Again, for ordinary least squares, the values $\\alpha_{USA}, \\alpha_{UK}, \\alpha_{France}$ will be the respective means of the values `Y` for authors from countries \&quot;USA\&quot;, \&quot;UK\&quot; and \&quot;France\&quot; respectively.\n&quot;,</div><div class='line' id='LC1649'>&nbsp;&nbsp;&nbsp;&nbsp;&nbsp;&nbsp;&quot;\n&quot;,</div><div class='line' id='LC1650'>&nbsp;&nbsp;&nbsp;&nbsp;&nbsp;&nbsp;&quot;The *main effect* of `nationality` is the difference between the intercept-only model $Y = \\mu$ and the second model with intercepts specific to each nationality.\n&quot;,</div><div class='line' id='LC1651'>&nbsp;&nbsp;&nbsp;&nbsp;&nbsp;&nbsp;&quot;\n&quot;,</div><div class='line' id='LC1652'>&nbsp;&nbsp;&nbsp;&nbsp;&nbsp;&nbsp;&quot;More generally, the main effect of a factor is the difference between a model that has a single intercept for all observations, compared to a model that has separate intercepts for each groups defined by the factor levels.\n&quot;,</div><div class='line' id='LC1653'>&nbsp;&nbsp;&nbsp;&nbsp;&nbsp;&nbsp;&quot;\n&quot;,</div><div class='line' id='LC1654'>&nbsp;&nbsp;&nbsp;&nbsp;&nbsp;&nbsp;&quot;Therefore, a main effect is a difference in a model caused by modeling the *differences* between the intercepts for the groups defined by the factor levels.\n&quot;,</div><div class='line' id='LC1655'>&nbsp;&nbsp;&nbsp;&nbsp;&nbsp;&nbsp;&quot;\n&quot;,</div><div class='line' id='LC1656'>&nbsp;&nbsp;&nbsp;&nbsp;&nbsp;&nbsp;&quot;We can see this distinction in the way that R constructs the design for a single factor.  We&#39;ve seen this before of course:&quot;</div><div class='line' id='LC1657'>&nbsp;&nbsp;&nbsp;&nbsp;&nbsp;]</div><div class='line' id='LC1658'>&nbsp;&nbsp;&nbsp;&nbsp;},</div><div class='line' id='LC1659'>&nbsp;&nbsp;&nbsp;&nbsp;{</div><div class='line' id='LC1660'>&nbsp;&nbsp;&nbsp;&nbsp;&nbsp;&quot;cell_type&quot;: &quot;code&quot;,</div><div class='line' id='LC1661'>&nbsp;&nbsp;&nbsp;&nbsp;&nbsp;&quot;collapsed&quot;: false,</div><div class='line' id='LC1662'>&nbsp;&nbsp;&nbsp;&nbsp;&nbsp;&quot;input&quot;: [</div><div class='line' id='LC1663'>&nbsp;&nbsp;&nbsp;&nbsp;&nbsp;&nbsp;&quot;%%R\n&quot;,</div><div class='line' id='LC1664'>&nbsp;&nbsp;&nbsp;&nbsp;&nbsp;&nbsp;&quot;fit_with_intercept = lm(Y ~ nationality)\n&quot;,</div><div class='line' id='LC1665'>&nbsp;&nbsp;&nbsp;&nbsp;&nbsp;&nbsp;&quot;print(model.matrix(fit_with_intercept))&quot;</div><div class='line' id='LC1666'>&nbsp;&nbsp;&nbsp;&nbsp;&nbsp;],</div><div class='line' id='LC1667'>&nbsp;&nbsp;&nbsp;&nbsp;&nbsp;&quot;language&quot;: &quot;python&quot;,</div><div class='line' id='LC1668'>&nbsp;&nbsp;&nbsp;&nbsp;&nbsp;&quot;metadata&quot;: {},</div><div class='line' id='LC1669'>&nbsp;&nbsp;&nbsp;&nbsp;&nbsp;&quot;outputs&quot;: [</div><div class='line' id='LC1670'>&nbsp;&nbsp;&nbsp;&nbsp;&nbsp;&nbsp;{</div><div class='line' id='LC1671'>&nbsp;&nbsp;&nbsp;&nbsp;&nbsp;&nbsp;&nbsp;&quot;output_type&quot;: &quot;display_data&quot;,</div><div class='line' id='LC1672'>&nbsp;&nbsp;&nbsp;&nbsp;&nbsp;&nbsp;&nbsp;&quot;text&quot;: [</div><div class='line' id='LC1673'>&nbsp;&nbsp;&nbsp;&nbsp;&nbsp;&nbsp;&nbsp;&nbsp;&quot;   (Intercept) nationalityUK nationalityUSA\n&quot;,</div><div class='line' id='LC1674'>&nbsp;&nbsp;&nbsp;&nbsp;&nbsp;&nbsp;&nbsp;&nbsp;&quot;1            1             0              1\n&quot;,</div><div class='line' id='LC1675'>&nbsp;&nbsp;&nbsp;&nbsp;&nbsp;&nbsp;&nbsp;&nbsp;&quot;2            1             0              1\n&quot;,</div><div class='line' id='LC1676'>&nbsp;&nbsp;&nbsp;&nbsp;&nbsp;&nbsp;&nbsp;&nbsp;&quot;3            1             0              1\n&quot;,</div><div class='line' id='LC1677'>&nbsp;&nbsp;&nbsp;&nbsp;&nbsp;&nbsp;&nbsp;&nbsp;&quot;4            1             0              1\n&quot;,</div><div class='line' id='LC1678'>&nbsp;&nbsp;&nbsp;&nbsp;&nbsp;&nbsp;&nbsp;&nbsp;&quot;5            1             0              1\n&quot;,</div><div class='line' id='LC1679'>&nbsp;&nbsp;&nbsp;&nbsp;&nbsp;&nbsp;&nbsp;&nbsp;&quot;6            1             1              0\n&quot;,</div><div class='line' id='LC1680'>&nbsp;&nbsp;&nbsp;&nbsp;&nbsp;&nbsp;&nbsp;&nbsp;&quot;7            1             1              0\n&quot;,</div><div class='line' id='LC1681'>&nbsp;&nbsp;&nbsp;&nbsp;&nbsp;&nbsp;&nbsp;&nbsp;&quot;8            1             1              0\n&quot;,</div><div class='line' id='LC1682'>&nbsp;&nbsp;&nbsp;&nbsp;&nbsp;&nbsp;&nbsp;&nbsp;&quot;9            1             1              0\n&quot;,</div><div class='line' id='LC1683'>&nbsp;&nbsp;&nbsp;&nbsp;&nbsp;&nbsp;&nbsp;&nbsp;&quot;10           1             1              0\n&quot;,</div><div class='line' id='LC1684'>&nbsp;&nbsp;&nbsp;&nbsp;&nbsp;&nbsp;&nbsp;&nbsp;&quot;11           1             0              0\n&quot;,</div><div class='line' id='LC1685'>&nbsp;&nbsp;&nbsp;&nbsp;&nbsp;&nbsp;&nbsp;&nbsp;&quot;12           1             0              0\n&quot;,</div><div class='line' id='LC1686'>&nbsp;&nbsp;&nbsp;&nbsp;&nbsp;&nbsp;&nbsp;&nbsp;&quot;13           1             0              0\n&quot;,</div><div class='line' id='LC1687'>&nbsp;&nbsp;&nbsp;&nbsp;&nbsp;&nbsp;&nbsp;&nbsp;&quot;14           1             0              0\n&quot;,</div><div class='line' id='LC1688'>&nbsp;&nbsp;&nbsp;&nbsp;&nbsp;&nbsp;&nbsp;&nbsp;&quot;15           1             0              0\n&quot;,</div><div class='line' id='LC1689'>&nbsp;&nbsp;&nbsp;&nbsp;&nbsp;&nbsp;&nbsp;&nbsp;&quot;attr(,\&quot;assign\&quot;)\n&quot;,</div><div class='line' id='LC1690'>&nbsp;&nbsp;&nbsp;&nbsp;&nbsp;&nbsp;&nbsp;&nbsp;&quot;[1] 0 1 1\n&quot;,</div><div class='line' id='LC1691'>&nbsp;&nbsp;&nbsp;&nbsp;&nbsp;&nbsp;&nbsp;&nbsp;&quot;attr(,\&quot;contrasts\&quot;)\n&quot;,</div><div class='line' id='LC1692'>&nbsp;&nbsp;&nbsp;&nbsp;&nbsp;&nbsp;&nbsp;&nbsp;&quot;attr(,\&quot;contrasts\&quot;)$nationality\n&quot;,</div><div class='line' id='LC1693'>&nbsp;&nbsp;&nbsp;&nbsp;&nbsp;&nbsp;&nbsp;&nbsp;&quot;[1] \&quot;contr.treatment\&quot;\n&quot;,</div><div class='line' id='LC1694'>&nbsp;&nbsp;&nbsp;&nbsp;&nbsp;&nbsp;&nbsp;&nbsp;&quot;\n&quot;</div><div class='line' id='LC1695'>&nbsp;&nbsp;&nbsp;&nbsp;&nbsp;&nbsp;&nbsp;]</div><div class='line' id='LC1696'>&nbsp;&nbsp;&nbsp;&nbsp;&nbsp;&nbsp;}</div><div class='line' id='LC1697'>&nbsp;&nbsp;&nbsp;&nbsp;&nbsp;],</div><div class='line' id='LC1698'>&nbsp;&nbsp;&nbsp;&nbsp;&nbsp;&quot;prompt_number&quot;: 45</div><div class='line' id='LC1699'>&nbsp;&nbsp;&nbsp;&nbsp;},</div><div class='line' id='LC1700'>&nbsp;&nbsp;&nbsp;&nbsp;{</div><div class='line' id='LC1701'>&nbsp;&nbsp;&nbsp;&nbsp;&nbsp;&quot;cell_type&quot;: &quot;markdown&quot;,</div><div class='line' id='LC1702'>&nbsp;&nbsp;&nbsp;&nbsp;&nbsp;&quot;metadata&quot;: {},</div><div class='line' id='LC1703'>&nbsp;&nbsp;&nbsp;&nbsp;&nbsp;&quot;source&quot;: [</div><div class='line' id='LC1704'>&nbsp;&nbsp;&nbsp;&nbsp;&nbsp;&nbsp;&quot;So, the model starts with the intercept, and continues with two columns that complete the column spaces spanned by the model with the indidual intercepts.   That is, the design can be considered as two designs one after the other, the intercept-only design (a column of ones) and the remaining column space of the indicator columns for the three intercept model.  Let&#39;s now look at the summary of the fit:&quot;</div><div class='line' id='LC1705'>&nbsp;&nbsp;&nbsp;&nbsp;&nbsp;]</div><div class='line' id='LC1706'>&nbsp;&nbsp;&nbsp;&nbsp;},</div><div class='line' id='LC1707'>&nbsp;&nbsp;&nbsp;&nbsp;{</div><div class='line' id='LC1708'>&nbsp;&nbsp;&nbsp;&nbsp;&nbsp;&quot;cell_type&quot;: &quot;code&quot;,</div><div class='line' id='LC1709'>&nbsp;&nbsp;&nbsp;&nbsp;&nbsp;&quot;collapsed&quot;: false,</div><div class='line' id='LC1710'>&nbsp;&nbsp;&nbsp;&nbsp;&nbsp;&quot;input&quot;: [</div><div class='line' id='LC1711'>&nbsp;&nbsp;&nbsp;&nbsp;&nbsp;&nbsp;&quot;%R print(summary(fit_with_intercept))&quot;</div><div class='line' id='LC1712'>&nbsp;&nbsp;&nbsp;&nbsp;&nbsp;],</div><div class='line' id='LC1713'>&nbsp;&nbsp;&nbsp;&nbsp;&nbsp;&quot;language&quot;: &quot;python&quot;,</div><div class='line' id='LC1714'>&nbsp;&nbsp;&nbsp;&nbsp;&nbsp;&quot;metadata&quot;: {},</div><div class='line' id='LC1715'>&nbsp;&nbsp;&nbsp;&nbsp;&nbsp;&quot;outputs&quot;: [</div><div class='line' id='LC1716'>&nbsp;&nbsp;&nbsp;&nbsp;&nbsp;&nbsp;{</div><div class='line' id='LC1717'>&nbsp;&nbsp;&nbsp;&nbsp;&nbsp;&nbsp;&nbsp;&quot;output_type&quot;: &quot;display_data&quot;,</div><div class='line' id='LC1718'>&nbsp;&nbsp;&nbsp;&nbsp;&nbsp;&nbsp;&nbsp;&quot;text&quot;: [</div><div class='line' id='LC1719'>&nbsp;&nbsp;&nbsp;&nbsp;&nbsp;&nbsp;&nbsp;&nbsp;&quot;\n&quot;,</div><div class='line' id='LC1720'>&nbsp;&nbsp;&nbsp;&nbsp;&nbsp;&nbsp;&nbsp;&nbsp;&quot;Call:\n&quot;,</div><div class='line' id='LC1721'>&nbsp;&nbsp;&nbsp;&nbsp;&nbsp;&nbsp;&nbsp;&nbsp;&quot;lm(formula = Y ~ nationality)\n&quot;,</div><div class='line' id='LC1722'>&nbsp;&nbsp;&nbsp;&nbsp;&nbsp;&nbsp;&nbsp;&nbsp;&quot;\n&quot;,</div><div class='line' id='LC1723'>&nbsp;&nbsp;&nbsp;&nbsp;&nbsp;&nbsp;&nbsp;&nbsp;&quot;Residuals:\n&quot;,</div><div class='line' id='LC1724'>&nbsp;&nbsp;&nbsp;&nbsp;&nbsp;&nbsp;&nbsp;&nbsp;&quot;    Min      1Q  Median      3Q     Max \n&quot;,</div><div class='line' id='LC1725'>&nbsp;&nbsp;&nbsp;&nbsp;&nbsp;&nbsp;&nbsp;&nbsp;&quot;-29.868 -24.776   8.044  19.093  45.064 \n&quot;,</div><div class='line' id='LC1726'>&nbsp;&nbsp;&nbsp;&nbsp;&nbsp;&nbsp;&nbsp;&nbsp;&quot;\n&quot;,</div><div class='line' id='LC1727'>&nbsp;&nbsp;&nbsp;&nbsp;&nbsp;&nbsp;&nbsp;&nbsp;&quot;Coefficients:\n&quot;,</div><div class='line' id='LC1728'>&nbsp;&nbsp;&nbsp;&nbsp;&nbsp;&nbsp;&nbsp;&nbsp;&quot;               Estimate Std. Error t value Pr(&gt;|t|)    \n&quot;,</div><div class='line' id='LC1729'>&nbsp;&nbsp;&nbsp;&nbsp;&nbsp;&nbsp;&nbsp;&nbsp;&quot;(Intercept)     119.028     12.008   9.912 3.94e-07 ***\n&quot;,</div><div class='line' id='LC1730'>&nbsp;&nbsp;&nbsp;&nbsp;&nbsp;&nbsp;&nbsp;&nbsp;&quot;nationalityUK    27.688     16.982   1.630    0.129    \n&quot;,</div><div class='line' id='LC1731'>&nbsp;&nbsp;&nbsp;&nbsp;&nbsp;&nbsp;&nbsp;&nbsp;&quot;nationalityUSA    4.958     16.982   0.292    0.775    \n&quot;,</div><div class='line' id='LC1732'>&nbsp;&nbsp;&nbsp;&nbsp;&nbsp;&nbsp;&nbsp;&nbsp;&quot;---\n&quot;,</div><div class='line' id='LC1733'>&nbsp;&nbsp;&nbsp;&nbsp;&nbsp;&nbsp;&nbsp;&nbsp;&quot;Signif. codes:  0 \u2018***\u2019 0.001 \u2018**\u2019 0.01 \u2018*\u2019 0.05 \u2018.\u2019 0.1 \u2018 \u2019 1 \n&quot;,</div><div class='line' id='LC1734'>&nbsp;&nbsp;&nbsp;&nbsp;&nbsp;&nbsp;&nbsp;&nbsp;&quot;\n&quot;,</div><div class='line' id='LC1735'>&nbsp;&nbsp;&nbsp;&nbsp;&nbsp;&nbsp;&nbsp;&nbsp;&quot;Residual standard error: 26.85 on 12 degrees of freedom\n&quot;,</div><div class='line' id='LC1736'>&nbsp;&nbsp;&nbsp;&nbsp;&nbsp;&nbsp;&nbsp;&nbsp;&quot;Multiple R-squared: 0.2012,\tAdjusted R-squared: 0.06812 \n&quot;,</div><div class='line' id='LC1737'>&nbsp;&nbsp;&nbsp;&nbsp;&nbsp;&nbsp;&nbsp;&nbsp;&quot;F-statistic: 1.512 on 2 and 12 DF,  p-value: 0.2597 \n&quot;,</div><div class='line' id='LC1738'>&nbsp;&nbsp;&nbsp;&nbsp;&nbsp;&nbsp;&nbsp;&nbsp;&quot;\n&quot;</div><div class='line' id='LC1739'>&nbsp;&nbsp;&nbsp;&nbsp;&nbsp;&nbsp;&nbsp;]</div><div class='line' id='LC1740'>&nbsp;&nbsp;&nbsp;&nbsp;&nbsp;&nbsp;}</div><div class='line' id='LC1741'>&nbsp;&nbsp;&nbsp;&nbsp;&nbsp;],</div><div class='line' id='LC1742'>&nbsp;&nbsp;&nbsp;&nbsp;&nbsp;&quot;prompt_number&quot;: 46</div><div class='line' id='LC1743'>&nbsp;&nbsp;&nbsp;&nbsp;},</div><div class='line' id='LC1744'>&nbsp;&nbsp;&nbsp;&nbsp;{</div><div class='line' id='LC1745'>&nbsp;&nbsp;&nbsp;&nbsp;&nbsp;&quot;cell_type&quot;: &quot;markdown&quot;,</div><div class='line' id='LC1746'>&nbsp;&nbsp;&nbsp;&nbsp;&nbsp;&quot;metadata&quot;: {},</div><div class='line' id='LC1747'>&nbsp;&nbsp;&nbsp;&nbsp;&nbsp;&quot;source&quot;: [</div><div class='line' id='LC1748'>&nbsp;&nbsp;&nbsp;&nbsp;&nbsp;&nbsp;&quot;We have coefficients for `nationalityUK` and `nationalityUSA` with associated t statistics and p values.   These are meaningful as tests for differences between the group means for nationality, because the overall intercept has been modeled separately. The coefficients and the tests on the coefficients relate to the main effect of nationality. However, if we remove the intercept from the model:&quot;</div><div class='line' id='LC1749'>&nbsp;&nbsp;&nbsp;&nbsp;&nbsp;]</div><div class='line' id='LC1750'>&nbsp;&nbsp;&nbsp;&nbsp;},</div><div class='line' id='LC1751'>&nbsp;&nbsp;&nbsp;&nbsp;{</div><div class='line' id='LC1752'>&nbsp;&nbsp;&nbsp;&nbsp;&nbsp;&quot;cell_type&quot;: &quot;code&quot;,</div><div class='line' id='LC1753'>&nbsp;&nbsp;&nbsp;&nbsp;&nbsp;&quot;collapsed&quot;: false,</div><div class='line' id='LC1754'>&nbsp;&nbsp;&nbsp;&nbsp;&nbsp;&quot;input&quot;: [</div><div class='line' id='LC1755'>&nbsp;&nbsp;&nbsp;&nbsp;&nbsp;&nbsp;&quot;%%R\n&quot;,</div><div class='line' id='LC1756'>&nbsp;&nbsp;&nbsp;&nbsp;&nbsp;&nbsp;&quot;fit_no_intercept = lm(Y ~ nationality -1)\n&quot;,</div><div class='line' id='LC1757'>&nbsp;&nbsp;&nbsp;&nbsp;&nbsp;&nbsp;&quot;print(summary(fit_no_intercept))&quot;</div><div class='line' id='LC1758'>&nbsp;&nbsp;&nbsp;&nbsp;&nbsp;],</div><div class='line' id='LC1759'>&nbsp;&nbsp;&nbsp;&nbsp;&nbsp;&quot;language&quot;: &quot;python&quot;,</div><div class='line' id='LC1760'>&nbsp;&nbsp;&nbsp;&nbsp;&nbsp;&quot;metadata&quot;: {},</div><div class='line' id='LC1761'>&nbsp;&nbsp;&nbsp;&nbsp;&nbsp;&quot;outputs&quot;: [</div><div class='line' id='LC1762'>&nbsp;&nbsp;&nbsp;&nbsp;&nbsp;&nbsp;{</div><div class='line' id='LC1763'>&nbsp;&nbsp;&nbsp;&nbsp;&nbsp;&nbsp;&nbsp;&quot;output_type&quot;: &quot;display_data&quot;,</div><div class='line' id='LC1764'>&nbsp;&nbsp;&nbsp;&nbsp;&nbsp;&nbsp;&nbsp;&quot;text&quot;: [</div><div class='line' id='LC1765'>&nbsp;&nbsp;&nbsp;&nbsp;&nbsp;&nbsp;&nbsp;&nbsp;&quot;\n&quot;,</div><div class='line' id='LC1766'>&nbsp;&nbsp;&nbsp;&nbsp;&nbsp;&nbsp;&nbsp;&nbsp;&quot;Call:\n&quot;,</div><div class='line' id='LC1767'>&nbsp;&nbsp;&nbsp;&nbsp;&nbsp;&nbsp;&nbsp;&nbsp;&quot;lm(formula = Y ~ nationality - 1)\n&quot;,</div><div class='line' id='LC1768'>&nbsp;&nbsp;&nbsp;&nbsp;&nbsp;&nbsp;&nbsp;&nbsp;&quot;\n&quot;,</div><div class='line' id='LC1769'>&nbsp;&nbsp;&nbsp;&nbsp;&nbsp;&nbsp;&nbsp;&nbsp;&quot;Residuals:\n&quot;,</div><div class='line' id='LC1770'>&nbsp;&nbsp;&nbsp;&nbsp;&nbsp;&nbsp;&nbsp;&nbsp;&quot;    Min      1Q  Median      3Q     Max \n&quot;,</div><div class='line' id='LC1771'>&nbsp;&nbsp;&nbsp;&nbsp;&nbsp;&nbsp;&nbsp;&nbsp;&quot;-29.868 -24.776   8.044  19.093  45.064 \n&quot;,</div><div class='line' id='LC1772'>&nbsp;&nbsp;&nbsp;&nbsp;&nbsp;&nbsp;&nbsp;&nbsp;&quot;\n&quot;,</div><div class='line' id='LC1773'>&nbsp;&nbsp;&nbsp;&nbsp;&nbsp;&nbsp;&nbsp;&nbsp;&quot;Coefficients:\n&quot;,</div><div class='line' id='LC1774'>&nbsp;&nbsp;&nbsp;&nbsp;&nbsp;&nbsp;&nbsp;&nbsp;&quot;                  Estimate Std. Error t value Pr(&gt;|t|)    \n&quot;,</div><div class='line' id='LC1775'>&nbsp;&nbsp;&nbsp;&nbsp;&nbsp;&nbsp;&nbsp;&nbsp;&quot;nationalityFrance   119.03      12.01   9.912 3.94e-07 ***\n&quot;,</div><div class='line' id='LC1776'>&nbsp;&nbsp;&nbsp;&nbsp;&nbsp;&nbsp;&nbsp;&nbsp;&quot;nationalityUK       146.72      12.01  12.218 3.96e-08 ***\n&quot;,</div><div class='line' id='LC1777'>&nbsp;&nbsp;&nbsp;&nbsp;&nbsp;&nbsp;&nbsp;&nbsp;&quot;nationalityUSA      123.99      12.01  10.325 2.53e-07 ***\n&quot;,</div><div class='line' id='LC1778'>&nbsp;&nbsp;&nbsp;&nbsp;&nbsp;&nbsp;&nbsp;&nbsp;&quot;---\n&quot;,</div><div class='line' id='LC1779'>&nbsp;&nbsp;&nbsp;&nbsp;&nbsp;&nbsp;&nbsp;&nbsp;&quot;Signif. codes:  0 \u2018***\u2019 0.001 \u2018**\u2019 0.01 \u2018*\u2019 0.05 \u2018.\u2019 0.1 \u2018 \u2019 1 \n&quot;,</div><div class='line' id='LC1780'>&nbsp;&nbsp;&nbsp;&nbsp;&nbsp;&nbsp;&nbsp;&nbsp;&quot;\n&quot;,</div><div class='line' id='LC1781'>&nbsp;&nbsp;&nbsp;&nbsp;&nbsp;&nbsp;&nbsp;&nbsp;&quot;Residual standard error: 26.85 on 12 degrees of freedom\n&quot;,</div><div class='line' id='LC1782'>&nbsp;&nbsp;&nbsp;&nbsp;&nbsp;&nbsp;&nbsp;&nbsp;&quot;Multiple R-squared: 0.9672,\tAdjusted R-squared: 0.959 \n&quot;,</div><div class='line' id='LC1783'>&nbsp;&nbsp;&nbsp;&nbsp;&nbsp;&nbsp;&nbsp;&nbsp;&quot;F-statistic:   118 on 3 and 12 DF,  p-value: 3.583e-09 \n&quot;,</div><div class='line' id='LC1784'>&nbsp;&nbsp;&nbsp;&nbsp;&nbsp;&nbsp;&nbsp;&nbsp;&quot;\n&quot;</div><div class='line' id='LC1785'>&nbsp;&nbsp;&nbsp;&nbsp;&nbsp;&nbsp;&nbsp;]</div><div class='line' id='LC1786'>&nbsp;&nbsp;&nbsp;&nbsp;&nbsp;&nbsp;}</div><div class='line' id='LC1787'>&nbsp;&nbsp;&nbsp;&nbsp;&nbsp;],</div><div class='line' id='LC1788'>&nbsp;&nbsp;&nbsp;&nbsp;&nbsp;&quot;prompt_number&quot;: 47</div><div class='line' id='LC1789'>&nbsp;&nbsp;&nbsp;&nbsp;},</div><div class='line' id='LC1790'>&nbsp;&nbsp;&nbsp;&nbsp;{</div><div class='line' id='LC1791'>&nbsp;&nbsp;&nbsp;&nbsp;&nbsp;&quot;cell_type&quot;: &quot;markdown&quot;,</div><div class='line' id='LC1792'>&nbsp;&nbsp;&nbsp;&nbsp;&nbsp;&quot;metadata&quot;: {},</div><div class='line' id='LC1793'>&nbsp;&nbsp;&nbsp;&nbsp;&nbsp;&quot;source&quot;: [</div><div class='line' id='LC1794'>&nbsp;&nbsp;&nbsp;&nbsp;&nbsp;&nbsp;&quot;Now group means for each nationality must model the overall mean across all nationalities, and the values of the coefficients therefore no longer reflect the difference between the intercept-only model and the the model with separate intercepts for each group that we fit here.\n&quot;,</div><div class='line' id='LC1795'>&nbsp;&nbsp;&nbsp;&nbsp;&nbsp;&nbsp;&quot;\n&quot;,</div><div class='line' id='LC1796'>&nbsp;&nbsp;&nbsp;&nbsp;&nbsp;&nbsp;&quot;By adding the intercept to the model by default, R makes the default coefficients relate to the expected test of interest, which is for the main effect of the factor.  The main effect of the factor is the comparison between the intercept only model and the model with the factor level intercepts.\n&quot;,</div><div class='line' id='LC1797'>&nbsp;&nbsp;&nbsp;&nbsp;&nbsp;&nbsp;&quot;\n&quot;,</div><div class='line' id='LC1798'>&nbsp;&nbsp;&nbsp;&nbsp;&nbsp;&nbsp;&quot;We remember that the design matrix for the intercept (`model.matrix(fit_with_intercept)`) and the design matrix without the intercept (`model.matrix(fit_no_intercept)`) have the same *column space*.  In fact, strictly speaking, they are identical model with different parametrization, but they really model the same things.  It is the column space that determines what the design is able to fit in the data, so we see that the two design matrix have the same `Residual standard error` in the summaries above, and:&quot;</div><div class='line' id='LC1799'>&nbsp;&nbsp;&nbsp;&nbsp;&nbsp;]</div><div class='line' id='LC1800'>&nbsp;&nbsp;&nbsp;&nbsp;},</div><div class='line' id='LC1801'>&nbsp;&nbsp;&nbsp;&nbsp;{</div><div class='line' id='LC1802'>&nbsp;&nbsp;&nbsp;&nbsp;&nbsp;&quot;cell_type&quot;: &quot;code&quot;,</div><div class='line' id='LC1803'>&nbsp;&nbsp;&nbsp;&nbsp;&nbsp;&quot;collapsed&quot;: false,</div><div class='line' id='LC1804'>&nbsp;&nbsp;&nbsp;&nbsp;&nbsp;&quot;input&quot;: [</div><div class='line' id='LC1805'>&nbsp;&nbsp;&nbsp;&nbsp;&nbsp;&nbsp;&quot;%R sum(abs(fit_no_intercept$residuals - fit_with_intercept$residuals))&quot;</div><div class='line' id='LC1806'>&nbsp;&nbsp;&nbsp;&nbsp;&nbsp;],</div><div class='line' id='LC1807'>&nbsp;&nbsp;&nbsp;&nbsp;&nbsp;&quot;language&quot;: &quot;python&quot;,</div><div class='line' id='LC1808'>&nbsp;&nbsp;&nbsp;&nbsp;&nbsp;&quot;metadata&quot;: {},</div><div class='line' id='LC1809'>&nbsp;&nbsp;&nbsp;&nbsp;&nbsp;&quot;outputs&quot;: [</div><div class='line' id='LC1810'>&nbsp;&nbsp;&nbsp;&nbsp;&nbsp;&nbsp;{</div><div class='line' id='LC1811'>&nbsp;&nbsp;&nbsp;&nbsp;&nbsp;&nbsp;&nbsp;&quot;output_type&quot;: &quot;pyout&quot;,</div><div class='line' id='LC1812'>&nbsp;&nbsp;&nbsp;&nbsp;&nbsp;&nbsp;&nbsp;&quot;prompt_number&quot;: 48,</div><div class='line' id='LC1813'>&nbsp;&nbsp;&nbsp;&nbsp;&nbsp;&nbsp;&nbsp;&quot;text&quot;: [</div><div class='line' id='LC1814'>&nbsp;&nbsp;&nbsp;&nbsp;&nbsp;&nbsp;&nbsp;&nbsp;&quot;array([ 0.])&quot;</div><div class='line' id='LC1815'>&nbsp;&nbsp;&nbsp;&nbsp;&nbsp;&nbsp;&nbsp;]</div><div class='line' id='LC1816'>&nbsp;&nbsp;&nbsp;&nbsp;&nbsp;&nbsp;}</div><div class='line' id='LC1817'>&nbsp;&nbsp;&nbsp;&nbsp;&nbsp;],</div><div class='line' id='LC1818'>&nbsp;&nbsp;&nbsp;&nbsp;&nbsp;&quot;prompt_number&quot;: 48</div><div class='line' id='LC1819'>&nbsp;&nbsp;&nbsp;&nbsp;},</div><div class='line' id='LC1820'>&nbsp;&nbsp;&nbsp;&nbsp;{</div><div class='line' id='LC1821'>&nbsp;&nbsp;&nbsp;&nbsp;&nbsp;&quot;cell_type&quot;: &quot;markdown&quot;,</div><div class='line' id='LC1822'>&nbsp;&nbsp;&nbsp;&nbsp;&nbsp;&quot;metadata&quot;: {},</div><div class='line' id='LC1823'>&nbsp;&nbsp;&nbsp;&nbsp;&nbsp;&quot;source&quot;: [</div><div class='line' id='LC1824'>&nbsp;&nbsp;&nbsp;&nbsp;&nbsp;&nbsp;&quot;Now we know why R might prefer to insert the intercept for single factor models, we may be some way to explaining the following mystery:\n&quot;,</div><div class='line' id='LC1825'>&nbsp;&nbsp;&nbsp;&nbsp;&nbsp;&nbsp;&quot;\n&quot;,</div><div class='line' id='LC1826'>&nbsp;&nbsp;&nbsp;&nbsp;&nbsp;&nbsp;&quot;The most typical two factor and interaction formula in R looks (in effect) like this:\n&quot;,</div><div class='line' id='LC1827'>&nbsp;&nbsp;&nbsp;&nbsp;&nbsp;&nbsp;&quot;\n&quot;,</div><div class='line' id='LC1828'>&nbsp;&nbsp;&nbsp;&nbsp;&nbsp;&nbsp;&quot;`Y ~ nationality + awesome + nationality:awesome`\n&quot;,</div><div class='line' id='LC1829'>&nbsp;&nbsp;&nbsp;&nbsp;&nbsp;&nbsp;&quot;\n&quot;,</div><div class='line' id='LC1830'>&nbsp;&nbsp;&nbsp;&nbsp;&nbsp;&nbsp;&quot;(I say, \&quot;in effect\&quot;, because that formula is usually written with the shortcut form of `Y ~ nationality * awesome`; more on the shortcuts later).\n&quot;,</div><div class='line' id='LC1831'>&nbsp;&nbsp;&nbsp;&nbsp;&nbsp;&nbsp;&quot;\n&quot;,</div><div class='line' id='LC1832'>&nbsp;&nbsp;&nbsp;&nbsp;&nbsp;&nbsp;&quot;The mystery is this: we know that:\n&quot;,</div><div class='line' id='LC1833'>&nbsp;&nbsp;&nbsp;&nbsp;&nbsp;&nbsp;&quot;\n&quot;,</div><div class='line' id='LC1834'>&nbsp;&nbsp;&nbsp;&nbsp;&nbsp;&nbsp;&quot;`Y ~ nationality:awesome`\n&quot;,</div><div class='line' id='LC1835'>&nbsp;&nbsp;&nbsp;&nbsp;&nbsp;&nbsp;&quot;\n&quot;,</div><div class='line' id='LC1836'>&nbsp;&nbsp;&nbsp;&nbsp;&nbsp;&nbsp;&quot;covers the same column space.  Why prefer the more verbose form (or - with the shortcut - the slightly more obscure form)?\n&quot;,</div><div class='line' id='LC1837'>&nbsp;&nbsp;&nbsp;&nbsp;&nbsp;&nbsp;&quot;\n&quot;,</div><div class='line' id='LC1838'>&nbsp;&nbsp;&nbsp;&nbsp;&nbsp;&nbsp;&quot;The answer is the same as for the inclusion of intercept in the single-factor design; it makes it easier to interpret the parts of the design matrix in an hierarchical way.  For the intercept and the single factor, including the intercept made the columns of the design refer to the main effect (comparison between the intercept model and factor level intercept model).  Including the main effects separately from the interactions in the formula means that the first colums in the design refer to the main effect, and the later columns refer to the *added* effect of the interaction.\n&quot;,</div><div class='line' id='LC1839'>&nbsp;&nbsp;&nbsp;&nbsp;&nbsp;&nbsp;&quot;\n&quot;,</div><div class='line' id='LC1840'>&nbsp;&nbsp;&nbsp;&nbsp;&nbsp;&nbsp;&quot;Let&#39;s have a look at the standard R form of this model with main effects and interactions:&quot;</div><div class='line' id='LC1841'>&nbsp;&nbsp;&nbsp;&nbsp;&nbsp;]</div><div class='line' id='LC1842'>&nbsp;&nbsp;&nbsp;&nbsp;},</div><div class='line' id='LC1843'>&nbsp;&nbsp;&nbsp;&nbsp;{</div><div class='line' id='LC1844'>&nbsp;&nbsp;&nbsp;&nbsp;&nbsp;&quot;cell_type&quot;: &quot;code&quot;,</div><div class='line' id='LC1845'>&nbsp;&nbsp;&nbsp;&nbsp;&nbsp;&quot;collapsed&quot;: false,</div><div class='line' id='LC1846'>&nbsp;&nbsp;&nbsp;&nbsp;&nbsp;&quot;input&quot;: [</div><div class='line' id='LC1847'>&nbsp;&nbsp;&nbsp;&nbsp;&nbsp;&nbsp;&quot;%R fit_main_inters = lm(Y ~ nationality + awesome + nationality:awesome)\n&quot;,</div><div class='line' id='LC1848'>&nbsp;&nbsp;&nbsp;&nbsp;&nbsp;&nbsp;&quot;X_main_inters = %R model.matrix(fit_main_inters)\n&quot;,</div><div class='line' id='LC1849'>&nbsp;&nbsp;&nbsp;&nbsp;&nbsp;&nbsp;&quot;print X_main_inters&quot;</div><div class='line' id='LC1850'>&nbsp;&nbsp;&nbsp;&nbsp;&nbsp;],</div><div class='line' id='LC1851'>&nbsp;&nbsp;&nbsp;&nbsp;&nbsp;&quot;language&quot;: &quot;python&quot;,</div><div class='line' id='LC1852'>&nbsp;&nbsp;&nbsp;&nbsp;&nbsp;&quot;metadata&quot;: {},</div><div class='line' id='LC1853'>&nbsp;&nbsp;&nbsp;&nbsp;&nbsp;&quot;outputs&quot;: [</div><div class='line' id='LC1854'>&nbsp;&nbsp;&nbsp;&nbsp;&nbsp;&nbsp;{</div><div class='line' id='LC1855'>&nbsp;&nbsp;&nbsp;&nbsp;&nbsp;&nbsp;&nbsp;&quot;output_type&quot;: &quot;stream&quot;,</div><div class='line' id='LC1856'>&nbsp;&nbsp;&nbsp;&nbsp;&nbsp;&nbsp;&nbsp;&quot;stream&quot;: &quot;stdout&quot;,</div><div class='line' id='LC1857'>&nbsp;&nbsp;&nbsp;&nbsp;&nbsp;&nbsp;&nbsp;&quot;text&quot;: [</div><div class='line' id='LC1858'>&nbsp;&nbsp;&nbsp;&nbsp;&nbsp;&nbsp;&nbsp;&nbsp;&quot;[[ 1.  0.  1.  1.  0.  1.]\n&quot;,</div><div class='line' id='LC1859'>&nbsp;&nbsp;&nbsp;&nbsp;&nbsp;&nbsp;&nbsp;&nbsp;&quot; [ 1.  0.  1.  0.  0.  0.]\n&quot;,</div><div class='line' id='LC1860'>&nbsp;&nbsp;&nbsp;&nbsp;&nbsp;&nbsp;&nbsp;&nbsp;&quot; [ 1.  0.  1.  1.  0.  1.]\n&quot;,</div><div class='line' id='LC1861'>&nbsp;&nbsp;&nbsp;&nbsp;&nbsp;&nbsp;&nbsp;&nbsp;&quot; [ 1.  0.  1.  0.  0.  0.]\n&quot;,</div><div class='line' id='LC1862'>&nbsp;&nbsp;&nbsp;&nbsp;&nbsp;&nbsp;&nbsp;&nbsp;&quot; [ 1.  0.  1.  1.  0.  1.]\n&quot;,</div><div class='line' id='LC1863'>&nbsp;&nbsp;&nbsp;&nbsp;&nbsp;&nbsp;&nbsp;&nbsp;&quot; [ 1.  1.  0.  0.  0.  0.]\n&quot;,</div><div class='line' id='LC1864'>&nbsp;&nbsp;&nbsp;&nbsp;&nbsp;&nbsp;&nbsp;&nbsp;&quot; [ 1.  1.  0.  1.  1.  0.]\n&quot;,</div><div class='line' id='LC1865'>&nbsp;&nbsp;&nbsp;&nbsp;&nbsp;&nbsp;&nbsp;&nbsp;&quot; [ 1.  1.  0.  0.  0.  0.]\n&quot;,</div><div class='line' id='LC1866'>&nbsp;&nbsp;&nbsp;&nbsp;&nbsp;&nbsp;&nbsp;&nbsp;&quot; [ 1.  1.  0.  1.  1.  0.]\n&quot;,</div><div class='line' id='LC1867'>&nbsp;&nbsp;&nbsp;&nbsp;&nbsp;&nbsp;&nbsp;&nbsp;&quot; [ 1.  1.  0.  0.  0.  0.]\n&quot;,</div><div class='line' id='LC1868'>&nbsp;&nbsp;&nbsp;&nbsp;&nbsp;&nbsp;&nbsp;&nbsp;&quot; [ 1.  0.  0.  1.  0.  0.]\n&quot;,</div><div class='line' id='LC1869'>&nbsp;&nbsp;&nbsp;&nbsp;&nbsp;&nbsp;&nbsp;&nbsp;&quot; [ 1.  0.  0.  0.  0.  0.]\n&quot;,</div><div class='line' id='LC1870'>&nbsp;&nbsp;&nbsp;&nbsp;&nbsp;&nbsp;&nbsp;&nbsp;&quot; [ 1.  0.  0.  1.  0.  0.]\n&quot;,</div><div class='line' id='LC1871'>&nbsp;&nbsp;&nbsp;&nbsp;&nbsp;&nbsp;&nbsp;&nbsp;&quot; [ 1.  0.  0.  0.  0.  0.]\n&quot;,</div><div class='line' id='LC1872'>&nbsp;&nbsp;&nbsp;&nbsp;&nbsp;&nbsp;&nbsp;&nbsp;&quot; [ 1.  0.  0.  1.  0.  0.]]\n&quot;</div><div class='line' id='LC1873'>&nbsp;&nbsp;&nbsp;&nbsp;&nbsp;&nbsp;&nbsp;]</div><div class='line' id='LC1874'>&nbsp;&nbsp;&nbsp;&nbsp;&nbsp;&nbsp;}</div><div class='line' id='LC1875'>&nbsp;&nbsp;&nbsp;&nbsp;&nbsp;],</div><div class='line' id='LC1876'>&nbsp;&nbsp;&nbsp;&nbsp;&nbsp;&quot;prompt_number&quot;: 49</div><div class='line' id='LC1877'>&nbsp;&nbsp;&nbsp;&nbsp;},</div><div class='line' id='LC1878'>&nbsp;&nbsp;&nbsp;&nbsp;{</div><div class='line' id='LC1879'>&nbsp;&nbsp;&nbsp;&nbsp;&nbsp;&quot;cell_type&quot;: &quot;markdown&quot;,</div><div class='line' id='LC1880'>&nbsp;&nbsp;&nbsp;&nbsp;&nbsp;&quot;metadata&quot;: {},</div><div class='line' id='LC1881'>&nbsp;&nbsp;&nbsp;&nbsp;&nbsp;&quot;source&quot;: [</div><div class='line' id='LC1882'>&nbsp;&nbsp;&nbsp;&nbsp;&nbsp;&nbsp;&quot;You&#39;ll recognize the first three columns as being the same as those for `~ nationality`.  The fourth column is the contrast coding for `awesome`, and is what we expected.  The last two columns encode the (remainder of) the interaction.  What are these last two columns?  Let&#39;s get the names:&quot;</div><div class='line' id='LC1883'>&nbsp;&nbsp;&nbsp;&nbsp;&nbsp;]</div><div class='line' id='LC1884'>&nbsp;&nbsp;&nbsp;&nbsp;},</div><div class='line' id='LC1885'>&nbsp;&nbsp;&nbsp;&nbsp;{</div><div class='line' id='LC1886'>&nbsp;&nbsp;&nbsp;&nbsp;&nbsp;&quot;cell_type&quot;: &quot;code&quot;,</div><div class='line' id='LC1887'>&nbsp;&nbsp;&nbsp;&nbsp;&nbsp;&quot;collapsed&quot;: false,</div><div class='line' id='LC1888'>&nbsp;&nbsp;&nbsp;&nbsp;&nbsp;&quot;input&quot;: [</div><div class='line' id='LC1889'>&nbsp;&nbsp;&nbsp;&nbsp;&nbsp;&nbsp;&quot;names = %R colnames(model.matrix(fit_main_inters))\n&quot;,</div><div class='line' id='LC1890'>&nbsp;&nbsp;&nbsp;&nbsp;&nbsp;&nbsp;&quot;for i, name in enumerate(names):\n&quot;,</div><div class='line' id='LC1891'>&nbsp;&nbsp;&nbsp;&nbsp;&nbsp;&nbsp;&quot;    print i, name&quot;</div><div class='line' id='LC1892'>&nbsp;&nbsp;&nbsp;&nbsp;&nbsp;],</div><div class='line' id='LC1893'>&nbsp;&nbsp;&nbsp;&nbsp;&nbsp;&quot;language&quot;: &quot;python&quot;,</div><div class='line' id='LC1894'>&nbsp;&nbsp;&nbsp;&nbsp;&nbsp;&quot;metadata&quot;: {},</div><div class='line' id='LC1895'>&nbsp;&nbsp;&nbsp;&nbsp;&nbsp;&quot;outputs&quot;: [</div><div class='line' id='LC1896'>&nbsp;&nbsp;&nbsp;&nbsp;&nbsp;&nbsp;{</div><div class='line' id='LC1897'>&nbsp;&nbsp;&nbsp;&nbsp;&nbsp;&nbsp;&nbsp;&quot;output_type&quot;: &quot;stream&quot;,</div><div class='line' id='LC1898'>&nbsp;&nbsp;&nbsp;&nbsp;&nbsp;&nbsp;&nbsp;&quot;stream&quot;: &quot;stdout&quot;,</div><div class='line' id='LC1899'>&nbsp;&nbsp;&nbsp;&nbsp;&nbsp;&nbsp;&nbsp;&quot;text&quot;: [</div><div class='line' id='LC1900'>&nbsp;&nbsp;&nbsp;&nbsp;&nbsp;&nbsp;&nbsp;&nbsp;&quot;0 (Intercept)\n&quot;,</div><div class='line' id='LC1901'>&nbsp;&nbsp;&nbsp;&nbsp;&nbsp;&nbsp;&nbsp;&nbsp;&quot;1 nationalityUK\n&quot;,</div><div class='line' id='LC1902'>&nbsp;&nbsp;&nbsp;&nbsp;&nbsp;&nbsp;&nbsp;&nbsp;&quot;2 nationalityUSA\n&quot;,</div><div class='line' id='LC1903'>&nbsp;&nbsp;&nbsp;&nbsp;&nbsp;&nbsp;&nbsp;&nbsp;&quot;3 awesomeYes\n&quot;,</div><div class='line' id='LC1904'>&nbsp;&nbsp;&nbsp;&nbsp;&nbsp;&nbsp;&nbsp;&nbsp;&quot;4 nationalityUK:awesomeYes\n&quot;,</div><div class='line' id='LC1905'>&nbsp;&nbsp;&nbsp;&nbsp;&nbsp;&nbsp;&nbsp;&nbsp;&quot;5 nationalityUSA:awesomeYes\n&quot;</div><div class='line' id='LC1906'>&nbsp;&nbsp;&nbsp;&nbsp;&nbsp;&nbsp;&nbsp;]</div><div class='line' id='LC1907'>&nbsp;&nbsp;&nbsp;&nbsp;&nbsp;&nbsp;}</div><div class='line' id='LC1908'>&nbsp;&nbsp;&nbsp;&nbsp;&nbsp;],</div><div class='line' id='LC1909'>&nbsp;&nbsp;&nbsp;&nbsp;&nbsp;&quot;prompt_number&quot;: 50</div><div class='line' id='LC1910'>&nbsp;&nbsp;&nbsp;&nbsp;},</div><div class='line' id='LC1911'>&nbsp;&nbsp;&nbsp;&nbsp;{</div><div class='line' id='LC1912'>&nbsp;&nbsp;&nbsp;&nbsp;&nbsp;&quot;cell_type&quot;: &quot;markdown&quot;,</div><div class='line' id='LC1913'>&nbsp;&nbsp;&nbsp;&nbsp;&nbsp;&quot;metadata&quot;: {},</div><div class='line' id='LC1914'>&nbsp;&nbsp;&nbsp;&nbsp;&nbsp;&quot;source&quot;: [</div><div class='line' id='LC1915'>&nbsp;&nbsp;&nbsp;&nbsp;&nbsp;&nbsp;&quot;And in fact:&quot;</div><div class='line' id='LC1916'>&nbsp;&nbsp;&nbsp;&nbsp;&nbsp;]</div><div class='line' id='LC1917'>&nbsp;&nbsp;&nbsp;&nbsp;},</div><div class='line' id='LC1918'>&nbsp;&nbsp;&nbsp;&nbsp;{</div><div class='line' id='LC1919'>&nbsp;&nbsp;&nbsp;&nbsp;&nbsp;&quot;cell_type&quot;: &quot;code&quot;,</div><div class='line' id='LC1920'>&nbsp;&nbsp;&nbsp;&nbsp;&nbsp;&quot;collapsed&quot;: false,</div><div class='line' id='LC1921'>&nbsp;&nbsp;&nbsp;&nbsp;&nbsp;&quot;input&quot;: [</div><div class='line' id='LC1922'>&nbsp;&nbsp;&nbsp;&nbsp;&nbsp;&nbsp;&quot;print np.all(X_main_inters[:, 4] == X_main_inters[:, 1] * X_main_inters[:, 3])\n&quot;,</div><div class='line' id='LC1923'>&nbsp;&nbsp;&nbsp;&nbsp;&nbsp;&nbsp;&quot;print np.all(X_main_inters[:, 5] == X_main_inters[:, 2] * X_main_inters[:, 3])&quot;</div><div class='line' id='LC1924'>&nbsp;&nbsp;&nbsp;&nbsp;&nbsp;],</div><div class='line' id='LC1925'>&nbsp;&nbsp;&nbsp;&nbsp;&nbsp;&quot;language&quot;: &quot;python&quot;,</div><div class='line' id='LC1926'>&nbsp;&nbsp;&nbsp;&nbsp;&nbsp;&quot;metadata&quot;: {},</div><div class='line' id='LC1927'>&nbsp;&nbsp;&nbsp;&nbsp;&nbsp;&quot;outputs&quot;: [</div><div class='line' id='LC1928'>&nbsp;&nbsp;&nbsp;&nbsp;&nbsp;&nbsp;{</div><div class='line' id='LC1929'>&nbsp;&nbsp;&nbsp;&nbsp;&nbsp;&nbsp;&nbsp;&quot;output_type&quot;: &quot;stream&quot;,</div><div class='line' id='LC1930'>&nbsp;&nbsp;&nbsp;&nbsp;&nbsp;&nbsp;&nbsp;&quot;stream&quot;: &quot;stdout&quot;,</div><div class='line' id='LC1931'>&nbsp;&nbsp;&nbsp;&nbsp;&nbsp;&nbsp;&nbsp;&quot;text&quot;: [</div><div class='line' id='LC1932'>&nbsp;&nbsp;&nbsp;&nbsp;&nbsp;&nbsp;&nbsp;&nbsp;&quot;True\n&quot;,</div><div class='line' id='LC1933'>&nbsp;&nbsp;&nbsp;&nbsp;&nbsp;&nbsp;&nbsp;&nbsp;&quot;True\n&quot;</div><div class='line' id='LC1934'>&nbsp;&nbsp;&nbsp;&nbsp;&nbsp;&nbsp;&nbsp;]</div><div class='line' id='LC1935'>&nbsp;&nbsp;&nbsp;&nbsp;&nbsp;&nbsp;}</div><div class='line' id='LC1936'>&nbsp;&nbsp;&nbsp;&nbsp;&nbsp;],</div><div class='line' id='LC1937'>&nbsp;&nbsp;&nbsp;&nbsp;&nbsp;&quot;prompt_number&quot;: 51</div><div class='line' id='LC1938'>&nbsp;&nbsp;&nbsp;&nbsp;},</div><div class='line' id='LC1939'>&nbsp;&nbsp;&nbsp;&nbsp;{</div><div class='line' id='LC1940'>&nbsp;&nbsp;&nbsp;&nbsp;&nbsp;&quot;cell_type&quot;: &quot;markdown&quot;,</div><div class='line' id='LC1941'>&nbsp;&nbsp;&nbsp;&nbsp;&nbsp;&quot;metadata&quot;: {},</div><div class='line' id='LC1942'>&nbsp;&nbsp;&nbsp;&nbsp;&nbsp;&quot;source&quot;: [</div><div class='line' id='LC1943'>&nbsp;&nbsp;&nbsp;&nbsp;&nbsp;&nbsp;&quot;The fit:&quot;</div><div class='line' id='LC1944'>&nbsp;&nbsp;&nbsp;&nbsp;&nbsp;]</div><div class='line' id='LC1945'>&nbsp;&nbsp;&nbsp;&nbsp;},</div><div class='line' id='LC1946'>&nbsp;&nbsp;&nbsp;&nbsp;{</div><div class='line' id='LC1947'>&nbsp;&nbsp;&nbsp;&nbsp;&nbsp;&quot;cell_type&quot;: &quot;code&quot;,</div><div class='line' id='LC1948'>&nbsp;&nbsp;&nbsp;&nbsp;&nbsp;&quot;collapsed&quot;: false,</div><div class='line' id='LC1949'>&nbsp;&nbsp;&nbsp;&nbsp;&nbsp;&quot;input&quot;: [</div><div class='line' id='LC1950'>&nbsp;&nbsp;&nbsp;&nbsp;&nbsp;&nbsp;&quot;%R print(summary(fit_main_inters))&quot;</div><div class='line' id='LC1951'>&nbsp;&nbsp;&nbsp;&nbsp;&nbsp;],</div><div class='line' id='LC1952'>&nbsp;&nbsp;&nbsp;&nbsp;&nbsp;&quot;language&quot;: &quot;python&quot;,</div><div class='line' id='LC1953'>&nbsp;&nbsp;&nbsp;&nbsp;&nbsp;&quot;metadata&quot;: {},</div><div class='line' id='LC1954'>&nbsp;&nbsp;&nbsp;&nbsp;&nbsp;&quot;outputs&quot;: [</div><div class='line' id='LC1955'>&nbsp;&nbsp;&nbsp;&nbsp;&nbsp;&nbsp;{</div><div class='line' id='LC1956'>&nbsp;&nbsp;&nbsp;&nbsp;&nbsp;&nbsp;&nbsp;&quot;output_type&quot;: &quot;display_data&quot;,</div><div class='line' id='LC1957'>&nbsp;&nbsp;&nbsp;&nbsp;&nbsp;&nbsp;&nbsp;&quot;text&quot;: [</div><div class='line' id='LC1958'>&nbsp;&nbsp;&nbsp;&nbsp;&nbsp;&nbsp;&nbsp;&nbsp;&quot;\n&quot;,</div><div class='line' id='LC1959'>&nbsp;&nbsp;&nbsp;&nbsp;&nbsp;&nbsp;&nbsp;&nbsp;&quot;Call:\n&quot;,</div><div class='line' id='LC1960'>&nbsp;&nbsp;&nbsp;&nbsp;&nbsp;&nbsp;&nbsp;&nbsp;&quot;lm(formula = Y ~ nationality + awesome + nationality:awesome)\n&quot;,</div><div class='line' id='LC1961'>&nbsp;&nbsp;&nbsp;&nbsp;&nbsp;&nbsp;&nbsp;&nbsp;&quot;\n&quot;,</div><div class='line' id='LC1962'>&nbsp;&nbsp;&nbsp;&nbsp;&nbsp;&nbsp;&nbsp;&nbsp;&quot;Residuals:\n&quot;,</div><div class='line' id='LC1963'>&nbsp;&nbsp;&nbsp;&nbsp;&nbsp;&nbsp;&nbsp;&nbsp;&quot;    Min      1Q  Median      3Q     Max \n&quot;,</div><div class='line' id='LC1964'>&nbsp;&nbsp;&nbsp;&nbsp;&nbsp;&nbsp;&nbsp;&nbsp;&quot;-23.280  -5.804  -0.070   4.550  45.990 \n&quot;,</div><div class='line' id='LC1965'>&nbsp;&nbsp;&nbsp;&nbsp;&nbsp;&nbsp;&nbsp;&nbsp;&quot;\n&quot;,</div><div class='line' id='LC1966'>&nbsp;&nbsp;&nbsp;&nbsp;&nbsp;&nbsp;&nbsp;&nbsp;&quot;Coefficients:\n&quot;,</div><div class='line' id='LC1967'>&nbsp;&nbsp;&nbsp;&nbsp;&nbsp;&nbsp;&nbsp;&nbsp;&quot;                          Estimate Std. Error t value Pr(&gt;|t|)    \n&quot;,</div><div class='line' id='LC1968'>&nbsp;&nbsp;&nbsp;&nbsp;&nbsp;&nbsp;&nbsp;&nbsp;&quot;(Intercept)                 89.230     13.907   6.416 0.000123 ***\n&quot;,</div><div class='line' id='LC1969'>&nbsp;&nbsp;&nbsp;&nbsp;&nbsp;&nbsp;&nbsp;&nbsp;&quot;nationalityUK               56.560     17.954   3.150 0.011732 *  \n&quot;,</div><div class='line' id='LC1970'>&nbsp;&nbsp;&nbsp;&nbsp;&nbsp;&nbsp;&nbsp;&nbsp;&quot;nationalityUSA               9.040     19.667   0.460 0.656674    \n&quot;,</div><div class='line' id='LC1971'>&nbsp;&nbsp;&nbsp;&nbsp;&nbsp;&nbsp;&nbsp;&nbsp;&quot;awesomeYes                  49.663     17.954   2.766 0.021890 *  \n&quot;,</div><div class='line' id='LC1972'>&nbsp;&nbsp;&nbsp;&nbsp;&nbsp;&nbsp;&nbsp;&nbsp;&quot;nationalityUK:awesomeYes   -47.348     25.391  -1.865 0.095084 .  \n&quot;,</div><div class='line' id='LC1973'>&nbsp;&nbsp;&nbsp;&nbsp;&nbsp;&nbsp;&nbsp;&nbsp;&quot;nationalityUSA:awesomeYes   -6.803     25.391  -0.268 0.794780    \n&quot;,</div><div class='line' id='LC1974'>&nbsp;&nbsp;&nbsp;&nbsp;&nbsp;&nbsp;&nbsp;&nbsp;&quot;---\n&quot;,</div><div class='line' id='LC1975'>&nbsp;&nbsp;&nbsp;&nbsp;&nbsp;&nbsp;&nbsp;&nbsp;&quot;Signif. codes:  0 \u2018***\u2019 0.001 \u2018**\u2019 0.01 \u2018*\u2019 0.05 \u2018.\u2019 0.1 \u2018 \u2019 1 \n&quot;,</div><div class='line' id='LC1976'>&nbsp;&nbsp;&nbsp;&nbsp;&nbsp;&nbsp;&nbsp;&nbsp;&quot;\n&quot;,</div><div class='line' id='LC1977'>&nbsp;&nbsp;&nbsp;&nbsp;&nbsp;&nbsp;&nbsp;&nbsp;&quot;Residual standard error: 19.67 on 9 degrees of freedom\n&quot;,</div><div class='line' id='LC1978'>&nbsp;&nbsp;&nbsp;&nbsp;&nbsp;&nbsp;&nbsp;&nbsp;&quot;Multiple R-squared: 0.6786,\tAdjusted R-squared:   0.5 \n&quot;,</div><div class='line' id='LC1979'>&nbsp;&nbsp;&nbsp;&nbsp;&nbsp;&nbsp;&nbsp;&nbsp;&quot;F-statistic:   3.8 on 5 and 9 DF,  p-value: 0.03967 \n&quot;,</div><div class='line' id='LC1980'>&nbsp;&nbsp;&nbsp;&nbsp;&nbsp;&nbsp;&nbsp;&nbsp;&quot;\n&quot;</div><div class='line' id='LC1981'>&nbsp;&nbsp;&nbsp;&nbsp;&nbsp;&nbsp;&nbsp;]</div><div class='line' id='LC1982'>&nbsp;&nbsp;&nbsp;&nbsp;&nbsp;&nbsp;}</div><div class='line' id='LC1983'>&nbsp;&nbsp;&nbsp;&nbsp;&nbsp;],</div><div class='line' id='LC1984'>&nbsp;&nbsp;&nbsp;&nbsp;&nbsp;&quot;prompt_number&quot;: 52</div><div class='line' id='LC1985'>&nbsp;&nbsp;&nbsp;&nbsp;},</div><div class='line' id='LC1986'>&nbsp;&nbsp;&nbsp;&nbsp;{</div><div class='line' id='LC1987'>&nbsp;&nbsp;&nbsp;&nbsp;&nbsp;&quot;cell_type&quot;: &quot;markdown&quot;,</div><div class='line' id='LC1988'>&nbsp;&nbsp;&nbsp;&nbsp;&nbsp;&quot;metadata&quot;: {},</div><div class='line' id='LC1989'>&nbsp;&nbsp;&nbsp;&nbsp;&nbsp;&quot;source&quot;: [</div><div class='line' id='LC1990'>&nbsp;&nbsp;&nbsp;&nbsp;&nbsp;&nbsp;&quot;We see the same principle as before; the later columns can be interpreted as tests of the extra effects over and above the earlier columns.  Specifically, the design matrix here has 0-order effects first (the intercept), followed by first-order (nationality, awesome - over and above the zero order effect), followed by the second order effects (nationality interaction with awesome over and above the first order effects).\n&quot;,</div><div class='line' id='LC1991'>&nbsp;&nbsp;&nbsp;&nbsp;&nbsp;&nbsp;&quot;\n&quot;,</div><div class='line' id='LC1992'>&nbsp;&nbsp;&nbsp;&nbsp;&nbsp;&nbsp;&quot;Compare the interaction-only model, that has the same column space.  For clarity, let&#39;s omit the intercept to get indicator coding for the factor level pairs:&quot;</div><div class='line' id='LC1993'>&nbsp;&nbsp;&nbsp;&nbsp;&nbsp;]</div><div class='line' id='LC1994'>&nbsp;&nbsp;&nbsp;&nbsp;},</div><div class='line' id='LC1995'>&nbsp;&nbsp;&nbsp;&nbsp;{</div><div class='line' id='LC1996'>&nbsp;&nbsp;&nbsp;&nbsp;&nbsp;&quot;cell_type&quot;: &quot;code&quot;,</div><div class='line' id='LC1997'>&nbsp;&nbsp;&nbsp;&nbsp;&nbsp;&quot;collapsed&quot;: false,</div><div class='line' id='LC1998'>&nbsp;&nbsp;&nbsp;&nbsp;&nbsp;&quot;input&quot;: [</div><div class='line' id='LC1999'>&nbsp;&nbsp;&nbsp;&nbsp;&nbsp;&nbsp;&quot;%R fit_inters = lm(Y ~ nationality:awesome-1)\n&quot;,</div><div class='line' id='LC2000'>&nbsp;&nbsp;&nbsp;&nbsp;&nbsp;&nbsp;&quot;X_inters = %R model.matrix(fit_inters)\n&quot;,</div><div class='line' id='LC2001'>&nbsp;&nbsp;&nbsp;&nbsp;&nbsp;&nbsp;&quot;print X_inters&quot;</div><div class='line' id='LC2002'>&nbsp;&nbsp;&nbsp;&nbsp;&nbsp;],</div><div class='line' id='LC2003'>&nbsp;&nbsp;&nbsp;&nbsp;&nbsp;&quot;language&quot;: &quot;python&quot;,</div><div class='line' id='LC2004'>&nbsp;&nbsp;&nbsp;&nbsp;&nbsp;&quot;metadata&quot;: {},</div><div class='line' id='LC2005'>&nbsp;&nbsp;&nbsp;&nbsp;&nbsp;&quot;outputs&quot;: [</div><div class='line' id='LC2006'>&nbsp;&nbsp;&nbsp;&nbsp;&nbsp;&nbsp;{</div><div class='line' id='LC2007'>&nbsp;&nbsp;&nbsp;&nbsp;&nbsp;&nbsp;&nbsp;&quot;output_type&quot;: &quot;stream&quot;,</div><div class='line' id='LC2008'>&nbsp;&nbsp;&nbsp;&nbsp;&nbsp;&nbsp;&nbsp;&quot;stream&quot;: &quot;stdout&quot;,</div><div class='line' id='LC2009'>&nbsp;&nbsp;&nbsp;&nbsp;&nbsp;&nbsp;&nbsp;&quot;text&quot;: [</div><div class='line' id='LC2010'>&nbsp;&nbsp;&nbsp;&nbsp;&nbsp;&nbsp;&nbsp;&nbsp;&quot;[[ 0.  0.  0.  0.  0.  1.]\n&quot;,</div><div class='line' id='LC2011'>&nbsp;&nbsp;&nbsp;&nbsp;&nbsp;&nbsp;&nbsp;&nbsp;&quot; [ 0.  0.  1.  0.  0.  0.]\n&quot;,</div><div class='line' id='LC2012'>&nbsp;&nbsp;&nbsp;&nbsp;&nbsp;&nbsp;&nbsp;&nbsp;&quot; [ 0.  0.  0.  0.  0.  1.]\n&quot;,</div><div class='line' id='LC2013'>&nbsp;&nbsp;&nbsp;&nbsp;&nbsp;&nbsp;&nbsp;&nbsp;&quot; [ 0.  0.  1.  0.  0.  0.]\n&quot;,</div><div class='line' id='LC2014'>&nbsp;&nbsp;&nbsp;&nbsp;&nbsp;&nbsp;&nbsp;&nbsp;&quot; [ 0.  0.  0.  0.  0.  1.]\n&quot;,</div><div class='line' id='LC2015'>&nbsp;&nbsp;&nbsp;&nbsp;&nbsp;&nbsp;&nbsp;&nbsp;&quot; [ 0.  1.  0.  0.  0.  0.]\n&quot;,</div><div class='line' id='LC2016'>&nbsp;&nbsp;&nbsp;&nbsp;&nbsp;&nbsp;&nbsp;&nbsp;&quot; [ 0.  0.  0.  0.  1.  0.]\n&quot;,</div><div class='line' id='LC2017'>&nbsp;&nbsp;&nbsp;&nbsp;&nbsp;&nbsp;&nbsp;&nbsp;&quot; [ 0.  1.  0.  0.  0.  0.]\n&quot;,</div><div class='line' id='LC2018'>&nbsp;&nbsp;&nbsp;&nbsp;&nbsp;&nbsp;&nbsp;&nbsp;&quot; [ 0.  0.  0.  0.  1.  0.]\n&quot;,</div><div class='line' id='LC2019'>&nbsp;&nbsp;&nbsp;&nbsp;&nbsp;&nbsp;&nbsp;&nbsp;&quot; [ 0.  1.  0.  0.  0.  0.]\n&quot;,</div><div class='line' id='LC2020'>&nbsp;&nbsp;&nbsp;&nbsp;&nbsp;&nbsp;&nbsp;&nbsp;&quot; [ 0.  0.  0.  1.  0.  0.]\n&quot;,</div><div class='line' id='LC2021'>&nbsp;&nbsp;&nbsp;&nbsp;&nbsp;&nbsp;&nbsp;&nbsp;&quot; [ 1.  0.  0.  0.  0.  0.]\n&quot;,</div><div class='line' id='LC2022'>&nbsp;&nbsp;&nbsp;&nbsp;&nbsp;&nbsp;&nbsp;&nbsp;&quot; [ 0.  0.  0.  1.  0.  0.]\n&quot;,</div><div class='line' id='LC2023'>&nbsp;&nbsp;&nbsp;&nbsp;&nbsp;&nbsp;&nbsp;&nbsp;&quot; [ 1.  0.  0.  0.  0.  0.]\n&quot;,</div><div class='line' id='LC2024'>&nbsp;&nbsp;&nbsp;&nbsp;&nbsp;&nbsp;&nbsp;&nbsp;&quot; [ 0.  0.  0.  1.  0.  0.]]\n&quot;</div><div class='line' id='LC2025'>&nbsp;&nbsp;&nbsp;&nbsp;&nbsp;&nbsp;&nbsp;]</div><div class='line' id='LC2026'>&nbsp;&nbsp;&nbsp;&nbsp;&nbsp;&nbsp;}</div><div class='line' id='LC2027'>&nbsp;&nbsp;&nbsp;&nbsp;&nbsp;],</div><div class='line' id='LC2028'>&nbsp;&nbsp;&nbsp;&nbsp;&nbsp;&quot;prompt_number&quot;: 53</div><div class='line' id='LC2029'>&nbsp;&nbsp;&nbsp;&nbsp;},</div><div class='line' id='LC2030'>&nbsp;&nbsp;&nbsp;&nbsp;{</div><div class='line' id='LC2031'>&nbsp;&nbsp;&nbsp;&nbsp;&nbsp;&quot;cell_type&quot;: &quot;markdown&quot;,</div><div class='line' id='LC2032'>&nbsp;&nbsp;&nbsp;&nbsp;&nbsp;&quot;metadata&quot;: {},</div><div class='line' id='LC2033'>&nbsp;&nbsp;&nbsp;&nbsp;&nbsp;&quot;source&quot;: [</div><div class='line' id='LC2034'>&nbsp;&nbsp;&nbsp;&nbsp;&nbsp;&nbsp;&quot;Do `X_inter` and `X_main_inters` have the same column space as I have claimed?  We see first that they have the same `Residual standard error`:&quot;</div><div class='line' id='LC2035'>&nbsp;&nbsp;&nbsp;&nbsp;&nbsp;]</div><div class='line' id='LC2036'>&nbsp;&nbsp;&nbsp;&nbsp;},</div><div class='line' id='LC2037'>&nbsp;&nbsp;&nbsp;&nbsp;{</div><div class='line' id='LC2038'>&nbsp;&nbsp;&nbsp;&nbsp;&nbsp;&quot;cell_type&quot;: &quot;code&quot;,</div><div class='line' id='LC2039'>&nbsp;&nbsp;&nbsp;&nbsp;&nbsp;&quot;collapsed&quot;: false,</div><div class='line' id='LC2040'>&nbsp;&nbsp;&nbsp;&nbsp;&nbsp;&quot;input&quot;: [</div><div class='line' id='LC2041'>&nbsp;&nbsp;&nbsp;&nbsp;&nbsp;&nbsp;&quot;%R print(summary(fit_inters))&quot;</div><div class='line' id='LC2042'>&nbsp;&nbsp;&nbsp;&nbsp;&nbsp;],</div><div class='line' id='LC2043'>&nbsp;&nbsp;&nbsp;&nbsp;&nbsp;&quot;language&quot;: &quot;python&quot;,</div><div class='line' id='LC2044'>&nbsp;&nbsp;&nbsp;&nbsp;&nbsp;&quot;metadata&quot;: {},</div><div class='line' id='LC2045'>&nbsp;&nbsp;&nbsp;&nbsp;&nbsp;&quot;outputs&quot;: [</div><div class='line' id='LC2046'>&nbsp;&nbsp;&nbsp;&nbsp;&nbsp;&nbsp;{</div><div class='line' id='LC2047'>&nbsp;&nbsp;&nbsp;&nbsp;&nbsp;&nbsp;&nbsp;&quot;output_type&quot;: &quot;display_data&quot;,</div><div class='line' id='LC2048'>&nbsp;&nbsp;&nbsp;&nbsp;&nbsp;&nbsp;&nbsp;&quot;text&quot;: [</div><div class='line' id='LC2049'>&nbsp;&nbsp;&nbsp;&nbsp;&nbsp;&nbsp;&nbsp;&nbsp;&quot;\n&quot;,</div><div class='line' id='LC2050'>&nbsp;&nbsp;&nbsp;&nbsp;&nbsp;&nbsp;&nbsp;&nbsp;&quot;Call:\n&quot;,</div><div class='line' id='LC2051'>&nbsp;&nbsp;&nbsp;&nbsp;&nbsp;&nbsp;&nbsp;&nbsp;&quot;lm(formula = Y ~ nationality:awesome - 1)\n&quot;,</div><div class='line' id='LC2052'>&nbsp;&nbsp;&nbsp;&nbsp;&nbsp;&nbsp;&nbsp;&nbsp;&quot;\n&quot;,</div><div class='line' id='LC2053'>&nbsp;&nbsp;&nbsp;&nbsp;&nbsp;&nbsp;&nbsp;&nbsp;&quot;Residuals:\n&quot;,</div><div class='line' id='LC2054'>&nbsp;&nbsp;&nbsp;&nbsp;&nbsp;&nbsp;&nbsp;&nbsp;&quot;    Min      1Q  Median      3Q     Max \n&quot;,</div><div class='line' id='LC2055'>&nbsp;&nbsp;&nbsp;&nbsp;&nbsp;&nbsp;&nbsp;&nbsp;&quot;-23.280  -5.804  -0.070   4.550  45.990 \n&quot;,</div><div class='line' id='LC2056'>&nbsp;&nbsp;&nbsp;&nbsp;&nbsp;&nbsp;&nbsp;&nbsp;&quot;\n&quot;,</div><div class='line' id='LC2057'>&nbsp;&nbsp;&nbsp;&nbsp;&nbsp;&nbsp;&nbsp;&nbsp;&quot;Coefficients:\n&quot;,</div><div class='line' id='LC2058'>&nbsp;&nbsp;&nbsp;&nbsp;&nbsp;&nbsp;&nbsp;&nbsp;&quot;                             Estimate Std. Error t value Pr(&gt;|t|)    \n&quot;,</div><div class='line' id='LC2059'>&nbsp;&nbsp;&nbsp;&nbsp;&nbsp;&nbsp;&nbsp;&nbsp;&quot;nationalityFrance:awesomeNo     89.23      13.91   6.416 0.000123 ***\n&quot;,</div><div class='line' id='LC2060'>&nbsp;&nbsp;&nbsp;&nbsp;&nbsp;&nbsp;&nbsp;&nbsp;&quot;nationalityUK:awesomeNo        145.79      11.36  12.839 4.32e-07 ***\n&quot;,</div><div class='line' id='LC2061'>&nbsp;&nbsp;&nbsp;&nbsp;&nbsp;&nbsp;&nbsp;&nbsp;&quot;nationalityUSA:awesomeNo        98.27      13.91   7.066 5.88e-05 ***\n&quot;,</div><div class='line' id='LC2062'>&nbsp;&nbsp;&nbsp;&nbsp;&nbsp;&nbsp;&nbsp;&nbsp;&quot;nationalityFrance:awesomeYes   138.89      11.36  12.232 6.54e-07 ***\n&quot;,</div><div class='line' id='LC2063'>&nbsp;&nbsp;&nbsp;&nbsp;&nbsp;&nbsp;&nbsp;&nbsp;&quot;nationalityUK:awesomeYes       148.10      13.91  10.650 2.11e-06 ***\n&quot;,</div><div class='line' id='LC2064'>&nbsp;&nbsp;&nbsp;&nbsp;&nbsp;&nbsp;&nbsp;&nbsp;&quot;nationalityUSA:awesomeYes      141.13      11.36  12.429 5.71e-07 ***\n&quot;,</div><div class='line' id='LC2065'>&nbsp;&nbsp;&nbsp;&nbsp;&nbsp;&nbsp;&nbsp;&nbsp;&quot;---\n&quot;,</div><div class='line' id='LC2066'>&nbsp;&nbsp;&nbsp;&nbsp;&nbsp;&nbsp;&nbsp;&nbsp;&quot;Signif. codes:  0 \u2018***\u2019 0.001 \u2018**\u2019 0.01 \u2018*\u2019 0.05 \u2018.\u2019 0.1 \u2018 \u2019 1 \n&quot;,</div><div class='line' id='LC2067'>&nbsp;&nbsp;&nbsp;&nbsp;&nbsp;&nbsp;&nbsp;&nbsp;&quot;\n&quot;,</div><div class='line' id='LC2068'>&nbsp;&nbsp;&nbsp;&nbsp;&nbsp;&nbsp;&nbsp;&nbsp;&quot;Residual standard error: 19.67 on 9 degrees of freedom\n&quot;,</div><div class='line' id='LC2069'>&nbsp;&nbsp;&nbsp;&nbsp;&nbsp;&nbsp;&nbsp;&nbsp;&quot;Multiple R-squared: 0.9868,\tAdjusted R-squared: 0.978 \n&quot;,</div><div class='line' id='LC2070'>&nbsp;&nbsp;&nbsp;&nbsp;&nbsp;&nbsp;&nbsp;&nbsp;&quot;F-statistic: 112.2 on 6 and 9 DF,  p-value: 6.075e-08 \n&quot;,</div><div class='line' id='LC2071'>&nbsp;&nbsp;&nbsp;&nbsp;&nbsp;&nbsp;&nbsp;&nbsp;&quot;\n&quot;</div><div class='line' id='LC2072'>&nbsp;&nbsp;&nbsp;&nbsp;&nbsp;&nbsp;&nbsp;]</div><div class='line' id='LC2073'>&nbsp;&nbsp;&nbsp;&nbsp;&nbsp;&nbsp;}</div><div class='line' id='LC2074'>&nbsp;&nbsp;&nbsp;&nbsp;&nbsp;],</div><div class='line' id='LC2075'>&nbsp;&nbsp;&nbsp;&nbsp;&nbsp;&quot;prompt_number&quot;: 54</div><div class='line' id='LC2076'>&nbsp;&nbsp;&nbsp;&nbsp;},</div><div class='line' id='LC2077'>&nbsp;&nbsp;&nbsp;&nbsp;{</div><div class='line' id='LC2078'>&nbsp;&nbsp;&nbsp;&nbsp;&nbsp;&quot;cell_type&quot;: &quot;markdown&quot;,</div><div class='line' id='LC2079'>&nbsp;&nbsp;&nbsp;&nbsp;&nbsp;&quot;metadata&quot;: {},</div><div class='line' id='LC2080'>&nbsp;&nbsp;&nbsp;&nbsp;&nbsp;&quot;source&quot;: [</div><div class='line' id='LC2081'>&nbsp;&nbsp;&nbsp;&nbsp;&nbsp;&nbsp;&quot;Is there a matrix `C` such that `X_main_inters = np.dot(X_inters, C)`?  Yes:&quot;</div><div class='line' id='LC2082'>&nbsp;&nbsp;&nbsp;&nbsp;&nbsp;]</div><div class='line' id='LC2083'>&nbsp;&nbsp;&nbsp;&nbsp;},</div><div class='line' id='LC2084'>&nbsp;&nbsp;&nbsp;&nbsp;{</div><div class='line' id='LC2085'>&nbsp;&nbsp;&nbsp;&nbsp;&nbsp;&quot;cell_type&quot;: &quot;code&quot;,</div><div class='line' id='LC2086'>&nbsp;&nbsp;&nbsp;&nbsp;&nbsp;&quot;collapsed&quot;: false,</div><div class='line' id='LC2087'>&nbsp;&nbsp;&nbsp;&nbsp;&nbsp;&quot;input&quot;: [</div><div class='line' id='LC2088'>&nbsp;&nbsp;&nbsp;&nbsp;&nbsp;&nbsp;&quot;C = np.dot(np.linalg.pinv(X_inters), X_main_inters)\n&quot;,</div><div class='line' id='LC2089'>&nbsp;&nbsp;&nbsp;&nbsp;&nbsp;&nbsp;&quot;np.allclose(np.dot(X_inters, C), X_main_inters)&quot;</div><div class='line' id='LC2090'>&nbsp;&nbsp;&nbsp;&nbsp;&nbsp;],</div><div class='line' id='LC2091'>&nbsp;&nbsp;&nbsp;&nbsp;&nbsp;&quot;language&quot;: &quot;python&quot;,</div><div class='line' id='LC2092'>&nbsp;&nbsp;&nbsp;&nbsp;&nbsp;&quot;metadata&quot;: {},</div><div class='line' id='LC2093'>&nbsp;&nbsp;&nbsp;&nbsp;&nbsp;&quot;outputs&quot;: [</div><div class='line' id='LC2094'>&nbsp;&nbsp;&nbsp;&nbsp;&nbsp;&nbsp;{</div><div class='line' id='LC2095'>&nbsp;&nbsp;&nbsp;&nbsp;&nbsp;&nbsp;&nbsp;&quot;output_type&quot;: &quot;pyout&quot;,</div><div class='line' id='LC2096'>&nbsp;&nbsp;&nbsp;&nbsp;&nbsp;&nbsp;&nbsp;&quot;prompt_number&quot;: 55,</div><div class='line' id='LC2097'>&nbsp;&nbsp;&nbsp;&nbsp;&nbsp;&nbsp;&nbsp;&quot;text&quot;: [</div><div class='line' id='LC2098'>&nbsp;&nbsp;&nbsp;&nbsp;&nbsp;&nbsp;&nbsp;&nbsp;&quot;True&quot;</div><div class='line' id='LC2099'>&nbsp;&nbsp;&nbsp;&nbsp;&nbsp;&nbsp;&nbsp;]</div><div class='line' id='LC2100'>&nbsp;&nbsp;&nbsp;&nbsp;&nbsp;&nbsp;}</div><div class='line' id='LC2101'>&nbsp;&nbsp;&nbsp;&nbsp;&nbsp;],</div><div class='line' id='LC2102'>&nbsp;&nbsp;&nbsp;&nbsp;&nbsp;&quot;prompt_number&quot;: 55</div><div class='line' id='LC2103'>&nbsp;&nbsp;&nbsp;&nbsp;},</div><div class='line' id='LC2104'>&nbsp;&nbsp;&nbsp;&nbsp;{</div><div class='line' id='LC2105'>&nbsp;&nbsp;&nbsp;&nbsp;&nbsp;&quot;cell_type&quot;: &quot;markdown&quot;,</div><div class='line' id='LC2106'>&nbsp;&nbsp;&nbsp;&nbsp;&nbsp;&quot;metadata&quot;: {},</div><div class='line' id='LC2107'>&nbsp;&nbsp;&nbsp;&nbsp;&nbsp;&quot;source&quot;: [</div><div class='line' id='LC2108'>&nbsp;&nbsp;&nbsp;&nbsp;&nbsp;&nbsp;&quot;From the fit above, we see that the individual coefficients in the `fit_inters` fit carry the effect of the (otherwise unmodeled) global intercept, and in fact they also carry the main effects.  That makes sense because the intercept and main effect and interaction are all modeled with the same set of columns.&quot;</div><div class='line' id='LC2109'>&nbsp;&nbsp;&nbsp;&nbsp;&nbsp;]</div><div class='line' id='LC2110'>&nbsp;&nbsp;&nbsp;&nbsp;},</div><div class='line' id='LC2111'>&nbsp;&nbsp;&nbsp;&nbsp;{</div><div class='line' id='LC2112'>&nbsp;&nbsp;&nbsp;&nbsp;&nbsp;&quot;cell_type&quot;: &quot;heading&quot;,</div><div class='line' id='LC2113'>&nbsp;&nbsp;&nbsp;&nbsp;&nbsp;&quot;level&quot;: 2,</div><div class='line' id='LC2114'>&nbsp;&nbsp;&nbsp;&nbsp;&nbsp;&quot;metadata&quot;: {},</div><div class='line' id='LC2115'>&nbsp;&nbsp;&nbsp;&nbsp;&nbsp;&quot;source&quot;: [</div><div class='line' id='LC2116'>&nbsp;&nbsp;&nbsp;&nbsp;&nbsp;&nbsp;&quot;Column space and contrast matrices&quot;</div><div class='line' id='LC2117'>&nbsp;&nbsp;&nbsp;&nbsp;&nbsp;]</div><div class='line' id='LC2118'>&nbsp;&nbsp;&nbsp;&nbsp;},</div><div class='line' id='LC2119'>&nbsp;&nbsp;&nbsp;&nbsp;{</div><div class='line' id='LC2120'>&nbsp;&nbsp;&nbsp;&nbsp;&nbsp;&quot;cell_type&quot;: &quot;markdown&quot;,</div><div class='line' id='LC2121'>&nbsp;&nbsp;&nbsp;&nbsp;&nbsp;&quot;metadata&quot;: {},</div><div class='line' id='LC2122'>&nbsp;&nbsp;&nbsp;&nbsp;&nbsp;&quot;source&quot;: [</div><div class='line' id='LC2123'>&nbsp;&nbsp;&nbsp;&nbsp;&nbsp;&nbsp;&quot;If two design matrices have the same column space, then any comparison possible for the first model is also possible for the second, with suitable *contrast matrices*.  Consider the designs above for the `nationality` factor, with and without the intercept.\n&quot;,</div><div class='line' id='LC2124'>&nbsp;&nbsp;&nbsp;&nbsp;&nbsp;&nbsp;&quot;\n&quot;,</div><div class='line' id='LC2125'>&nbsp;&nbsp;&nbsp;&nbsp;&nbsp;&nbsp;&quot;Remember that the design with the intercept gave us coefficients reflecting the *treatment contrast* for the factor main effect. But, the design without the intercept has the same column space.  What if have coefficients for the no-intercept design matrix, but I want the coefficients I would have got for the with-intercept design?\n&quot;,</div><div class='line' id='LC2126'>&nbsp;&nbsp;&nbsp;&nbsp;&nbsp;&nbsp;&quot;\n&quot;,</div><div class='line' id='LC2127'>&nbsp;&nbsp;&nbsp;&nbsp;&nbsp;&nbsp;&quot;Call our design matrix with intercept $X_W$, and the design matrix without the intercept $X_N$.   The fitted values $\\hat{Y}$ for any design $X$ are given by:\n&quot;,</div><div class='line' id='LC2128'>&nbsp;&nbsp;&nbsp;&nbsp;&nbsp;&nbsp;&quot;\n&quot;,</div><div class='line' id='LC2129'>&nbsp;&nbsp;&nbsp;&nbsp;&nbsp;&nbsp;&quot;$\\hat{Y} = X B$\n&quot;,</div><div class='line' id='LC2130'>&nbsp;&nbsp;&nbsp;&nbsp;&nbsp;&nbsp;&quot;\n&quot;,</div><div class='line' id='LC2131'>&nbsp;&nbsp;&nbsp;&nbsp;&nbsp;&nbsp;&quot;where $B$ is the column vector of coefficients from the fit (for example: `coef(fit_no_intercept))`).   So for the no-intercept design:\n&quot;,</div><div class='line' id='LC2132'>&nbsp;&nbsp;&nbsp;&nbsp;&nbsp;&nbsp;&quot;\n&quot;,</div><div class='line' id='LC2133'>&nbsp;&nbsp;&nbsp;&nbsp;&nbsp;&nbsp;&quot;$\\hat{Y} = X_N B_N$\n&quot;,</div><div class='line' id='LC2134'>&nbsp;&nbsp;&nbsp;&nbsp;&nbsp;&nbsp;&quot;\n&quot;,</div><div class='line' id='LC2135'>&nbsp;&nbsp;&nbsp;&nbsp;&nbsp;&nbsp;&quot;I postulate there is a vector of parameters $B_W$ for the with-intercept design that gives me exactly the same fitted values, so:\n&quot;,</div><div class='line' id='LC2136'>&nbsp;&nbsp;&nbsp;&nbsp;&nbsp;&nbsp;&quot;\n&quot;,</div><div class='line' id='LC2137'>&nbsp;&nbsp;&nbsp;&nbsp;&nbsp;&nbsp;&quot;$\n&quot;,</div><div class='line' id='LC2138'>&nbsp;&nbsp;&nbsp;&nbsp;&nbsp;&nbsp;&quot;\\hat{Y} = X_W B_W \\implies\n&quot;,</div><div class='line' id='LC2139'>&nbsp;&nbsp;&nbsp;&nbsp;&nbsp;&nbsp;&quot;X_W B_W = X_N B_N\n&quot;,</div><div class='line' id='LC2140'>&nbsp;&nbsp;&nbsp;&nbsp;&nbsp;&nbsp;&quot;$\n&quot;,</div><div class='line' id='LC2141'>&nbsp;&nbsp;&nbsp;&nbsp;&nbsp;&nbsp;&quot;\n&quot;,</div><div class='line' id='LC2142'>&nbsp;&nbsp;&nbsp;&nbsp;&nbsp;&nbsp;&quot;We want to know what $B_W$ are given $B_N$.\n&quot;,</div><div class='line' id='LC2143'>&nbsp;&nbsp;&nbsp;&nbsp;&nbsp;&nbsp;&quot;\n&quot;,</div><div class='line' id='LC2144'>&nbsp;&nbsp;&nbsp;&nbsp;&nbsp;&nbsp;&quot;Because the intercept design $X_W$ spans the column space of $X_N$, we know that there is some matrix $C$ such that $X_N = X_W C$.  Therefore:\n&quot;,</div><div class='line' id='LC2145'>&nbsp;&nbsp;&nbsp;&nbsp;&nbsp;&nbsp;&quot;\n&quot;,</div><div class='line' id='LC2146'>&nbsp;&nbsp;&nbsp;&nbsp;&nbsp;&nbsp;&quot;$X_W B_W = X_W C B_N$\n&quot;,</div><div class='line' id='LC2147'>&nbsp;&nbsp;&nbsp;&nbsp;&nbsp;&nbsp;&quot;\n&quot;,</div><div class='line' id='LC2148'>&nbsp;&nbsp;&nbsp;&nbsp;&nbsp;&nbsp;&quot;This will be true if:\n&quot;,</div><div class='line' id='LC2149'>&nbsp;&nbsp;&nbsp;&nbsp;&nbsp;&nbsp;&quot;\n&quot;,</div><div class='line' id='LC2150'>&nbsp;&nbsp;&nbsp;&nbsp;&nbsp;&nbsp;&quot;$B_W = C B_N$\n&quot;,</div><div class='line' id='LC2151'>&nbsp;&nbsp;&nbsp;&nbsp;&nbsp;&nbsp;&quot;\n&quot;,</div><div class='line' id='LC2152'>&nbsp;&nbsp;&nbsp;&nbsp;&nbsp;&nbsp;&quot;So, we need the matrix $C$ mapping the columns of $X_W$ to the columns of $X_N$.  $C$ is our contrast matrix.\n&quot;</div><div class='line' id='LC2153'>&nbsp;&nbsp;&nbsp;&nbsp;&nbsp;]</div><div class='line' id='LC2154'>&nbsp;&nbsp;&nbsp;&nbsp;},</div><div class='line' id='LC2155'>&nbsp;&nbsp;&nbsp;&nbsp;{</div><div class='line' id='LC2156'>&nbsp;&nbsp;&nbsp;&nbsp;&nbsp;&quot;cell_type&quot;: &quot;markdown&quot;,</div><div class='line' id='LC2157'>&nbsp;&nbsp;&nbsp;&nbsp;&nbsp;&quot;metadata&quot;: {},</div><div class='line' id='LC2158'>&nbsp;&nbsp;&nbsp;&nbsp;&nbsp;&quot;source&quot;: [</div><div class='line' id='LC2159'>&nbsp;&nbsp;&nbsp;&nbsp;&nbsp;&nbsp;&quot;R will give us the matrix to construct the contrast columns from the indicator columns; this maps the columns of $X_W$ to the columns of $X_N$.&quot;</div><div class='line' id='LC2160'>&nbsp;&nbsp;&nbsp;&nbsp;&nbsp;]</div><div class='line' id='LC2161'>&nbsp;&nbsp;&nbsp;&nbsp;},</div><div class='line' id='LC2162'>&nbsp;&nbsp;&nbsp;&nbsp;{</div><div class='line' id='LC2163'>&nbsp;&nbsp;&nbsp;&nbsp;&nbsp;&quot;cell_type&quot;: &quot;code&quot;,</div><div class='line' id='LC2164'>&nbsp;&nbsp;&nbsp;&nbsp;&nbsp;&quot;collapsed&quot;: false,</div><div class='line' id='LC2165'>&nbsp;&nbsp;&nbsp;&nbsp;&nbsp;&quot;input&quot;: [</div><div class='line' id='LC2166'>&nbsp;&nbsp;&nbsp;&nbsp;&nbsp;&nbsp;&quot;C_ind2treat = %R contr.treatment(3) # 3 factor levels for nationality\n&quot;,</div><div class='line' id='LC2167'>&nbsp;&nbsp;&nbsp;&nbsp;&nbsp;&nbsp;&quot;C_N2W = np.column_stack(([1, 1, 1], C_ind2treat)) # Add intercept generating column\n&quot;,</div><div class='line' id='LC2168'>&nbsp;&nbsp;&nbsp;&nbsp;&nbsp;&nbsp;&quot;X_N = %R model.matrix(fit_no_intercept)\n&quot;,</div><div class='line' id='LC2169'>&nbsp;&nbsp;&nbsp;&nbsp;&nbsp;&nbsp;&quot;X_W = %R model.matrix(fit_with_intercept)\n&quot;,</div><div class='line' id='LC2170'>&nbsp;&nbsp;&nbsp;&nbsp;&nbsp;&nbsp;&quot;print np.all(np.dot(X_N, C_N2W) == X_W) # Confirm we have C&#39; to map X_N to X_W&quot;</div><div class='line' id='LC2171'>&nbsp;&nbsp;&nbsp;&nbsp;&nbsp;],</div><div class='line' id='LC2172'>&nbsp;&nbsp;&nbsp;&nbsp;&nbsp;&quot;language&quot;: &quot;python&quot;,</div><div class='line' id='LC2173'>&nbsp;&nbsp;&nbsp;&nbsp;&nbsp;&quot;metadata&quot;: {},</div><div class='line' id='LC2174'>&nbsp;&nbsp;&nbsp;&nbsp;&nbsp;&quot;outputs&quot;: [</div><div class='line' id='LC2175'>&nbsp;&nbsp;&nbsp;&nbsp;&nbsp;&nbsp;{</div><div class='line' id='LC2176'>&nbsp;&nbsp;&nbsp;&nbsp;&nbsp;&nbsp;&nbsp;&quot;output_type&quot;: &quot;stream&quot;,</div><div class='line' id='LC2177'>&nbsp;&nbsp;&nbsp;&nbsp;&nbsp;&nbsp;&nbsp;&quot;stream&quot;: &quot;stdout&quot;,</div><div class='line' id='LC2178'>&nbsp;&nbsp;&nbsp;&nbsp;&nbsp;&nbsp;&nbsp;&quot;text&quot;: [</div><div class='line' id='LC2179'>&nbsp;&nbsp;&nbsp;&nbsp;&nbsp;&nbsp;&nbsp;&nbsp;&quot;True\n&quot;</div><div class='line' id='LC2180'>&nbsp;&nbsp;&nbsp;&nbsp;&nbsp;&nbsp;&nbsp;]</div><div class='line' id='LC2181'>&nbsp;&nbsp;&nbsp;&nbsp;&nbsp;&nbsp;}</div><div class='line' id='LC2182'>&nbsp;&nbsp;&nbsp;&nbsp;&nbsp;],</div><div class='line' id='LC2183'>&nbsp;&nbsp;&nbsp;&nbsp;&nbsp;&quot;prompt_number&quot;: 56</div><div class='line' id='LC2184'>&nbsp;&nbsp;&nbsp;&nbsp;},</div><div class='line' id='LC2185'>&nbsp;&nbsp;&nbsp;&nbsp;{</div><div class='line' id='LC2186'>&nbsp;&nbsp;&nbsp;&nbsp;&nbsp;&quot;cell_type&quot;: &quot;markdown&quot;,</div><div class='line' id='LC2187'>&nbsp;&nbsp;&nbsp;&nbsp;&nbsp;&quot;metadata&quot;: {},</div><div class='line' id='LC2188'>&nbsp;&nbsp;&nbsp;&nbsp;&nbsp;&quot;source&quot;: [</div><div class='line' id='LC2189'>&nbsp;&nbsp;&nbsp;&nbsp;&nbsp;&nbsp;&quot;We have the mapping from `X_N` to `X_W`, but we want $C$ to map `X_W` to `X_N`.  Call this `C_W2N`. Luckily `C_N2W` is invertible, and we have our `C_W2N` with one bound:&quot;</div><div class='line' id='LC2190'>&nbsp;&nbsp;&nbsp;&nbsp;&nbsp;]</div><div class='line' id='LC2191'>&nbsp;&nbsp;&nbsp;&nbsp;},</div><div class='line' id='LC2192'>&nbsp;&nbsp;&nbsp;&nbsp;{</div><div class='line' id='LC2193'>&nbsp;&nbsp;&nbsp;&nbsp;&nbsp;&quot;cell_type&quot;: &quot;code&quot;,</div><div class='line' id='LC2194'>&nbsp;&nbsp;&nbsp;&nbsp;&nbsp;&quot;collapsed&quot;: false,</div><div class='line' id='LC2195'>&nbsp;&nbsp;&nbsp;&nbsp;&nbsp;&quot;input&quot;: [</div><div class='line' id='LC2196'>&nbsp;&nbsp;&nbsp;&nbsp;&nbsp;&nbsp;&quot;C_W2N = np.linalg.inv(C_N2W) # The C we want\n&quot;,</div><div class='line' id='LC2197'>&nbsp;&nbsp;&nbsp;&nbsp;&nbsp;&nbsp;&quot;print np.all(np.dot(X_W, C_W2N) == X_N) # confirm it&#39;s the C we want&quot;</div><div class='line' id='LC2198'>&nbsp;&nbsp;&nbsp;&nbsp;&nbsp;],</div><div class='line' id='LC2199'>&nbsp;&nbsp;&nbsp;&nbsp;&nbsp;&quot;language&quot;: &quot;python&quot;,</div><div class='line' id='LC2200'>&nbsp;&nbsp;&nbsp;&nbsp;&nbsp;&quot;metadata&quot;: {},</div><div class='line' id='LC2201'>&nbsp;&nbsp;&nbsp;&nbsp;&nbsp;&quot;outputs&quot;: [</div><div class='line' id='LC2202'>&nbsp;&nbsp;&nbsp;&nbsp;&nbsp;&nbsp;{</div><div class='line' id='LC2203'>&nbsp;&nbsp;&nbsp;&nbsp;&nbsp;&nbsp;&nbsp;&quot;output_type&quot;: &quot;stream&quot;,</div><div class='line' id='LC2204'>&nbsp;&nbsp;&nbsp;&nbsp;&nbsp;&nbsp;&nbsp;&quot;stream&quot;: &quot;stdout&quot;,</div><div class='line' id='LC2205'>&nbsp;&nbsp;&nbsp;&nbsp;&nbsp;&nbsp;&nbsp;&quot;text&quot;: [</div><div class='line' id='LC2206'>&nbsp;&nbsp;&nbsp;&nbsp;&nbsp;&nbsp;&nbsp;&nbsp;&quot;True\n&quot;</div><div class='line' id='LC2207'>&nbsp;&nbsp;&nbsp;&nbsp;&nbsp;&nbsp;&nbsp;]</div><div class='line' id='LC2208'>&nbsp;&nbsp;&nbsp;&nbsp;&nbsp;&nbsp;}</div><div class='line' id='LC2209'>&nbsp;&nbsp;&nbsp;&nbsp;&nbsp;],</div><div class='line' id='LC2210'>&nbsp;&nbsp;&nbsp;&nbsp;&nbsp;&quot;prompt_number&quot;: 57</div><div class='line' id='LC2211'>&nbsp;&nbsp;&nbsp;&nbsp;},</div><div class='line' id='LC2212'>&nbsp;&nbsp;&nbsp;&nbsp;{</div><div class='line' id='LC2213'>&nbsp;&nbsp;&nbsp;&nbsp;&nbsp;&quot;cell_type&quot;: &quot;markdown&quot;,</div><div class='line' id='LC2214'>&nbsp;&nbsp;&nbsp;&nbsp;&nbsp;&quot;metadata&quot;: {},</div><div class='line' id='LC2215'>&nbsp;&nbsp;&nbsp;&nbsp;&nbsp;&quot;source&quot;: [</div><div class='line' id='LC2216'>&nbsp;&nbsp;&nbsp;&nbsp;&nbsp;&nbsp;&quot;Now we can get the $B_N$ cooefficients from the $B_W$ coefficients without reestimating the design:&quot;</div><div class='line' id='LC2217'>&nbsp;&nbsp;&nbsp;&nbsp;&nbsp;]</div><div class='line' id='LC2218'>&nbsp;&nbsp;&nbsp;&nbsp;},</div><div class='line' id='LC2219'>&nbsp;&nbsp;&nbsp;&nbsp;{</div><div class='line' id='LC2220'>&nbsp;&nbsp;&nbsp;&nbsp;&nbsp;&quot;cell_type&quot;: &quot;code&quot;,</div><div class='line' id='LC2221'>&nbsp;&nbsp;&nbsp;&nbsp;&nbsp;&quot;collapsed&quot;: false,</div><div class='line' id='LC2222'>&nbsp;&nbsp;&nbsp;&nbsp;&nbsp;&quot;input&quot;: [</div><div class='line' id='LC2223'>&nbsp;&nbsp;&nbsp;&nbsp;&nbsp;&nbsp;&quot;B_N = %R coef(fit_no_intercept) # No intercept coefficients\n&quot;,</div><div class='line' id='LC2224'>&nbsp;&nbsp;&nbsp;&nbsp;&nbsp;&nbsp;&quot;B_N = B_N.reshape(-1, 1) # Make into a column vector for dot product\n&quot;,</div><div class='line' id='LC2225'>&nbsp;&nbsp;&nbsp;&nbsp;&nbsp;&nbsp;&quot;B_I_est = np.dot(C_W2N, B_N) # Estimate coefficients for with-intercept model\n&quot;,</div><div class='line' id='LC2226'>&nbsp;&nbsp;&nbsp;&nbsp;&nbsp;&nbsp;&quot;B_I = %R coef(fit_with_intercept)\n&quot;,</div><div class='line' id='LC2227'>&nbsp;&nbsp;&nbsp;&nbsp;&nbsp;&nbsp;&quot;print \&quot;Coefficients from intercept model\&quot;, B_I\n&quot;,</div><div class='line' id='LC2228'>&nbsp;&nbsp;&nbsp;&nbsp;&nbsp;&nbsp;&quot;print \&quot;Coefficients recreated from non-intercept model\&quot;, B_I_est.T&quot;</div><div class='line' id='LC2229'>&nbsp;&nbsp;&nbsp;&nbsp;&nbsp;],</div><div class='line' id='LC2230'>&nbsp;&nbsp;&nbsp;&nbsp;&nbsp;&quot;language&quot;: &quot;python&quot;,</div><div class='line' id='LC2231'>&nbsp;&nbsp;&nbsp;&nbsp;&nbsp;&quot;metadata&quot;: {},</div><div class='line' id='LC2232'>&nbsp;&nbsp;&nbsp;&nbsp;&nbsp;&quot;outputs&quot;: [</div><div class='line' id='LC2233'>&nbsp;&nbsp;&nbsp;&nbsp;&nbsp;&nbsp;{</div><div class='line' id='LC2234'>&nbsp;&nbsp;&nbsp;&nbsp;&nbsp;&nbsp;&nbsp;&quot;output_type&quot;: &quot;stream&quot;,</div><div class='line' id='LC2235'>&nbsp;&nbsp;&nbsp;&nbsp;&nbsp;&nbsp;&nbsp;&quot;stream&quot;: &quot;stdout&quot;,</div><div class='line' id='LC2236'>&nbsp;&nbsp;&nbsp;&nbsp;&nbsp;&nbsp;&nbsp;&quot;text&quot;: [</div><div class='line' id='LC2237'>&nbsp;&nbsp;&nbsp;&nbsp;&nbsp;&nbsp;&nbsp;&nbsp;&quot;Coefficients from intercept model [ 119.028   27.688    4.958]\n&quot;,</div><div class='line' id='LC2238'>&nbsp;&nbsp;&nbsp;&nbsp;&nbsp;&nbsp;&nbsp;&nbsp;&quot;Coefficients recreated from non-intercept model [[ 119.028   27.688    4.958]]\n&quot;</div><div class='line' id='LC2239'>&nbsp;&nbsp;&nbsp;&nbsp;&nbsp;&nbsp;&nbsp;]</div><div class='line' id='LC2240'>&nbsp;&nbsp;&nbsp;&nbsp;&nbsp;&nbsp;}</div><div class='line' id='LC2241'>&nbsp;&nbsp;&nbsp;&nbsp;&nbsp;],</div><div class='line' id='LC2242'>&nbsp;&nbsp;&nbsp;&nbsp;&nbsp;&quot;prompt_number&quot;: 58</div><div class='line' id='LC2243'>&nbsp;&nbsp;&nbsp;&nbsp;},</div><div class='line' id='LC2244'>&nbsp;&nbsp;&nbsp;&nbsp;{</div><div class='line' id='LC2245'>&nbsp;&nbsp;&nbsp;&nbsp;&nbsp;&quot;cell_type&quot;: &quot;heading&quot;,</div><div class='line' id='LC2246'>&nbsp;&nbsp;&nbsp;&nbsp;&nbsp;&quot;level&quot;: 2,</div><div class='line' id='LC2247'>&nbsp;&nbsp;&nbsp;&nbsp;&nbsp;&quot;metadata&quot;: {},</div><div class='line' id='LC2248'>&nbsp;&nbsp;&nbsp;&nbsp;&nbsp;&quot;source&quot;: [</div><div class='line' id='LC2249'>&nbsp;&nbsp;&nbsp;&nbsp;&nbsp;&nbsp;&quot;Formulae and ANOVA tables&quot;</div><div class='line' id='LC2250'>&nbsp;&nbsp;&nbsp;&nbsp;&nbsp;]</div><div class='line' id='LC2251'>&nbsp;&nbsp;&nbsp;&nbsp;},</div><div class='line' id='LC2252'>&nbsp;&nbsp;&nbsp;&nbsp;{</div><div class='line' id='LC2253'>&nbsp;&nbsp;&nbsp;&nbsp;&nbsp;&quot;cell_type&quot;: &quot;markdown&quot;,</div><div class='line' id='LC2254'>&nbsp;&nbsp;&nbsp;&nbsp;&nbsp;&quot;metadata&quot;: {},</div><div class='line' id='LC2255'>&nbsp;&nbsp;&nbsp;&nbsp;&nbsp;&quot;source&quot;: [</div><div class='line' id='LC2256'>&nbsp;&nbsp;&nbsp;&nbsp;&nbsp;&nbsp;&quot;We&#39;ve seen that R uses the formula to do some partitioning of the design matrix.  We&#39;ve seen for example that `~ nationality + awesome + nationality:awesome` has the the same column space as `~ nationality:awesome` but that the coefficients are different, because, in the first case, R partitions the design into (first) main effects, then interactions.\n&quot;,</div><div class='line' id='LC2257'>&nbsp;&nbsp;&nbsp;&nbsp;&nbsp;&nbsp;&quot;\n&quot;,</div><div class='line' id='LC2258'>&nbsp;&nbsp;&nbsp;&nbsp;&nbsp;&nbsp;&quot;R uses the order of elements in the formula for even more explicit partioning when doing ANOVA tables.&quot;</div><div class='line' id='LC2259'>&nbsp;&nbsp;&nbsp;&nbsp;&nbsp;]</div><div class='line' id='LC2260'>&nbsp;&nbsp;&nbsp;&nbsp;},</div><div class='line' id='LC2261'>&nbsp;&nbsp;&nbsp;&nbsp;{</div><div class='line' id='LC2262'>&nbsp;&nbsp;&nbsp;&nbsp;&nbsp;&quot;cell_type&quot;: &quot;code&quot;,</div><div class='line' id='LC2263'>&nbsp;&nbsp;&nbsp;&nbsp;&nbsp;&quot;collapsed&quot;: false,</div><div class='line' id='LC2264'>&nbsp;&nbsp;&nbsp;&nbsp;&nbsp;&quot;input&quot;: [</div><div class='line' id='LC2265'>&nbsp;&nbsp;&nbsp;&nbsp;&nbsp;&nbsp;&quot;%%R\n&quot;,</div><div class='line' id='LC2266'>&nbsp;&nbsp;&nbsp;&nbsp;&nbsp;&nbsp;&quot;fit_sequential = lm(Y ~ nationality + awesome + nationality:awesome)\n&quot;,</div><div class='line' id='LC2267'>&nbsp;&nbsp;&nbsp;&nbsp;&nbsp;&nbsp;&quot;print(anova(fit_sequential))&quot;</div><div class='line' id='LC2268'>&nbsp;&nbsp;&nbsp;&nbsp;&nbsp;],</div><div class='line' id='LC2269'>&nbsp;&nbsp;&nbsp;&nbsp;&nbsp;&quot;language&quot;: &quot;python&quot;,</div><div class='line' id='LC2270'>&nbsp;&nbsp;&nbsp;&nbsp;&nbsp;&quot;metadata&quot;: {},</div><div class='line' id='LC2271'>&nbsp;&nbsp;&nbsp;&nbsp;&nbsp;&quot;outputs&quot;: [</div><div class='line' id='LC2272'>&nbsp;&nbsp;&nbsp;&nbsp;&nbsp;&nbsp;{</div><div class='line' id='LC2273'>&nbsp;&nbsp;&nbsp;&nbsp;&nbsp;&nbsp;&nbsp;&quot;output_type&quot;: &quot;display_data&quot;,</div><div class='line' id='LC2274'>&nbsp;&nbsp;&nbsp;&nbsp;&nbsp;&nbsp;&nbsp;&quot;text&quot;: [</div><div class='line' id='LC2275'>&nbsp;&nbsp;&nbsp;&nbsp;&nbsp;&nbsp;&nbsp;&nbsp;&quot;Analysis of Variance Table\n&quot;,</div><div class='line' id='LC2276'>&nbsp;&nbsp;&nbsp;&nbsp;&nbsp;&nbsp;&nbsp;&nbsp;&quot;\n&quot;,</div><div class='line' id='LC2277'>&nbsp;&nbsp;&nbsp;&nbsp;&nbsp;&nbsp;&nbsp;&nbsp;&quot;Response: Y\n&quot;,</div><div class='line' id='LC2278'>&nbsp;&nbsp;&nbsp;&nbsp;&nbsp;&nbsp;&nbsp;&nbsp;&quot;                    Df Sum Sq Mean Sq F value Pr(&gt;F)  \n&quot;,</div><div class='line' id='LC2279'>&nbsp;&nbsp;&nbsp;&nbsp;&nbsp;&nbsp;&nbsp;&nbsp;&quot;nationality          2 2179.8  1089.9  2.8176 0.1121  \n&quot;,</div><div class='line' id='LC2280'>&nbsp;&nbsp;&nbsp;&nbsp;&nbsp;&nbsp;&nbsp;&nbsp;&quot;awesome              1 3597.7  3597.7  9.3010 0.0138 *\n&quot;,</div><div class='line' id='LC2281'>&nbsp;&nbsp;&nbsp;&nbsp;&nbsp;&nbsp;&nbsp;&nbsp;&quot;nationality:awesome  2 1572.8   786.4  2.0331 0.1868  \n&quot;,</div><div class='line' id='LC2282'>&nbsp;&nbsp;&nbsp;&nbsp;&nbsp;&nbsp;&nbsp;&nbsp;&quot;Residuals            9 3481.3   386.8                 \n&quot;,</div><div class='line' id='LC2283'>&nbsp;&nbsp;&nbsp;&nbsp;&nbsp;&nbsp;&nbsp;&nbsp;&quot;---\n&quot;,</div><div class='line' id='LC2284'>&nbsp;&nbsp;&nbsp;&nbsp;&nbsp;&nbsp;&nbsp;&nbsp;&quot;Signif. codes:  0 \u2018***\u2019 0.001 \u2018**\u2019 0.01 \u2018*\u2019 0.05 \u2018.\u2019 0.1 \u2018 \u2019 1 \n&quot;</div><div class='line' id='LC2285'>&nbsp;&nbsp;&nbsp;&nbsp;&nbsp;&nbsp;&nbsp;]</div><div class='line' id='LC2286'>&nbsp;&nbsp;&nbsp;&nbsp;&nbsp;&nbsp;}</div><div class='line' id='LC2287'>&nbsp;&nbsp;&nbsp;&nbsp;&nbsp;],</div><div class='line' id='LC2288'>&nbsp;&nbsp;&nbsp;&nbsp;&nbsp;&quot;prompt_number&quot;: 59</div><div class='line' id='LC2289'>&nbsp;&nbsp;&nbsp;&nbsp;},</div><div class='line' id='LC2290'>&nbsp;&nbsp;&nbsp;&nbsp;{</div><div class='line' id='LC2291'>&nbsp;&nbsp;&nbsp;&nbsp;&nbsp;&quot;cell_type&quot;: &quot;markdown&quot;,</div><div class='line' id='LC2292'>&nbsp;&nbsp;&nbsp;&nbsp;&nbsp;&quot;metadata&quot;: {},</div><div class='line' id='LC2293'>&nbsp;&nbsp;&nbsp;&nbsp;&nbsp;&quot;source&quot;: [</div><div class='line' id='LC2294'>&nbsp;&nbsp;&nbsp;&nbsp;&nbsp;&nbsp;&quot;The ANOVA table reports sequential tests as each element enters the formula.  The first line in the table compares the model `~ 1` (intercept only) to `~ 1 + nationality`.   The second line compares `~ 1 + nationality` to `~1 + nationality + awesome`.  The third line compares `~1 + nationality + awesome` to `~ 1 + nationality + awesome + nationality:awesome`.   By \&quot;compares the model\&quot; I mean, do an F test where the numerator is (extra sum of squares error explained by the second (larger) model compared to the first (smaller) model, divided by the extra degrees of freedom used by second compared to the first model).  The denominator is the (sum of squared residuals from `~ 1 + nationality + awesome + nationality:awesome` model divided by the degrees of freedom used by this model).  For example, to get the first F value in the table we take the sum of squares explained by the `~ 1 + nationality` model (below) (2176.8), divide by the degrees of freedom (2), then divide by (the residual sum of squares for the full model (above) (3481.3), divided by the degrees of freedom for the full model (9)):&quot;</div><div class='line' id='LC2295'>&nbsp;&nbsp;&nbsp;&nbsp;&nbsp;]</div><div class='line' id='LC2296'>&nbsp;&nbsp;&nbsp;&nbsp;},</div><div class='line' id='LC2297'>&nbsp;&nbsp;&nbsp;&nbsp;{</div><div class='line' id='LC2298'>&nbsp;&nbsp;&nbsp;&nbsp;&nbsp;&quot;cell_type&quot;: &quot;code&quot;,</div><div class='line' id='LC2299'>&nbsp;&nbsp;&nbsp;&nbsp;&nbsp;&quot;collapsed&quot;: false,</div><div class='line' id='LC2300'>&nbsp;&nbsp;&nbsp;&nbsp;&nbsp;&quot;input&quot;: [</div><div class='line' id='LC2301'>&nbsp;&nbsp;&nbsp;&nbsp;&nbsp;&nbsp;&quot;%R print(anova(lm(Y ~ nationality)))\n&quot;,</div><div class='line' id='LC2302'>&nbsp;&nbsp;&nbsp;&nbsp;&nbsp;&nbsp;&quot;(2179.8 / 2) / (3481.3 / 9)&quot;</div><div class='line' id='LC2303'>&nbsp;&nbsp;&nbsp;&nbsp;&nbsp;],</div><div class='line' id='LC2304'>&nbsp;&nbsp;&nbsp;&nbsp;&nbsp;&quot;language&quot;: &quot;python&quot;,</div><div class='line' id='LC2305'>&nbsp;&nbsp;&nbsp;&nbsp;&nbsp;&quot;metadata&quot;: {},</div><div class='line' id='LC2306'>&nbsp;&nbsp;&nbsp;&nbsp;&nbsp;&quot;outputs&quot;: [</div><div class='line' id='LC2307'>&nbsp;&nbsp;&nbsp;&nbsp;&nbsp;&nbsp;{</div><div class='line' id='LC2308'>&nbsp;&nbsp;&nbsp;&nbsp;&nbsp;&nbsp;&nbsp;&quot;output_type&quot;: &quot;display_data&quot;,</div><div class='line' id='LC2309'>&nbsp;&nbsp;&nbsp;&nbsp;&nbsp;&nbsp;&nbsp;&quot;text&quot;: [</div><div class='line' id='LC2310'>&nbsp;&nbsp;&nbsp;&nbsp;&nbsp;&nbsp;&nbsp;&nbsp;&quot;Analysis of Variance Table\n&quot;,</div><div class='line' id='LC2311'>&nbsp;&nbsp;&nbsp;&nbsp;&nbsp;&nbsp;&nbsp;&nbsp;&quot;\n&quot;,</div><div class='line' id='LC2312'>&nbsp;&nbsp;&nbsp;&nbsp;&nbsp;&nbsp;&nbsp;&nbsp;&quot;Response: Y\n&quot;,</div><div class='line' id='LC2313'>&nbsp;&nbsp;&nbsp;&nbsp;&nbsp;&nbsp;&nbsp;&nbsp;&quot;            Df Sum Sq Mean Sq F value Pr(&gt;F)\n&quot;,</div><div class='line' id='LC2314'>&nbsp;&nbsp;&nbsp;&nbsp;&nbsp;&nbsp;&nbsp;&nbsp;&quot;nationality  2 2179.8 1089.88  1.5117 0.2597\n&quot;,</div><div class='line' id='LC2315'>&nbsp;&nbsp;&nbsp;&nbsp;&nbsp;&nbsp;&nbsp;&nbsp;&quot;Residuals   12 8651.8  720.99               \n&quot;</div><div class='line' id='LC2316'>&nbsp;&nbsp;&nbsp;&nbsp;&nbsp;&nbsp;&nbsp;]</div><div class='line' id='LC2317'>&nbsp;&nbsp;&nbsp;&nbsp;&nbsp;&nbsp;},</div><div class='line' id='LC2318'>&nbsp;&nbsp;&nbsp;&nbsp;&nbsp;&nbsp;{</div><div class='line' id='LC2319'>&nbsp;&nbsp;&nbsp;&nbsp;&nbsp;&nbsp;&nbsp;&quot;output_type&quot;: &quot;pyout&quot;,</div><div class='line' id='LC2320'>&nbsp;&nbsp;&nbsp;&nbsp;&nbsp;&nbsp;&nbsp;&quot;prompt_number&quot;: 60,</div><div class='line' id='LC2321'>&nbsp;&nbsp;&nbsp;&nbsp;&nbsp;&nbsp;&nbsp;&quot;text&quot;: [</div><div class='line' id='LC2322'>&nbsp;&nbsp;&nbsp;&nbsp;&nbsp;&nbsp;&nbsp;&nbsp;&quot;2.8176543245339385&quot;</div><div class='line' id='LC2323'>&nbsp;&nbsp;&nbsp;&nbsp;&nbsp;&nbsp;&nbsp;]</div><div class='line' id='LC2324'>&nbsp;&nbsp;&nbsp;&nbsp;&nbsp;&nbsp;}</div><div class='line' id='LC2325'>&nbsp;&nbsp;&nbsp;&nbsp;&nbsp;],</div><div class='line' id='LC2326'>&nbsp;&nbsp;&nbsp;&nbsp;&nbsp;&quot;prompt_number&quot;: 60</div><div class='line' id='LC2327'>&nbsp;&nbsp;&nbsp;&nbsp;},</div><div class='line' id='LC2328'>&nbsp;&nbsp;&nbsp;&nbsp;{</div><div class='line' id='LC2329'>&nbsp;&nbsp;&nbsp;&nbsp;&nbsp;&quot;cell_type&quot;: &quot;markdown&quot;,</div><div class='line' id='LC2330'>&nbsp;&nbsp;&nbsp;&nbsp;&nbsp;&quot;metadata&quot;: {},</div><div class='line' id='LC2331'>&nbsp;&nbsp;&nbsp;&nbsp;&nbsp;&quot;source&quot;: [</div><div class='line' id='LC2332'>&nbsp;&nbsp;&nbsp;&nbsp;&nbsp;&nbsp;&quot;This sequential form of testing is sometimes called *type I sum of squares*.  \n&quot;,</div><div class='line' id='LC2333'>&nbsp;&nbsp;&nbsp;&nbsp;&nbsp;&nbsp;&quot;\n&quot;,</div><div class='line' id='LC2334'>&nbsp;&nbsp;&nbsp;&nbsp;&nbsp;&nbsp;&quot;The order is strictly sequential, so it makes a difference which order you enter the factors in the formula.  For example, compare:&quot;</div><div class='line' id='LC2335'>&nbsp;&nbsp;&nbsp;&nbsp;&nbsp;]</div><div class='line' id='LC2336'>&nbsp;&nbsp;&nbsp;&nbsp;},</div><div class='line' id='LC2337'>&nbsp;&nbsp;&nbsp;&nbsp;{</div><div class='line' id='LC2338'>&nbsp;&nbsp;&nbsp;&nbsp;&nbsp;&quot;cell_type&quot;: &quot;code&quot;,</div><div class='line' id='LC2339'>&nbsp;&nbsp;&nbsp;&nbsp;&nbsp;&quot;collapsed&quot;: false,</div><div class='line' id='LC2340'>&nbsp;&nbsp;&nbsp;&nbsp;&nbsp;&quot;input&quot;: [</div><div class='line' id='LC2341'>&nbsp;&nbsp;&nbsp;&nbsp;&nbsp;&nbsp;&quot;%%R\n&quot;,</div><div class='line' id='LC2342'>&nbsp;&nbsp;&nbsp;&nbsp;&nbsp;&nbsp;&quot;print(anova(lm(Y ~ nationality + awesome)))\n&quot;,</div><div class='line' id='LC2343'>&nbsp;&nbsp;&nbsp;&nbsp;&nbsp;&nbsp;&quot;print(anova(lm(Y ~ awesome + nationality)))\n&quot;</div><div class='line' id='LC2344'>&nbsp;&nbsp;&nbsp;&nbsp;&nbsp;],</div><div class='line' id='LC2345'>&nbsp;&nbsp;&nbsp;&nbsp;&nbsp;&quot;language&quot;: &quot;python&quot;,</div><div class='line' id='LC2346'>&nbsp;&nbsp;&nbsp;&nbsp;&nbsp;&quot;metadata&quot;: {},</div><div class='line' id='LC2347'>&nbsp;&nbsp;&nbsp;&nbsp;&nbsp;&quot;outputs&quot;: [</div><div class='line' id='LC2348'>&nbsp;&nbsp;&nbsp;&nbsp;&nbsp;&nbsp;{</div><div class='line' id='LC2349'>&nbsp;&nbsp;&nbsp;&nbsp;&nbsp;&nbsp;&nbsp;&quot;output_type&quot;: &quot;display_data&quot;,</div><div class='line' id='LC2350'>&nbsp;&nbsp;&nbsp;&nbsp;&nbsp;&nbsp;&nbsp;&quot;text&quot;: [</div><div class='line' id='LC2351'>&nbsp;&nbsp;&nbsp;&nbsp;&nbsp;&nbsp;&nbsp;&nbsp;&quot;Analysis of Variance Table\n&quot;,</div><div class='line' id='LC2352'>&nbsp;&nbsp;&nbsp;&nbsp;&nbsp;&nbsp;&nbsp;&nbsp;&quot;\n&quot;,</div><div class='line' id='LC2353'>&nbsp;&nbsp;&nbsp;&nbsp;&nbsp;&nbsp;&nbsp;&nbsp;&quot;Response: Y\n&quot;,</div><div class='line' id='LC2354'>&nbsp;&nbsp;&nbsp;&nbsp;&nbsp;&nbsp;&nbsp;&nbsp;&quot;            Df Sum Sq Mean Sq F value  Pr(&gt;F)  \n&quot;,</div><div class='line' id='LC2355'>&nbsp;&nbsp;&nbsp;&nbsp;&nbsp;&nbsp;&nbsp;&nbsp;&quot;nationality  2 2179.8  1089.9  2.3721 0.13916  \n&quot;,</div><div class='line' id='LC2356'>&nbsp;&nbsp;&nbsp;&nbsp;&nbsp;&nbsp;&nbsp;&nbsp;&quot;awesome      1 3597.7  3597.7  7.8303 0.01733 *\n&quot;,</div><div class='line' id='LC2357'>&nbsp;&nbsp;&nbsp;&nbsp;&nbsp;&nbsp;&nbsp;&nbsp;&quot;Residuals   11 5054.1   459.5                  \n&quot;,</div><div class='line' id='LC2358'>&nbsp;&nbsp;&nbsp;&nbsp;&nbsp;&nbsp;&nbsp;&nbsp;&quot;---\n&quot;,</div><div class='line' id='LC2359'>&nbsp;&nbsp;&nbsp;&nbsp;&nbsp;&nbsp;&nbsp;&nbsp;&quot;Signif. codes:  0 \u2018***\u2019 0.001 \u2018**\u2019 0.01 \u2018*\u2019 0.05 \u2018.\u2019 0.1 \u2018 \u2019 1 \n&quot;,</div><div class='line' id='LC2360'>&nbsp;&nbsp;&nbsp;&nbsp;&nbsp;&nbsp;&nbsp;&nbsp;&quot;Analysis of Variance Table\n&quot;,</div><div class='line' id='LC2361'>&nbsp;&nbsp;&nbsp;&nbsp;&nbsp;&nbsp;&nbsp;&nbsp;&quot;\n&quot;,</div><div class='line' id='LC2362'>&nbsp;&nbsp;&nbsp;&nbsp;&nbsp;&nbsp;&nbsp;&nbsp;&quot;Response: Y\n&quot;,</div><div class='line' id='LC2363'>&nbsp;&nbsp;&nbsp;&nbsp;&nbsp;&nbsp;&nbsp;&nbsp;&quot;            Df Sum Sq Mean Sq F value  Pr(&gt;F)  \n&quot;,</div><div class='line' id='LC2364'>&nbsp;&nbsp;&nbsp;&nbsp;&nbsp;&nbsp;&nbsp;&nbsp;&quot;awesome      1 2520.3 2520.27  5.4852 0.03903 *\n&quot;,</div><div class='line' id='LC2365'>&nbsp;&nbsp;&nbsp;&nbsp;&nbsp;&nbsp;&nbsp;&nbsp;&quot;nationality  2 3257.2 1628.61  3.5446 0.06484 .\n&quot;,</div><div class='line' id='LC2366'>&nbsp;&nbsp;&nbsp;&nbsp;&nbsp;&nbsp;&nbsp;&nbsp;&quot;Residuals   11 5054.1  459.46                  \n&quot;,</div><div class='line' id='LC2367'>&nbsp;&nbsp;&nbsp;&nbsp;&nbsp;&nbsp;&nbsp;&nbsp;&quot;---\n&quot;,</div><div class='line' id='LC2368'>&nbsp;&nbsp;&nbsp;&nbsp;&nbsp;&nbsp;&nbsp;&nbsp;&quot;Signif. codes:  0 \u2018***\u2019 0.001 \u2018**\u2019 0.01 \u2018*\u2019 0.05 \u2018.\u2019 0.1 \u2018 \u2019 1 \n&quot;</div><div class='line' id='LC2369'>&nbsp;&nbsp;&nbsp;&nbsp;&nbsp;&nbsp;&nbsp;]</div><div class='line' id='LC2370'>&nbsp;&nbsp;&nbsp;&nbsp;&nbsp;&nbsp;}</div><div class='line' id='LC2371'>&nbsp;&nbsp;&nbsp;&nbsp;&nbsp;],</div><div class='line' id='LC2372'>&nbsp;&nbsp;&nbsp;&nbsp;&nbsp;&quot;prompt_number&quot;: 61</div><div class='line' id='LC2373'>&nbsp;&nbsp;&nbsp;&nbsp;},</div><div class='line' id='LC2374'>&nbsp;&nbsp;&nbsp;&nbsp;{</div><div class='line' id='LC2375'>&nbsp;&nbsp;&nbsp;&nbsp;&nbsp;&quot;cell_type&quot;: &quot;markdown&quot;,</div><div class='line' id='LC2376'>&nbsp;&nbsp;&nbsp;&nbsp;&nbsp;&quot;metadata&quot;: {},</div><div class='line' id='LC2377'>&nbsp;&nbsp;&nbsp;&nbsp;&nbsp;&quot;source&quot;: [</div><div class='line' id='LC2378'>&nbsp;&nbsp;&nbsp;&nbsp;&nbsp;&nbsp;&quot;For more detail, see the R FAQ section \&quot;Why does the output from anova() depend on the order of factors in the model?\&quot;&quot;</div><div class='line' id='LC2379'>&nbsp;&nbsp;&nbsp;&nbsp;&nbsp;]</div><div class='line' id='LC2380'>&nbsp;&nbsp;&nbsp;&nbsp;},</div><div class='line' id='LC2381'>&nbsp;&nbsp;&nbsp;&nbsp;{</div><div class='line' id='LC2382'>&nbsp;&nbsp;&nbsp;&nbsp;&nbsp;&quot;cell_type&quot;: &quot;markdown&quot;,</div><div class='line' id='LC2383'>&nbsp;&nbsp;&nbsp;&nbsp;&nbsp;&quot;metadata&quot;: {},</div><div class='line' id='LC2384'>&nbsp;&nbsp;&nbsp;&nbsp;&nbsp;&quot;source&quot;: [</div><div class='line' id='LC2385'>&nbsp;&nbsp;&nbsp;&nbsp;&nbsp;&nbsp;&quot;Needless to say, entering the interaction-only formula changes the table too:&quot;</div><div class='line' id='LC2386'>&nbsp;&nbsp;&nbsp;&nbsp;&nbsp;]</div><div class='line' id='LC2387'>&nbsp;&nbsp;&nbsp;&nbsp;},</div><div class='line' id='LC2388'>&nbsp;&nbsp;&nbsp;&nbsp;{</div><div class='line' id='LC2389'>&nbsp;&nbsp;&nbsp;&nbsp;&nbsp;&quot;cell_type&quot;: &quot;code&quot;,</div><div class='line' id='LC2390'>&nbsp;&nbsp;&nbsp;&nbsp;&nbsp;&quot;collapsed&quot;: false,</div><div class='line' id='LC2391'>&nbsp;&nbsp;&nbsp;&nbsp;&nbsp;&quot;input&quot;: [</div><div class='line' id='LC2392'>&nbsp;&nbsp;&nbsp;&nbsp;&nbsp;&nbsp;&quot;%R print(anova(lm(Y ~ nationality:awesome)))&quot;</div><div class='line' id='LC2393'>&nbsp;&nbsp;&nbsp;&nbsp;&nbsp;],</div><div class='line' id='LC2394'>&nbsp;&nbsp;&nbsp;&nbsp;&nbsp;&quot;language&quot;: &quot;python&quot;,</div><div class='line' id='LC2395'>&nbsp;&nbsp;&nbsp;&nbsp;&nbsp;&quot;metadata&quot;: {},</div><div class='line' id='LC2396'>&nbsp;&nbsp;&nbsp;&nbsp;&nbsp;&quot;outputs&quot;: [</div><div class='line' id='LC2397'>&nbsp;&nbsp;&nbsp;&nbsp;&nbsp;&nbsp;{</div><div class='line' id='LC2398'>&nbsp;&nbsp;&nbsp;&nbsp;&nbsp;&nbsp;&nbsp;&quot;output_type&quot;: &quot;display_data&quot;,</div><div class='line' id='LC2399'>&nbsp;&nbsp;&nbsp;&nbsp;&nbsp;&nbsp;&nbsp;&quot;text&quot;: [</div><div class='line' id='LC2400'>&nbsp;&nbsp;&nbsp;&nbsp;&nbsp;&nbsp;&nbsp;&nbsp;&quot;Analysis of Variance Table\n&quot;,</div><div class='line' id='LC2401'>&nbsp;&nbsp;&nbsp;&nbsp;&nbsp;&nbsp;&nbsp;&nbsp;&quot;\n&quot;,</div><div class='line' id='LC2402'>&nbsp;&nbsp;&nbsp;&nbsp;&nbsp;&nbsp;&nbsp;&nbsp;&quot;Response: Y\n&quot;,</div><div class='line' id='LC2403'>&nbsp;&nbsp;&nbsp;&nbsp;&nbsp;&nbsp;&nbsp;&nbsp;&quot;                    Df Sum Sq Mean Sq F value  Pr(&gt;F)  \n&quot;,</div><div class='line' id='LC2404'>&nbsp;&nbsp;&nbsp;&nbsp;&nbsp;&nbsp;&nbsp;&nbsp;&quot;nationality:awesome  5 7350.3 1470.06  3.8005 0.03967 *\n&quot;,</div><div class='line' id='LC2405'>&nbsp;&nbsp;&nbsp;&nbsp;&nbsp;&nbsp;&nbsp;&nbsp;&quot;Residuals            9 3481.3  386.81                  \n&quot;,</div><div class='line' id='LC2406'>&nbsp;&nbsp;&nbsp;&nbsp;&nbsp;&nbsp;&nbsp;&nbsp;&quot;---\n&quot;,</div><div class='line' id='LC2407'>&nbsp;&nbsp;&nbsp;&nbsp;&nbsp;&nbsp;&nbsp;&nbsp;&quot;Signif. codes:  0 \u2018***\u2019 0.001 \u2018**\u2019 0.01 \u2018*\u2019 0.05 \u2018.\u2019 0.1 \u2018 \u2019 1 \n&quot;</div><div class='line' id='LC2408'>&nbsp;&nbsp;&nbsp;&nbsp;&nbsp;&nbsp;&nbsp;]</div><div class='line' id='LC2409'>&nbsp;&nbsp;&nbsp;&nbsp;&nbsp;&nbsp;}</div><div class='line' id='LC2410'>&nbsp;&nbsp;&nbsp;&nbsp;&nbsp;],</div><div class='line' id='LC2411'>&nbsp;&nbsp;&nbsp;&nbsp;&nbsp;&quot;prompt_number&quot;: 62</div><div class='line' id='LC2412'>&nbsp;&nbsp;&nbsp;&nbsp;},</div><div class='line' id='LC2413'>&nbsp;&nbsp;&nbsp;&nbsp;{</div><div class='line' id='LC2414'>&nbsp;&nbsp;&nbsp;&nbsp;&nbsp;&quot;cell_type&quot;: &quot;heading&quot;,</div><div class='line' id='LC2415'>&nbsp;&nbsp;&nbsp;&nbsp;&nbsp;&quot;level&quot;: 2,</div><div class='line' id='LC2416'>&nbsp;&nbsp;&nbsp;&nbsp;&nbsp;&quot;metadata&quot;: {},</div><div class='line' id='LC2417'>&nbsp;&nbsp;&nbsp;&nbsp;&nbsp;&quot;source&quot;: [</div><div class='line' id='LC2418'>&nbsp;&nbsp;&nbsp;&nbsp;&nbsp;&nbsp;&quot;From R formula to design matrix&quot;</div><div class='line' id='LC2419'>&nbsp;&nbsp;&nbsp;&nbsp;&nbsp;]</div><div class='line' id='LC2420'>&nbsp;&nbsp;&nbsp;&nbsp;},</div><div class='line' id='LC2421'>&nbsp;&nbsp;&nbsp;&nbsp;{</div><div class='line' id='LC2422'>&nbsp;&nbsp;&nbsp;&nbsp;&nbsp;&quot;cell_type&quot;: &quot;markdown&quot;,</div><div class='line' id='LC2423'>&nbsp;&nbsp;&nbsp;&nbsp;&nbsp;&quot;metadata&quot;: {},</div><div class='line' id='LC2424'>&nbsp;&nbsp;&nbsp;&nbsp;&nbsp;&quot;source&quot;: [</div><div class='line' id='LC2425'>&nbsp;&nbsp;&nbsp;&nbsp;&nbsp;&nbsp;&quot;These is an attempt to set out the rules, as I understand them, for going from an R formula to a a design matrix.  There are three stages:\n&quot;,</div><div class='line' id='LC2426'>&nbsp;&nbsp;&nbsp;&nbsp;&nbsp;&nbsp;&quot;\n&quot;,</div><div class='line' id='LC2427'>&nbsp;&nbsp;&nbsp;&nbsp;&nbsp;&nbsp;&quot;1. Expanding shortcuts to create terms\n&quot;,</div><div class='line' id='LC2428'>&nbsp;&nbsp;&nbsp;&nbsp;&nbsp;&nbsp;&quot;2. Reordering terms\n&quot;,</div><div class='line' id='LC2429'>&nbsp;&nbsp;&nbsp;&nbsp;&nbsp;&nbsp;&quot;3. Coding of factors in terms\n&quot;,</div><div class='line' id='LC2430'>&nbsp;&nbsp;&nbsp;&nbsp;&nbsp;&nbsp;&quot;\n&quot;,</div><div class='line' id='LC2431'>&nbsp;&nbsp;&nbsp;&nbsp;&nbsp;&nbsp;&quot;In what follows, I will use the name *element* for a factor (such as `nationality`) or a numerical numerical variable (such as `x1`).  A *term* is either the intercept (`1`) or an element (such as `nationality`, or an interaction between two or more elements (e.g. `x1:nationality:awesome`). The order of a term is the number of contained elements.  `1` is a term with zero elements. Examples of terms with their orders are:\n&quot;,</div><div class='line' id='LC2432'>&nbsp;&nbsp;&nbsp;&nbsp;&nbsp;&nbsp;&quot;\n&quot;,</div><div class='line' id='LC2433'>&nbsp;&nbsp;&nbsp;&nbsp;&nbsp;&nbsp;&quot;* `1` - order 0\n&quot;,</div><div class='line' id='LC2434'>&nbsp;&nbsp;&nbsp;&nbsp;&nbsp;&nbsp;&quot;* `nationality` - order 1\n&quot;,</div><div class='line' id='LC2435'>&nbsp;&nbsp;&nbsp;&nbsp;&nbsp;&nbsp;&quot;* `nationality:x1` - order 2\n&quot;,</div><div class='line' id='LC2436'>&nbsp;&nbsp;&nbsp;&nbsp;&nbsp;&nbsp;&quot;* `x1:x2:awesome` - order 3&quot;</div><div class='line' id='LC2437'>&nbsp;&nbsp;&nbsp;&nbsp;&nbsp;]</div><div class='line' id='LC2438'>&nbsp;&nbsp;&nbsp;&nbsp;},</div><div class='line' id='LC2439'>&nbsp;&nbsp;&nbsp;&nbsp;{</div><div class='line' id='LC2440'>&nbsp;&nbsp;&nbsp;&nbsp;&nbsp;&quot;cell_type&quot;: &quot;heading&quot;,</div><div class='line' id='LC2441'>&nbsp;&nbsp;&nbsp;&nbsp;&nbsp;&quot;level&quot;: 3,</div><div class='line' id='LC2442'>&nbsp;&nbsp;&nbsp;&nbsp;&nbsp;&quot;metadata&quot;: {},</div><div class='line' id='LC2443'>&nbsp;&nbsp;&nbsp;&nbsp;&nbsp;&quot;source&quot;: [</div><div class='line' id='LC2444'>&nbsp;&nbsp;&nbsp;&nbsp;&nbsp;&nbsp;&quot;Expanding model shortcuts&quot;</div><div class='line' id='LC2445'>&nbsp;&nbsp;&nbsp;&nbsp;&nbsp;]</div><div class='line' id='LC2446'>&nbsp;&nbsp;&nbsp;&nbsp;},</div><div class='line' id='LC2447'>&nbsp;&nbsp;&nbsp;&nbsp;{</div><div class='line' id='LC2448'>&nbsp;&nbsp;&nbsp;&nbsp;&nbsp;&quot;cell_type&quot;: &quot;markdown&quot;,</div><div class='line' id='LC2449'>&nbsp;&nbsp;&nbsp;&nbsp;&nbsp;&quot;metadata&quot;: {},</div><div class='line' id='LC2450'>&nbsp;&nbsp;&nbsp;&nbsp;&nbsp;&quot;source&quot;: [</div><div class='line' id='LC2451'>&nbsp;&nbsp;&nbsp;&nbsp;&nbsp;&nbsp;&quot;There are 4 syntactic shortcuts.  Here is a list, with their translations to the basic operators of \&quot;+\&quot; and \&quot;:\&quot;.  In the *expansion* phase, R translates the shortcuts to their meaning given here:\n&quot;,</div><div class='line' id='LC2452'>&nbsp;&nbsp;&nbsp;&nbsp;&nbsp;&nbsp;&quot;\n&quot;,</div><div class='line' id='LC2453'>&nbsp;&nbsp;&nbsp;&nbsp;&nbsp;&nbsp;&quot;* `A * B`  $\\implies$ `A + B + A:B`\n&quot;,</div><div class='line' id='LC2454'>&nbsp;&nbsp;&nbsp;&nbsp;&nbsp;&nbsp;&quot;   * `A * B * C`  $\\implies$ `A + B + C + A:B + A:C + B:C + A:B:C` \n&quot;,</div><div class='line' id='LC2455'>&nbsp;&nbsp;&nbsp;&nbsp;&nbsp;&nbsp;&quot;* `A %in% B` $\\implies$ `A:B`\n&quot;,</div><div class='line' id='LC2456'>&nbsp;&nbsp;&nbsp;&nbsp;&nbsp;&nbsp;&quot;* `A / B` $\\implies$ `A + A:B`\n&quot;,</div><div class='line' id='LC2457'>&nbsp;&nbsp;&nbsp;&nbsp;&nbsp;&nbsp;&quot;* `A + B - A` $\\implies$ `B`\n&quot;,</div><div class='line' id='LC2458'>&nbsp;&nbsp;&nbsp;&nbsp;&nbsp;&nbsp;&quot;   * `A + B + A:B - B` $\\implies$ `A + A:B`\n&quot;,</div><div class='line' id='LC2459'>&nbsp;&nbsp;&nbsp;&nbsp;&nbsp;&nbsp;&quot;* `(A + B + C)^2` $\\implies$ `A + B + C + A:B + A:C`\n&quot;,</div><div class='line' id='LC2460'>&nbsp;&nbsp;&nbsp;&nbsp;&nbsp;&nbsp;&quot;   * `(A + B + C)^3` $\\implies$ `A + B + C + A:B + A:C + B:C + A:B:C`\n&quot;,</div><div class='line' id='LC2461'>&nbsp;&nbsp;&nbsp;&nbsp;&nbsp;&nbsp;&quot;\n&quot;,</div><div class='line' id='LC2462'>&nbsp;&nbsp;&nbsp;&nbsp;&nbsp;&nbsp;&quot;Let&#39;s see them in action by looking at the \&quot;terms\&quot; created from formulae in R:&quot;</div><div class='line' id='LC2463'>&nbsp;&nbsp;&nbsp;&nbsp;&nbsp;]</div><div class='line' id='LC2464'>&nbsp;&nbsp;&nbsp;&nbsp;},</div><div class='line' id='LC2465'>&nbsp;&nbsp;&nbsp;&nbsp;{</div><div class='line' id='LC2466'>&nbsp;&nbsp;&nbsp;&nbsp;&nbsp;&quot;cell_type&quot;: &quot;code&quot;,</div><div class='line' id='LC2467'>&nbsp;&nbsp;&nbsp;&nbsp;&nbsp;&quot;collapsed&quot;: false,</div><div class='line' id='LC2468'>&nbsp;&nbsp;&nbsp;&nbsp;&nbsp;&quot;input&quot;: [</div><div class='line' id='LC2469'>&nbsp;&nbsp;&nbsp;&nbsp;&nbsp;&nbsp;&quot;%%R\n&quot;,</div><div class='line' id='LC2470'>&nbsp;&nbsp;&nbsp;&nbsp;&nbsp;&nbsp;&quot;print(attributes(terms(~A * B))$term)\n&quot;,</div><div class='line' id='LC2471'>&nbsp;&nbsp;&nbsp;&nbsp;&nbsp;&nbsp;&quot;print(attributes(terms(~A * B * C))$term)\n&quot;,</div><div class='line' id='LC2472'>&nbsp;&nbsp;&nbsp;&nbsp;&nbsp;&nbsp;&quot;print(attributes(terms(~A %in% B))$term)\n&quot;,</div><div class='line' id='LC2473'>&nbsp;&nbsp;&nbsp;&nbsp;&nbsp;&nbsp;&quot;print(attributes(terms(~A / B))$term)\n&quot;,</div><div class='line' id='LC2474'>&nbsp;&nbsp;&nbsp;&nbsp;&nbsp;&nbsp;&quot;print(attributes(terms(~A + B - A))$term)\n&quot;,</div><div class='line' id='LC2475'>&nbsp;&nbsp;&nbsp;&nbsp;&nbsp;&nbsp;&quot;print(attributes(terms(~A + B + A:B - B))$term)\n&quot;,</div><div class='line' id='LC2476'>&nbsp;&nbsp;&nbsp;&nbsp;&nbsp;&nbsp;&quot;print(attributes(terms(~(A + B + C)^2))$term)\n&quot;,</div><div class='line' id='LC2477'>&nbsp;&nbsp;&nbsp;&nbsp;&nbsp;&nbsp;&quot;print(attributes(terms(~(A + B + C)^3))$term)&quot;</div><div class='line' id='LC2478'>&nbsp;&nbsp;&nbsp;&nbsp;&nbsp;],</div><div class='line' id='LC2479'>&nbsp;&nbsp;&nbsp;&nbsp;&nbsp;&quot;language&quot;: &quot;python&quot;,</div><div class='line' id='LC2480'>&nbsp;&nbsp;&nbsp;&nbsp;&nbsp;&quot;metadata&quot;: {},</div><div class='line' id='LC2481'>&nbsp;&nbsp;&nbsp;&nbsp;&nbsp;&quot;outputs&quot;: [</div><div class='line' id='LC2482'>&nbsp;&nbsp;&nbsp;&nbsp;&nbsp;&nbsp;{</div><div class='line' id='LC2483'>&nbsp;&nbsp;&nbsp;&nbsp;&nbsp;&nbsp;&nbsp;&quot;output_type&quot;: &quot;display_data&quot;,</div><div class='line' id='LC2484'>&nbsp;&nbsp;&nbsp;&nbsp;&nbsp;&nbsp;&nbsp;&quot;text&quot;: [</div><div class='line' id='LC2485'>&nbsp;&nbsp;&nbsp;&nbsp;&nbsp;&nbsp;&nbsp;&nbsp;&quot;[1] \&quot;A\&quot;   \&quot;B\&quot;   \&quot;A:B\&quot;\n&quot;,</div><div class='line' id='LC2486'>&nbsp;&nbsp;&nbsp;&nbsp;&nbsp;&nbsp;&nbsp;&nbsp;&quot;[1] \&quot;A\&quot;     \&quot;B\&quot;     \&quot;C\&quot;     \&quot;A:B\&quot;   \&quot;A:C\&quot;   \&quot;B:C\&quot;   \&quot;A:B:C\&quot;\n&quot;,</div><div class='line' id='LC2487'>&nbsp;&nbsp;&nbsp;&nbsp;&nbsp;&nbsp;&nbsp;&nbsp;&quot;[1] \&quot;A:B\&quot;\n&quot;,</div><div class='line' id='LC2488'>&nbsp;&nbsp;&nbsp;&nbsp;&nbsp;&nbsp;&nbsp;&nbsp;&quot;[1] \&quot;A\&quot;   \&quot;A:B\&quot;\n&quot;,</div><div class='line' id='LC2489'>&nbsp;&nbsp;&nbsp;&nbsp;&nbsp;&nbsp;&nbsp;&nbsp;&quot;[1] \&quot;B\&quot;\n&quot;,</div><div class='line' id='LC2490'>&nbsp;&nbsp;&nbsp;&nbsp;&nbsp;&nbsp;&nbsp;&nbsp;&quot;[1] \&quot;A\&quot;   \&quot;A:B\&quot;\n&quot;,</div><div class='line' id='LC2491'>&nbsp;&nbsp;&nbsp;&nbsp;&nbsp;&nbsp;&nbsp;&nbsp;&quot;[1] \&quot;A\&quot;   \&quot;B\&quot;   \&quot;C\&quot;   \&quot;A:B\&quot; \&quot;A:C\&quot; \&quot;B:C\&quot;\n&quot;,</div><div class='line' id='LC2492'>&nbsp;&nbsp;&nbsp;&nbsp;&nbsp;&nbsp;&nbsp;&nbsp;&quot;[1] \&quot;A\&quot;     \&quot;B\&quot;     \&quot;C\&quot;     \&quot;A:B\&quot;   \&quot;A:C\&quot;   \&quot;B:C\&quot;   \&quot;A:B:C\&quot;\n&quot;</div><div class='line' id='LC2493'>&nbsp;&nbsp;&nbsp;&nbsp;&nbsp;&nbsp;&nbsp;]</div><div class='line' id='LC2494'>&nbsp;&nbsp;&nbsp;&nbsp;&nbsp;&nbsp;}</div><div class='line' id='LC2495'>&nbsp;&nbsp;&nbsp;&nbsp;&nbsp;],</div><div class='line' id='LC2496'>&nbsp;&nbsp;&nbsp;&nbsp;&nbsp;&quot;prompt_number&quot;: 63</div><div class='line' id='LC2497'>&nbsp;&nbsp;&nbsp;&nbsp;},</div><div class='line' id='LC2498'>&nbsp;&nbsp;&nbsp;&nbsp;{</div><div class='line' id='LC2499'>&nbsp;&nbsp;&nbsp;&nbsp;&nbsp;&quot;cell_type&quot;: &quot;heading&quot;,</div><div class='line' id='LC2500'>&nbsp;&nbsp;&nbsp;&nbsp;&nbsp;&quot;level&quot;: 3,</div><div class='line' id='LC2501'>&nbsp;&nbsp;&nbsp;&nbsp;&nbsp;&quot;metadata&quot;: {},</div><div class='line' id='LC2502'>&nbsp;&nbsp;&nbsp;&nbsp;&nbsp;&quot;source&quot;: [</div><div class='line' id='LC2503'>&nbsp;&nbsp;&nbsp;&nbsp;&nbsp;&nbsp;&quot;Reordering terms&quot;</div><div class='line' id='LC2504'>&nbsp;&nbsp;&nbsp;&nbsp;&nbsp;]</div><div class='line' id='LC2505'>&nbsp;&nbsp;&nbsp;&nbsp;},</div><div class='line' id='LC2506'>&nbsp;&nbsp;&nbsp;&nbsp;{</div><div class='line' id='LC2507'>&nbsp;&nbsp;&nbsp;&nbsp;&nbsp;&quot;cell_type&quot;: &quot;markdown&quot;,</div><div class='line' id='LC2508'>&nbsp;&nbsp;&nbsp;&nbsp;&nbsp;&quot;metadata&quot;: {},</div><div class='line' id='LC2509'>&nbsp;&nbsp;&nbsp;&nbsp;&nbsp;&quot;source&quot;: [</div><div class='line' id='LC2510'>&nbsp;&nbsp;&nbsp;&nbsp;&nbsp;&nbsp;&quot;Terms are ordered so that 0 order terms go first, then first order terms, and so on.  The intercept is the only zero order term. Let&#39;s see the ordering in action:&quot;</div><div class='line' id='LC2511'>&nbsp;&nbsp;&nbsp;&nbsp;&nbsp;]</div><div class='line' id='LC2512'>&nbsp;&nbsp;&nbsp;&nbsp;},</div><div class='line' id='LC2513'>&nbsp;&nbsp;&nbsp;&nbsp;{</div><div class='line' id='LC2514'>&nbsp;&nbsp;&nbsp;&nbsp;&nbsp;&quot;cell_type&quot;: &quot;code&quot;,</div><div class='line' id='LC2515'>&nbsp;&nbsp;&nbsp;&nbsp;&nbsp;&quot;collapsed&quot;: false,</div><div class='line' id='LC2516'>&nbsp;&nbsp;&nbsp;&nbsp;&nbsp;&quot;input&quot;: [</div><div class='line' id='LC2517'>&nbsp;&nbsp;&nbsp;&nbsp;&nbsp;&nbsp;&quot;%%R\n&quot;,</div><div class='line' id='LC2518'>&nbsp;&nbsp;&nbsp;&nbsp;&nbsp;&nbsp;&quot;print(attributes(terms(~A:B +1 + B))$term) # actually the intercept does not appear in the terms\n&quot;,</div><div class='line' id='LC2519'>&nbsp;&nbsp;&nbsp;&nbsp;&nbsp;&nbsp;&quot;print(attributes(terms(~D + A:B:C + A + B + E))$term)&quot;</div><div class='line' id='LC2520'>&nbsp;&nbsp;&nbsp;&nbsp;&nbsp;],</div><div class='line' id='LC2521'>&nbsp;&nbsp;&nbsp;&nbsp;&nbsp;&quot;language&quot;: &quot;python&quot;,</div><div class='line' id='LC2522'>&nbsp;&nbsp;&nbsp;&nbsp;&nbsp;&quot;metadata&quot;: {},</div><div class='line' id='LC2523'>&nbsp;&nbsp;&nbsp;&nbsp;&nbsp;&quot;outputs&quot;: [</div><div class='line' id='LC2524'>&nbsp;&nbsp;&nbsp;&nbsp;&nbsp;&nbsp;{</div><div class='line' id='LC2525'>&nbsp;&nbsp;&nbsp;&nbsp;&nbsp;&nbsp;&nbsp;&quot;output_type&quot;: &quot;display_data&quot;,</div><div class='line' id='LC2526'>&nbsp;&nbsp;&nbsp;&nbsp;&nbsp;&nbsp;&nbsp;&quot;text&quot;: [</div><div class='line' id='LC2527'>&nbsp;&nbsp;&nbsp;&nbsp;&nbsp;&nbsp;&nbsp;&nbsp;&quot;[1] \&quot;B\&quot;   \&quot;A:B\&quot;\n&quot;,</div><div class='line' id='LC2528'>&nbsp;&nbsp;&nbsp;&nbsp;&nbsp;&nbsp;&nbsp;&nbsp;&quot;[1] \&quot;D\&quot;     \&quot;A\&quot;     \&quot;B\&quot;     \&quot;E\&quot;     \&quot;A:B:C\&quot;\n&quot;</div><div class='line' id='LC2529'>&nbsp;&nbsp;&nbsp;&nbsp;&nbsp;&nbsp;&nbsp;]</div><div class='line' id='LC2530'>&nbsp;&nbsp;&nbsp;&nbsp;&nbsp;&nbsp;}</div><div class='line' id='LC2531'>&nbsp;&nbsp;&nbsp;&nbsp;&nbsp;],</div><div class='line' id='LC2532'>&nbsp;&nbsp;&nbsp;&nbsp;&nbsp;&quot;prompt_number&quot;: 64</div><div class='line' id='LC2533'>&nbsp;&nbsp;&nbsp;&nbsp;},</div><div class='line' id='LC2534'>&nbsp;&nbsp;&nbsp;&nbsp;{</div><div class='line' id='LC2535'>&nbsp;&nbsp;&nbsp;&nbsp;&nbsp;&quot;cell_type&quot;: &quot;heading&quot;,</div><div class='line' id='LC2536'>&nbsp;&nbsp;&nbsp;&nbsp;&nbsp;&quot;level&quot;: 3,</div><div class='line' id='LC2537'>&nbsp;&nbsp;&nbsp;&nbsp;&nbsp;&quot;metadata&quot;: {},</div><div class='line' id='LC2538'>&nbsp;&nbsp;&nbsp;&nbsp;&nbsp;&quot;source&quot;: [</div><div class='line' id='LC2539'>&nbsp;&nbsp;&nbsp;&nbsp;&nbsp;&nbsp;&quot;Column space of interactions&quot;</div><div class='line' id='LC2540'>&nbsp;&nbsp;&nbsp;&nbsp;&nbsp;]</div><div class='line' id='LC2541'>&nbsp;&nbsp;&nbsp;&nbsp;},</div><div class='line' id='LC2542'>&nbsp;&nbsp;&nbsp;&nbsp;{</div><div class='line' id='LC2543'>&nbsp;&nbsp;&nbsp;&nbsp;&nbsp;&quot;cell_type&quot;: &quot;markdown&quot;,</div><div class='line' id='LC2544'>&nbsp;&nbsp;&nbsp;&nbsp;&nbsp;&quot;metadata&quot;: {},</div><div class='line' id='LC2545'>&nbsp;&nbsp;&nbsp;&nbsp;&nbsp;&quot;source&quot;: [</div><div class='line' id='LC2546'>&nbsp;&nbsp;&nbsp;&nbsp;&nbsp;&nbsp;&quot;This is to be specific about the meaning of interactions, in terms of column space.  Any design matrix that models an interaction must contain this column space.&quot;</div><div class='line' id='LC2547'>&nbsp;&nbsp;&nbsp;&nbsp;&nbsp;]</div><div class='line' id='LC2548'>&nbsp;&nbsp;&nbsp;&nbsp;},</div><div class='line' id='LC2549'>&nbsp;&nbsp;&nbsp;&nbsp;{</div><div class='line' id='LC2550'>&nbsp;&nbsp;&nbsp;&nbsp;&nbsp;&quot;cell_type&quot;: &quot;heading&quot;,</div><div class='line' id='LC2551'>&nbsp;&nbsp;&nbsp;&nbsp;&nbsp;&quot;level&quot;: 4,</div><div class='line' id='LC2552'>&nbsp;&nbsp;&nbsp;&nbsp;&nbsp;&quot;metadata&quot;: {},</div><div class='line' id='LC2553'>&nbsp;&nbsp;&nbsp;&nbsp;&nbsp;&quot;source&quot;: [</div><div class='line' id='LC2554'>&nbsp;&nbsp;&nbsp;&nbsp;&nbsp;&nbsp;&quot;Numeric:numeric interactions&quot;</div><div class='line' id='LC2555'>&nbsp;&nbsp;&nbsp;&nbsp;&nbsp;]</div><div class='line' id='LC2556'>&nbsp;&nbsp;&nbsp;&nbsp;},</div><div class='line' id='LC2557'>&nbsp;&nbsp;&nbsp;&nbsp;{</div><div class='line' id='LC2558'>&nbsp;&nbsp;&nbsp;&nbsp;&nbsp;&quot;cell_type&quot;: &quot;markdown&quot;,</div><div class='line' id='LC2559'>&nbsp;&nbsp;&nbsp;&nbsp;&nbsp;&quot;metadata&quot;: {},</div><div class='line' id='LC2560'>&nbsp;&nbsp;&nbsp;&nbsp;&nbsp;&quot;source&quot;: [</div><div class='line' id='LC2561'>&nbsp;&nbsp;&nbsp;&nbsp;&nbsp;&nbsp;&quot;The column space of a numeric:numeric interaction is just the elementwise product of the two numeric variables.  That is, the interaction between two length $N$ vectors $x, z$ is given by the \n&quot;,</div><div class='line' id='LC2562'>&nbsp;&nbsp;&nbsp;&nbsp;&nbsp;&nbsp;&quot;vector $x_1 z_1, x_2 z_2,... x_P, z_P$.  For example:&quot;</div><div class='line' id='LC2563'>&nbsp;&nbsp;&nbsp;&nbsp;&nbsp;]</div><div class='line' id='LC2564'>&nbsp;&nbsp;&nbsp;&nbsp;},</div><div class='line' id='LC2565'>&nbsp;&nbsp;&nbsp;&nbsp;{</div><div class='line' id='LC2566'>&nbsp;&nbsp;&nbsp;&nbsp;&nbsp;&quot;cell_type&quot;: &quot;code&quot;,</div><div class='line' id='LC2567'>&nbsp;&nbsp;&nbsp;&nbsp;&nbsp;&quot;collapsed&quot;: false,</div><div class='line' id='LC2568'>&nbsp;&nbsp;&nbsp;&nbsp;&nbsp;&quot;input&quot;: [</div><div class='line' id='LC2569'>&nbsp;&nbsp;&nbsp;&nbsp;&nbsp;&nbsp;&quot;%R print(model.matrix(~ x1 + x2 + x1:x2 - 1))\n&quot;,</div><div class='line' id='LC2570'>&nbsp;&nbsp;&nbsp;&nbsp;&nbsp;&nbsp;&quot;x1 * x2&quot;</div><div class='line' id='LC2571'>&nbsp;&nbsp;&nbsp;&nbsp;&nbsp;],</div><div class='line' id='LC2572'>&nbsp;&nbsp;&nbsp;&nbsp;&nbsp;&quot;language&quot;: &quot;python&quot;,</div><div class='line' id='LC2573'>&nbsp;&nbsp;&nbsp;&nbsp;&nbsp;&quot;metadata&quot;: {},</div><div class='line' id='LC2574'>&nbsp;&nbsp;&nbsp;&nbsp;&nbsp;&quot;outputs&quot;: [</div><div class='line' id='LC2575'>&nbsp;&nbsp;&nbsp;&nbsp;&nbsp;&nbsp;{</div><div class='line' id='LC2576'>&nbsp;&nbsp;&nbsp;&nbsp;&nbsp;&nbsp;&nbsp;&quot;output_type&quot;: &quot;display_data&quot;,</div><div class='line' id='LC2577'>&nbsp;&nbsp;&nbsp;&nbsp;&nbsp;&nbsp;&nbsp;&quot;text&quot;: [</div><div class='line' id='LC2578'>&nbsp;&nbsp;&nbsp;&nbsp;&nbsp;&nbsp;&nbsp;&nbsp;&quot;   x1 x2 x1:x2\n&quot;,</div><div class='line' id='LC2579'>&nbsp;&nbsp;&nbsp;&nbsp;&nbsp;&nbsp;&nbsp;&nbsp;&quot;1  49  0     0\n&quot;,</div><div class='line' id='LC2580'>&nbsp;&nbsp;&nbsp;&nbsp;&nbsp;&nbsp;&nbsp;&nbsp;&quot;2  50  1    50\n&quot;,</div><div class='line' id='LC2581'>&nbsp;&nbsp;&nbsp;&nbsp;&nbsp;&nbsp;&nbsp;&nbsp;&quot;3  45  2    90\n&quot;,</div><div class='line' id='LC2582'>&nbsp;&nbsp;&nbsp;&nbsp;&nbsp;&nbsp;&nbsp;&nbsp;&quot;4  53  3   159\n&quot;,</div><div class='line' id='LC2583'>&nbsp;&nbsp;&nbsp;&nbsp;&nbsp;&nbsp;&nbsp;&nbsp;&quot;5  69  4   276\n&quot;,</div><div class='line' id='LC2584'>&nbsp;&nbsp;&nbsp;&nbsp;&nbsp;&nbsp;&nbsp;&nbsp;&quot;6  73  5   365\n&quot;,</div><div class='line' id='LC2585'>&nbsp;&nbsp;&nbsp;&nbsp;&nbsp;&nbsp;&nbsp;&nbsp;&quot;7  35  6   210\n&quot;,</div><div class='line' id='LC2586'>&nbsp;&nbsp;&nbsp;&nbsp;&nbsp;&nbsp;&nbsp;&nbsp;&quot;8  40  7   280\n&quot;,</div><div class='line' id='LC2587'>&nbsp;&nbsp;&nbsp;&nbsp;&nbsp;&nbsp;&nbsp;&nbsp;&quot;9  36  8   288\n&quot;,</div><div class='line' id='LC2588'>&nbsp;&nbsp;&nbsp;&nbsp;&nbsp;&nbsp;&nbsp;&nbsp;&quot;10 30  9   270\n&quot;,</div><div class='line' id='LC2589'>&nbsp;&nbsp;&nbsp;&nbsp;&nbsp;&nbsp;&nbsp;&nbsp;&quot;11 49 10   490\n&quot;,</div><div class='line' id='LC2590'>&nbsp;&nbsp;&nbsp;&nbsp;&nbsp;&nbsp;&nbsp;&nbsp;&quot;12 36 11   396\n&quot;,</div><div class='line' id='LC2591'>&nbsp;&nbsp;&nbsp;&nbsp;&nbsp;&nbsp;&nbsp;&nbsp;&quot;13 73 12   876\n&quot;,</div><div class='line' id='LC2592'>&nbsp;&nbsp;&nbsp;&nbsp;&nbsp;&nbsp;&nbsp;&nbsp;&quot;14 61 13   793\n&quot;,</div><div class='line' id='LC2593'>&nbsp;&nbsp;&nbsp;&nbsp;&nbsp;&nbsp;&nbsp;&nbsp;&quot;15 74 14  1036\n&quot;,</div><div class='line' id='LC2594'>&nbsp;&nbsp;&nbsp;&nbsp;&nbsp;&nbsp;&nbsp;&nbsp;&quot;attr(,\&quot;assign\&quot;)\n&quot;,</div><div class='line' id='LC2595'>&nbsp;&nbsp;&nbsp;&nbsp;&nbsp;&nbsp;&nbsp;&nbsp;&quot;[1] 1 2 3\n&quot;</div><div class='line' id='LC2596'>&nbsp;&nbsp;&nbsp;&nbsp;&nbsp;&nbsp;&nbsp;]</div><div class='line' id='LC2597'>&nbsp;&nbsp;&nbsp;&nbsp;&nbsp;&nbsp;},</div><div class='line' id='LC2598'>&nbsp;&nbsp;&nbsp;&nbsp;&nbsp;&nbsp;{</div><div class='line' id='LC2599'>&nbsp;&nbsp;&nbsp;&nbsp;&nbsp;&nbsp;&nbsp;&quot;output_type&quot;: &quot;pyout&quot;,</div><div class='line' id='LC2600'>&nbsp;&nbsp;&nbsp;&nbsp;&nbsp;&nbsp;&nbsp;&quot;prompt_number&quot;: 65,</div><div class='line' id='LC2601'>&nbsp;&nbsp;&nbsp;&nbsp;&nbsp;&nbsp;&nbsp;&quot;text&quot;: [</div><div class='line' id='LC2602'>&nbsp;&nbsp;&nbsp;&nbsp;&nbsp;&nbsp;&nbsp;&nbsp;&quot;array([    0.,    50.,    90.,   159.,   276.,   365.,   210.,   280.,\n&quot;,</div><div class='line' id='LC2603'>&nbsp;&nbsp;&nbsp;&nbsp;&nbsp;&nbsp;&nbsp;&nbsp;&quot;         288.,   270.,   490.,   396.,   876.,   793.,  1036.])&quot;</div><div class='line' id='LC2604'>&nbsp;&nbsp;&nbsp;&nbsp;&nbsp;&nbsp;&nbsp;]</div><div class='line' id='LC2605'>&nbsp;&nbsp;&nbsp;&nbsp;&nbsp;&nbsp;}</div><div class='line' id='LC2606'>&nbsp;&nbsp;&nbsp;&nbsp;&nbsp;],</div><div class='line' id='LC2607'>&nbsp;&nbsp;&nbsp;&nbsp;&nbsp;&quot;prompt_number&quot;: 65</div><div class='line' id='LC2608'>&nbsp;&nbsp;&nbsp;&nbsp;},</div><div class='line' id='LC2609'>&nbsp;&nbsp;&nbsp;&nbsp;{</div><div class='line' id='LC2610'>&nbsp;&nbsp;&nbsp;&nbsp;&nbsp;&quot;cell_type&quot;: &quot;heading&quot;,</div><div class='line' id='LC2611'>&nbsp;&nbsp;&nbsp;&nbsp;&nbsp;&quot;level&quot;: 4,</div><div class='line' id='LC2612'>&nbsp;&nbsp;&nbsp;&nbsp;&nbsp;&quot;metadata&quot;: {},</div><div class='line' id='LC2613'>&nbsp;&nbsp;&nbsp;&nbsp;&nbsp;&quot;source&quot;: [</div><div class='line' id='LC2614'>&nbsp;&nbsp;&nbsp;&nbsp;&nbsp;&nbsp;&quot;Factor:factor interactions&quot;</div><div class='line' id='LC2615'>&nbsp;&nbsp;&nbsp;&nbsp;&nbsp;]</div><div class='line' id='LC2616'>&nbsp;&nbsp;&nbsp;&nbsp;},</div><div class='line' id='LC2617'>&nbsp;&nbsp;&nbsp;&nbsp;{</div><div class='line' id='LC2618'>&nbsp;&nbsp;&nbsp;&nbsp;&nbsp;&quot;cell_type&quot;: &quot;markdown&quot;,</div><div class='line' id='LC2619'>&nbsp;&nbsp;&nbsp;&nbsp;&nbsp;&quot;metadata&quot;: {},</div><div class='line' id='LC2620'>&nbsp;&nbsp;&nbsp;&nbsp;&nbsp;&quot;source&quot;: [</div><div class='line' id='LC2621'>&nbsp;&nbsp;&nbsp;&nbsp;&nbsp;&nbsp;&quot;The column space of a factor:factor interaction is given by a set of indicator columns in which there is one indicator column for each unique combination of levels in the two factors. So if the first factor has $P$ levels, and the second factor has $Q$ levels, there will be $P * Q$ columns in the interaction. Put otherwise, the column space of the interaction for two factors $f1, f2$ is given by taking the matrix giving indicator coding for $f1$ (call this $M_1$) and the matrix giving indicator coding for $f2$ (call this $M_2$) and creating a new matrix $M_{1,2}$ that has the products of all columns of $M_1$ with all columns of $M_2$:&quot;</div><div class='line' id='LC2622'>&nbsp;&nbsp;&nbsp;&nbsp;&nbsp;]</div><div class='line' id='LC2623'>&nbsp;&nbsp;&nbsp;&nbsp;},</div><div class='line' id='LC2624'>&nbsp;&nbsp;&nbsp;&nbsp;{</div><div class='line' id='LC2625'>&nbsp;&nbsp;&nbsp;&nbsp;&nbsp;&quot;cell_type&quot;: &quot;code&quot;,</div><div class='line' id='LC2626'>&nbsp;&nbsp;&nbsp;&nbsp;&nbsp;&quot;collapsed&quot;: false,</div><div class='line' id='LC2627'>&nbsp;&nbsp;&nbsp;&nbsp;&nbsp;&quot;input&quot;: [</div><div class='line' id='LC2628'>&nbsp;&nbsp;&nbsp;&nbsp;&nbsp;&nbsp;&quot;X_nat = %R model.matrix(~ nationality - 1) # indicator coding\n&quot;,</div><div class='line' id='LC2629'>&nbsp;&nbsp;&nbsp;&nbsp;&nbsp;&nbsp;&quot;X_awe = %R model.matrix(~ awesome - 1) # indicator coding\n&quot;,</div><div class='line' id='LC2630'>&nbsp;&nbsp;&nbsp;&nbsp;&nbsp;&nbsp;&quot;X_both = %R model.matrix(~ nationality:awesome - 1)\n&quot;,</div><div class='line' id='LC2631'>&nbsp;&nbsp;&nbsp;&nbsp;&nbsp;&nbsp;&quot;print X_nat\n&quot;,</div><div class='line' id='LC2632'>&nbsp;&nbsp;&nbsp;&nbsp;&nbsp;&nbsp;&quot;print X_awe\n&quot;,</div><div class='line' id='LC2633'>&nbsp;&nbsp;&nbsp;&nbsp;&nbsp;&nbsp;&quot;print X_both&quot;</div><div class='line' id='LC2634'>&nbsp;&nbsp;&nbsp;&nbsp;&nbsp;],</div><div class='line' id='LC2635'>&nbsp;&nbsp;&nbsp;&nbsp;&nbsp;&quot;language&quot;: &quot;python&quot;,</div><div class='line' id='LC2636'>&nbsp;&nbsp;&nbsp;&nbsp;&nbsp;&quot;metadata&quot;: {},</div><div class='line' id='LC2637'>&nbsp;&nbsp;&nbsp;&nbsp;&nbsp;&quot;outputs&quot;: [</div><div class='line' id='LC2638'>&nbsp;&nbsp;&nbsp;&nbsp;&nbsp;&nbsp;{</div><div class='line' id='LC2639'>&nbsp;&nbsp;&nbsp;&nbsp;&nbsp;&nbsp;&nbsp;&quot;output_type&quot;: &quot;stream&quot;,</div><div class='line' id='LC2640'>&nbsp;&nbsp;&nbsp;&nbsp;&nbsp;&nbsp;&nbsp;&quot;stream&quot;: &quot;stdout&quot;,</div><div class='line' id='LC2641'>&nbsp;&nbsp;&nbsp;&nbsp;&nbsp;&nbsp;&nbsp;&quot;text&quot;: [</div><div class='line' id='LC2642'>&nbsp;&nbsp;&nbsp;&nbsp;&nbsp;&nbsp;&nbsp;&nbsp;&quot;[[ 0.  0.  1.]\n&quot;,</div><div class='line' id='LC2643'>&nbsp;&nbsp;&nbsp;&nbsp;&nbsp;&nbsp;&nbsp;&nbsp;&quot; [ 0.  0.  1.]\n&quot;,</div><div class='line' id='LC2644'>&nbsp;&nbsp;&nbsp;&nbsp;&nbsp;&nbsp;&nbsp;&nbsp;&quot; [ 0.  0.  1.]\n&quot;,</div><div class='line' id='LC2645'>&nbsp;&nbsp;&nbsp;&nbsp;&nbsp;&nbsp;&nbsp;&nbsp;&quot; [ 0.  0.  1.]\n&quot;,</div><div class='line' id='LC2646'>&nbsp;&nbsp;&nbsp;&nbsp;&nbsp;&nbsp;&nbsp;&nbsp;&quot; [ 0.  0.  1.]\n&quot;,</div><div class='line' id='LC2647'>&nbsp;&nbsp;&nbsp;&nbsp;&nbsp;&nbsp;&nbsp;&nbsp;&quot; [ 0.  1.  0.]\n&quot;,</div><div class='line' id='LC2648'>&nbsp;&nbsp;&nbsp;&nbsp;&nbsp;&nbsp;&nbsp;&nbsp;&quot; [ 0.  1.  0.]\n&quot;,</div><div class='line' id='LC2649'>&nbsp;&nbsp;&nbsp;&nbsp;&nbsp;&nbsp;&nbsp;&nbsp;&quot; [ 0.  1.  0.]\n&quot;,</div><div class='line' id='LC2650'>&nbsp;&nbsp;&nbsp;&nbsp;&nbsp;&nbsp;&nbsp;&nbsp;&quot; [ 0.  1.  0.]\n&quot;,</div><div class='line' id='LC2651'>&nbsp;&nbsp;&nbsp;&nbsp;&nbsp;&nbsp;&nbsp;&nbsp;&quot; [ 0.  1.  0.]\n&quot;,</div><div class='line' id='LC2652'>&nbsp;&nbsp;&nbsp;&nbsp;&nbsp;&nbsp;&nbsp;&nbsp;&quot; [ 1.  0.  0.]\n&quot;,</div><div class='line' id='LC2653'>&nbsp;&nbsp;&nbsp;&nbsp;&nbsp;&nbsp;&nbsp;&nbsp;&quot; [ 1.  0.  0.]\n&quot;,</div><div class='line' id='LC2654'>&nbsp;&nbsp;&nbsp;&nbsp;&nbsp;&nbsp;&nbsp;&nbsp;&quot; [ 1.  0.  0.]\n&quot;,</div><div class='line' id='LC2655'>&nbsp;&nbsp;&nbsp;&nbsp;&nbsp;&nbsp;&nbsp;&nbsp;&quot; [ 1.  0.  0.]\n&quot;,</div><div class='line' id='LC2656'>&nbsp;&nbsp;&nbsp;&nbsp;&nbsp;&nbsp;&nbsp;&nbsp;&quot; [ 1.  0.  0.]]\n&quot;,</div><div class='line' id='LC2657'>&nbsp;&nbsp;&nbsp;&nbsp;&nbsp;&nbsp;&nbsp;&nbsp;&quot;[[ 0.  1.]\n&quot;,</div><div class='line' id='LC2658'>&nbsp;&nbsp;&nbsp;&nbsp;&nbsp;&nbsp;&nbsp;&nbsp;&quot; [ 1.  0.]\n&quot;,</div><div class='line' id='LC2659'>&nbsp;&nbsp;&nbsp;&nbsp;&nbsp;&nbsp;&nbsp;&nbsp;&quot; [ 0.  1.]\n&quot;,</div><div class='line' id='LC2660'>&nbsp;&nbsp;&nbsp;&nbsp;&nbsp;&nbsp;&nbsp;&nbsp;&quot; [ 1.  0.]\n&quot;,</div><div class='line' id='LC2661'>&nbsp;&nbsp;&nbsp;&nbsp;&nbsp;&nbsp;&nbsp;&nbsp;&quot; [ 0.  1.]\n&quot;,</div><div class='line' id='LC2662'>&nbsp;&nbsp;&nbsp;&nbsp;&nbsp;&nbsp;&nbsp;&nbsp;&quot; [ 1.  0.]\n&quot;,</div><div class='line' id='LC2663'>&nbsp;&nbsp;&nbsp;&nbsp;&nbsp;&nbsp;&nbsp;&nbsp;&quot; [ 0.  1.]\n&quot;,</div><div class='line' id='LC2664'>&nbsp;&nbsp;&nbsp;&nbsp;&nbsp;&nbsp;&nbsp;&nbsp;&quot; [ 1.  0.]\n&quot;,</div><div class='line' id='LC2665'>&nbsp;&nbsp;&nbsp;&nbsp;&nbsp;&nbsp;&nbsp;&nbsp;&quot; [ 0.  1.]\n&quot;,</div><div class='line' id='LC2666'>&nbsp;&nbsp;&nbsp;&nbsp;&nbsp;&nbsp;&nbsp;&nbsp;&quot; [ 1.  0.]\n&quot;,</div><div class='line' id='LC2667'>&nbsp;&nbsp;&nbsp;&nbsp;&nbsp;&nbsp;&nbsp;&nbsp;&quot; [ 0.  1.]\n&quot;,</div><div class='line' id='LC2668'>&nbsp;&nbsp;&nbsp;&nbsp;&nbsp;&nbsp;&nbsp;&nbsp;&quot; [ 1.  0.]\n&quot;,</div><div class='line' id='LC2669'>&nbsp;&nbsp;&nbsp;&nbsp;&nbsp;&nbsp;&nbsp;&nbsp;&quot; [ 0.  1.]\n&quot;,</div><div class='line' id='LC2670'>&nbsp;&nbsp;&nbsp;&nbsp;&nbsp;&nbsp;&nbsp;&nbsp;&quot; [ 1.  0.]\n&quot;,</div><div class='line' id='LC2671'>&nbsp;&nbsp;&nbsp;&nbsp;&nbsp;&nbsp;&nbsp;&nbsp;&quot; [ 0.  1.]]\n&quot;,</div><div class='line' id='LC2672'>&nbsp;&nbsp;&nbsp;&nbsp;&nbsp;&nbsp;&nbsp;&nbsp;&quot;[[ 0.  0.  0.  0.  0.  1.]\n&quot;,</div><div class='line' id='LC2673'>&nbsp;&nbsp;&nbsp;&nbsp;&nbsp;&nbsp;&nbsp;&nbsp;&quot; [ 0.  0.  1.  0.  0.  0.]\n&quot;,</div><div class='line' id='LC2674'>&nbsp;&nbsp;&nbsp;&nbsp;&nbsp;&nbsp;&nbsp;&nbsp;&quot; [ 0.  0.  0.  0.  0.  1.]\n&quot;,</div><div class='line' id='LC2675'>&nbsp;&nbsp;&nbsp;&nbsp;&nbsp;&nbsp;&nbsp;&nbsp;&quot; [ 0.  0.  1.  0.  0.  0.]\n&quot;,</div><div class='line' id='LC2676'>&nbsp;&nbsp;&nbsp;&nbsp;&nbsp;&nbsp;&nbsp;&nbsp;&quot; [ 0.  0.  0.  0.  0.  1.]\n&quot;,</div><div class='line' id='LC2677'>&nbsp;&nbsp;&nbsp;&nbsp;&nbsp;&nbsp;&nbsp;&nbsp;&quot; [ 0.  1.  0.  0.  0.  0.]\n&quot;,</div><div class='line' id='LC2678'>&nbsp;&nbsp;&nbsp;&nbsp;&nbsp;&nbsp;&nbsp;&nbsp;&quot; [ 0.  0.  0.  0.  1.  0.]\n&quot;,</div><div class='line' id='LC2679'>&nbsp;&nbsp;&nbsp;&nbsp;&nbsp;&nbsp;&nbsp;&nbsp;&quot; [ 0.  1.  0.  0.  0.  0.]\n&quot;,</div><div class='line' id='LC2680'>&nbsp;&nbsp;&nbsp;&nbsp;&nbsp;&nbsp;&nbsp;&nbsp;&quot; [ 0.  0.  0.  0.  1.  0.]\n&quot;,</div><div class='line' id='LC2681'>&nbsp;&nbsp;&nbsp;&nbsp;&nbsp;&nbsp;&nbsp;&nbsp;&quot; [ 0.  1.  0.  0.  0.  0.]\n&quot;,</div><div class='line' id='LC2682'>&nbsp;&nbsp;&nbsp;&nbsp;&nbsp;&nbsp;&nbsp;&nbsp;&quot; [ 0.  0.  0.  1.  0.  0.]\n&quot;,</div><div class='line' id='LC2683'>&nbsp;&nbsp;&nbsp;&nbsp;&nbsp;&nbsp;&nbsp;&nbsp;&quot; [ 1.  0.  0.  0.  0.  0.]\n&quot;,</div><div class='line' id='LC2684'>&nbsp;&nbsp;&nbsp;&nbsp;&nbsp;&nbsp;&nbsp;&nbsp;&quot; [ 0.  0.  0.  1.  0.  0.]\n&quot;,</div><div class='line' id='LC2685'>&nbsp;&nbsp;&nbsp;&nbsp;&nbsp;&nbsp;&nbsp;&nbsp;&quot; [ 1.  0.  0.  0.  0.  0.]\n&quot;,</div><div class='line' id='LC2686'>&nbsp;&nbsp;&nbsp;&nbsp;&nbsp;&nbsp;&nbsp;&nbsp;&quot; [ 0.  0.  0.  1.  0.  0.]]\n&quot;</div><div class='line' id='LC2687'>&nbsp;&nbsp;&nbsp;&nbsp;&nbsp;&nbsp;&nbsp;]</div><div class='line' id='LC2688'>&nbsp;&nbsp;&nbsp;&nbsp;&nbsp;&nbsp;}</div><div class='line' id='LC2689'>&nbsp;&nbsp;&nbsp;&nbsp;&nbsp;],</div><div class='line' id='LC2690'>&nbsp;&nbsp;&nbsp;&nbsp;&nbsp;&quot;prompt_number&quot;: 66</div><div class='line' id='LC2691'>&nbsp;&nbsp;&nbsp;&nbsp;},</div><div class='line' id='LC2692'>&nbsp;&nbsp;&nbsp;&nbsp;{</div><div class='line' id='LC2693'>&nbsp;&nbsp;&nbsp;&nbsp;&nbsp;&quot;cell_type&quot;: &quot;heading&quot;,</div><div class='line' id='LC2694'>&nbsp;&nbsp;&nbsp;&nbsp;&nbsp;&quot;level&quot;: 4,</div><div class='line' id='LC2695'>&nbsp;&nbsp;&nbsp;&nbsp;&nbsp;&quot;metadata&quot;: {},</div><div class='line' id='LC2696'>&nbsp;&nbsp;&nbsp;&nbsp;&nbsp;&quot;source&quot;: [</div><div class='line' id='LC2697'>&nbsp;&nbsp;&nbsp;&nbsp;&nbsp;&nbsp;&quot;Factor:numeric interactions&quot;</div><div class='line' id='LC2698'>&nbsp;&nbsp;&nbsp;&nbsp;&nbsp;]</div><div class='line' id='LC2699'>&nbsp;&nbsp;&nbsp;&nbsp;},</div><div class='line' id='LC2700'>&nbsp;&nbsp;&nbsp;&nbsp;{</div><div class='line' id='LC2701'>&nbsp;&nbsp;&nbsp;&nbsp;&nbsp;&quot;cell_type&quot;: &quot;markdown&quot;,</div><div class='line' id='LC2702'>&nbsp;&nbsp;&nbsp;&nbsp;&nbsp;&quot;metadata&quot;: {},</div><div class='line' id='LC2703'>&nbsp;&nbsp;&nbsp;&nbsp;&nbsp;&quot;source&quot;: [</div><div class='line' id='LC2704'>&nbsp;&nbsp;&nbsp;&nbsp;&nbsp;&nbsp;&quot;The column space of a factor:numeric interaction is given by taking the matrix giving indicator coding of the factor $f$ (call this $M$) and multiplying each column in $M$ by the numeric variable.  This is a varying slope model, where the slope of the relationship of the response variable $Y$ and the numeric variable $x$ differs according to the levels of the factor $f$.  For example:&quot;</div><div class='line' id='LC2705'>&nbsp;&nbsp;&nbsp;&nbsp;&nbsp;]</div><div class='line' id='LC2706'>&nbsp;&nbsp;&nbsp;&nbsp;},</div><div class='line' id='LC2707'>&nbsp;&nbsp;&nbsp;&nbsp;{</div><div class='line' id='LC2708'>&nbsp;&nbsp;&nbsp;&nbsp;&nbsp;&quot;cell_type&quot;: &quot;code&quot;,</div><div class='line' id='LC2709'>&nbsp;&nbsp;&nbsp;&nbsp;&nbsp;&quot;collapsed&quot;: false,</div><div class='line' id='LC2710'>&nbsp;&nbsp;&nbsp;&nbsp;&nbsp;&quot;input&quot;: [</div><div class='line' id='LC2711'>&nbsp;&nbsp;&nbsp;&nbsp;&nbsp;&nbsp;&quot;%R model.matrix(~ x1:nationality - 1)&quot;</div><div class='line' id='LC2712'>&nbsp;&nbsp;&nbsp;&nbsp;&nbsp;],</div><div class='line' id='LC2713'>&nbsp;&nbsp;&nbsp;&nbsp;&nbsp;&quot;language&quot;: &quot;python&quot;,</div><div class='line' id='LC2714'>&nbsp;&nbsp;&nbsp;&nbsp;&nbsp;&quot;metadata&quot;: {},</div><div class='line' id='LC2715'>&nbsp;&nbsp;&nbsp;&nbsp;&nbsp;&quot;outputs&quot;: [</div><div class='line' id='LC2716'>&nbsp;&nbsp;&nbsp;&nbsp;&nbsp;&nbsp;{</div><div class='line' id='LC2717'>&nbsp;&nbsp;&nbsp;&nbsp;&nbsp;&nbsp;&nbsp;&quot;output_type&quot;: &quot;pyout&quot;,</div><div class='line' id='LC2718'>&nbsp;&nbsp;&nbsp;&nbsp;&nbsp;&nbsp;&nbsp;&quot;prompt_number&quot;: 67,</div><div class='line' id='LC2719'>&nbsp;&nbsp;&nbsp;&nbsp;&nbsp;&nbsp;&nbsp;&quot;text&quot;: [</div><div class='line' id='LC2720'>&nbsp;&nbsp;&nbsp;&nbsp;&nbsp;&nbsp;&nbsp;&nbsp;&quot;array([[  0.,   0.,  49.],\n&quot;,</div><div class='line' id='LC2721'>&nbsp;&nbsp;&nbsp;&nbsp;&nbsp;&nbsp;&nbsp;&nbsp;&quot;       [  0.,   0.,  50.],\n&quot;,</div><div class='line' id='LC2722'>&nbsp;&nbsp;&nbsp;&nbsp;&nbsp;&nbsp;&nbsp;&nbsp;&quot;       [  0.,   0.,  45.],\n&quot;,</div><div class='line' id='LC2723'>&nbsp;&nbsp;&nbsp;&nbsp;&nbsp;&nbsp;&nbsp;&nbsp;&quot;       [  0.,   0.,  53.],\n&quot;,</div><div class='line' id='LC2724'>&nbsp;&nbsp;&nbsp;&nbsp;&nbsp;&nbsp;&nbsp;&nbsp;&quot;       [  0.,   0.,  69.],\n&quot;,</div><div class='line' id='LC2725'>&nbsp;&nbsp;&nbsp;&nbsp;&nbsp;&nbsp;&nbsp;&nbsp;&quot;       [  0.,  73.,   0.],\n&quot;,</div><div class='line' id='LC2726'>&nbsp;&nbsp;&nbsp;&nbsp;&nbsp;&nbsp;&nbsp;&nbsp;&quot;       [  0.,  35.,   0.],\n&quot;,</div><div class='line' id='LC2727'>&nbsp;&nbsp;&nbsp;&nbsp;&nbsp;&nbsp;&nbsp;&nbsp;&quot;       [  0.,  40.,   0.],\n&quot;,</div><div class='line' id='LC2728'>&nbsp;&nbsp;&nbsp;&nbsp;&nbsp;&nbsp;&nbsp;&nbsp;&quot;       [  0.,  36.,   0.],\n&quot;,</div><div class='line' id='LC2729'>&nbsp;&nbsp;&nbsp;&nbsp;&nbsp;&nbsp;&nbsp;&nbsp;&quot;       [  0.,  30.,   0.],\n&quot;,</div><div class='line' id='LC2730'>&nbsp;&nbsp;&nbsp;&nbsp;&nbsp;&nbsp;&nbsp;&nbsp;&quot;       [ 49.,   0.,   0.],\n&quot;,</div><div class='line' id='LC2731'>&nbsp;&nbsp;&nbsp;&nbsp;&nbsp;&nbsp;&nbsp;&nbsp;&quot;       [ 36.,   0.,   0.],\n&quot;,</div><div class='line' id='LC2732'>&nbsp;&nbsp;&nbsp;&nbsp;&nbsp;&nbsp;&nbsp;&nbsp;&quot;       [ 73.,   0.,   0.],\n&quot;,</div><div class='line' id='LC2733'>&nbsp;&nbsp;&nbsp;&nbsp;&nbsp;&nbsp;&nbsp;&nbsp;&quot;       [ 61.,   0.,   0.],\n&quot;,</div><div class='line' id='LC2734'>&nbsp;&nbsp;&nbsp;&nbsp;&nbsp;&nbsp;&nbsp;&nbsp;&quot;       [ 74.,   0.,   0.]])&quot;</div><div class='line' id='LC2735'>&nbsp;&nbsp;&nbsp;&nbsp;&nbsp;&nbsp;&nbsp;]</div><div class='line' id='LC2736'>&nbsp;&nbsp;&nbsp;&nbsp;&nbsp;&nbsp;}</div><div class='line' id='LC2737'>&nbsp;&nbsp;&nbsp;&nbsp;&nbsp;],</div><div class='line' id='LC2738'>&nbsp;&nbsp;&nbsp;&nbsp;&nbsp;&quot;prompt_number&quot;: 67</div><div class='line' id='LC2739'>&nbsp;&nbsp;&nbsp;&nbsp;},</div><div class='line' id='LC2740'>&nbsp;&nbsp;&nbsp;&nbsp;{</div><div class='line' id='LC2741'>&nbsp;&nbsp;&nbsp;&nbsp;&nbsp;&quot;cell_type&quot;: &quot;heading&quot;,</div><div class='line' id='LC2742'>&nbsp;&nbsp;&nbsp;&nbsp;&nbsp;&quot;level&quot;: 3,</div><div class='line' id='LC2743'>&nbsp;&nbsp;&nbsp;&nbsp;&nbsp;&quot;metadata&quot;: {},</div><div class='line' id='LC2744'>&nbsp;&nbsp;&nbsp;&nbsp;&nbsp;&quot;source&quot;: [</div><div class='line' id='LC2745'>&nbsp;&nbsp;&nbsp;&nbsp;&nbsp;&nbsp;&quot;Coding of factors&quot;</div><div class='line' id='LC2746'>&nbsp;&nbsp;&nbsp;&nbsp;&nbsp;]</div><div class='line' id='LC2747'>&nbsp;&nbsp;&nbsp;&nbsp;},</div><div class='line' id='LC2748'>&nbsp;&nbsp;&nbsp;&nbsp;{</div><div class='line' id='LC2749'>&nbsp;&nbsp;&nbsp;&nbsp;&nbsp;&quot;cell_type&quot;: &quot;markdown&quot;,</div><div class='line' id='LC2750'>&nbsp;&nbsp;&nbsp;&nbsp;&nbsp;&quot;metadata&quot;: {},</div><div class='line' id='LC2751'>&nbsp;&nbsp;&nbsp;&nbsp;&nbsp;&quot;source&quot;: [</div><div class='line' id='LC2752'>&nbsp;&nbsp;&nbsp;&nbsp;&nbsp;&nbsp;&quot;Once the terms have been ordered, R has to make a design matrix.  The one decision left is how to code the factors - should they use &#39;indicator&#39; coding or &#39;contrast&#39; coding.  The rule is the following:\n&quot;,</div><div class='line' id='LC2753'>&nbsp;&nbsp;&nbsp;&nbsp;&nbsp;&nbsp;&quot;\n&quot;,</div><div class='line' id='LC2754'>&nbsp;&nbsp;&nbsp;&nbsp;&nbsp;&nbsp;&quot;&gt; Suppose we have an expanded formula with $p$ factors [*elements* in my terminology]: $F_1,F_2,...,F_p$.  and $m$ terms: $T_1 + T_2+...+T_m$ ...\n&quot;,</div><div class='line' id='LC2755'>&nbsp;&nbsp;&nbsp;&nbsp;&nbsp;&nbsp;&quot;\n&quot;,</div><div class='line' id='LC2756'>&nbsp;&nbsp;&nbsp;&nbsp;&nbsp;&nbsp;&quot;&gt; \&quot;Suppose $F_J$ is any factor included in term $T_i$.  Let $T_{i(j)}$ denote the *margin* of $T_i$ for factor $F_j$ - that is, the term obtained by dropping $F_j$ from $T_i$.  We say that $T_{i(j)}$ has appeared in the formula if there is some term $T_{i&#39;}$ for $i&#39; &lt; i$ such that $T_{i&#39;}$ contains all the factors appearing in $T_{i(j)}$.  The usual case is that $T_{i(j)}$ itself is one of the preceding terms.  Then $F_j$ is coded by contrasts if $T_{i(j)}$ has appeared in the formula and by dummy variables if it has not\&quot; (S models chapter, section 2.4.1)\n&quot;,</div><div class='line' id='LC2757'>&nbsp;&nbsp;&nbsp;&nbsp;&nbsp;&nbsp;&quot;\n&quot;,</div><div class='line' id='LC2758'>&nbsp;&nbsp;&nbsp;&nbsp;&nbsp;&nbsp;&quot;Coding with dummy variables in the quote above means coding with indicator variables in my terminology.\n&quot;,</div><div class='line' id='LC2759'>&nbsp;&nbsp;&nbsp;&nbsp;&nbsp;&nbsp;&quot;\n&quot;,</div><div class='line' id='LC2760'>&nbsp;&nbsp;&nbsp;&nbsp;&nbsp;&nbsp;&quot;Let us explore these rules. For the sake of these rules, a factor `f` on its own (no interactions) should be read as the interaction between the factor and the intercept; that is `f` $\\implies$ `1:f`.\n&quot;,</div><div class='line' id='LC2761'>&nbsp;&nbsp;&nbsp;&nbsp;&nbsp;&nbsp;&quot;\n&quot;,</div><div class='line' id='LC2762'>&nbsp;&nbsp;&nbsp;&nbsp;&nbsp;&nbsp;&quot;So - a model with one factor and the intercept - `~ nationality` (= `~ nationality + 1`):&quot;</div><div class='line' id='LC2763'>&nbsp;&nbsp;&nbsp;&nbsp;&nbsp;]</div><div class='line' id='LC2764'>&nbsp;&nbsp;&nbsp;&nbsp;},</div><div class='line' id='LC2765'>&nbsp;&nbsp;&nbsp;&nbsp;{</div><div class='line' id='LC2766'>&nbsp;&nbsp;&nbsp;&nbsp;&nbsp;&quot;cell_type&quot;: &quot;code&quot;,</div><div class='line' id='LC2767'>&nbsp;&nbsp;&nbsp;&nbsp;&nbsp;&quot;collapsed&quot;: false,</div><div class='line' id='LC2768'>&nbsp;&nbsp;&nbsp;&nbsp;&nbsp;&quot;input&quot;: [</div><div class='line' id='LC2769'>&nbsp;&nbsp;&nbsp;&nbsp;&nbsp;&nbsp;&quot;%R model.matrix(~ 1 + nationality)&quot;</div><div class='line' id='LC2770'>&nbsp;&nbsp;&nbsp;&nbsp;&nbsp;],</div><div class='line' id='LC2771'>&nbsp;&nbsp;&nbsp;&nbsp;&nbsp;&quot;language&quot;: &quot;python&quot;,</div><div class='line' id='LC2772'>&nbsp;&nbsp;&nbsp;&nbsp;&nbsp;&quot;metadata&quot;: {},</div><div class='line' id='LC2773'>&nbsp;&nbsp;&nbsp;&nbsp;&nbsp;&quot;outputs&quot;: [</div><div class='line' id='LC2774'>&nbsp;&nbsp;&nbsp;&nbsp;&nbsp;&nbsp;{</div><div class='line' id='LC2775'>&nbsp;&nbsp;&nbsp;&nbsp;&nbsp;&nbsp;&nbsp;&quot;output_type&quot;: &quot;pyout&quot;,</div><div class='line' id='LC2776'>&nbsp;&nbsp;&nbsp;&nbsp;&nbsp;&nbsp;&nbsp;&quot;prompt_number&quot;: 68,</div><div class='line' id='LC2777'>&nbsp;&nbsp;&nbsp;&nbsp;&nbsp;&nbsp;&nbsp;&quot;text&quot;: [</div><div class='line' id='LC2778'>&nbsp;&nbsp;&nbsp;&nbsp;&nbsp;&nbsp;&nbsp;&nbsp;&quot;array([[ 1.,  0.,  1.],\n&quot;,</div><div class='line' id='LC2779'>&nbsp;&nbsp;&nbsp;&nbsp;&nbsp;&nbsp;&nbsp;&nbsp;&quot;       [ 1.,  0.,  1.],\n&quot;,</div><div class='line' id='LC2780'>&nbsp;&nbsp;&nbsp;&nbsp;&nbsp;&nbsp;&nbsp;&nbsp;&quot;       [ 1.,  0.,  1.],\n&quot;,</div><div class='line' id='LC2781'>&nbsp;&nbsp;&nbsp;&nbsp;&nbsp;&nbsp;&nbsp;&nbsp;&quot;       [ 1.,  0.,  1.],\n&quot;,</div><div class='line' id='LC2782'>&nbsp;&nbsp;&nbsp;&nbsp;&nbsp;&nbsp;&nbsp;&nbsp;&quot;       [ 1.,  0.,  1.],\n&quot;,</div><div class='line' id='LC2783'>&nbsp;&nbsp;&nbsp;&nbsp;&nbsp;&nbsp;&nbsp;&nbsp;&quot;       [ 1.,  1.,  0.],\n&quot;,</div><div class='line' id='LC2784'>&nbsp;&nbsp;&nbsp;&nbsp;&nbsp;&nbsp;&nbsp;&nbsp;&quot;       [ 1.,  1.,  0.],\n&quot;,</div><div class='line' id='LC2785'>&nbsp;&nbsp;&nbsp;&nbsp;&nbsp;&nbsp;&nbsp;&nbsp;&quot;       [ 1.,  1.,  0.],\n&quot;,</div><div class='line' id='LC2786'>&nbsp;&nbsp;&nbsp;&nbsp;&nbsp;&nbsp;&nbsp;&nbsp;&quot;       [ 1.,  1.,  0.],\n&quot;,</div><div class='line' id='LC2787'>&nbsp;&nbsp;&nbsp;&nbsp;&nbsp;&nbsp;&nbsp;&nbsp;&quot;       [ 1.,  1.,  0.],\n&quot;,</div><div class='line' id='LC2788'>&nbsp;&nbsp;&nbsp;&nbsp;&nbsp;&nbsp;&nbsp;&nbsp;&quot;       [ 1.,  0.,  0.],\n&quot;,</div><div class='line' id='LC2789'>&nbsp;&nbsp;&nbsp;&nbsp;&nbsp;&nbsp;&nbsp;&nbsp;&quot;       [ 1.,  0.,  0.],\n&quot;,</div><div class='line' id='LC2790'>&nbsp;&nbsp;&nbsp;&nbsp;&nbsp;&nbsp;&nbsp;&nbsp;&quot;       [ 1.,  0.,  0.],\n&quot;,</div><div class='line' id='LC2791'>&nbsp;&nbsp;&nbsp;&nbsp;&nbsp;&nbsp;&nbsp;&nbsp;&quot;       [ 1.,  0.,  0.],\n&quot;,</div><div class='line' id='LC2792'>&nbsp;&nbsp;&nbsp;&nbsp;&nbsp;&nbsp;&nbsp;&nbsp;&quot;       [ 1.,  0.,  0.]])&quot;</div><div class='line' id='LC2793'>&nbsp;&nbsp;&nbsp;&nbsp;&nbsp;&nbsp;&nbsp;]</div><div class='line' id='LC2794'>&nbsp;&nbsp;&nbsp;&nbsp;&nbsp;&nbsp;}</div><div class='line' id='LC2795'>&nbsp;&nbsp;&nbsp;&nbsp;&nbsp;],</div><div class='line' id='LC2796'>&nbsp;&nbsp;&nbsp;&nbsp;&nbsp;&quot;prompt_number&quot;: 68</div><div class='line' id='LC2797'>&nbsp;&nbsp;&nbsp;&nbsp;},</div><div class='line' id='LC2798'>&nbsp;&nbsp;&nbsp;&nbsp;{</div><div class='line' id='LC2799'>&nbsp;&nbsp;&nbsp;&nbsp;&nbsp;&quot;cell_type&quot;: &quot;markdown&quot;,</div><div class='line' id='LC2800'>&nbsp;&nbsp;&nbsp;&nbsp;&nbsp;&quot;metadata&quot;: {},</div><div class='line' id='LC2801'>&nbsp;&nbsp;&nbsp;&nbsp;&nbsp;&quot;source&quot;: [</div><div class='line' id='LC2802'>&nbsp;&nbsp;&nbsp;&nbsp;&nbsp;&nbsp;&quot;Logic: R reaches term `nationality`; it interprets this as the interaction of `nationality` and the intercept.  Removing `nationality` from this term it looks backwards for the intercept, finds it, and thus codes `nationality` with contrast coding.  But, if no intercept:&quot;</div><div class='line' id='LC2803'>&nbsp;&nbsp;&nbsp;&nbsp;&nbsp;]</div><div class='line' id='LC2804'>&nbsp;&nbsp;&nbsp;&nbsp;},</div><div class='line' id='LC2805'>&nbsp;&nbsp;&nbsp;&nbsp;{</div><div class='line' id='LC2806'>&nbsp;&nbsp;&nbsp;&nbsp;&nbsp;&quot;cell_type&quot;: &quot;code&quot;,</div><div class='line' id='LC2807'>&nbsp;&nbsp;&nbsp;&nbsp;&nbsp;&quot;collapsed&quot;: false,</div><div class='line' id='LC2808'>&nbsp;&nbsp;&nbsp;&nbsp;&nbsp;&quot;input&quot;: [</div><div class='line' id='LC2809'>&nbsp;&nbsp;&nbsp;&nbsp;&nbsp;&nbsp;&quot;%R model.matrix(~ nationality - 1)&quot;</div><div class='line' id='LC2810'>&nbsp;&nbsp;&nbsp;&nbsp;&nbsp;],</div><div class='line' id='LC2811'>&nbsp;&nbsp;&nbsp;&nbsp;&nbsp;&quot;language&quot;: &quot;python&quot;,</div><div class='line' id='LC2812'>&nbsp;&nbsp;&nbsp;&nbsp;&nbsp;&quot;metadata&quot;: {},</div><div class='line' id='LC2813'>&nbsp;&nbsp;&nbsp;&nbsp;&nbsp;&quot;outputs&quot;: [</div><div class='line' id='LC2814'>&nbsp;&nbsp;&nbsp;&nbsp;&nbsp;&nbsp;{</div><div class='line' id='LC2815'>&nbsp;&nbsp;&nbsp;&nbsp;&nbsp;&nbsp;&nbsp;&quot;output_type&quot;: &quot;pyout&quot;,</div><div class='line' id='LC2816'>&nbsp;&nbsp;&nbsp;&nbsp;&nbsp;&nbsp;&nbsp;&quot;prompt_number&quot;: 69,</div><div class='line' id='LC2817'>&nbsp;&nbsp;&nbsp;&nbsp;&nbsp;&nbsp;&nbsp;&quot;text&quot;: [</div><div class='line' id='LC2818'>&nbsp;&nbsp;&nbsp;&nbsp;&nbsp;&nbsp;&nbsp;&nbsp;&quot;array([[ 0.,  0.,  1.],\n&quot;,</div><div class='line' id='LC2819'>&nbsp;&nbsp;&nbsp;&nbsp;&nbsp;&nbsp;&nbsp;&nbsp;&quot;       [ 0.,  0.,  1.],\n&quot;,</div><div class='line' id='LC2820'>&nbsp;&nbsp;&nbsp;&nbsp;&nbsp;&nbsp;&nbsp;&nbsp;&quot;       [ 0.,  0.,  1.],\n&quot;,</div><div class='line' id='LC2821'>&nbsp;&nbsp;&nbsp;&nbsp;&nbsp;&nbsp;&nbsp;&nbsp;&quot;       [ 0.,  0.,  1.],\n&quot;,</div><div class='line' id='LC2822'>&nbsp;&nbsp;&nbsp;&nbsp;&nbsp;&nbsp;&nbsp;&nbsp;&quot;       [ 0.,  0.,  1.],\n&quot;,</div><div class='line' id='LC2823'>&nbsp;&nbsp;&nbsp;&nbsp;&nbsp;&nbsp;&nbsp;&nbsp;&quot;       [ 0.,  1.,  0.],\n&quot;,</div><div class='line' id='LC2824'>&nbsp;&nbsp;&nbsp;&nbsp;&nbsp;&nbsp;&nbsp;&nbsp;&quot;       [ 0.,  1.,  0.],\n&quot;,</div><div class='line' id='LC2825'>&nbsp;&nbsp;&nbsp;&nbsp;&nbsp;&nbsp;&nbsp;&nbsp;&quot;       [ 0.,  1.,  0.],\n&quot;,</div><div class='line' id='LC2826'>&nbsp;&nbsp;&nbsp;&nbsp;&nbsp;&nbsp;&nbsp;&nbsp;&quot;       [ 0.,  1.,  0.],\n&quot;,</div><div class='line' id='LC2827'>&nbsp;&nbsp;&nbsp;&nbsp;&nbsp;&nbsp;&nbsp;&nbsp;&quot;       [ 0.,  1.,  0.],\n&quot;,</div><div class='line' id='LC2828'>&nbsp;&nbsp;&nbsp;&nbsp;&nbsp;&nbsp;&nbsp;&nbsp;&quot;       [ 1.,  0.,  0.],\n&quot;,</div><div class='line' id='LC2829'>&nbsp;&nbsp;&nbsp;&nbsp;&nbsp;&nbsp;&nbsp;&nbsp;&quot;       [ 1.,  0.,  0.],\n&quot;,</div><div class='line' id='LC2830'>&nbsp;&nbsp;&nbsp;&nbsp;&nbsp;&nbsp;&nbsp;&nbsp;&quot;       [ 1.,  0.,  0.],\n&quot;,</div><div class='line' id='LC2831'>&nbsp;&nbsp;&nbsp;&nbsp;&nbsp;&nbsp;&nbsp;&nbsp;&quot;       [ 1.,  0.,  0.],\n&quot;,</div><div class='line' id='LC2832'>&nbsp;&nbsp;&nbsp;&nbsp;&nbsp;&nbsp;&nbsp;&nbsp;&quot;       [ 1.,  0.,  0.]])&quot;</div><div class='line' id='LC2833'>&nbsp;&nbsp;&nbsp;&nbsp;&nbsp;&nbsp;&nbsp;]</div><div class='line' id='LC2834'>&nbsp;&nbsp;&nbsp;&nbsp;&nbsp;&nbsp;}</div><div class='line' id='LC2835'>&nbsp;&nbsp;&nbsp;&nbsp;&nbsp;],</div><div class='line' id='LC2836'>&nbsp;&nbsp;&nbsp;&nbsp;&nbsp;&quot;prompt_number&quot;: 69</div><div class='line' id='LC2837'>&nbsp;&nbsp;&nbsp;&nbsp;},</div><div class='line' id='LC2838'>&nbsp;&nbsp;&nbsp;&nbsp;{</div><div class='line' id='LC2839'>&nbsp;&nbsp;&nbsp;&nbsp;&nbsp;&quot;cell_type&quot;: &quot;markdown&quot;,</div><div class='line' id='LC2840'>&nbsp;&nbsp;&nbsp;&nbsp;&nbsp;&quot;metadata&quot;: {},</div><div class='line' id='LC2841'>&nbsp;&nbsp;&nbsp;&nbsp;&nbsp;&quot;source&quot;: [</div><div class='line' id='LC2842'>&nbsp;&nbsp;&nbsp;&nbsp;&nbsp;&nbsp;&quot;Logic: R finds `nationality`, interprets as `1:nationality`, removes nationality and looks for the intercept in previous terms in the expanded formula, does not find it, so uses indicator coding for `nationality`.\n&quot;,</div><div class='line' id='LC2843'>&nbsp;&nbsp;&nbsp;&nbsp;&nbsp;&nbsp;&quot;\n&quot;,</div><div class='line' id='LC2844'>&nbsp;&nbsp;&nbsp;&nbsp;&nbsp;&nbsp;&quot;How about?&quot;</div><div class='line' id='LC2845'>&nbsp;&nbsp;&nbsp;&nbsp;&nbsp;]</div><div class='line' id='LC2846'>&nbsp;&nbsp;&nbsp;&nbsp;},</div><div class='line' id='LC2847'>&nbsp;&nbsp;&nbsp;&nbsp;{</div><div class='line' id='LC2848'>&nbsp;&nbsp;&nbsp;&nbsp;&nbsp;&quot;cell_type&quot;: &quot;code&quot;,</div><div class='line' id='LC2849'>&nbsp;&nbsp;&nbsp;&nbsp;&nbsp;&quot;collapsed&quot;: false,</div><div class='line' id='LC2850'>&nbsp;&nbsp;&nbsp;&nbsp;&nbsp;&quot;input&quot;: [</div><div class='line' id='LC2851'>&nbsp;&nbsp;&nbsp;&nbsp;&nbsp;&nbsp;&quot;%R print(model.matrix(~ nationality + awesome + nationality:awesome - 1))&quot;</div><div class='line' id='LC2852'>&nbsp;&nbsp;&nbsp;&nbsp;&nbsp;],</div><div class='line' id='LC2853'>&nbsp;&nbsp;&nbsp;&nbsp;&nbsp;&quot;language&quot;: &quot;python&quot;,</div><div class='line' id='LC2854'>&nbsp;&nbsp;&nbsp;&nbsp;&nbsp;&quot;metadata&quot;: {},</div><div class='line' id='LC2855'>&nbsp;&nbsp;&nbsp;&nbsp;&nbsp;&quot;outputs&quot;: [</div><div class='line' id='LC2856'>&nbsp;&nbsp;&nbsp;&nbsp;&nbsp;&nbsp;{</div><div class='line' id='LC2857'>&nbsp;&nbsp;&nbsp;&nbsp;&nbsp;&nbsp;&nbsp;&quot;output_type&quot;: &quot;display_data&quot;,</div><div class='line' id='LC2858'>&nbsp;&nbsp;&nbsp;&nbsp;&nbsp;&nbsp;&nbsp;&quot;text&quot;: [</div><div class='line' id='LC2859'>&nbsp;&nbsp;&nbsp;&nbsp;&nbsp;&nbsp;&nbsp;&nbsp;&quot;   nationalityFrance nationalityUK nationalityUSA awesomeYes\n&quot;,</div><div class='line' id='LC2860'>&nbsp;&nbsp;&nbsp;&nbsp;&nbsp;&nbsp;&nbsp;&nbsp;&quot;1                  0             0              1          1\n&quot;,</div><div class='line' id='LC2861'>&nbsp;&nbsp;&nbsp;&nbsp;&nbsp;&nbsp;&nbsp;&nbsp;&quot;2                  0             0              1          0\n&quot;,</div><div class='line' id='LC2862'>&nbsp;&nbsp;&nbsp;&nbsp;&nbsp;&nbsp;&nbsp;&nbsp;&quot;3                  0             0              1          1\n&quot;,</div><div class='line' id='LC2863'>&nbsp;&nbsp;&nbsp;&nbsp;&nbsp;&nbsp;&nbsp;&nbsp;&quot;4                  0             0              1          0\n&quot;,</div><div class='line' id='LC2864'>&nbsp;&nbsp;&nbsp;&nbsp;&nbsp;&nbsp;&nbsp;&nbsp;&quot;5                  0             0              1          1\n&quot;,</div><div class='line' id='LC2865'>&nbsp;&nbsp;&nbsp;&nbsp;&nbsp;&nbsp;&nbsp;&nbsp;&quot;6                  0             1              0          0\n&quot;,</div><div class='line' id='LC2866'>&nbsp;&nbsp;&nbsp;&nbsp;&nbsp;&nbsp;&nbsp;&nbsp;&quot;7                  0             1              0          1\n&quot;,</div><div class='line' id='LC2867'>&nbsp;&nbsp;&nbsp;&nbsp;&nbsp;&nbsp;&nbsp;&nbsp;&quot;8                  0             1              0          0\n&quot;,</div><div class='line' id='LC2868'>&nbsp;&nbsp;&nbsp;&nbsp;&nbsp;&nbsp;&nbsp;&nbsp;&quot;9                  0             1              0          1\n&quot;,</div><div class='line' id='LC2869'>&nbsp;&nbsp;&nbsp;&nbsp;&nbsp;&nbsp;&nbsp;&nbsp;&quot;10                 0             1              0          0\n&quot;,</div><div class='line' id='LC2870'>&nbsp;&nbsp;&nbsp;&nbsp;&nbsp;&nbsp;&nbsp;&nbsp;&quot;11                 1             0              0          1\n&quot;,</div><div class='line' id='LC2871'>&nbsp;&nbsp;&nbsp;&nbsp;&nbsp;&nbsp;&nbsp;&nbsp;&quot;12                 1             0              0          0\n&quot;,</div><div class='line' id='LC2872'>&nbsp;&nbsp;&nbsp;&nbsp;&nbsp;&nbsp;&nbsp;&nbsp;&quot;13                 1             0              0          1\n&quot;,</div><div class='line' id='LC2873'>&nbsp;&nbsp;&nbsp;&nbsp;&nbsp;&nbsp;&nbsp;&nbsp;&quot;14                 1             0              0          0\n&quot;,</div><div class='line' id='LC2874'>&nbsp;&nbsp;&nbsp;&nbsp;&nbsp;&nbsp;&nbsp;&nbsp;&quot;15                 1             0              0          1\n&quot;,</div><div class='line' id='LC2875'>&nbsp;&nbsp;&nbsp;&nbsp;&nbsp;&nbsp;&nbsp;&nbsp;&quot;   nationalityUK:awesomeYes nationalityUSA:awesomeYes\n&quot;,</div><div class='line' id='LC2876'>&nbsp;&nbsp;&nbsp;&nbsp;&nbsp;&nbsp;&nbsp;&nbsp;&quot;1                         0                         1\n&quot;,</div><div class='line' id='LC2877'>&nbsp;&nbsp;&nbsp;&nbsp;&nbsp;&nbsp;&nbsp;&nbsp;&quot;2                         0                         0\n&quot;,</div><div class='line' id='LC2878'>&nbsp;&nbsp;&nbsp;&nbsp;&nbsp;&nbsp;&nbsp;&nbsp;&quot;3                         0                         1\n&quot;,</div><div class='line' id='LC2879'>&nbsp;&nbsp;&nbsp;&nbsp;&nbsp;&nbsp;&nbsp;&nbsp;&quot;4                         0                         0\n&quot;,</div><div class='line' id='LC2880'>&nbsp;&nbsp;&nbsp;&nbsp;&nbsp;&nbsp;&nbsp;&nbsp;&quot;5                         0                         1\n&quot;,</div><div class='line' id='LC2881'>&nbsp;&nbsp;&nbsp;&nbsp;&nbsp;&nbsp;&nbsp;&nbsp;&quot;6                         0                         0\n&quot;,</div><div class='line' id='LC2882'>&nbsp;&nbsp;&nbsp;&nbsp;&nbsp;&nbsp;&nbsp;&nbsp;&quot;7                         1                         0\n&quot;,</div><div class='line' id='LC2883'>&nbsp;&nbsp;&nbsp;&nbsp;&nbsp;&nbsp;&nbsp;&nbsp;&quot;8                         0                         0\n&quot;,</div><div class='line' id='LC2884'>&nbsp;&nbsp;&nbsp;&nbsp;&nbsp;&nbsp;&nbsp;&nbsp;&quot;9                         1                         0\n&quot;,</div><div class='line' id='LC2885'>&nbsp;&nbsp;&nbsp;&nbsp;&nbsp;&nbsp;&nbsp;&nbsp;&quot;10                        0                         0\n&quot;,</div><div class='line' id='LC2886'>&nbsp;&nbsp;&nbsp;&nbsp;&nbsp;&nbsp;&nbsp;&nbsp;&quot;11                        0                         0\n&quot;,</div><div class='line' id='LC2887'>&nbsp;&nbsp;&nbsp;&nbsp;&nbsp;&nbsp;&nbsp;&nbsp;&quot;12                        0                         0\n&quot;,</div><div class='line' id='LC2888'>&nbsp;&nbsp;&nbsp;&nbsp;&nbsp;&nbsp;&nbsp;&nbsp;&quot;13                        0                         0\n&quot;,</div><div class='line' id='LC2889'>&nbsp;&nbsp;&nbsp;&nbsp;&nbsp;&nbsp;&nbsp;&nbsp;&quot;14                        0                         0\n&quot;,</div><div class='line' id='LC2890'>&nbsp;&nbsp;&nbsp;&nbsp;&nbsp;&nbsp;&nbsp;&nbsp;&quot;15                        0                         0\n&quot;,</div><div class='line' id='LC2891'>&nbsp;&nbsp;&nbsp;&nbsp;&nbsp;&nbsp;&nbsp;&nbsp;&quot;attr(,\&quot;assign\&quot;)\n&quot;,</div><div class='line' id='LC2892'>&nbsp;&nbsp;&nbsp;&nbsp;&nbsp;&nbsp;&nbsp;&nbsp;&quot;[1] 1 1 1 2 3 3\n&quot;,</div><div class='line' id='LC2893'>&nbsp;&nbsp;&nbsp;&nbsp;&nbsp;&nbsp;&nbsp;&nbsp;&quot;attr(,\&quot;contrasts\&quot;)\n&quot;,</div><div class='line' id='LC2894'>&nbsp;&nbsp;&nbsp;&nbsp;&nbsp;&nbsp;&nbsp;&nbsp;&quot;attr(,\&quot;contrasts\&quot;)$nationality\n&quot;,</div><div class='line' id='LC2895'>&nbsp;&nbsp;&nbsp;&nbsp;&nbsp;&nbsp;&nbsp;&nbsp;&quot;[1] \&quot;contr.treatment\&quot;\n&quot;,</div><div class='line' id='LC2896'>&nbsp;&nbsp;&nbsp;&nbsp;&nbsp;&nbsp;&nbsp;&nbsp;&quot;\n&quot;,</div><div class='line' id='LC2897'>&nbsp;&nbsp;&nbsp;&nbsp;&nbsp;&nbsp;&nbsp;&nbsp;&quot;attr(,\&quot;contrasts\&quot;)$awesome\n&quot;,</div><div class='line' id='LC2898'>&nbsp;&nbsp;&nbsp;&nbsp;&nbsp;&nbsp;&nbsp;&nbsp;&quot;[1] \&quot;contr.treatment\&quot;\n&quot;,</div><div class='line' id='LC2899'>&nbsp;&nbsp;&nbsp;&nbsp;&nbsp;&nbsp;&nbsp;&nbsp;&quot;\n&quot;</div><div class='line' id='LC2900'>&nbsp;&nbsp;&nbsp;&nbsp;&nbsp;&nbsp;&nbsp;]</div><div class='line' id='LC2901'>&nbsp;&nbsp;&nbsp;&nbsp;&nbsp;&nbsp;}</div><div class='line' id='LC2902'>&nbsp;&nbsp;&nbsp;&nbsp;&nbsp;],</div><div class='line' id='LC2903'>&nbsp;&nbsp;&nbsp;&nbsp;&nbsp;&quot;prompt_number&quot;: 70</div><div class='line' id='LC2904'>&nbsp;&nbsp;&nbsp;&nbsp;},</div><div class='line' id='LC2905'>&nbsp;&nbsp;&nbsp;&nbsp;{</div><div class='line' id='LC2906'>&nbsp;&nbsp;&nbsp;&nbsp;&nbsp;&quot;cell_type&quot;: &quot;markdown&quot;,</div><div class='line' id='LC2907'>&nbsp;&nbsp;&nbsp;&nbsp;&nbsp;&quot;metadata&quot;: {},</div><div class='line' id='LC2908'>&nbsp;&nbsp;&nbsp;&nbsp;&nbsp;&quot;source&quot;: [</div><div class='line' id='LC2909'>&nbsp;&nbsp;&nbsp;&nbsp;&nbsp;&nbsp;&quot;We recognize the first three columns as indicator coding for `nationality`, following the same logic as above. Next we have the term `awesome`, considered as `1:awesome`.  Has `1` appeared previously?  Yes, because the previous term was in fact `1:nationality`.  So, we code `awesome` with contrast coding.  The treatment contrast coding is a column coding only `awesomeYes`.  Now we reach the term `nationality:awesome`.  Considering `nationality` in `nationality:awesome`: we have seen `awesome` before, so we want contrast coding for `nationality` in the term `nationality:awesome`.  Considering `awesome` in `nationality:awesome`: we have seen `nationality` before, so we want contrast coding for `awesome` in the term `nationality:awesome`.  So, the interaction is the column product of the treatment contrast columns for `nationality` and the treatment contrast column for `awesome`.\n&quot;,</div><div class='line' id='LC2910'>&nbsp;&nbsp;&nbsp;&nbsp;&nbsp;&nbsp;&quot;\n&quot;,</div><div class='line' id='LC2911'>&nbsp;&nbsp;&nbsp;&nbsp;&nbsp;&nbsp;&quot;What if we have a factor in an interaction that has not previously appeared in the formula?&quot;</div><div class='line' id='LC2912'>&nbsp;&nbsp;&nbsp;&nbsp;&nbsp;]</div><div class='line' id='LC2913'>&nbsp;&nbsp;&nbsp;&nbsp;},</div><div class='line' id='LC2914'>&nbsp;&nbsp;&nbsp;&nbsp;{</div><div class='line' id='LC2915'>&nbsp;&nbsp;&nbsp;&nbsp;&nbsp;&quot;cell_type&quot;: &quot;code&quot;,</div><div class='line' id='LC2916'>&nbsp;&nbsp;&nbsp;&nbsp;&nbsp;&quot;collapsed&quot;: false,</div><div class='line' id='LC2917'>&nbsp;&nbsp;&nbsp;&nbsp;&nbsp;&quot;input&quot;: [</div><div class='line' id='LC2918'>&nbsp;&nbsp;&nbsp;&nbsp;&nbsp;&nbsp;&quot;%R print(model.matrix(~ nationality + nationality:awesome - 1))&quot;</div><div class='line' id='LC2919'>&nbsp;&nbsp;&nbsp;&nbsp;&nbsp;],</div><div class='line' id='LC2920'>&nbsp;&nbsp;&nbsp;&nbsp;&nbsp;&quot;language&quot;: &quot;python&quot;,</div><div class='line' id='LC2921'>&nbsp;&nbsp;&nbsp;&nbsp;&nbsp;&quot;metadata&quot;: {},</div><div class='line' id='LC2922'>&nbsp;&nbsp;&nbsp;&nbsp;&nbsp;&quot;outputs&quot;: [</div><div class='line' id='LC2923'>&nbsp;&nbsp;&nbsp;&nbsp;&nbsp;&nbsp;{</div><div class='line' id='LC2924'>&nbsp;&nbsp;&nbsp;&nbsp;&nbsp;&nbsp;&nbsp;&quot;output_type&quot;: &quot;display_data&quot;,</div><div class='line' id='LC2925'>&nbsp;&nbsp;&nbsp;&nbsp;&nbsp;&nbsp;&nbsp;&quot;text&quot;: [</div><div class='line' id='LC2926'>&nbsp;&nbsp;&nbsp;&nbsp;&nbsp;&nbsp;&nbsp;&nbsp;&quot;   nationalityFrance nationalityUK nationalityUSA nationalityFrance:awesomeYes\n&quot;,</div><div class='line' id='LC2927'>&nbsp;&nbsp;&nbsp;&nbsp;&nbsp;&nbsp;&nbsp;&nbsp;&quot;1                  0             0              1                            0\n&quot;,</div><div class='line' id='LC2928'>&nbsp;&nbsp;&nbsp;&nbsp;&nbsp;&nbsp;&nbsp;&nbsp;&quot;2                  0             0              1                            0\n&quot;,</div><div class='line' id='LC2929'>&nbsp;&nbsp;&nbsp;&nbsp;&nbsp;&nbsp;&nbsp;&nbsp;&quot;3                  0             0              1                            0\n&quot;,</div><div class='line' id='LC2930'>&nbsp;&nbsp;&nbsp;&nbsp;&nbsp;&nbsp;&nbsp;&nbsp;&quot;4                  0             0              1                            0\n&quot;,</div><div class='line' id='LC2931'>&nbsp;&nbsp;&nbsp;&nbsp;&nbsp;&nbsp;&nbsp;&nbsp;&quot;5                  0             0              1                            0\n&quot;,</div><div class='line' id='LC2932'>&nbsp;&nbsp;&nbsp;&nbsp;&nbsp;&nbsp;&nbsp;&nbsp;&quot;6                  0             1              0                            0\n&quot;,</div><div class='line' id='LC2933'>&nbsp;&nbsp;&nbsp;&nbsp;&nbsp;&nbsp;&nbsp;&nbsp;&quot;7                  0             1              0                            0\n&quot;,</div><div class='line' id='LC2934'>&nbsp;&nbsp;&nbsp;&nbsp;&nbsp;&nbsp;&nbsp;&nbsp;&quot;8                  0             1              0                            0\n&quot;,</div><div class='line' id='LC2935'>&nbsp;&nbsp;&nbsp;&nbsp;&nbsp;&nbsp;&nbsp;&nbsp;&quot;9                  0             1              0                            0\n&quot;,</div><div class='line' id='LC2936'>&nbsp;&nbsp;&nbsp;&nbsp;&nbsp;&nbsp;&nbsp;&nbsp;&quot;10                 0             1              0                            0\n&quot;,</div><div class='line' id='LC2937'>&nbsp;&nbsp;&nbsp;&nbsp;&nbsp;&nbsp;&nbsp;&nbsp;&quot;11                 1             0              0                            1\n&quot;,</div><div class='line' id='LC2938'>&nbsp;&nbsp;&nbsp;&nbsp;&nbsp;&nbsp;&nbsp;&nbsp;&quot;12                 1             0              0                            0\n&quot;,</div><div class='line' id='LC2939'>&nbsp;&nbsp;&nbsp;&nbsp;&nbsp;&nbsp;&nbsp;&nbsp;&quot;13                 1             0              0                            1\n&quot;,</div><div class='line' id='LC2940'>&nbsp;&nbsp;&nbsp;&nbsp;&nbsp;&nbsp;&nbsp;&nbsp;&quot;14                 1             0              0                            0\n&quot;,</div><div class='line' id='LC2941'>&nbsp;&nbsp;&nbsp;&nbsp;&nbsp;&nbsp;&nbsp;&nbsp;&quot;15                 1             0              0                            1\n&quot;,</div><div class='line' id='LC2942'>&nbsp;&nbsp;&nbsp;&nbsp;&nbsp;&nbsp;&nbsp;&nbsp;&quot;   nationalityUK:awesomeYes nationalityUSA:awesomeYes\n&quot;,</div><div class='line' id='LC2943'>&nbsp;&nbsp;&nbsp;&nbsp;&nbsp;&nbsp;&nbsp;&nbsp;&quot;1                         0                         1\n&quot;,</div><div class='line' id='LC2944'>&nbsp;&nbsp;&nbsp;&nbsp;&nbsp;&nbsp;&nbsp;&nbsp;&quot;2                         0                         0\n&quot;,</div><div class='line' id='LC2945'>&nbsp;&nbsp;&nbsp;&nbsp;&nbsp;&nbsp;&nbsp;&nbsp;&quot;3                         0                         1\n&quot;,</div><div class='line' id='LC2946'>&nbsp;&nbsp;&nbsp;&nbsp;&nbsp;&nbsp;&nbsp;&nbsp;&quot;4                         0                         0\n&quot;,</div><div class='line' id='LC2947'>&nbsp;&nbsp;&nbsp;&nbsp;&nbsp;&nbsp;&nbsp;&nbsp;&quot;5                         0                         1\n&quot;,</div><div class='line' id='LC2948'>&nbsp;&nbsp;&nbsp;&nbsp;&nbsp;&nbsp;&nbsp;&nbsp;&quot;6                         0                         0\n&quot;,</div><div class='line' id='LC2949'>&nbsp;&nbsp;&nbsp;&nbsp;&nbsp;&nbsp;&nbsp;&nbsp;&quot;7                         1                         0\n&quot;,</div><div class='line' id='LC2950'>&nbsp;&nbsp;&nbsp;&nbsp;&nbsp;&nbsp;&nbsp;&nbsp;&quot;8                         0                         0\n&quot;,</div><div class='line' id='LC2951'>&nbsp;&nbsp;&nbsp;&nbsp;&nbsp;&nbsp;&nbsp;&nbsp;&quot;9                         1                         0\n&quot;,</div><div class='line' id='LC2952'>&nbsp;&nbsp;&nbsp;&nbsp;&nbsp;&nbsp;&nbsp;&nbsp;&quot;10                        0                         0\n&quot;,</div><div class='line' id='LC2953'>&nbsp;&nbsp;&nbsp;&nbsp;&nbsp;&nbsp;&nbsp;&nbsp;&quot;11                        0                         0\n&quot;,</div><div class='line' id='LC2954'>&nbsp;&nbsp;&nbsp;&nbsp;&nbsp;&nbsp;&nbsp;&nbsp;&quot;12                        0                         0\n&quot;,</div><div class='line' id='LC2955'>&nbsp;&nbsp;&nbsp;&nbsp;&nbsp;&nbsp;&nbsp;&nbsp;&quot;13                        0                         0\n&quot;,</div><div class='line' id='LC2956'>&nbsp;&nbsp;&nbsp;&nbsp;&nbsp;&nbsp;&nbsp;&nbsp;&quot;14                        0                         0\n&quot;,</div><div class='line' id='LC2957'>&nbsp;&nbsp;&nbsp;&nbsp;&nbsp;&nbsp;&nbsp;&nbsp;&quot;15                        0                         0\n&quot;,</div><div class='line' id='LC2958'>&nbsp;&nbsp;&nbsp;&nbsp;&nbsp;&nbsp;&nbsp;&nbsp;&quot;attr(,\&quot;assign\&quot;)\n&quot;,</div><div class='line' id='LC2959'>&nbsp;&nbsp;&nbsp;&nbsp;&nbsp;&nbsp;&nbsp;&nbsp;&quot;[1] 1 1 1 2 2 2\n&quot;,</div><div class='line' id='LC2960'>&nbsp;&nbsp;&nbsp;&nbsp;&nbsp;&nbsp;&nbsp;&nbsp;&quot;attr(,\&quot;contrasts\&quot;)\n&quot;,</div><div class='line' id='LC2961'>&nbsp;&nbsp;&nbsp;&nbsp;&nbsp;&nbsp;&nbsp;&nbsp;&quot;attr(,\&quot;contrasts\&quot;)$nationality\n&quot;,</div><div class='line' id='LC2962'>&nbsp;&nbsp;&nbsp;&nbsp;&nbsp;&nbsp;&nbsp;&nbsp;&quot;[1] \&quot;contr.treatment\&quot;\n&quot;,</div><div class='line' id='LC2963'>&nbsp;&nbsp;&nbsp;&nbsp;&nbsp;&nbsp;&nbsp;&nbsp;&quot;\n&quot;,</div><div class='line' id='LC2964'>&nbsp;&nbsp;&nbsp;&nbsp;&nbsp;&nbsp;&nbsp;&nbsp;&quot;attr(,\&quot;contrasts\&quot;)$awesome\n&quot;,</div><div class='line' id='LC2965'>&nbsp;&nbsp;&nbsp;&nbsp;&nbsp;&nbsp;&nbsp;&nbsp;&quot;[1] \&quot;contr.treatment\&quot;\n&quot;,</div><div class='line' id='LC2966'>&nbsp;&nbsp;&nbsp;&nbsp;&nbsp;&nbsp;&nbsp;&nbsp;&quot;\n&quot;</div><div class='line' id='LC2967'>&nbsp;&nbsp;&nbsp;&nbsp;&nbsp;&nbsp;&nbsp;]</div><div class='line' id='LC2968'>&nbsp;&nbsp;&nbsp;&nbsp;&nbsp;&nbsp;}</div><div class='line' id='LC2969'>&nbsp;&nbsp;&nbsp;&nbsp;&nbsp;],</div><div class='line' id='LC2970'>&nbsp;&nbsp;&nbsp;&nbsp;&nbsp;&quot;prompt_number&quot;: 71</div><div class='line' id='LC2971'>&nbsp;&nbsp;&nbsp;&nbsp;},</div><div class='line' id='LC2972'>&nbsp;&nbsp;&nbsp;&nbsp;{</div><div class='line' id='LC2973'>&nbsp;&nbsp;&nbsp;&nbsp;&nbsp;&quot;cell_type&quot;: &quot;markdown&quot;,</div><div class='line' id='LC2974'>&nbsp;&nbsp;&nbsp;&nbsp;&nbsp;&quot;metadata&quot;: {},</div><div class='line' id='LC2975'>&nbsp;&nbsp;&nbsp;&nbsp;&nbsp;&quot;source&quot;: [</div><div class='line' id='LC2976'>&nbsp;&nbsp;&nbsp;&nbsp;&nbsp;&nbsp;&quot;Now we reach the term `nationality:awesome`.  Considering `nationality` in `nationality:awesome`; we have *not* seen `awesome` before, so we need indicator coding for `nationality`.  Considering `awesome` in `nationality:awesome`; we have seen `nationality` before, so we want contrast coding for `awesome`.  The resulting interaction columns are the column products of indicator coding for `nationality` and treatment contrast coding for `awesome`.\n&quot;,</div><div class='line' id='LC2977'>&nbsp;&nbsp;&nbsp;&nbsp;&nbsp;&nbsp;&quot;\n&quot;,</div><div class='line' id='LC2978'>&nbsp;&nbsp;&nbsp;&nbsp;&nbsp;&nbsp;&quot;Let&#39;s try with a numerical variable:&quot;</div><div class='line' id='LC2979'>&nbsp;&nbsp;&nbsp;&nbsp;&nbsp;]</div><div class='line' id='LC2980'>&nbsp;&nbsp;&nbsp;&nbsp;},</div><div class='line' id='LC2981'>&nbsp;&nbsp;&nbsp;&nbsp;{</div><div class='line' id='LC2982'>&nbsp;&nbsp;&nbsp;&nbsp;&nbsp;&quot;cell_type&quot;: &quot;code&quot;,</div><div class='line' id='LC2983'>&nbsp;&nbsp;&nbsp;&nbsp;&nbsp;&quot;collapsed&quot;: false,</div><div class='line' id='LC2984'>&nbsp;&nbsp;&nbsp;&nbsp;&nbsp;&quot;input&quot;: [</div><div class='line' id='LC2985'>&nbsp;&nbsp;&nbsp;&nbsp;&nbsp;&nbsp;&quot;%R model.matrix(~ x1:nationality + x1:awesome)&quot;</div><div class='line' id='LC2986'>&nbsp;&nbsp;&nbsp;&nbsp;&nbsp;],</div><div class='line' id='LC2987'>&nbsp;&nbsp;&nbsp;&nbsp;&nbsp;&quot;language&quot;: &quot;python&quot;,</div><div class='line' id='LC2988'>&nbsp;&nbsp;&nbsp;&nbsp;&nbsp;&quot;metadata&quot;: {},</div><div class='line' id='LC2989'>&nbsp;&nbsp;&nbsp;&nbsp;&nbsp;&quot;outputs&quot;: [</div><div class='line' id='LC2990'>&nbsp;&nbsp;&nbsp;&nbsp;&nbsp;&nbsp;{</div><div class='line' id='LC2991'>&nbsp;&nbsp;&nbsp;&nbsp;&nbsp;&nbsp;&nbsp;&quot;output_type&quot;: &quot;pyout&quot;,</div><div class='line' id='LC2992'>&nbsp;&nbsp;&nbsp;&nbsp;&nbsp;&nbsp;&nbsp;&quot;prompt_number&quot;: 72,</div><div class='line' id='LC2993'>&nbsp;&nbsp;&nbsp;&nbsp;&nbsp;&nbsp;&nbsp;&quot;text&quot;: [</div><div class='line' id='LC2994'>&nbsp;&nbsp;&nbsp;&nbsp;&nbsp;&nbsp;&nbsp;&nbsp;&quot;array([[  1.,   0.,   0.,  49.,  49.],\n&quot;,</div><div class='line' id='LC2995'>&nbsp;&nbsp;&nbsp;&nbsp;&nbsp;&nbsp;&nbsp;&nbsp;&quot;       [  1.,   0.,   0.,  50.,   0.],\n&quot;,</div><div class='line' id='LC2996'>&nbsp;&nbsp;&nbsp;&nbsp;&nbsp;&nbsp;&nbsp;&nbsp;&quot;       [  1.,   0.,   0.,  45.,  45.],\n&quot;,</div><div class='line' id='LC2997'>&nbsp;&nbsp;&nbsp;&nbsp;&nbsp;&nbsp;&nbsp;&nbsp;&quot;       [  1.,   0.,   0.,  53.,   0.],\n&quot;,</div><div class='line' id='LC2998'>&nbsp;&nbsp;&nbsp;&nbsp;&nbsp;&nbsp;&nbsp;&nbsp;&quot;       [  1.,   0.,   0.,  69.,  69.],\n&quot;,</div><div class='line' id='LC2999'>&nbsp;&nbsp;&nbsp;&nbsp;&nbsp;&nbsp;&nbsp;&nbsp;&quot;       [  1.,   0.,  73.,   0.,   0.],\n&quot;,</div><div class='line' id='LC3000'>&nbsp;&nbsp;&nbsp;&nbsp;&nbsp;&nbsp;&nbsp;&nbsp;&quot;       [  1.,   0.,  35.,   0.,  35.],\n&quot;,</div><div class='line' id='LC3001'>&nbsp;&nbsp;&nbsp;&nbsp;&nbsp;&nbsp;&nbsp;&nbsp;&quot;       [  1.,   0.,  40.,   0.,   0.],\n&quot;,</div><div class='line' id='LC3002'>&nbsp;&nbsp;&nbsp;&nbsp;&nbsp;&nbsp;&nbsp;&nbsp;&quot;       [  1.,   0.,  36.,   0.,  36.],\n&quot;,</div><div class='line' id='LC3003'>&nbsp;&nbsp;&nbsp;&nbsp;&nbsp;&nbsp;&nbsp;&nbsp;&quot;       [  1.,   0.,  30.,   0.,   0.],\n&quot;,</div><div class='line' id='LC3004'>&nbsp;&nbsp;&nbsp;&nbsp;&nbsp;&nbsp;&nbsp;&nbsp;&quot;       [  1.,  49.,   0.,   0.,  49.],\n&quot;,</div><div class='line' id='LC3005'>&nbsp;&nbsp;&nbsp;&nbsp;&nbsp;&nbsp;&nbsp;&nbsp;&quot;       [  1.,  36.,   0.,   0.,   0.],\n&quot;,</div><div class='line' id='LC3006'>&nbsp;&nbsp;&nbsp;&nbsp;&nbsp;&nbsp;&nbsp;&nbsp;&quot;       [  1.,  73.,   0.,   0.,  73.],\n&quot;,</div><div class='line' id='LC3007'>&nbsp;&nbsp;&nbsp;&nbsp;&nbsp;&nbsp;&nbsp;&nbsp;&quot;       [  1.,  61.,   0.,   0.,   0.],\n&quot;,</div><div class='line' id='LC3008'>&nbsp;&nbsp;&nbsp;&nbsp;&nbsp;&nbsp;&nbsp;&nbsp;&quot;       [  1.,  74.,   0.,   0.,  74.]])&quot;</div><div class='line' id='LC3009'>&nbsp;&nbsp;&nbsp;&nbsp;&nbsp;&nbsp;&nbsp;]</div><div class='line' id='LC3010'>&nbsp;&nbsp;&nbsp;&nbsp;&nbsp;&nbsp;}</div><div class='line' id='LC3011'>&nbsp;&nbsp;&nbsp;&nbsp;&nbsp;],</div><div class='line' id='LC3012'>&nbsp;&nbsp;&nbsp;&nbsp;&nbsp;&quot;prompt_number&quot;: 72</div><div class='line' id='LC3013'>&nbsp;&nbsp;&nbsp;&nbsp;},</div><div class='line' id='LC3014'>&nbsp;&nbsp;&nbsp;&nbsp;{</div><div class='line' id='LC3015'>&nbsp;&nbsp;&nbsp;&nbsp;&nbsp;&quot;cell_type&quot;: &quot;markdown&quot;,</div><div class='line' id='LC3016'>&nbsp;&nbsp;&nbsp;&nbsp;&nbsp;&quot;metadata&quot;: {},</div><div class='line' id='LC3017'>&nbsp;&nbsp;&nbsp;&nbsp;&nbsp;&quot;source&quot;: [</div><div class='line' id='LC3018'>&nbsp;&nbsp;&nbsp;&nbsp;&nbsp;&nbsp;&quot;Consider `nationality` in `x1:nationality`.  Seen `x1` before?  No, so we need indicator coding for `nationality`.  The second, third, fourth columns are the product of numerical vector `x1` with indicator coding for `nationality`.  Consider `awesome` in `x1:awesome`.  Have we seen `x1` before?  Yes, in `x1:nationality`, so we see the product of `x1` and contrast coding for `awesome`.&quot;</div><div class='line' id='LC3019'>&nbsp;&nbsp;&nbsp;&nbsp;&nbsp;]</div><div class='line' id='LC3020'>&nbsp;&nbsp;&nbsp;&nbsp;},</div><div class='line' id='LC3021'>&nbsp;&nbsp;&nbsp;&nbsp;{</div><div class='line' id='LC3022'>&nbsp;&nbsp;&nbsp;&nbsp;&nbsp;&quot;cell_type&quot;: &quot;heading&quot;,</div><div class='line' id='LC3023'>&nbsp;&nbsp;&nbsp;&nbsp;&nbsp;&quot;level&quot;: 3,</div><div class='line' id='LC3024'>&nbsp;&nbsp;&nbsp;&nbsp;&nbsp;&quot;metadata&quot;: {},</div><div class='line' id='LC3025'>&nbsp;&nbsp;&nbsp;&nbsp;&nbsp;&quot;source&quot;: [</div><div class='line' id='LC3026'>&nbsp;&nbsp;&nbsp;&nbsp;&nbsp;&nbsp;&quot;Why go to all this trouble with reordering and contrast coding?  Isn&#39;t indicator coding easier to understand?&quot;</div><div class='line' id='LC3027'>&nbsp;&nbsp;&nbsp;&nbsp;&nbsp;]</div><div class='line' id='LC3028'>&nbsp;&nbsp;&nbsp;&nbsp;},</div><div class='line' id='LC3029'>&nbsp;&nbsp;&nbsp;&nbsp;{</div><div class='line' id='LC3030'>&nbsp;&nbsp;&nbsp;&nbsp;&nbsp;&quot;cell_type&quot;: &quot;markdown&quot;,</div><div class='line' id='LC3031'>&nbsp;&nbsp;&nbsp;&nbsp;&nbsp;&quot;metadata&quot;: {},</div><div class='line' id='LC3032'>&nbsp;&nbsp;&nbsp;&nbsp;&nbsp;&quot;source&quot;: [</div><div class='line' id='LC3033'>&nbsp;&nbsp;&nbsp;&nbsp;&nbsp;&nbsp;&quot;Ah, yes, good question.  The S models chapter gives two explanations, numerical and statistical.   &quot;</div><div class='line' id='LC3034'>&nbsp;&nbsp;&nbsp;&nbsp;&nbsp;]</div><div class='line' id='LC3035'>&nbsp;&nbsp;&nbsp;&nbsp;},</div><div class='line' id='LC3036'>&nbsp;&nbsp;&nbsp;&nbsp;{</div><div class='line' id='LC3037'>&nbsp;&nbsp;&nbsp;&nbsp;&nbsp;&quot;cell_type&quot;: &quot;heading&quot;,</div><div class='line' id='LC3038'>&nbsp;&nbsp;&nbsp;&nbsp;&nbsp;&quot;level&quot;: 4,</div><div class='line' id='LC3039'>&nbsp;&nbsp;&nbsp;&nbsp;&nbsp;&quot;metadata&quot;: {},</div><div class='line' id='LC3040'>&nbsp;&nbsp;&nbsp;&nbsp;&nbsp;&quot;source&quot;: [</div><div class='line' id='LC3041'>&nbsp;&nbsp;&nbsp;&nbsp;&nbsp;&nbsp;&quot;The numerical argument&quot;</div><div class='line' id='LC3042'>&nbsp;&nbsp;&nbsp;&nbsp;&nbsp;]</div><div class='line' id='LC3043'>&nbsp;&nbsp;&nbsp;&nbsp;},</div><div class='line' id='LC3044'>&nbsp;&nbsp;&nbsp;&nbsp;{</div><div class='line' id='LC3045'>&nbsp;&nbsp;&nbsp;&nbsp;&nbsp;&quot;cell_type&quot;: &quot;markdown&quot;,</div><div class='line' id='LC3046'>&nbsp;&nbsp;&nbsp;&nbsp;&nbsp;&quot;metadata&quot;: {},</div><div class='line' id='LC3047'>&nbsp;&nbsp;&nbsp;&nbsp;&nbsp;&quot;source&quot;: [</div><div class='line' id='LC3048'>&nbsp;&nbsp;&nbsp;&nbsp;&nbsp;&nbsp;&quot;If you use indicator codings for more than one factor, then the columns for first factor will add to a column of ones, and so will the columns for the second factor.  This means two things.  First, the design matrix is rank deficient, in that the same column space can be represented by one fewer columns.  I suppose there were some numerical methods for solving for the parameters $B$ that needed full-rank matrices, but if there are still such methods that are widely used, I don&#39;t know what they are.  I believe the most common method for estimation is to use the pseudoinverse, that does not require full-rank matrices.\n&quot;,</div><div class='line' id='LC3049'>&nbsp;&nbsp;&nbsp;&nbsp;&nbsp;&nbsp;&quot;\n&quot;,</div><div class='line' id='LC3050'>&nbsp;&nbsp;&nbsp;&nbsp;&nbsp;&nbsp;&quot;If there are very many factors, say $M$ factors, and we just model the main effects, and we always use indicator coding, then there will be $M-1$ redundant columns in the design, and this could slow down estimation and increase memory use, but I guess the case of $M$ being large enough to cause a problem is rather rare.&quot;</div><div class='line' id='LC3051'>&nbsp;&nbsp;&nbsp;&nbsp;&nbsp;]</div><div class='line' id='LC3052'>&nbsp;&nbsp;&nbsp;&nbsp;},</div><div class='line' id='LC3053'>&nbsp;&nbsp;&nbsp;&nbsp;{</div><div class='line' id='LC3054'>&nbsp;&nbsp;&nbsp;&nbsp;&nbsp;&quot;cell_type&quot;: &quot;heading&quot;,</div><div class='line' id='LC3055'>&nbsp;&nbsp;&nbsp;&nbsp;&nbsp;&quot;level&quot;: 4,</div><div class='line' id='LC3056'>&nbsp;&nbsp;&nbsp;&nbsp;&nbsp;&quot;metadata&quot;: {},</div><div class='line' id='LC3057'>&nbsp;&nbsp;&nbsp;&nbsp;&nbsp;&quot;source&quot;: [</div><div class='line' id='LC3058'>&nbsp;&nbsp;&nbsp;&nbsp;&nbsp;&nbsp;&quot;The statistical argument&quot;</div><div class='line' id='LC3059'>&nbsp;&nbsp;&nbsp;&nbsp;&nbsp;]</div><div class='line' id='LC3060'>&nbsp;&nbsp;&nbsp;&nbsp;},</div><div class='line' id='LC3061'>&nbsp;&nbsp;&nbsp;&nbsp;{</div><div class='line' id='LC3062'>&nbsp;&nbsp;&nbsp;&nbsp;&nbsp;&quot;cell_type&quot;: &quot;markdown&quot;,</div><div class='line' id='LC3063'>&nbsp;&nbsp;&nbsp;&nbsp;&nbsp;&quot;metadata&quot;: {},</div><div class='line' id='LC3064'>&nbsp;&nbsp;&nbsp;&nbsp;&nbsp;&quot;source&quot;: [</div><div class='line' id='LC3065'>&nbsp;&nbsp;&nbsp;&nbsp;&nbsp;&nbsp;&quot;In part we have heard this argument already.  The formula is a kind of shorthand for an hierarchical ANOVA model, seen in the model fit summary, but most clearly in the `anova` table.  The intention is to make the parameters from the fit meaningful in terms of hypotheses that R assumes you intended in the arrangement of terms in your formula.  The contrast coding rules make these $B$ coefficients more useful for this purpose.\n&quot;,</div><div class='line' id='LC3066'>&nbsp;&nbsp;&nbsp;&nbsp;&nbsp;&nbsp;&quot;\n&quot;,</div><div class='line' id='LC3067'>&nbsp;&nbsp;&nbsp;&nbsp;&nbsp;&nbsp;&quot;The problem with indicator coding is that the coefficients from the estimation are often not useful without further testing.  For two factors with indicator coding, there is an immediate problem with interpreting the $B$ coefficients; they are not uniquely estimable.  Let&#39;s say we do a fit of the design $X$ to the data $Y$, giving us a parameter vector $B$.  Remember that the indicator columns for the first factor will sum to a column of ones, and so will the indicator columns for the second factor. This means that we can add a constant $S$ to the beta coefficients for all levels of the first factor, subtract $S$ from all the betas for the levels of the second factor, and still get the same $\\hat{Y}$.  The values in $B$ are not *uniquely estimable* in that there are an infinite set of $B$ coeffcients with the same $\\hat{Y}$:&quot;</div><div class='line' id='LC3068'>&nbsp;&nbsp;&nbsp;&nbsp;&nbsp;]</div><div class='line' id='LC3069'>&nbsp;&nbsp;&nbsp;&nbsp;},</div><div class='line' id='LC3070'>&nbsp;&nbsp;&nbsp;&nbsp;{</div><div class='line' id='LC3071'>&nbsp;&nbsp;&nbsp;&nbsp;&nbsp;&quot;cell_type&quot;: &quot;code&quot;,</div><div class='line' id='LC3072'>&nbsp;&nbsp;&nbsp;&nbsp;&nbsp;&quot;collapsed&quot;: false,</div><div class='line' id='LC3073'>&nbsp;&nbsp;&nbsp;&nbsp;&nbsp;&quot;input&quot;: [</div><div class='line' id='LC3074'>&nbsp;&nbsp;&nbsp;&nbsp;&nbsp;&nbsp;&quot;X_nat = %R model.matrix(~ nationality - 1) # indicator coding\n&quot;,</div><div class='line' id='LC3075'>&nbsp;&nbsp;&nbsp;&nbsp;&nbsp;&nbsp;&quot;X_awe = %R model.matrix(~ awesome - 1) # indicator coding\n&quot;,</div><div class='line' id='LC3076'>&nbsp;&nbsp;&nbsp;&nbsp;&nbsp;&nbsp;&quot;X = np.column_stack((X_nat, X_awe)) # our design with indicator coding for both\n&quot;,</div><div class='line' id='LC3077'>&nbsp;&nbsp;&nbsp;&nbsp;&nbsp;&nbsp;&quot;# Do an estimation.  This is ordinary least squares, but it doesn&#39;t matter how we get the estimate\n&quot;,</div><div class='line' id='LC3078'>&nbsp;&nbsp;&nbsp;&nbsp;&nbsp;&nbsp;&quot;B = np.dot(np.linalg.pinv(X), Y)\n&quot;,</div><div class='line' id='LC3079'>&nbsp;&nbsp;&nbsp;&nbsp;&nbsp;&nbsp;&quot;Y_hat = np.dot(X, B) # fitted values\n&quot;,</div><div class='line' id='LC3080'>&nbsp;&nbsp;&nbsp;&nbsp;&nbsp;&nbsp;&quot;print \&quot;OLS coefficient estimate\&quot;, B\n&quot;,</div><div class='line' id='LC3081'>&nbsp;&nbsp;&nbsp;&nbsp;&nbsp;&nbsp;&quot;print \&quot;Fitted values\&quot;, Y_hat\n&quot;,</div><div class='line' id='LC3082'>&nbsp;&nbsp;&nbsp;&nbsp;&nbsp;&nbsp;&quot;S = 100 # any old constant value\n&quot;,</div><div class='line' id='LC3083'>&nbsp;&nbsp;&nbsp;&nbsp;&nbsp;&nbsp;&quot;B2 = B[:] # Make a new parameter vector with the constant applied\n&quot;,</div><div class='line' id='LC3084'>&nbsp;&nbsp;&nbsp;&nbsp;&nbsp;&nbsp;&quot;B2[:3] += S\n&quot;,</div><div class='line' id='LC3085'>&nbsp;&nbsp;&nbsp;&nbsp;&nbsp;&nbsp;&quot;B2[3:] -= S\n&quot;,</div><div class='line' id='LC3086'>&nbsp;&nbsp;&nbsp;&nbsp;&nbsp;&nbsp;&quot;print \&quot;Parameters with constant added, subtracted\&quot;, B2\n&quot;,</div><div class='line' id='LC3087'>&nbsp;&nbsp;&nbsp;&nbsp;&nbsp;&nbsp;&quot;print \&quot;Same Yhat?\&quot;, np.allclose(Y_hat, np.dot(X, B2)) # Are the fitted values the same?&quot;</div><div class='line' id='LC3088'>&nbsp;&nbsp;&nbsp;&nbsp;&nbsp;],</div><div class='line' id='LC3089'>&nbsp;&nbsp;&nbsp;&nbsp;&nbsp;&quot;language&quot;: &quot;python&quot;,</div><div class='line' id='LC3090'>&nbsp;&nbsp;&nbsp;&nbsp;&nbsp;&quot;metadata&quot;: {},</div><div class='line' id='LC3091'>&nbsp;&nbsp;&nbsp;&nbsp;&nbsp;&quot;outputs&quot;: [</div><div class='line' id='LC3092'>&nbsp;&nbsp;&nbsp;&nbsp;&nbsp;&nbsp;{</div><div class='line' id='LC3093'>&nbsp;&nbsp;&nbsp;&nbsp;&nbsp;&nbsp;&nbsp;&quot;output_type&quot;: &quot;stream&quot;,</div><div class='line' id='LC3094'>&nbsp;&nbsp;&nbsp;&nbsp;&nbsp;&nbsp;&nbsp;&quot;stream&quot;: &quot;stdout&quot;,</div><div class='line' id='LC3095'>&nbsp;&nbsp;&nbsp;&nbsp;&nbsp;&nbsp;&nbsp;&quot;text&quot;: [</div><div class='line' id='LC3096'>&nbsp;&nbsp;&nbsp;&nbsp;&nbsp;&nbsp;&nbsp;&nbsp;&quot;OLS coefficient estimate [ 38.55297778  72.56353333  43.51097778  61.50735556  93.12013333]\n&quot;,</div><div class='line' id='LC3097'>&nbsp;&nbsp;&nbsp;&nbsp;&nbsp;&nbsp;&nbsp;&nbsp;&quot;Fitted values [ 136.63111111  105.01833333  136.63111111  105.01833333  136.63111111\n&quot;,</div><div class='line' id='LC3098'>&nbsp;&nbsp;&nbsp;&nbsp;&nbsp;&nbsp;&nbsp;&nbsp;&quot;  134.07088889  165.68366667  134.07088889  165.68366667  134.07088889\n&quot;,</div><div class='line' id='LC3099'>&nbsp;&nbsp;&nbsp;&nbsp;&nbsp;&nbsp;&nbsp;&nbsp;&quot;  131.67311111  100.06033333  131.67311111  100.06033333  131.67311111]\n&quot;,</div><div class='line' id='LC3100'>&nbsp;&nbsp;&nbsp;&nbsp;&nbsp;&nbsp;&nbsp;&nbsp;&quot;Parameters with constant added, subtracted [ 138.55297778  172.56353333  143.51097778  -38.49264444   -6.87986667]\n&quot;,</div><div class='line' id='LC3101'>&nbsp;&nbsp;&nbsp;&nbsp;&nbsp;&nbsp;&nbsp;&nbsp;&quot;Same Yhat? True\n&quot;</div><div class='line' id='LC3102'>&nbsp;&nbsp;&nbsp;&nbsp;&nbsp;&nbsp;&nbsp;]</div><div class='line' id='LC3103'>&nbsp;&nbsp;&nbsp;&nbsp;&nbsp;&nbsp;}</div><div class='line' id='LC3104'>&nbsp;&nbsp;&nbsp;&nbsp;&nbsp;],</div><div class='line' id='LC3105'>&nbsp;&nbsp;&nbsp;&nbsp;&nbsp;&quot;prompt_number&quot;: 73</div><div class='line' id='LC3106'>&nbsp;&nbsp;&nbsp;&nbsp;},</div><div class='line' id='LC3107'>&nbsp;&nbsp;&nbsp;&nbsp;{</div><div class='line' id='LC3108'>&nbsp;&nbsp;&nbsp;&nbsp;&nbsp;&quot;cell_type&quot;: &quot;markdown&quot;,</div><div class='line' id='LC3109'>&nbsp;&nbsp;&nbsp;&nbsp;&nbsp;&quot;metadata&quot;: {},</div><div class='line' id='LC3110'>&nbsp;&nbsp;&nbsp;&nbsp;&nbsp;&quot;source&quot;: [</div><div class='line' id='LC3111'>&nbsp;&nbsp;&nbsp;&nbsp;&nbsp;&nbsp;&quot;You might say - oh - well - I&#39;ll do contrasts to look at the effects, I don&#39;t care too much about the $B$ coefficient values anyway.  And I&#39;d probably agree with you.  But that&#39;s another story.&quot;</div><div class='line' id='LC3112'>&nbsp;&nbsp;&nbsp;&nbsp;&nbsp;]</div><div class='line' id='LC3113'>&nbsp;&nbsp;&nbsp;&nbsp;},</div><div class='line' id='LC3114'>&nbsp;&nbsp;&nbsp;&nbsp;{</div><div class='line' id='LC3115'>&nbsp;&nbsp;&nbsp;&nbsp;&nbsp;&quot;cell_type&quot;: &quot;heading&quot;,</div><div class='line' id='LC3116'>&nbsp;&nbsp;&nbsp;&nbsp;&nbsp;&quot;level&quot;: 4,</div><div class='line' id='LC3117'>&nbsp;&nbsp;&nbsp;&nbsp;&nbsp;&quot;metadata&quot;: {},</div><div class='line' id='LC3118'>&nbsp;&nbsp;&nbsp;&nbsp;&nbsp;&quot;source&quot;: [</div><div class='line' id='LC3119'>&nbsp;&nbsp;&nbsp;&nbsp;&nbsp;&nbsp;&quot;It doesn&#39;t always work&quot;</div><div class='line' id='LC3120'>&nbsp;&nbsp;&nbsp;&nbsp;&nbsp;]</div><div class='line' id='LC3121'>&nbsp;&nbsp;&nbsp;&nbsp;},</div><div class='line' id='LC3122'>&nbsp;&nbsp;&nbsp;&nbsp;{</div><div class='line' id='LC3123'>&nbsp;&nbsp;&nbsp;&nbsp;&nbsp;&quot;cell_type&quot;: &quot;markdown&quot;,</div><div class='line' id='LC3124'>&nbsp;&nbsp;&nbsp;&nbsp;&nbsp;&quot;metadata&quot;: {},</div><div class='line' id='LC3125'>&nbsp;&nbsp;&nbsp;&nbsp;&nbsp;&quot;source&quot;: [</div><div class='line' id='LC3126'>&nbsp;&nbsp;&nbsp;&nbsp;&nbsp;&nbsp;&quot;Despite the contrast coding rules, it&#39;s relatively easy to get designs that aren&#39;t uniquely estimable:&quot;</div><div class='line' id='LC3127'>&nbsp;&nbsp;&nbsp;&nbsp;&nbsp;]</div><div class='line' id='LC3128'>&nbsp;&nbsp;&nbsp;&nbsp;},</div><div class='line' id='LC3129'>&nbsp;&nbsp;&nbsp;&nbsp;{</div><div class='line' id='LC3130'>&nbsp;&nbsp;&nbsp;&nbsp;&nbsp;&quot;cell_type&quot;: &quot;code&quot;,</div><div class='line' id='LC3131'>&nbsp;&nbsp;&nbsp;&nbsp;&nbsp;&quot;collapsed&quot;: false,</div><div class='line' id='LC3132'>&nbsp;&nbsp;&nbsp;&nbsp;&nbsp;&quot;input&quot;: [</div><div class='line' id='LC3133'>&nbsp;&nbsp;&nbsp;&nbsp;&nbsp;&nbsp;&quot;%R print(lm(Y ~ nationality:awesome))&quot;</div><div class='line' id='LC3134'>&nbsp;&nbsp;&nbsp;&nbsp;&nbsp;],</div><div class='line' id='LC3135'>&nbsp;&nbsp;&nbsp;&nbsp;&nbsp;&quot;language&quot;: &quot;python&quot;,</div><div class='line' id='LC3136'>&nbsp;&nbsp;&nbsp;&nbsp;&nbsp;&quot;metadata&quot;: {},</div><div class='line' id='LC3137'>&nbsp;&nbsp;&nbsp;&nbsp;&nbsp;&quot;outputs&quot;: [</div><div class='line' id='LC3138'>&nbsp;&nbsp;&nbsp;&nbsp;&nbsp;&nbsp;{</div><div class='line' id='LC3139'>&nbsp;&nbsp;&nbsp;&nbsp;&nbsp;&nbsp;&nbsp;&quot;output_type&quot;: &quot;display_data&quot;,</div><div class='line' id='LC3140'>&nbsp;&nbsp;&nbsp;&nbsp;&nbsp;&nbsp;&nbsp;&quot;text&quot;: [</div><div class='line' id='LC3141'>&nbsp;&nbsp;&nbsp;&nbsp;&nbsp;&nbsp;&nbsp;&nbsp;&quot;\n&quot;,</div><div class='line' id='LC3142'>&nbsp;&nbsp;&nbsp;&nbsp;&nbsp;&nbsp;&nbsp;&nbsp;&quot;Call:\n&quot;,</div><div class='line' id='LC3143'>&nbsp;&nbsp;&nbsp;&nbsp;&nbsp;&nbsp;&nbsp;&nbsp;&quot;lm(formula = Y ~ nationality:awesome)\n&quot;,</div><div class='line' id='LC3144'>&nbsp;&nbsp;&nbsp;&nbsp;&nbsp;&nbsp;&nbsp;&nbsp;&quot;\n&quot;,</div><div class='line' id='LC3145'>&nbsp;&nbsp;&nbsp;&nbsp;&nbsp;&nbsp;&nbsp;&nbsp;&quot;Coefficients:\n&quot;,</div><div class='line' id='LC3146'>&nbsp;&nbsp;&nbsp;&nbsp;&nbsp;&nbsp;&nbsp;&nbsp;&quot;                 (Intercept)   nationalityFrance:awesomeNo  \n&quot;,</div><div class='line' id='LC3147'>&nbsp;&nbsp;&nbsp;&nbsp;&nbsp;&nbsp;&nbsp;&nbsp;&quot;                     141.130                       -51.900  \n&quot;,</div><div class='line' id='LC3148'>&nbsp;&nbsp;&nbsp;&nbsp;&nbsp;&nbsp;&nbsp;&nbsp;&quot;     nationalityUK:awesomeNo      nationalityUSA:awesomeNo  \n&quot;,</div><div class='line' id='LC3149'>&nbsp;&nbsp;&nbsp;&nbsp;&nbsp;&nbsp;&nbsp;&nbsp;&quot;                       4.660                       -42.860  \n&quot;,</div><div class='line' id='LC3150'>&nbsp;&nbsp;&nbsp;&nbsp;&nbsp;&nbsp;&nbsp;&nbsp;&quot;nationalityFrance:awesomeYes      nationalityUK:awesomeYes  \n&quot;,</div><div class='line' id='LC3151'>&nbsp;&nbsp;&nbsp;&nbsp;&nbsp;&nbsp;&nbsp;&nbsp;&quot;                      -2.237                         6.975  \n&quot;,</div><div class='line' id='LC3152'>&nbsp;&nbsp;&nbsp;&nbsp;&nbsp;&nbsp;&nbsp;&nbsp;&quot;   nationalityUSA:awesomeYes  \n&quot;,</div><div class='line' id='LC3153'>&nbsp;&nbsp;&nbsp;&nbsp;&nbsp;&nbsp;&nbsp;&nbsp;&quot;                          NA  \n&quot;,</div><div class='line' id='LC3154'>&nbsp;&nbsp;&nbsp;&nbsp;&nbsp;&nbsp;&nbsp;&nbsp;&quot;\n&quot;</div><div class='line' id='LC3155'>&nbsp;&nbsp;&nbsp;&nbsp;&nbsp;&nbsp;&nbsp;]</div><div class='line' id='LC3156'>&nbsp;&nbsp;&nbsp;&nbsp;&nbsp;&nbsp;}</div><div class='line' id='LC3157'>&nbsp;&nbsp;&nbsp;&nbsp;&nbsp;],</div><div class='line' id='LC3158'>&nbsp;&nbsp;&nbsp;&nbsp;&nbsp;&quot;prompt_number&quot;: 74</div><div class='line' id='LC3159'>&nbsp;&nbsp;&nbsp;&nbsp;},</div><div class='line' id='LC3160'>&nbsp;&nbsp;&nbsp;&nbsp;{</div><div class='line' id='LC3161'>&nbsp;&nbsp;&nbsp;&nbsp;&nbsp;&quot;cell_type&quot;: &quot;markdown&quot;,</div><div class='line' id='LC3162'>&nbsp;&nbsp;&nbsp;&nbsp;&nbsp;&quot;metadata&quot;: {},</div><div class='line' id='LC3163'>&nbsp;&nbsp;&nbsp;&nbsp;&nbsp;&quot;source&quot;: [</div><div class='line' id='LC3164'>&nbsp;&nbsp;&nbsp;&nbsp;&nbsp;&nbsp;&quot;Why the redundant column at the end?  It might be clear from the design matrix column names that we got indicator coding for the interaction, when we already had an intercept.  Why?  Because when we got to `nationality:awesome`, we ask \&quot;have we seen `awesome`\&quot; - no - then we use indicator coding for `nationality` in the interaction.  Similarly we have indicator coding for `awesome` in the interaction, giving indicator coding for the interaction overall, and a rank deficient design.  This often happens with three-way or greater interactions.  To demonstrate, let&#39;s make another two factors, `popular` and `overrated`:&quot;</div><div class='line' id='LC3165'>&nbsp;&nbsp;&nbsp;&nbsp;&nbsp;]</div><div class='line' id='LC3166'>&nbsp;&nbsp;&nbsp;&nbsp;},</div><div class='line' id='LC3167'>&nbsp;&nbsp;&nbsp;&nbsp;{</div><div class='line' id='LC3168'>&nbsp;&nbsp;&nbsp;&nbsp;&nbsp;&quot;cell_type&quot;: &quot;code&quot;,</div><div class='line' id='LC3169'>&nbsp;&nbsp;&nbsp;&nbsp;&nbsp;&quot;collapsed&quot;: false,</div><div class='line' id='LC3170'>&nbsp;&nbsp;&nbsp;&nbsp;&nbsp;&quot;input&quot;: [</div><div class='line' id='LC3171'>&nbsp;&nbsp;&nbsp;&nbsp;&nbsp;&nbsp;&quot;popular = [&#39;Yes&#39;] * 8 + [&#39;No&#39;] * 7\n&quot;,</div><div class='line' id='LC3172'>&nbsp;&nbsp;&nbsp;&nbsp;&nbsp;&nbsp;&quot;overrated = [&#39;Yes&#39;, &#39;Yes&#39;, &#39;No&#39;, &#39;No&#39;, &#39;Yes&#39;, &#39;Yes&#39;, &#39;No&#39;, &#39;No&#39;, &#39;Yes&#39;, &#39;Yes&#39;, &#39;No&#39;, &#39;No&#39;, &#39;Yes&#39;, &#39;Yes&#39;, &#39;No&#39;]&quot;</div><div class='line' id='LC3173'>&nbsp;&nbsp;&nbsp;&nbsp;&nbsp;],</div><div class='line' id='LC3174'>&nbsp;&nbsp;&nbsp;&nbsp;&nbsp;&quot;language&quot;: &quot;python&quot;,</div><div class='line' id='LC3175'>&nbsp;&nbsp;&nbsp;&nbsp;&nbsp;&quot;metadata&quot;: {},</div><div class='line' id='LC3176'>&nbsp;&nbsp;&nbsp;&nbsp;&nbsp;&quot;outputs&quot;: [],</div><div class='line' id='LC3177'>&nbsp;&nbsp;&nbsp;&nbsp;&nbsp;&quot;prompt_number&quot;: 75</div><div class='line' id='LC3178'>&nbsp;&nbsp;&nbsp;&nbsp;},</div><div class='line' id='LC3179'>&nbsp;&nbsp;&nbsp;&nbsp;{</div><div class='line' id='LC3180'>&nbsp;&nbsp;&nbsp;&nbsp;&nbsp;&quot;cell_type&quot;: &quot;markdown&quot;,</div><div class='line' id='LC3181'>&nbsp;&nbsp;&nbsp;&nbsp;&nbsp;&quot;metadata&quot;: {},</div><div class='line' id='LC3182'>&nbsp;&nbsp;&nbsp;&nbsp;&nbsp;&quot;source&quot;: [</div><div class='line' id='LC3183'>&nbsp;&nbsp;&nbsp;&nbsp;&nbsp;&nbsp;&quot;We get a rank deficient design here, in fairly ordinary cases:&quot;</div><div class='line' id='LC3184'>&nbsp;&nbsp;&nbsp;&nbsp;&nbsp;]</div><div class='line' id='LC3185'>&nbsp;&nbsp;&nbsp;&nbsp;},</div><div class='line' id='LC3186'>&nbsp;&nbsp;&nbsp;&nbsp;{</div><div class='line' id='LC3187'>&nbsp;&nbsp;&nbsp;&nbsp;&nbsp;&quot;cell_type&quot;: &quot;code&quot;,</div><div class='line' id='LC3188'>&nbsp;&nbsp;&nbsp;&nbsp;&nbsp;&quot;collapsed&quot;: false,</div><div class='line' id='LC3189'>&nbsp;&nbsp;&nbsp;&nbsp;&nbsp;&quot;input&quot;: [</div><div class='line' id='LC3190'>&nbsp;&nbsp;&nbsp;&nbsp;&nbsp;&nbsp;&quot;%%R -i popular,overrated\n&quot;,</div><div class='line' id='LC3191'>&nbsp;&nbsp;&nbsp;&nbsp;&nbsp;&nbsp;&quot;popular = factor(popular)\n&quot;,</div><div class='line' id='LC3192'>&nbsp;&nbsp;&nbsp;&nbsp;&nbsp;&nbsp;&quot;overrated = factor(overrated)\n&quot;,</div><div class='line' id='LC3193'>&nbsp;&nbsp;&nbsp;&nbsp;&nbsp;&nbsp;&quot;print(lm(Y ~ awesome + popular + overrated + awesome:popular:overrated))&quot;</div><div class='line' id='LC3194'>&nbsp;&nbsp;&nbsp;&nbsp;&nbsp;],</div><div class='line' id='LC3195'>&nbsp;&nbsp;&nbsp;&nbsp;&nbsp;&quot;language&quot;: &quot;python&quot;,</div><div class='line' id='LC3196'>&nbsp;&nbsp;&nbsp;&nbsp;&nbsp;&quot;metadata&quot;: {},</div><div class='line' id='LC3197'>&nbsp;&nbsp;&nbsp;&nbsp;&nbsp;&quot;outputs&quot;: [</div><div class='line' id='LC3198'>&nbsp;&nbsp;&nbsp;&nbsp;&nbsp;&nbsp;{</div><div class='line' id='LC3199'>&nbsp;&nbsp;&nbsp;&nbsp;&nbsp;&nbsp;&nbsp;&quot;output_type&quot;: &quot;display_data&quot;,</div><div class='line' id='LC3200'>&nbsp;&nbsp;&nbsp;&nbsp;&nbsp;&nbsp;&nbsp;&quot;text&quot;: [</div><div class='line' id='LC3201'>&nbsp;&nbsp;&nbsp;&nbsp;&nbsp;&nbsp;&nbsp;&nbsp;&quot;\n&quot;,</div><div class='line' id='LC3202'>&nbsp;&nbsp;&nbsp;&nbsp;&nbsp;&nbsp;&nbsp;&nbsp;&quot;Call:\n&quot;,</div><div class='line' id='LC3203'>&nbsp;&nbsp;&nbsp;&nbsp;&nbsp;&nbsp;&nbsp;&nbsp;&quot;lm(formula = Y ~ awesome + popular + overrated + awesome:popular:overrated)\n&quot;,</div><div class='line' id='LC3204'>&nbsp;&nbsp;&nbsp;&nbsp;&nbsp;&nbsp;&nbsp;&nbsp;&quot;\n&quot;,</div><div class='line' id='LC3205'>&nbsp;&nbsp;&nbsp;&nbsp;&nbsp;&nbsp;&nbsp;&nbsp;&quot;Coefficients:\n&quot;,</div><div class='line' id='LC3206'>&nbsp;&nbsp;&nbsp;&nbsp;&nbsp;&nbsp;&nbsp;&nbsp;&quot;                       (Intercept)                          awesomeYes  \n&quot;,</div><div class='line' id='LC3207'>&nbsp;&nbsp;&nbsp;&nbsp;&nbsp;&nbsp;&nbsp;&nbsp;&quot;                           156.545                              -6.635  \n&quot;,</div><div class='line' id='LC3208'>&nbsp;&nbsp;&nbsp;&nbsp;&nbsp;&nbsp;&nbsp;&nbsp;&quot;                        popularYes                        overratedYes  \n&quot;,</div><div class='line' id='LC3209'>&nbsp;&nbsp;&nbsp;&nbsp;&nbsp;&nbsp;&nbsp;&nbsp;&quot;                             0.880                             -12.215  \n&quot;,</div><div class='line' id='LC3210'>&nbsp;&nbsp;&nbsp;&nbsp;&nbsp;&nbsp;&nbsp;&nbsp;&quot;   awesomeNo:popularNo:overratedNo    awesomeYes:popularNo:overratedNo  \n&quot;,</div><div class='line' id='LC3211'>&nbsp;&nbsp;&nbsp;&nbsp;&nbsp;&nbsp;&nbsp;&nbsp;&quot;                           -67.245                              -8.830  \n&quot;,</div><div class='line' id='LC3212'>&nbsp;&nbsp;&nbsp;&nbsp;&nbsp;&nbsp;&nbsp;&nbsp;&quot;  awesomeNo:popularYes:overratedNo   awesomeYes:popularYes:overratedNo  \n&quot;,</div><div class='line' id='LC3213'>&nbsp;&nbsp;&nbsp;&nbsp;&nbsp;&nbsp;&nbsp;&nbsp;&quot;                           -46.935                                  NA  \n&quot;,</div><div class='line' id='LC3214'>&nbsp;&nbsp;&nbsp;&nbsp;&nbsp;&nbsp;&nbsp;&nbsp;&quot;  awesomeNo:popularNo:overratedYes   awesomeYes:popularNo:overratedYes  \n&quot;,</div><div class='line' id='LC3215'>&nbsp;&nbsp;&nbsp;&nbsp;&nbsp;&nbsp;&nbsp;&nbsp;&quot;                           -38.495                                  NA  \n&quot;,</div><div class='line' id='LC3216'>&nbsp;&nbsp;&nbsp;&nbsp;&nbsp;&nbsp;&nbsp;&nbsp;&quot; awesomeNo:popularYes:overratedYes  awesomeYes:popularYes:overratedYes  \n&quot;,</div><div class='line' id='LC3217'>&nbsp;&nbsp;&nbsp;&nbsp;&nbsp;&nbsp;&nbsp;&nbsp;&quot;                                NA                                  NA  \n&quot;,</div><div class='line' id='LC3218'>&nbsp;&nbsp;&nbsp;&nbsp;&nbsp;&nbsp;&nbsp;&nbsp;&quot;\n&quot;</div><div class='line' id='LC3219'>&nbsp;&nbsp;&nbsp;&nbsp;&nbsp;&nbsp;&nbsp;]</div><div class='line' id='LC3220'>&nbsp;&nbsp;&nbsp;&nbsp;&nbsp;&nbsp;}</div><div class='line' id='LC3221'>&nbsp;&nbsp;&nbsp;&nbsp;&nbsp;],</div><div class='line' id='LC3222'>&nbsp;&nbsp;&nbsp;&nbsp;&nbsp;&quot;prompt_number&quot;: 76</div><div class='line' id='LC3223'>&nbsp;&nbsp;&nbsp;&nbsp;},</div><div class='line' id='LC3224'>&nbsp;&nbsp;&nbsp;&nbsp;{</div><div class='line' id='LC3225'>&nbsp;&nbsp;&nbsp;&nbsp;&nbsp;&quot;cell_type&quot;: &quot;code&quot;,</div><div class='line' id='LC3226'>&nbsp;&nbsp;&nbsp;&nbsp;&nbsp;&quot;collapsed&quot;: false,</div><div class='line' id='LC3227'>&nbsp;&nbsp;&nbsp;&nbsp;&nbsp;&quot;input&quot;: [</div><div class='line' id='LC3228'>&nbsp;&nbsp;&nbsp;&nbsp;&nbsp;&nbsp;&quot;X_3 = %R model.matrix(~ awesome + popular + overrated + awesome:popular:overrated)\n&quot;,</div><div class='line' id='LC3229'>&nbsp;&nbsp;&nbsp;&nbsp;&nbsp;&nbsp;&quot;show_x(X_3)&quot;</div><div class='line' id='LC3230'>&nbsp;&nbsp;&nbsp;&nbsp;&nbsp;],</div><div class='line' id='LC3231'>&nbsp;&nbsp;&nbsp;&nbsp;&nbsp;&quot;language&quot;: &quot;python&quot;,</div><div class='line' id='LC3232'>&nbsp;&nbsp;&nbsp;&nbsp;&nbsp;&quot;metadata&quot;: {},</div><div class='line' id='LC3233'>&nbsp;&nbsp;&nbsp;&nbsp;&nbsp;&quot;outputs&quot;: [</div><div class='line' id='LC3234'>&nbsp;&nbsp;&nbsp;&nbsp;&nbsp;&nbsp;{</div><div class='line' id='LC3235'>&nbsp;&nbsp;&nbsp;&nbsp;&nbsp;&nbsp;&nbsp;&quot;output_type&quot;: &quot;display_data&quot;,</div><div class='line' id='LC3236'>&nbsp;&nbsp;&nbsp;&nbsp;&nbsp;&nbsp;&nbsp;&quot;png&quot;: &quot;iVBORw0KGgoAAAANSUhEUgAAAM8AAAEICAYAAAD4G6DnAAAABHNCSVQICAgIfAhkiAAAAAlwSFlz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\nQmCC\n&quot;</div><div class='line' id='LC3237'>&nbsp;&nbsp;&nbsp;&nbsp;&nbsp;&nbsp;}</div><div class='line' id='LC3238'>&nbsp;&nbsp;&nbsp;&nbsp;&nbsp;],</div><div class='line' id='LC3239'>&nbsp;&nbsp;&nbsp;&nbsp;&nbsp;&quot;prompt_number&quot;: 77</div><div class='line' id='LC3240'>&nbsp;&nbsp;&nbsp;&nbsp;},</div><div class='line' id='LC3241'>&nbsp;&nbsp;&nbsp;&nbsp;{</div><div class='line' id='LC3242'>&nbsp;&nbsp;&nbsp;&nbsp;&nbsp;&quot;cell_type&quot;: &quot;markdown&quot;,</div><div class='line' id='LC3243'>&nbsp;&nbsp;&nbsp;&nbsp;&nbsp;&quot;metadata&quot;: {},</div><div class='line' id='LC3244'>&nbsp;&nbsp;&nbsp;&nbsp;&nbsp;&quot;source&quot;: [</div><div class='line' id='LC3245'>&nbsp;&nbsp;&nbsp;&nbsp;&nbsp;&nbsp;&quot;So what went wrong?  For the same reasons as before, the single terms `awesome`, `popular`, `overrated` each got contrast coding, and therefore one column each.  So far so good.  Next we look at `awesome:popular:overrated`.   We first remove `awesome` and ask \&quot;have we seen `popular:overrated`?\&quot;  No, hence we will use indicator coding for `awesome` in the interaction.  For the same reason we get indicator coding for all of the factors in the interaction, and therefore a full 8 columns for the indicator coding of the interaction.  These 8 columns also code the column space of the intercept and the single terms `awesome`, `popular`, `overrated` that we have already included in the design.&quot;</div><div class='line' id='LC3246'>&nbsp;&nbsp;&nbsp;&nbsp;&nbsp;]</div><div class='line' id='LC3247'>&nbsp;&nbsp;&nbsp;&nbsp;},</div><div class='line' id='LC3248'>&nbsp;&nbsp;&nbsp;&nbsp;{</div><div class='line' id='LC3249'>&nbsp;&nbsp;&nbsp;&nbsp;&nbsp;&quot;cell_type&quot;: &quot;markdown&quot;,</div><div class='line' id='LC3250'>&nbsp;&nbsp;&nbsp;&nbsp;&nbsp;&quot;metadata&quot;: {},</div><div class='line' id='LC3251'>&nbsp;&nbsp;&nbsp;&nbsp;&nbsp;&quot;source&quot;: [</div><div class='line' id='LC3252'>&nbsp;&nbsp;&nbsp;&nbsp;&nbsp;&nbsp;&quot;There are more odd cases in `R` design matrix coding described in http://patsy.readthedocs.org/en/latest/R-comparison.html&quot;</div><div class='line' id='LC3253'>&nbsp;&nbsp;&nbsp;&nbsp;&nbsp;]</div><div class='line' id='LC3254'>&nbsp;&nbsp;&nbsp;&nbsp;},</div><div class='line' id='LC3255'>&nbsp;&nbsp;&nbsp;&nbsp;{</div><div class='line' id='LC3256'>&nbsp;&nbsp;&nbsp;&nbsp;&nbsp;&quot;cell_type&quot;: &quot;heading&quot;,</div><div class='line' id='LC3257'>&nbsp;&nbsp;&nbsp;&nbsp;&nbsp;&quot;level&quot;: 2,</div><div class='line' id='LC3258'>&nbsp;&nbsp;&nbsp;&nbsp;&nbsp;&quot;metadata&quot;: {},</div><div class='line' id='LC3259'>&nbsp;&nbsp;&nbsp;&nbsp;&nbsp;&quot;source&quot;: [</div><div class='line' id='LC3260'>&nbsp;&nbsp;&nbsp;&nbsp;&nbsp;&nbsp;&quot;A Python note&quot;</div><div class='line' id='LC3261'>&nbsp;&nbsp;&nbsp;&nbsp;&nbsp;]</div><div class='line' id='LC3262'>&nbsp;&nbsp;&nbsp;&nbsp;},</div><div class='line' id='LC3263'>&nbsp;&nbsp;&nbsp;&nbsp;{</div><div class='line' id='LC3264'>&nbsp;&nbsp;&nbsp;&nbsp;&nbsp;&quot;cell_type&quot;: &quot;markdown&quot;,</div><div class='line' id='LC3265'>&nbsp;&nbsp;&nbsp;&nbsp;&nbsp;&quot;metadata&quot;: {},</div><div class='line' id='LC3266'>&nbsp;&nbsp;&nbsp;&nbsp;&nbsp;&quot;source&quot;: [</div><div class='line' id='LC3267'>&nbsp;&nbsp;&nbsp;&nbsp;&nbsp;&nbsp;&quot;Nathaniel Smith has written an `R`-like formula framework in Python. See https://github.com/pydata/patsy and http://patsy.readthedocs.org/en/latest/&quot;</div><div class='line' id='LC3268'>&nbsp;&nbsp;&nbsp;&nbsp;&nbsp;]</div><div class='line' id='LC3269'>&nbsp;&nbsp;&nbsp;&nbsp;},</div><div class='line' id='LC3270'>&nbsp;&nbsp;&nbsp;&nbsp;{</div><div class='line' id='LC3271'>&nbsp;&nbsp;&nbsp;&nbsp;&nbsp;&quot;cell_type&quot;: &quot;heading&quot;,</div><div class='line' id='LC3272'>&nbsp;&nbsp;&nbsp;&nbsp;&nbsp;&quot;level&quot;: 2,</div><div class='line' id='LC3273'>&nbsp;&nbsp;&nbsp;&nbsp;&nbsp;&quot;metadata&quot;: {},</div><div class='line' id='LC3274'>&nbsp;&nbsp;&nbsp;&nbsp;&nbsp;&quot;source&quot;: [</div><div class='line' id='LC3275'>&nbsp;&nbsp;&nbsp;&nbsp;&nbsp;&nbsp;&quot;That&#39;s it?&quot;</div><div class='line' id='LC3276'>&nbsp;&nbsp;&nbsp;&nbsp;&nbsp;]</div><div class='line' id='LC3277'>&nbsp;&nbsp;&nbsp;&nbsp;},</div><div class='line' id='LC3278'>&nbsp;&nbsp;&nbsp;&nbsp;{</div><div class='line' id='LC3279'>&nbsp;&nbsp;&nbsp;&nbsp;&nbsp;&quot;cell_type&quot;: &quot;markdown&quot;,</div><div class='line' id='LC3280'>&nbsp;&nbsp;&nbsp;&nbsp;&nbsp;&quot;metadata&quot;: {},</div><div class='line' id='LC3281'>&nbsp;&nbsp;&nbsp;&nbsp;&nbsp;&quot;source&quot;: [</div><div class='line' id='LC3282'>&nbsp;&nbsp;&nbsp;&nbsp;&nbsp;&nbsp;&quot;Is this kind of description the best way of describing a design in terms of terms and factors?  It has a lot of magic in it.  The post-processing, column rearrangement and pruning look ugly to my Python-tuned eyes.  Predicting the design matrix from the formula can be difficult for designs that are not simple.  You will need to keep in mind all the rules above, and that can be confusing.  I wonder if this kind of shorthand is a barrier to understanding of linear models in terms of matrices and column spaces.  Can we do better?  I suppose we&#39;ll have to try stuff out to see...&quot;</div><div class='line' id='LC3283'>&nbsp;&nbsp;&nbsp;&nbsp;&nbsp;]</div><div class='line' id='LC3284'>&nbsp;&nbsp;&nbsp;&nbsp;},</div><div class='line' id='LC3285'>&nbsp;&nbsp;&nbsp;&nbsp;{</div><div class='line' id='LC3286'>&nbsp;&nbsp;&nbsp;&nbsp;&nbsp;&quot;cell_type&quot;: &quot;heading&quot;,</div><div class='line' id='LC3287'>&nbsp;&nbsp;&nbsp;&nbsp;&nbsp;&quot;level&quot;: 2,</div><div class='line' id='LC3288'>&nbsp;&nbsp;&nbsp;&nbsp;&nbsp;&quot;metadata&quot;: {},</div><div class='line' id='LC3289'>&nbsp;&nbsp;&nbsp;&nbsp;&nbsp;&quot;source&quot;: [</div><div class='line' id='LC3290'>&nbsp;&nbsp;&nbsp;&nbsp;&nbsp;&nbsp;&quot;Thanks&quot;</div><div class='line' id='LC3291'>&nbsp;&nbsp;&nbsp;&nbsp;&nbsp;]</div><div class='line' id='LC3292'>&nbsp;&nbsp;&nbsp;&nbsp;},</div><div class='line' id='LC3293'>&nbsp;&nbsp;&nbsp;&nbsp;{</div><div class='line' id='LC3294'>&nbsp;&nbsp;&nbsp;&nbsp;&nbsp;&quot;cell_type&quot;: &quot;markdown&quot;,</div><div class='line' id='LC3295'>&nbsp;&nbsp;&nbsp;&nbsp;&nbsp;&quot;metadata&quot;: {},</div><div class='line' id='LC3296'>&nbsp;&nbsp;&nbsp;&nbsp;&nbsp;&quot;source&quot;: [</div><div class='line' id='LC3297'>&nbsp;&nbsp;&nbsp;&nbsp;&nbsp;&nbsp;&quot;* Jean-Baptiste Poline for several edits and suggestions\n&quot;,</div><div class='line' id='LC3298'>&nbsp;&nbsp;&nbsp;&nbsp;&nbsp;&nbsp;&quot;* Nathaniel Smith for typically thought-provoking discussion and great documentation\n&quot;,</div><div class='line' id='LC3299'>&nbsp;&nbsp;&nbsp;&nbsp;&nbsp;&nbsp;&quot;* Jonathan Taylor for his patient feedback&quot;</div><div class='line' id='LC3300'>&nbsp;&nbsp;&nbsp;&nbsp;&nbsp;]</div><div class='line' id='LC3301'>&nbsp;&nbsp;&nbsp;&nbsp;}</div><div class='line' id='LC3302'>&nbsp;&nbsp;&nbsp;],</div><div class='line' id='LC3303'>&nbsp;&nbsp;&nbsp;&quot;metadata&quot;: {}</div><div class='line' id='LC3304'>&nbsp;&nbsp;}</div><div class='line' id='LC3305'>&nbsp;]</div><div class='line' id='LC3306'>}</div></pre></div></td>
          </tr>
        </table>
  </div>

  </div>
</div>

<a href="#jump-to-line" rel="facebox[.linejump]" data-hotkey="l" class="js-jump-to-line" style="display:none">Jump to Line</a>
<div id="jump-to-line" style="display:none">
  <form accept-charset="UTF-8" class="js-jump-to-line-form">
    <input class="linejump-input js-jump-to-line-field" type="text" placeholder="Jump to line&hellip;" autofocus>
    <button type="submit" class="button">Go</button>
  </form>
</div>

        </div>

      </div><!-- /.repo-container -->
      <div class="modal-backdrop"></div>
    </div><!-- /.container -->
  </div><!-- /.site -->


    </div><!-- /.wrapper -->

      <div class="container">
  <div class="site-footer">
    <ul class="site-footer-links right">
      <li><a href="https://status.github.com/">Status</a></li>
      <li><a href="http://developer.github.com">API</a></li>
      <li><a href="http://training.github.com">Training</a></li>
      <li><a href="http://shop.github.com">Shop</a></li>
      <li><a href="/blog">Blog</a></li>
      <li><a href="/about">About</a></li>

    </ul>

    <a href="/">
      <span class="mega-octicon octicon-mark-github" title="GitHub"></span>
    </a>

    <ul class="site-footer-links">
      <li>&copy; 2014 <span title="0.06253s from github-fe122-cp1-prd.iad.github.net">GitHub</span>, Inc.</li>
        <li><a href="/site/terms">Terms</a></li>
        <li><a href="/site/privacy">Privacy</a></li>
        <li><a href="/security">Security</a></li>
        <li><a href="/contact">Contact</a></li>
    </ul>
  </div><!-- /.site-footer -->
</div><!-- /.container -->


    <div class="fullscreen-overlay js-fullscreen-overlay" id="fullscreen_overlay">
  <div class="fullscreen-container js-fullscreen-container">
    <div class="textarea-wrap">
      <textarea name="fullscreen-contents" id="fullscreen-contents" class="fullscreen-contents js-fullscreen-contents" placeholder="" data-suggester="fullscreen_suggester"></textarea>
    </div>
  </div>
  <div class="fullscreen-sidebar">
    <a href="#" class="exit-fullscreen js-exit-fullscreen tooltipped tooltipped-w" aria-label="Exit Zen Mode">
      <span class="mega-octicon octicon-screen-normal"></span>
    </a>
    <a href="#" class="theme-switcher js-theme-switcher tooltipped tooltipped-w"
      aria-label="Switch themes">
      <span class="octicon octicon-color-mode"></span>
    </a>
  </div>
</div>



    <div id="ajax-error-message" class="flash flash-error">
      <span class="octicon octicon-alert"></span>
      <a href="#" class="octicon octicon-remove-close close js-ajax-error-dismiss"></a>
      Something went wrong with that request. Please try again.
    </div>

  </body>
</html>

